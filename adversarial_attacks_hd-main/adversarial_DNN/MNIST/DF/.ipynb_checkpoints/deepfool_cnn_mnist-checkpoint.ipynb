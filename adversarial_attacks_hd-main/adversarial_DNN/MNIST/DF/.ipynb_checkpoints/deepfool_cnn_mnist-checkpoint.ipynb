{
 "cells": [
  {
   "cell_type": "code",
   "execution_count": 1,
   "id": "1510e5ef-247e-4270-b4cd-f234376fc1fa",
   "metadata": {},
   "outputs": [
    {
     "data": {
      "text/plain": [
       "<torch._C.Generator at 0x7fa4a4643cf0>"
      ]
     },
     "execution_count": 1,
     "metadata": {},
     "output_type": "execute_result"
    }
   ],
   "source": [
    "from time import time\n",
    "\n",
    "import torch\n",
    "import sklearn.datasets\n",
    "import sklearn.preprocessing\n",
    "import sklearn.model_selection\n",
    "import numpy as np\n",
    "import math\n",
    "import matplotlib.pyplot as plt\n",
    "import copy\n",
    "from tqdm import tqdm\n",
    "\n",
    "from torchvision.datasets import MNIST\n",
    "from torchvision.datasets import FashionMNIST as FMNIST\n",
    "from torchvision.datasets import EMNIST\n",
    "import torchvision.transforms as transforms\n",
    "from torch.autograd import Variable\n",
    "\n",
    "import onlinehd\n",
    "\n",
    "SEED = 1234\n",
    "device = 'cuda' if torch.cuda.is_available() else 'cpu'\n",
    "np.random.seed(SEED)\n",
    "torch.manual_seed(SEED)"
   ]
  },
  {
   "cell_type": "code",
   "execution_count": 2,
   "id": "d3406113-cf47-4102-ac88-d57582d52671",
   "metadata": {},
   "outputs": [],
   "source": [
    "import pandas as pd\n",
    "import numpy as np\n",
    "import torch\n",
    "from torch import nn\n",
    "import torch.nn.functional as F\n",
    "from torch.utils.data import DataLoader, Dataset\n",
    "from torchvision.transforms import ToTensor, Lambda, Compose\n",
    "import matplotlib.pyplot as plt\n",
    "from sklearn.model_selection import train_test_split\n",
    "import pylab as pl\n",
    "from IPython import display\n",
    "%matplotlib inline"
   ]
  },
  {
   "cell_type": "markdown",
   "id": "47564e18-0185-43ed-8e9f-d0bfd99d15b3",
   "metadata": {},
   "source": [
    "# Dataset"
   ]
  },
  {
   "cell_type": "code",
   "execution_count": 3,
   "id": "337a26ef-9d3e-4dac-a535-e482be05aa8f",
   "metadata": {},
   "outputs": [],
   "source": [
    "from sklearn.model_selection import train_test_split\n",
    "import torch.nn.functional as F\n",
    "\n",
    "class CustomImageDataset(Dataset):\n",
    "    def __init__(self, df, data_type = 'train', model_type='ffnn'):\n",
    "        \"\"\"\n",
    "        :param df: data frame\n",
    "        :param rating_2014_file: 'train'/'test'\n",
    "        :param model_type: 'ffnn'/'cnn'\n",
    "        \"\"\"\n",
    "        if data_type == 'train':\n",
    "            self.X = df.drop('label', axis=1).values/255.\n",
    "            self.Y = df['label'].values\n",
    "        else:\n",
    "            self.X = df.values/255.\n",
    "            self.Y = None\n",
    "        self.X = torch.from_numpy(self.X.astype(np.float32)).reshape(len(df),28, 28)\n",
    "        self.data_type = data_type\n",
    "        self.model_type = model_type\n",
    "\n",
    "    def __len__(self):\n",
    "        return len(self.Y)\n",
    "\n",
    "    def __getitem__(self, idx):\n",
    "        image = self.X[idx]\n",
    "        if self.data_type == 'train':\n",
    "            label = self.Y[idx]\n",
    "        else:\n",
    "            label = None\n",
    "        \n",
    "        if self.model_type == 'ffnn':\n",
    "            return image, label\n",
    "        else:\n",
    "            # add additional dimension if we need dataset for cnn\n",
    "            return image.unsqueeze(0), label"
   ]
  },
  {
   "cell_type": "code",
   "execution_count": 4,
   "id": "816be472-57a3-4569-8c54-991c3a003126",
   "metadata": {},
   "outputs": [],
   "source": [
    "x, y = sklearn.datasets.fetch_openml('mnist_784', return_X_y=True)\n",
    "x = x.astype(np.float)\n",
    "y = y.astype(np.int)\n",
    "y = np.array(y)\n",
    "\n",
    "x, x_test, y, y_test = sklearn.model_selection.train_test_split(x, y)\n",
    "\n",
    "x['label'] = y\n",
    "x_test['label'] = y_test"
   ]
  },
  {
   "cell_type": "code",
   "execution_count": 5,
   "id": "c2bcd04f-7306-462f-aa8d-e502b30ea9fb",
   "metadata": {},
   "outputs": [],
   "source": [
    "df_train = x\n",
    "df_val = x_test"
   ]
  },
  {
   "cell_type": "markdown",
   "id": "e1688f70-27b8-47d8-99c6-fad2cee9d063",
   "metadata": {},
   "source": [
    "# Load CNN model"
   ]
  },
  {
   "cell_type": "code",
   "execution_count": 9,
   "id": "b82a304d-7a4b-4727-beb7-2d09e3d13951",
   "metadata": {},
   "outputs": [],
   "source": [
    "# convolutional nn\n",
    "class CNN(nn.Module):\n",
    "\n",
    "    def __init__(self):\n",
    "        super(CNN, self).__init__()\n",
    "        # input torch.Size([64, 1, 28, 28])\n",
    "        # torch.Size([batch_size, channels, img_width, img_height])\n",
    "        self.conv1 = nn.Conv2d(in_channels=1, out_channels=16, kernel_size=4)\n",
    "        # torch.Size([64, 16, 28-kernel_size+1, 28-kernel_size+1])\n",
    "        # torch.Size([64, 16, 25, 25])\n",
    "        self.relu1=nn.ReLU()\n",
    "        \n",
    "        self.conv2 = nn.Conv2d(in_channels=16, out_channels=8, kernel_size=2)\n",
    "        \n",
    "        # torch.Size([64, 8, 24, 24])\n",
    "        self.relu2=nn.ReLU()\n",
    "        self.max_pool2=nn.MaxPool2d(kernel_size=2)\n",
    "        \n",
    "        # torch.Size([64, 8, 12, 12])\n",
    "        self.fc1 = nn.Linear(8*12*12, 128)\n",
    "        self.fc2 = nn.Linear(128, 10)\n",
    "\n",
    "    def forward(self, x):\n",
    "        \n",
    "        out=self.conv1(x)\n",
    "        out=self.relu1(out)\n",
    "        \n",
    "        out=self.conv2(out)\n",
    "        out=self.relu2(out)\n",
    "        out=self.max_pool2(out)\n",
    "        \n",
    "        out = torch.flatten(out, 1)\n",
    "        out=self.fc1(out)\n",
    "        out=self.fc2(out)\n",
    "        return out"
   ]
  },
  {
   "cell_type": "code",
   "execution_count": 10,
   "id": "d36c8b01-7354-402a-931a-cc8f945495e7",
   "metadata": {},
   "outputs": [],
   "source": [
    "class EarlyStopping():\n",
    "    \"\"\"\n",
    "    Early stopping to stop the training when the loss does not improve after\n",
    "    certain epochs.\n",
    "    \"\"\"\n",
    "    def __init__(self, patience=5, min_delta=0):\n",
    "        \"\"\"\n",
    "        :param patience: how many epochs to wait before stopping when loss is\n",
    "               not improving\n",
    "        :param min_delta: minimum difference between new loss and old loss for\n",
    "               new loss to be considered as an improvement\n",
    "        \"\"\"\n",
    "        self.patience = patience\n",
    "        self.min_delta = min_delta\n",
    "        self.counter = 0\n",
    "        self.best_loss = None\n",
    "        self.early_stop = False\n",
    "    def __call__(self, val_loss):\n",
    "        if self.best_loss == None:\n",
    "            self.best_loss = val_loss\n",
    "        elif self.best_loss - val_loss > self.min_delta:\n",
    "            self.best_loss = val_loss\n",
    "        elif self.best_loss - val_loss < self.min_delta:\n",
    "            self.counter += 1\n",
    "            print(f\"INFO: Early stopping counter {self.counter} of {self.patience}\")\n",
    "            if self.counter >= self.patience:\n",
    "                print('INFO: Early stopping')\n",
    "                self.early_stop = True\n",
    "\n",
    "def train(dataloader, model, loss_fn, optimizer):\n",
    "    size = len(dataloader.dataset)\n",
    "    model.train()\n",
    "    for batch, (X, y) in enumerate(dataloader):\n",
    "        X, y = X.to(device), y.to(device)\n",
    "        \n",
    "        # Compute prediction error\n",
    "        pred = model(X)\n",
    "        loss = loss_fn(pred, y)\n",
    "\n",
    "        # Backpropagation\n",
    "        optimizer.zero_grad()\n",
    "        loss.backward()\n",
    "        optimizer.step()\n",
    "\n",
    "        if batch % 100 == 0:\n",
    "            loss, current = loss.item(), batch * len(X)\n",
    "            print(f\"loss: {loss:>7f}  [{current:>5d}/{size:>5d}]\")\n",
    "            \n",
    "def test(dataloader, model, loss_fn, result_dict):\n",
    "    size = len(dataloader.dataset)\n",
    "    num_batches = len(dataloader)\n",
    "    model.eval()\n",
    "    test_loss, correct = 0, 0\n",
    "    with torch.no_grad():\n",
    "        for X, y in dataloader:\n",
    "            X, y = X.to(device), y.to(device)\n",
    "            pred = model(X)\n",
    "            test_loss += loss_fn(pred, y).item()\n",
    "            correct += (pred.argmax(1) == y).type(torch.float).sum().item()\n",
    "    test_loss /= num_batches\n",
    "    correct /= size\n",
    "    result_dict['avg_loss'].append(test_loss)\n",
    "    result_dict['acc'].append(correct)\n",
    "    #print(f\"Test Error: \\n Accuracy: {(100*correct):>0.1f}%, Avg loss: {test_loss:>8f} \\n\")\n",
    "    \n",
    "def plot_results(axs, res_dict):\n",
    "    \n",
    "    axs[0].plot(res_dict['epoch'][-10:], res_dict['acc'][-10:], c='r')\n",
    "    axs[0].set_title('Validation accuracy {:.4f}'.format(res_dict['acc'][-1]))\n",
    "    \n",
    "    axs[1].plot(res_dict['epoch'][-10:], res_dict['avg_loss'][-10:], c='r')\n",
    "    axs[1].set_title('Average validation loss {:.4f}'.format(res_dict['avg_loss'][-1]))\n",
    "    display.clear_output(wait=True)\n",
    "    display.display(plt.gcf())"
   ]
  },
  {
   "cell_type": "code",
   "execution_count": 12,
   "id": "94a13b1a-bc0f-40b7-8f41-5302c2114333",
   "metadata": {},
   "outputs": [
    {
     "data": {
      "image/png": "[encoded data removed]",
      "text/plain": [
       "<Figure size 864x216 with 2 Axes>"
      ]
     },
     "metadata": {},
     "output_type": "display_data"
    },
    {
     "name": "stdout",
     "output_type": "stream",
     "text": [
      "Epoch 16\n",
      "-------------------------------\n",
      "loss: 0.022482  [    0/52500]\n",
      "loss: 0.009014  [12800/52500]\n",
      "loss: 0.034598  [25600/52500]\n",
      "loss: 0.004996  [38400/52500]\n",
      "loss: 0.031474  [51200/52500]\n",
      "INFO: Early stopping counter 5 of 5\n",
      "INFO: Early stopping\n"
     ]
    },
    {
     "data": {
      "image/png": "[encoded data removed]",
      "text/plain": [
       "<Figure size 864x216 with 2 Axes>"
      ]
     },
     "metadata": {
      "needs_background": "light"
     },
     "output_type": "display_data"
    }
   ],
   "source": [
    "BATCH_SIZE = 128\n",
    "EPOCHS = 30\n",
    "\n",
    "training_data = CustomImageDataset(df_train, model_type='cnn')\n",
    "val_data = CustomImageDataset(df_val, model_type='cnn')\n",
    "# create Dataloader for cnn\n",
    "train_dataloader = DataLoader(training_data, batch_size=BATCH_SIZE, shuffle=True)\n",
    "val_dataloader = DataLoader(val_data, batch_size=BATCH_SIZE, shuffle=True)\n",
    "\n",
    "model_cnn = CNN().to(device)\n",
    "print(model_cnn)\n",
    "\n",
    "loss_fn = nn.CrossEntropyLoss()\n",
    "optimizer = torch.optim.Adam(model_cnn.parameters(), lr=0.0005)\n",
    "early_stop_callback = EarlyStopping()\n",
    "\n",
    "fig, axs = plt.subplots(1,2, figsize=(12,3))\n",
    "plt.suptitle('Convolutional neural network')\n",
    "result = {'avg_loss':[], 'acc':[], 'epoch':[]}\n",
    "\n",
    "for t in range(EPOCHS):\n",
    "    print(f\"Epoch {t+1}\\n-------------------------------\")\n",
    "    train(train_dataloader, model_cnn, loss_fn, optimizer)\n",
    "    test(val_dataloader, model_cnn, loss_fn, result)\n",
    "    result['epoch'].append(t)\n",
    "    early_stop_callback(result['avg_loss'][-1])\n",
    "    if early_stop_callback.early_stop:\n",
    "        break\n",
    "    plot_results(axs, result)"
   ]
  },
  {
   "cell_type": "code",
   "execution_count": 59,
   "id": "a20cad6e-34d6-41b0-a455-ef50a942a22e",
   "metadata": {},
   "outputs": [
    {
     "data": {
      "text/plain": [
       "(0.05799989354708334, 0.9836)"
      ]
     },
     "execution_count": 59,
     "metadata": {},
     "output_type": "execute_result"
    }
   ],
   "source": [
    "model = model_cnn\n",
    "dataloader = val_dataloader\n",
    "\n",
    "size = len(dataloader.dataset)\n",
    "num_batches = len(dataloader)\n",
    "model.eval()\n",
    "test_loss, correct = 0, 0\n",
    "\n",
    "with torch.no_grad():\n",
    "    for X, y_ in dataloader:\n",
    "        X, y_ = X.to(device), y_.to(device)\n",
    "        pred = model(X)\n",
    "        test_loss += loss_fn(pred, y_).item()\n",
    "        correct += (pred.argmax(1) == y_).type(torch.float).sum().item()\n",
    "\n",
    "test_loss /= num_batches\n",
    "correct /= size\n",
    "\n",
    "test_loss, correct"
   ]
  },
  {
   "cell_type": "markdown",
   "id": "5ac11057-7dfb-4bc4-84a1-24ba4b8f88d5",
   "metadata": {},
   "source": [
    "# Generate DeepFool samples"
   ]
  },
  {
   "cell_type": "code",
   "execution_count": 14,
   "id": "1fcbb5ea-ab08-4712-bd5e-04de1fb2cd0d",
   "metadata": {},
   "outputs": [],
   "source": [
    "import numpy as np\n",
    "from torch.autograd import Variable\n",
    "import torch as torch\n",
    "import copy\n",
    "#from torch.autograd.gradcheck import zero_gradients\n",
    "\n",
    "def zero_gradients(x):\n",
    "    if isinstance(x, torch.Tensor):\n",
    "        if x.grad is not None:\n",
    "            x.grad.detach_()\n",
    "            x.grad.zero_()\n",
    "    elif isinstance(x, collections.abc.Iterable):\n",
    "        for elem in x:\n",
    "            zero_gradients(elem)\n",
    "\n",
    "is_cuda = torch.cuda.is_available()\n",
    "\n",
    "def deepfool(image, net, num_classes = 10, overshoot=0.02, max_iter=30):\n",
    "\n",
    "    \"\"\"\n",
    "       :param image: Image of size HxWx3\n",
    "       :param net: network (input: images, output: values of activation **BEFORE** softmax).\n",
    "       :param num_classes: num_classes (limits the number of classes to test against, by default = 10)\n",
    "       :param overshoot: used as a termination criterion to prevent vanishing updates (default = 0.02).\n",
    "       :param max_iter: maximum number of iterations for deepfool (default = 50)\n",
    "       :return: minimal perturbation that fools the classifier, number of iterations that it required, new estimated_label and perturbed image\n",
    "    \"\"\"\n",
    "\n",
    "\n",
    "    f_image = net.forward(Variable(image[None, :, :, :], requires_grad=True)).data.cpu().numpy().flatten()\n",
    "    I = (np.array(f_image)).flatten().argsort()[::-1]\n",
    "\n",
    "    I = I[0:num_classes]\n",
    "    label = I[0]\n",
    "\n",
    "    input_shape = image.cpu().numpy().shape\n",
    "    pert_image = copy.deepcopy(image)\n",
    "    w = np.zeros(input_shape)\n",
    "    r_tot = np.zeros(input_shape)\n",
    "\n",
    "    loop_i = 0\n",
    "\n",
    "    x = Variable(pert_image[None, :], requires_grad=True)\n",
    "    fs = net.forward(x)\n",
    "    fs_list = [fs[0,I[k]] for k in range(num_classes)]\n",
    "    k_i = label\n",
    "\n",
    "    while k_i == label and loop_i < max_iter:\n",
    "\n",
    "        pert = np.inf\n",
    "        fs[0, I[0]].backward(retain_graph=True)\n",
    "        grad_orig = x.grad.data.cpu().numpy().copy()\n",
    "\n",
    "        for k in range(1, num_classes):\n",
    "            zero_gradients(x)\n",
    "\n",
    "            fs[0, I[k]].backward(retain_graph=True)\n",
    "            cur_grad = x.grad.data.cpu().numpy().copy()\n",
    "\n",
    "            # set new w_k and new f_k\n",
    "            w_k = cur_grad - grad_orig\n",
    "            f_k = (fs[0, I[k]] - fs[0, I[0]]).data.cpu().numpy()\n",
    "\n",
    "            pert_k = abs(f_k)/np.linalg.norm(w_k.flatten())\n",
    "\n",
    "            # determine which w_k to use\n",
    "            if pert_k < pert:\n",
    "                pert = pert_k\n",
    "                w = w_k\n",
    "\n",
    "        # compute r_i and r_tot\n",
    "        # Added 1e-4 for numerical stability\n",
    "        r_i =  (pert+1e-4) * w / np.linalg.norm(w)\n",
    "        r_tot = np.float32(r_tot + r_i)\n",
    "\n",
    "        \n",
    "        pert_image = image + (1+overshoot)*torch.from_numpy(r_tot)\n",
    "            \n",
    "        x = Variable(pert_image, requires_grad=True)\n",
    "        fs = net.forward(x)\n",
    "        k_i = np.argmax(fs.data.cpu().numpy().flatten())\n",
    "\n",
    "        loop_i += 1\n",
    "\n",
    "    #r_tot = (1+overshoot)*r_tot\n",
    "\n",
    "    return pert_image  #r_tot, loop_i, label, k_i,"
   ]
  },
  {
   "cell_type": "code",
   "execution_count": 71,
   "id": "fdd7e17d-1239-4c9b-b6c4-605f31677572",
   "metadata": {},
   "outputs": [],
   "source": [
    "np.random.seed(SEED)\n",
    "torch.manual_seed(SEED)\n",
    "\n",
    "x, y = sklearn.datasets.fetch_openml('mnist_784', return_X_y=True)\n",
    "x = x.astype(np.float)\n",
    "y = y.astype(np.int)\n",
    "y = np.array(y)\n",
    "\n",
    "x, x_test, y, y_test = sklearn.model_selection.train_test_split(x, y)"
   ]
  },
  {
   "cell_type": "code",
   "execution_count": 72,
   "id": "c0006160-f756-480f-9bfd-adc296882159",
   "metadata": {},
   "outputs": [
    {
     "data": {
      "text/plain": [
       "<matplotlib.image.AxesImage at 0x7fa422c3e370>"
      ]
     },
     "execution_count": 72,
     "metadata": {},
     "output_type": "execute_result"
    },
    {
     "data": {
      "image/png": "[encoded data removed]",
      "text/plain": [
       "<Figure size 432x288 with 1 Axes>"
      ]
     },
     "metadata": {
      "needs_background": "light"
     },
     "output_type": "display_data"
    }
   ],
   "source": [
    "plt.imshow(x_test.to_numpy()[-1].reshape(28, 28), cmap='gray')"
   ]
  },
  {
   "cell_type": "code",
   "execution_count": 73,
   "id": "af4be1f2-3d86-4129-ae10-a3214d7a2a29",
   "metadata": {},
   "outputs": [],
   "source": [
    "x = torch.from_numpy(x.to_numpy()).float()\n",
    "x_test = torch.from_numpy(x_test.to_numpy()).float()\n",
    "y = torch.from_numpy(y).long()\n",
    "y_test = torch.from_numpy(y_test).long()"
   ]
  },
  {
   "cell_type": "code",
   "execution_count": 74,
   "id": "a23edda6-a211-40b7-9915-80e1a46716a2",
   "metadata": {},
   "outputs": [],
   "source": [
    "X_te_cln = x_test.reshape(-1, 1, 28, 28)"
   ]
  },
  {
   "cell_type": "code",
   "execution_count": 75,
   "id": "9e2ed0d9-118e-4894-9e07-c10aa61618df",
   "metadata": {},
   "outputs": [
    {
     "data": {
      "text/plain": [
       "<matplotlib.image.AxesImage at 0x7fa422684070>"
      ]
     },
     "execution_count": 75,
     "metadata": {},
     "output_type": "execute_result"
    },
    {
     "data": {
      "image/png": "[encoded data removed]",
      "text/plain": [
       "<Figure size 432x288 with 1 Axes>"
      ]
     },
     "metadata": {
      "needs_background": "light"
     },
     "output_type": "display_data"
    }
   ],
   "source": [
    "plt.imshow(X_te_cln[-1].reshape(28, 28), cmap='gray')"
   ]
  },
  {
   "cell_type": "code",
   "execution_count": 76,
   "id": "259dd094-efb5-48bc-a885-0ecb2920a104",
   "metadata": {},
   "outputs": [
    {
     "name": "stderr",
     "output_type": "stream",
     "text": [
      "100%|█████████████████████████████████████| 17500/17500 [11:34<00:00, 25.20it/s]\n"
     ]
    }
   ],
   "source": [
    "x_train_adv = torch.zeros(X_te_cln.shape)\n",
    "\n",
    "model_cnn.cpu()\n",
    "for i in tqdm(range(len(X_te_cln))):\n",
    "    x_train_adv[i] = deepfool(X_te_cln[i].reshape(1, 28, 28), model_cnn)"
   ]
  },
  {
   "cell_type": "code",
   "execution_count": 77,
   "id": "fbf3db32-cabe-4699-a6fe-85690531400c",
   "metadata": {},
   "outputs": [
    {
     "data": {
      "text/plain": [
       "Text(0.5, 1.0, '6')"
      ]
     },
     "execution_count": 77,
     "metadata": {},
     "output_type": "execute_result"
    },
    {
     "data": {
      "image/png": "[encoded data removed]",
      "text/plain": [
       "<Figure size 432x288 with 1 Axes>"
      ]
     },
     "metadata": {
      "needs_background": "light"
     },
     "output_type": "display_data"
    }
   ],
   "source": [
    "plt.imshow(x_train_adv[-1].reshape(28, 28), cmap='gray')\n",
    "plt.title(y_test[-1].item())"
   ]
  },
  {
   "cell_type": "markdown",
   "id": "2d0a5bac-7d1f-474f-a7f7-fc201c372a31",
   "metadata": {},
   "source": [
    "# save samples"
   ]
  },
  {
   "cell_type": "code",
   "execution_count": 78,
   "id": "2416d736-9fad-4a82-bcc6-6f7d48d29250",
   "metadata": {},
   "outputs": [
    {
     "data": {
      "text/plain": [
       "torch.Size([17500, 784])"
      ]
     },
     "execution_count": 78,
     "metadata": {},
     "output_type": "execute_result"
    }
   ],
   "source": [
    "attack_sample = x_train_adv.reshape(-1, 784)\n",
    "attack_sample.shape"
   ]
  },
  {
   "cell_type": "code",
   "execution_count": 79,
   "id": "196e2584-b8b3-4cd1-85f3-ccc8edf61b5c",
   "metadata": {},
   "outputs": [],
   "source": [
    "import pickle \n",
    "\n",
    "sample = {\n",
    "    'data':attack_sample,\n",
    "    'label':y_test\n",
    "}\n",
    "\n",
    "with open('MNIST_cnn_DF.pickle', 'wb') as f:\n",
    "    pickle.dump(sample, f)"
   ]
  },
  {
   "cell_type": "code",
   "execution_count": 80,
   "id": "19f29cf7-95bf-4dce-8954-9c2370aa1d01",
   "metadata": {},
   "outputs": [],
   "source": [
    "with open('MNIST_cnn_DF.pickle', 'rb') as f:\n",
    "    sample = pickle.load(f)\n",
    "    \n",
    "attack_sample = sample['data']\n",
    "attack_label = sample['label']"
   ]
  },
  {
   "cell_type": "code",
   "execution_count": 81,
   "id": "c481647b-86f1-45f6-a314-d19a0895ca63",
   "metadata": {},
   "outputs": [
    {
     "data": {
      "text/plain": [
       "Text(0.5, 1.0, '6')"
      ]
     },
     "execution_count": 81,
     "metadata": {},
     "output_type": "execute_result"
    },
    {
     "data": {
      "image/png": "[encoded data removed]",
      "text/plain": [
       "<Figure size 432x288 with 1 Axes>"
      ]
     },
     "metadata": {
      "needs_background": "light"
     },
     "output_type": "display_data"
    }
   ],
   "source": [
    "plt.imshow(attack_sample[-1].reshape(28, 28), cmap='gray')\n",
    "plt.title(attack_label[-1].item())"
   ]
  },
  {
   "cell_type": "markdown",
   "id": "3fbc6a93-738b-4c85-a407-b8d1ffd9cf5a",
   "metadata": {},
   "source": [
    "# Sample Test"
   ]
  },
  {
   "cell_type": "code",
   "execution_count": 82,
   "id": "f8232b53-4fcb-4c42-8927-37a09e11730f",
   "metadata": {},
   "outputs": [],
   "source": [
    "df_test = pd.DataFrame(attack_sample.numpy())\n",
    "df_test['label'] = y_test.numpy()"
   ]
  },
  {
   "cell_type": "code",
   "execution_count": 83,
   "id": "879e7d99-5ec1-47bd-8326-16d0c5f04aa7",
   "metadata": {},
   "outputs": [
    {
     "data": {
      "text/html": [
       "<div>\n",
       "<style scoped>\n",
       "    .dataframe tbody tr th:only-of-type {\n",
       "        vertical-align: middle;\n",
       "    }\n",
       "\n",
       "    .dataframe tbody tr th {\n",
       "        vertical-align: top;\n",
       "    }\n",
       "\n",
       "    .dataframe thead th {\n",
       "        text-align: right;\n",
       "    }\n",
       "</style>\n",
       "<table border=\"1\" class=\"dataframe\">\n",
       "  <thead>\n",
       "    <tr style=\"text-align: right;\">\n",
       "      <th></th>\n",
       "      <th>0</th>\n",
       "      <th>1</th>\n",
       "      <th>2</th>\n",
       "      <th>3</th>\n",
       "      <th>4</th>\n",
       "      <th>5</th>\n",
       "      <th>6</th>\n",
       "      <th>7</th>\n",
       "      <th>8</th>\n",
       "      <th>9</th>\n",
       "      <th>...</th>\n",
       "      <th>775</th>\n",
       "      <th>776</th>\n",
       "      <th>777</th>\n",
       "      <th>778</th>\n",
       "      <th>779</th>\n",
       "      <th>780</th>\n",
       "      <th>781</th>\n",
       "      <th>782</th>\n",
       "      <th>783</th>\n",
       "      <th>label</th>\n",
       "    </tr>\n",
       "  </thead>\n",
       "  <tbody>\n",
       "    <tr>\n",
       "      <th>0</th>\n",
       "      <td>0.171267</td>\n",
       "      <td>0.512723</td>\n",
       "      <td>0.428187</td>\n",
       "      <td>-0.171126</td>\n",
       "      <td>-0.219216</td>\n",
       "      <td>-0.006409</td>\n",
       "      <td>-0.090429</td>\n",
       "      <td>-0.250380</td>\n",
       "      <td>-0.067492</td>\n",
       "      <td>-0.069932</td>\n",
       "      <td>...</td>\n",
       "      <td>0.184019</td>\n",
       "      <td>0.339908</td>\n",
       "      <td>-0.025992</td>\n",
       "      <td>-0.230938</td>\n",
       "      <td>0.088328</td>\n",
       "      <td>0.002192</td>\n",
       "      <td>-0.003938</td>\n",
       "      <td>-0.009033</td>\n",
       "      <td>-0.002105</td>\n",
       "      <td>6</td>\n",
       "    </tr>\n",
       "    <tr>\n",
       "      <th>1</th>\n",
       "      <td>1.102207</td>\n",
       "      <td>1.194530</td>\n",
       "      <td>1.004048</td>\n",
       "      <td>1.170105</td>\n",
       "      <td>1.688624</td>\n",
       "      <td>3.046018</td>\n",
       "      <td>4.936146</td>\n",
       "      <td>2.596535</td>\n",
       "      <td>-0.563333</td>\n",
       "      <td>-5.534994</td>\n",
       "      <td>...</td>\n",
       "      <td>-1.001207</td>\n",
       "      <td>-1.212005</td>\n",
       "      <td>-0.303293</td>\n",
       "      <td>-0.052707</td>\n",
       "      <td>-0.012540</td>\n",
       "      <td>0.031975</td>\n",
       "      <td>0.037898</td>\n",
       "      <td>0.083314</td>\n",
       "      <td>0.039372</td>\n",
       "      <td>6</td>\n",
       "    </tr>\n",
       "    <tr>\n",
       "      <th>2</th>\n",
       "      <td>0.622562</td>\n",
       "      <td>2.061176</td>\n",
       "      <td>1.723499</td>\n",
       "      <td>0.166247</td>\n",
       "      <td>-0.738030</td>\n",
       "      <td>-1.508246</td>\n",
       "      <td>-2.573369</td>\n",
       "      <td>-2.375130</td>\n",
       "      <td>-2.049381</td>\n",
       "      <td>-0.243063</td>\n",
       "      <td>...</td>\n",
       "      <td>0.096235</td>\n",
       "      <td>0.151361</td>\n",
       "      <td>0.097047</td>\n",
       "      <td>0.208923</td>\n",
       "      <td>-0.067653</td>\n",
       "      <td>-0.555052</td>\n",
       "      <td>-0.507469</td>\n",
       "      <td>0.567479</td>\n",
       "      <td>0.333048</td>\n",
       "      <td>7</td>\n",
       "    </tr>\n",
       "    <tr>\n",
       "      <th>3</th>\n",
       "      <td>0.740577</td>\n",
       "      <td>2.514540</td>\n",
       "      <td>2.328037</td>\n",
       "      <td>0.313164</td>\n",
       "      <td>-0.871213</td>\n",
       "      <td>-1.996153</td>\n",
       "      <td>-2.782417</td>\n",
       "      <td>-2.882237</td>\n",
       "      <td>-3.033201</td>\n",
       "      <td>-0.596709</td>\n",
       "      <td>...</td>\n",
       "      <td>0.427664</td>\n",
       "      <td>0.156201</td>\n",
       "      <td>0.172797</td>\n",
       "      <td>0.349543</td>\n",
       "      <td>-0.117362</td>\n",
       "      <td>-0.987129</td>\n",
       "      <td>-0.910607</td>\n",
       "      <td>1.021254</td>\n",
       "      <td>0.597173</td>\n",
       "      <td>7</td>\n",
       "    </tr>\n",
       "    <tr>\n",
       "      <th>4</th>\n",
       "      <td>-0.419484</td>\n",
       "      <td>-1.202288</td>\n",
       "      <td>-1.965642</td>\n",
       "      <td>-1.102948</td>\n",
       "      <td>-0.591444</td>\n",
       "      <td>-0.857495</td>\n",
       "      <td>-0.790410</td>\n",
       "      <td>-1.068358</td>\n",
       "      <td>-1.513900</td>\n",
       "      <td>-2.686110</td>\n",
       "      <td>...</td>\n",
       "      <td>1.501459</td>\n",
       "      <td>2.924056</td>\n",
       "      <td>2.616650</td>\n",
       "      <td>1.505927</td>\n",
       "      <td>0.717421</td>\n",
       "      <td>-0.407708</td>\n",
       "      <td>-0.367389</td>\n",
       "      <td>-0.083648</td>\n",
       "      <td>-0.001749</td>\n",
       "      <td>4</td>\n",
       "    </tr>\n",
       "    <tr>\n",
       "      <th>...</th>\n",
       "      <td>...</td>\n",
       "      <td>...</td>\n",
       "      <td>...</td>\n",
       "      <td>...</td>\n",
       "      <td>...</td>\n",
       "      <td>...</td>\n",
       "      <td>...</td>\n",
       "      <td>...</td>\n",
       "      <td>...</td>\n",
       "      <td>...</td>\n",
       "      <td>...</td>\n",
       "      <td>...</td>\n",
       "      <td>...</td>\n",
       "      <td>...</td>\n",
       "      <td>...</td>\n",
       "      <td>...</td>\n",
       "      <td>...</td>\n",
       "      <td>...</td>\n",
       "      <td>...</td>\n",
       "      <td>...</td>\n",
       "      <td>...</td>\n",
       "    </tr>\n",
       "    <tr>\n",
       "      <th>17495</th>\n",
       "      <td>-0.193190</td>\n",
       "      <td>-0.109023</td>\n",
       "      <td>0.031593</td>\n",
       "      <td>0.724638</td>\n",
       "      <td>0.580736</td>\n",
       "      <td>0.536493</td>\n",
       "      <td>1.574737</td>\n",
       "      <td>1.728041</td>\n",
       "      <td>1.209029</td>\n",
       "      <td>2.730880</td>\n",
       "      <td>...</td>\n",
       "      <td>-0.017923</td>\n",
       "      <td>-0.331048</td>\n",
       "      <td>-1.043803</td>\n",
       "      <td>-0.528069</td>\n",
       "      <td>0.073722</td>\n",
       "      <td>0.115043</td>\n",
       "      <td>-0.090159</td>\n",
       "      <td>0.000438</td>\n",
       "      <td>0.047345</td>\n",
       "      <td>5</td>\n",
       "    </tr>\n",
       "    <tr>\n",
       "      <th>17496</th>\n",
       "      <td>-0.267676</td>\n",
       "      <td>0.219058</td>\n",
       "      <td>-0.500955</td>\n",
       "      <td>-0.498863</td>\n",
       "      <td>-0.989612</td>\n",
       "      <td>-1.172006</td>\n",
       "      <td>-2.123510</td>\n",
       "      <td>-2.165977</td>\n",
       "      <td>-1.808670</td>\n",
       "      <td>-0.941894</td>\n",
       "      <td>...</td>\n",
       "      <td>0.141576</td>\n",
       "      <td>0.502382</td>\n",
       "      <td>-0.005035</td>\n",
       "      <td>0.132647</td>\n",
       "      <td>-0.008018</td>\n",
       "      <td>-0.010032</td>\n",
       "      <td>-0.076114</td>\n",
       "      <td>-0.135076</td>\n",
       "      <td>-0.034814</td>\n",
       "      <td>5</td>\n",
       "    </tr>\n",
       "    <tr>\n",
       "      <th>17497</th>\n",
       "      <td>0.057908</td>\n",
       "      <td>0.152033</td>\n",
       "      <td>0.195508</td>\n",
       "      <td>0.105256</td>\n",
       "      <td>0.021539</td>\n",
       "      <td>-0.050665</td>\n",
       "      <td>-0.038613</td>\n",
       "      <td>0.004438</td>\n",
       "      <td>0.071931</td>\n",
       "      <td>0.184724</td>\n",
       "      <td>...</td>\n",
       "      <td>0.026988</td>\n",
       "      <td>-0.003553</td>\n",
       "      <td>-0.013002</td>\n",
       "      <td>-0.007981</td>\n",
       "      <td>0.014953</td>\n",
       "      <td>0.020050</td>\n",
       "      <td>0.005749</td>\n",
       "      <td>0.001768</td>\n",
       "      <td>-0.000871</td>\n",
       "      <td>7</td>\n",
       "    </tr>\n",
       "    <tr>\n",
       "      <th>17498</th>\n",
       "      <td>-0.712548</td>\n",
       "      <td>0.001220</td>\n",
       "      <td>-0.046140</td>\n",
       "      <td>-1.118528</td>\n",
       "      <td>-1.715292</td>\n",
       "      <td>-0.716286</td>\n",
       "      <td>-2.252047</td>\n",
       "      <td>-2.483199</td>\n",
       "      <td>-4.486867</td>\n",
       "      <td>-3.168472</td>\n",
       "      <td>...</td>\n",
       "      <td>0.248689</td>\n",
       "      <td>0.662805</td>\n",
       "      <td>0.651948</td>\n",
       "      <td>0.382074</td>\n",
       "      <td>0.689452</td>\n",
       "      <td>0.099909</td>\n",
       "      <td>0.008087</td>\n",
       "      <td>0.282496</td>\n",
       "      <td>-0.050551</td>\n",
       "      <td>8</td>\n",
       "    </tr>\n",
       "    <tr>\n",
       "      <th>17499</th>\n",
       "      <td>-0.228146</td>\n",
       "      <td>-0.833883</td>\n",
       "      <td>-0.181510</td>\n",
       "      <td>0.230103</td>\n",
       "      <td>2.306265</td>\n",
       "      <td>3.419899</td>\n",
       "      <td>3.101335</td>\n",
       "      <td>0.962332</td>\n",
       "      <td>-0.993572</td>\n",
       "      <td>1.334600</td>\n",
       "      <td>...</td>\n",
       "      <td>-0.135729</td>\n",
       "      <td>-0.293458</td>\n",
       "      <td>-0.390610</td>\n",
       "      <td>0.010150</td>\n",
       "      <td>0.078638</td>\n",
       "      <td>0.198788</td>\n",
       "      <td>0.102009</td>\n",
       "      <td>0.029699</td>\n",
       "      <td>0.008920</td>\n",
       "      <td>6</td>\n",
       "    </tr>\n",
       "  </tbody>\n",
       "</table>\n",
       "<p>17500 rows × 785 columns</p>\n",
       "</div>"
      ],
      "text/plain": [
       "              0         1         2         3         4         5         6  \\\n",
       "0      0.171267  0.512723  0.428187 -0.171126 -0.219216 -0.006409 -0.090429   \n",
       "1      1.102207  1.194530  1.004048  1.170105  1.688624  3.046018  4.936146   \n",
       "2      0.622562  2.061176  1.723499  0.166247 -0.738030 -1.508246 -2.573369   \n",
       "3      0.740577  2.514540  2.328037  0.313164 -0.871213 -1.996153 -2.782417   \n",
       "4     -0.419484 -1.202288 -1.965642 -1.102948 -0.591444 -0.857495 -0.790410   \n",
       "...         ...       ...       ...       ...       ...       ...       ...   \n",
       "17495 -0.193190 -0.109023  0.031593  0.724638  0.580736  0.536493  1.574737   \n",
       "17496 -0.267676  0.219058 -0.500955 -0.498863 -0.989612 -1.172006 -2.123510   \n",
       "17497  0.057908  0.152033  0.195508  0.105256  0.021539 -0.050665 -0.038613   \n",
       "17498 -0.712548  0.001220 -0.046140 -1.118528 -1.715292 -0.716286 -2.252047   \n",
       "17499 -0.228146 -0.833883 -0.181510  0.230103  2.306265  3.419899  3.101335   \n",
       "\n",
       "              7         8         9  ...       775       776       777  \\\n",
       "0     -0.250380 -0.067492 -0.069932  ...  0.184019  0.339908 -0.025992   \n",
       "1      2.596535 -0.563333 -5.534994  ... -1.001207 -1.212005 -0.303293   \n",
       "2     -2.375130 -2.049381 -0.243063  ...  0.096235  0.151361  0.097047   \n",
       "3     -2.882237 -3.033201 -0.596709  ...  0.427664  0.156201  0.172797   \n",
       "4     -1.068358 -1.513900 -2.686110  ...  1.501459  2.924056  2.616650   \n",
       "...         ...       ...       ...  ...       ...       ...       ...   \n",
       "17495  1.728041  1.209029  2.730880  ... -0.017923 -0.331048 -1.043803   \n",
       "17496 -2.165977 -1.808670 -0.941894  ...  0.141576  0.502382 -0.005035   \n",
       "17497  0.004438  0.071931  0.184724  ...  0.026988 -0.003553 -0.013002   \n",
       "17498 -2.483199 -4.486867 -3.168472  ...  0.248689  0.662805  0.651948   \n",
       "17499  0.962332 -0.993572  1.334600  ... -0.135729 -0.293458 -0.390610   \n",
       "\n",
       "            778       779       780       781       782       783  label  \n",
       "0     -0.230938  0.088328  0.002192 -0.003938 -0.009033 -0.002105      6  \n",
       "1     -0.052707 -0.012540  0.031975  0.037898  0.083314  0.039372      6  \n",
       "2      0.208923 -0.067653 -0.555052 -0.507469  0.567479  0.333048      7  \n",
       "3      0.349543 -0.117362 -0.987129 -0.910607  1.021254  0.597173      7  \n",
       "4      1.505927  0.717421 -0.407708 -0.367389 -0.083648 -0.001749      4  \n",
       "...         ...       ...       ...       ...       ...       ...    ...  \n",
       "17495 -0.528069  0.073722  0.115043 -0.090159  0.000438  0.047345      5  \n",
       "17496  0.132647 -0.008018 -0.010032 -0.076114 -0.135076 -0.034814      5  \n",
       "17497 -0.007981  0.014953  0.020050  0.005749  0.001768 -0.000871      7  \n",
       "17498  0.382074  0.689452  0.099909  0.008087  0.282496 -0.050551      8  \n",
       "17499  0.010150  0.078638  0.198788  0.102009  0.029699  0.008920      6  \n",
       "\n",
       "[17500 rows x 785 columns]"
      ]
     },
     "execution_count": 83,
     "metadata": {},
     "output_type": "execute_result"
    }
   ],
   "source": [
    "df_test"
   ]
  },
  {
   "cell_type": "code",
   "execution_count": 84,
   "id": "fde24561-a31b-4148-9b30-ccda5690b287",
   "metadata": {},
   "outputs": [
    {
     "name": "stdout",
     "output_type": "stream",
     "text": [
      "Feature batch shape: torch.Size([128, 1, 28, 28])\n",
      "Labels batch shape: torch.Size([128])\n"
     ]
    },
    {
     "data": {
      "image/png": "[encoded data removed]",
      "text/plain": [
       "<Figure size 432x288 with 1 Axes>"
      ]
     },
     "metadata": {
      "needs_background": "light"
     },
     "output_type": "display_data"
    }
   ],
   "source": [
    "BATCH_SIZE = 128\n",
    "EPOCHS = 30\n",
    "\n",
    "# load dataa\n",
    "# df_train, df_val = train_test_split(df, test_size=0.2)\n",
    "\n",
    "# create Dataset\n",
    "test_data = CustomImageDataset(df_test, model_type='cnn')\n",
    "\n",
    "# create Dataloader\n",
    "test_dataloader = DataLoader(test_data, batch_size=BATCH_SIZE, shuffle=True)\n",
    "\n",
    "# Display image and label.\n",
    "test_features, test_labels = next(iter(test_dataloader))\n",
    "print(f\"Feature batch shape: {test_features.size()}\")\n",
    "print(f\"Labels batch shape: {test_labels.size()}\")\n",
    "\n",
    "img = test_features[0].squeeze()\n",
    "label = test_labels[0]\n",
    "plt.imshow(img, cmap=\"gray\")\n",
    "plt.title(label)\n",
    "plt.show()"
   ]
  },
  {
   "cell_type": "code",
   "execution_count": 85,
   "id": "e7db5025-bdb6-431a-8bc5-27bde7694b62",
   "metadata": {},
   "outputs": [
    {
     "data": {
      "text/plain": [
       "<matplotlib.colorbar.Colorbar at 0x7fa3af832040>"
      ]
     },
     "execution_count": 85,
     "metadata": {},
     "output_type": "execute_result"
    },
    {
     "data": {
      "image/png": "[encoded data removed]",
      "text/plain": [
       "<Figure size 432x288 with 2 Axes>"
      ]
     },
     "metadata": {
      "needs_background": "light"
     },
     "output_type": "display_data"
    }
   ],
   "source": [
    "plt.imshow(attack_sample[-1].reshape(28, 28), cmap='gray')\n",
    "plt.title(attack_label[-1])\n",
    "plt.colorbar()"
   ]
  },
  {
   "cell_type": "code",
   "execution_count": 86,
   "id": "964b8ac0-4fc9-40a9-976f-0ebf9badffa8",
   "metadata": {},
   "outputs": [
    {
     "data": {
      "text/plain": [
       "(0.3145567326650132, 0.8809714285714285)"
      ]
     },
     "execution_count": 86,
     "metadata": {},
     "output_type": "execute_result"
    }
   ],
   "source": [
    "model = model_cnn\n",
    "dataloader = test_dataloader\n",
    "\n",
    "loss_fn = nn.CrossEntropyLoss()\n",
    "\n",
    "size = len(dataloader.dataset)\n",
    "num_batches = len(dataloader)\n",
    "model.eval()\n",
    "test_loss, correct = 0, 0\n",
    "\n",
    "with torch.no_grad():\n",
    "    for X, y_ in dataloader:\n",
    "        X, y_ = X.to(device), y_.to(device)\n",
    "        pred = model(X)\n",
    "        test_loss += loss_fn(pred, y_).item()\n",
    "        correct += (pred.argmax(1) == y_).type(torch.float).sum().item()\n",
    "\n",
    "test_loss /= num_batches\n",
    "correct /= size\n",
    "\n",
    "test_loss, correct"
   ]
  }
 ],
 "metadata": {
  "kernelspec": {
   "display_name": "UCI",
   "language": "python",
   "name": "uci"
  },
  "language_info": {
   "codemirror_mode": {
    "name": "ipython",
    "version": 3
   },
   "file_extension": ".py",
   "mimetype": "text/x-python",
   "name": "python",
   "nbconvert_exporter": "python",
   "pygments_lexer": "ipython3",
   "version": "3.8.5"
  }
 },
 "nbformat": 4,
 "nbformat_minor": 5
}
