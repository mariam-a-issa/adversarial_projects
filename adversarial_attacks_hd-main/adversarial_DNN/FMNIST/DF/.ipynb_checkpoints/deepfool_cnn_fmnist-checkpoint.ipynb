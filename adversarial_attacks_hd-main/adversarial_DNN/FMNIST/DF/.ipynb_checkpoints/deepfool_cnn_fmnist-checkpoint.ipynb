{
 "cells": [
  {
   "cell_type": "code",
   "execution_count": 1,
   "id": "1510e5ef-247e-4270-b4cd-f234376fc1fa",
   "metadata": {},
   "outputs": [
    {
     "data": {
      "text/plain": [
       "<torch._C.Generator at 0x7fd325a45b10>"
      ]
     },
     "execution_count": 1,
     "metadata": {},
     "output_type": "execute_result"
    }
   ],
   "source": [
    "from time import time\n",
    "\n",
    "import torch\n",
    "import sklearn.datasets\n",
    "import sklearn.preprocessing\n",
    "import sklearn.model_selection\n",
    "import numpy as np\n",
    "import math\n",
    "import matplotlib.pyplot as plt\n",
    "import copy\n",
    "from tqdm import tqdm\n",
    "\n",
    "from torchvision.datasets import MNIST\n",
    "from torchvision.datasets import FashionMNIST as FMNIST\n",
    "from torchvision.datasets import EMNIST\n",
    "import torchvision.transforms as transforms\n",
    "from torch.autograd import Variable\n",
    "\n",
    "import onlinehd\n",
    "\n",
    "SEED = 1234\n",
    "device = 'cuda' if torch.cuda.is_available() else 'cpu'\n",
    "np.random.seed(SEED)\n",
    "torch.manual_seed(SEED)"
   ]
  },
  {
   "cell_type": "code",
   "execution_count": 4,
   "id": "d3406113-cf47-4102-ac88-d57582d52671",
   "metadata": {},
   "outputs": [],
   "source": [
    "import pandas as pd\n",
    "import numpy as np\n",
    "import torch\n",
    "from torch import nn\n",
    "from tensorflow.keras.datasets import fashion_mnist\n",
    "import torch.nn.functional as F\n",
    "from torch.utils.data import DataLoader, Dataset\n",
    "from torchvision.transforms import ToTensor, Lambda, Compose\n",
    "import matplotlib.pyplot as plt\n",
    "from sklearn.model_selection import train_test_split\n",
    "import pylab as pl\n",
    "from IPython import display\n",
    "%matplotlib inline"
   ]
  },
  {
   "cell_type": "markdown",
   "id": "47564e18-0185-43ed-8e9f-d0bfd99d15b3",
   "metadata": {},
   "source": [
    "# Dataset"
   ]
  },
  {
   "cell_type": "code",
   "execution_count": 3,
   "id": "337a26ef-9d3e-4dac-a535-e482be05aa8f",
   "metadata": {},
   "outputs": [],
   "source": [
    "from sklearn.model_selection import train_test_split\n",
    "import torch.nn.functional as F\n",
    "\n",
    "class CustomImageDataset(Dataset):\n",
    "    def __init__(self, df, data_type = 'train', model_type='ffnn'):\n",
    "        \"\"\"\n",
    "        :param df: data frame\n",
    "        :param rating_2014_file: 'train'/'test'\n",
    "        :param model_type: 'ffnn'/'cnn'\n",
    "        \"\"\"\n",
    "        if data_type == 'train':\n",
    "            self.X = df.drop('label', axis=1).values/255.\n",
    "            self.Y = df['label'].values\n",
    "        else:\n",
    "            self.X = df.values/255.\n",
    "            self.Y = None\n",
    "        self.X = torch.from_numpy(self.X.astype(np.float32)).reshape(len(df),28, 28)\n",
    "        self.data_type = data_type\n",
    "        self.model_type = model_type\n",
    "\n",
    "    def __len__(self):\n",
    "        return len(self.Y)\n",
    "\n",
    "    def __getitem__(self, idx):\n",
    "        image = self.X[idx]\n",
    "        if self.data_type == 'train':\n",
    "            label = self.Y[idx]\n",
    "        else:\n",
    "            label = None\n",
    "        \n",
    "        if self.model_type == 'ffnn':\n",
    "            return image, label\n",
    "        else:\n",
    "            # add additional dimension if we need dataset for cnn\n",
    "            return image.unsqueeze(0), label"
   ]
  },
  {
   "cell_type": "code",
   "execution_count": 5,
   "id": "816be472-57a3-4569-8c54-991c3a003126",
   "metadata": {},
   "outputs": [],
   "source": [
    "(x, y), (x_test, y_test) = fashion_mnist.load_data()"
   ]
  },
  {
   "cell_type": "code",
   "execution_count": 6,
   "id": "7f03be2d-0f4b-4ac5-a68e-d2de60951841",
   "metadata": {
    "collapsed": true,
    "jupyter": {
     "outputs_hidden": true
    },
    "tags": []
   },
   "outputs": [
    {
     "name": "stderr",
     "output_type": "stream",
     "text": [
      "/var/folders/4_/4812b_4j2_s0smfmxlqdpr600000gn/T/ipykernel_30321/860525519.py:1: DeprecationWarning: `np.float` is a deprecated alias for the builtin `float`. To silence this warning, use `float` by itself. Doing this will not modify any behavior and is safe. If you specifically wanted the numpy scalar type, use `np.float64` here.\n",
      "Deprecated in NumPy 1.20; for more details and guidance: https://numpy.org/devdocs/release/1.20.0-notes.html#deprecations\n",
      "  x = x.astype(np.float)\n",
      "/var/folders/4_/4812b_4j2_s0smfmxlqdpr600000gn/T/ipykernel_30321/860525519.py:2: DeprecationWarning: `np.float` is a deprecated alias for the builtin `float`. To silence this warning, use `float` by itself. Doing this will not modify any behavior and is safe. If you specifically wanted the numpy scalar type, use `np.float64` here.\n",
      "Deprecated in NumPy 1.20; for more details and guidance: https://numpy.org/devdocs/release/1.20.0-notes.html#deprecations\n",
      "  x_test = x_test.astype(np.float)\n",
      "/var/folders/4_/4812b_4j2_s0smfmxlqdpr600000gn/T/ipykernel_30321/860525519.py:3: DeprecationWarning: `np.long` is a deprecated alias for `np.compat.long`. To silence this warning, use `np.compat.long` by itself. In the likely event your code does not need to work on Python 2 you can use the builtin `int` for which `np.compat.long` is itself an alias. Doing this will not modify any behaviour and is safe. When replacing `np.long`, you may wish to use e.g. `np.int64` or `np.int32` to specify the precision. If you wish to review your current use, check the release note link for additional information.\n",
      "Deprecated in NumPy 1.20; for more details and guidance: https://numpy.org/devdocs/release/1.20.0-notes.html#deprecations\n",
      "  y = y.astype(np.long)\n",
      "/var/folders/4_/4812b_4j2_s0smfmxlqdpr600000gn/T/ipykernel_30321/860525519.py:4: DeprecationWarning: `np.long` is a deprecated alias for `np.compat.long`. To silence this warning, use `np.compat.long` by itself. In the likely event your code does not need to work on Python 2 you can use the builtin `int` for which `np.compat.long` is itself an alias. Doing this will not modify any behaviour and is safe. When replacing `np.long`, you may wish to use e.g. `np.int64` or `np.int32` to specify the precision. If you wish to review your current use, check the release note link for additional information.\n",
      "Deprecated in NumPy 1.20; for more details and guidance: https://numpy.org/devdocs/release/1.20.0-notes.html#deprecations\n",
      "  y_test = y_test.astype(np.long)\n"
     ]
    }
   ],
   "source": [
    "x = x.astype(np.float)\n",
    "x_test = x_test.astype(np.float)\n",
    "y = y.astype(np.long)\n",
    "y_test = y_test.astype(np.long)"
   ]
  },
  {
   "cell_type": "code",
   "execution_count": 10,
   "id": "1cb2d8cc-5e9a-44cc-8ffe-f88e0e74d8ca",
   "metadata": {},
   "outputs": [],
   "source": [
    "scaler = sklearn.preprocessing.Normalizer().fit(x.reshape(-1, 784))"
   ]
  },
  {
   "cell_type": "code",
   "execution_count": 11,
   "id": "f6dfb4b2-2357-41cd-b035-4dfd2278d23e",
   "metadata": {},
   "outputs": [],
   "source": [
    "x = x.reshape(-1, 784)\n",
    "x_test = x_test.reshape(-1, 784)\n",
    "\n",
    "df_train = pd.DataFrame(x)\n",
    "df_val = pd.DataFrame(x_test)\n",
    "\n",
    "df_train['label'] = y\n",
    "df_val['label'] = y_test"
   ]
  },
  {
   "cell_type": "code",
   "execution_count": 17,
   "id": "f574c610-ff41-4237-aeef-78749b08298e",
   "metadata": {},
   "outputs": [
    {
     "data": {
      "image/png": "[encoded data removed]",
      "text/plain": [
       "<Figure size 432x288 with 2 Axes>"
      ]
     },
     "metadata": {
      "needs_background": "light"
     },
     "output_type": "display_data"
    }
   ],
   "source": [
    "plt.imshow(x_test[-1].reshape(28, 28), cmap='gray')\n",
    "plt.colorbar()\n",
    "plt.show()"
   ]
  },
  {
   "cell_type": "markdown",
   "id": "e1688f70-27b8-47d8-99c6-fad2cee9d063",
   "metadata": {},
   "source": [
    "# Load CNN model"
   ]
  },
  {
   "cell_type": "code",
   "execution_count": 12,
   "id": "b82a304d-7a4b-4727-beb7-2d09e3d13951",
   "metadata": {},
   "outputs": [],
   "source": [
    "# convolutional nn\n",
    "class CNN(nn.Module):\n",
    "\n",
    "    def __init__(self):\n",
    "        super(CNN, self).__init__()\n",
    "        # input torch.Size([64, 1, 28, 28])\n",
    "        # torch.Size([batch_size, channels, img_width, img_height])\n",
    "        self.conv1 = nn.Conv2d(in_channels=1, out_channels=16, kernel_size=4)\n",
    "        # torch.Size([64, 16, 28-kernel_size+1, 28-kernel_size+1])\n",
    "        # torch.Size([64, 16, 25, 25])\n",
    "        self.relu1=nn.ReLU()\n",
    "        \n",
    "        self.conv2 = nn.Conv2d(in_channels=16, out_channels=8, kernel_size=2)\n",
    "        \n",
    "        # torch.Size([64, 8, 24, 24])\n",
    "        self.relu2=nn.ReLU()\n",
    "        self.max_pool2=nn.MaxPool2d(kernel_size=2)\n",
    "        \n",
    "        # torch.Size([64, 8, 12, 12])\n",
    "        self.fc1 = nn.Linear(8*12*12, 128)\n",
    "        self.fc2 = nn.Linear(128, 10)\n",
    "\n",
    "    def forward(self, x):\n",
    "        \n",
    "        out=self.conv1(x)\n",
    "        out=self.relu1(out)\n",
    "        \n",
    "        out=self.conv2(out)\n",
    "        out=self.relu2(out)\n",
    "        out=self.max_pool2(out)\n",
    "        \n",
    "        out = torch.flatten(out, 1)\n",
    "        out=self.fc1(out)\n",
    "        out=self.fc2(out)\n",
    "        return out"
   ]
  },
  {
   "cell_type": "code",
   "execution_count": 13,
   "id": "d36c8b01-7354-402a-931a-cc8f945495e7",
   "metadata": {},
   "outputs": [],
   "source": [
    "class EarlyStopping():\n",
    "    \"\"\"\n",
    "    Early stopping to stop the training when the loss does not improve after\n",
    "    certain epochs.\n",
    "    \"\"\"\n",
    "    def __init__(self, patience=5, min_delta=0):\n",
    "        \"\"\"\n",
    "        :param patience: how many epochs to wait before stopping when loss is\n",
    "               not improving\n",
    "        :param min_delta: minimum difference between new loss and old loss for\n",
    "               new loss to be considered as an improvement\n",
    "        \"\"\"\n",
    "        self.patience = patience\n",
    "        self.min_delta = min_delta\n",
    "        self.counter = 0\n",
    "        self.best_loss = None\n",
    "        self.early_stop = False\n",
    "    def __call__(self, val_loss):\n",
    "        if self.best_loss == None:\n",
    "            self.best_loss = val_loss\n",
    "        elif self.best_loss - val_loss > self.min_delta:\n",
    "            self.best_loss = val_loss\n",
    "        elif self.best_loss - val_loss < self.min_delta:\n",
    "            self.counter += 1\n",
    "            print(f\"INFO: Early stopping counter {self.counter} of {self.patience}\")\n",
    "            if self.counter >= self.patience:\n",
    "                print('INFO: Early stopping')\n",
    "                self.early_stop = True\n",
    "\n",
    "def train(dataloader, model, loss_fn, optimizer):\n",
    "    size = len(dataloader.dataset)\n",
    "    model.train()\n",
    "    for batch, (X, y) in enumerate(dataloader):\n",
    "        X, y = X.to(device), y.to(device)\n",
    "        \n",
    "        # Compute prediction error\n",
    "        pred = model(X)\n",
    "        loss = loss_fn(pred, y)\n",
    "\n",
    "        # Backpropagation\n",
    "        optimizer.zero_grad()\n",
    "        loss.backward()\n",
    "        optimizer.step()\n",
    "\n",
    "        if batch % 100 == 0:\n",
    "            loss, current = loss.item(), batch * len(X)\n",
    "            print(f\"loss: {loss:>7f}  [{current:>5d}/{size:>5d}]\")\n",
    "            \n",
    "def test(dataloader, model, loss_fn, result_dict):\n",
    "    size = len(dataloader.dataset)\n",
    "    num_batches = len(dataloader)\n",
    "    model.eval()\n",
    "    test_loss, correct = 0, 0\n",
    "    with torch.no_grad():\n",
    "        for X, y in dataloader:\n",
    "            X, y = X.to(device), y.to(device)\n",
    "            pred = model(X)\n",
    "            test_loss += loss_fn(pred, y).item()\n",
    "            correct += (pred.argmax(1) == y).type(torch.float).sum().item()\n",
    "    test_loss /= num_batches\n",
    "    correct /= size\n",
    "    result_dict['avg_loss'].append(test_loss)\n",
    "    result_dict['acc'].append(correct)\n",
    "    #print(f\"Test Error: \\n Accuracy: {(100*correct):>0.1f}%, Avg loss: {test_loss:>8f} \\n\")\n",
    "    \n",
    "def plot_results(axs, res_dict):\n",
    "    \n",
    "    axs[0].plot(res_dict['epoch'][-10:], res_dict['acc'][-10:], c='r')\n",
    "    axs[0].set_title('Validation accuracy {:.4f}'.format(res_dict['acc'][-1]))\n",
    "    \n",
    "    axs[1].plot(res_dict['epoch'][-10:], res_dict['avg_loss'][-10:], c='r')\n",
    "    axs[1].set_title('Average validation loss {:.4f}'.format(res_dict['avg_loss'][-1]))\n",
    "    display.clear_output(wait=True)\n",
    "    display.display(plt.gcf())"
   ]
  },
  {
   "cell_type": "code",
   "execution_count": 18,
   "id": "94a13b1a-bc0f-40b7-8f41-5302c2114333",
   "metadata": {},
   "outputs": [
    {
     "data": {
      "image/png": "[encoded data removed]",
      "text/plain": [
       "<Figure size 864x216 with 2 Axes>"
      ]
     },
     "metadata": {},
     "output_type": "display_data"
    },
    {
     "name": "stdout",
     "output_type": "stream",
     "text": [
      "Epoch 16\n",
      "-------------------------------\n",
      "loss: 0.366623  [    0/60000]\n",
      "loss: 0.195300  [12800/60000]\n",
      "loss: 0.365347  [25600/60000]\n",
      "loss: 0.245367  [38400/60000]\n",
      "loss: 0.314215  [51200/60000]\n",
      "INFO: Early stopping counter 5 of 5\n",
      "INFO: Early stopping\n"
     ]
    },
    {
     "data": {
      "image/png": "[encoded data removed]",
      "text/plain": [
       "<Figure size 864x216 with 2 Axes>"
      ]
     },
     "metadata": {
      "needs_background": "light"
     },
     "output_type": "display_data"
    }
   ],
   "source": [
    "BATCH_SIZE = 128\n",
    "EPOCHS = 30\n",
    "\n",
    "training_data = CustomImageDataset(df_train, model_type='cnn')\n",
    "val_data = CustomImageDataset(df_val, model_type='cnn')\n",
    "# create Dataloader for cnn\n",
    "train_dataloader = DataLoader(training_data, batch_size=BATCH_SIZE, shuffle=True)\n",
    "val_dataloader = DataLoader(val_data, batch_size=BATCH_SIZE, shuffle=True)\n",
    "\n",
    "model_cnn = CNN().to(device)\n",
    "print(model_cnn)\n",
    "\n",
    "loss_fn = nn.CrossEntropyLoss()\n",
    "optimizer = torch.optim.Adam(model_cnn.parameters(), lr=0.0005)\n",
    "early_stop_callback = EarlyStopping()\n",
    "\n",
    "fig, axs = plt.subplots(1,2, figsize=(12,3))\n",
    "plt.suptitle('Convolutional neural network')\n",
    "result = {'avg_loss':[], 'acc':[], 'epoch':[]}\n",
    "\n",
    "for t in range(EPOCHS):\n",
    "    print(f\"Epoch {t+1}\\n-------------------------------\")\n",
    "    train(train_dataloader, model_cnn, loss_fn, optimizer)\n",
    "    test(val_dataloader, model_cnn, loss_fn, result)\n",
    "    result['epoch'].append(t)\n",
    "    early_stop_callback(result['avg_loss'][-1])\n",
    "    if early_stop_callback.early_stop:\n",
    "        break\n",
    "    plot_results(axs, result)"
   ]
  },
  {
   "cell_type": "code",
   "execution_count": 19,
   "id": "a20cad6e-34d6-41b0-a455-ef50a942a22e",
   "metadata": {},
   "outputs": [
    {
     "data": {
      "text/plain": [
       "(0.3003505094896389, 0.8934)"
      ]
     },
     "execution_count": 19,
     "metadata": {},
     "output_type": "execute_result"
    }
   ],
   "source": [
    "model = model_cnn\n",
    "dataloader = val_dataloader\n",
    "\n",
    "size = len(dataloader.dataset)\n",
    "num_batches = len(dataloader)\n",
    "model.eval()\n",
    "test_loss, correct = 0, 0\n",
    "\n",
    "with torch.no_grad():\n",
    "    for X, y_ in dataloader:\n",
    "        X, y_ = X.to(device), y_.to(device)\n",
    "        pred = model(X)\n",
    "        test_loss += loss_fn(pred, y_).item()\n",
    "        correct += (pred.argmax(1) == y_).type(torch.float).sum().item()\n",
    "\n",
    "test_loss /= num_batches\n",
    "correct /= size\n",
    "\n",
    "test_loss, correct"
   ]
  },
  {
   "cell_type": "markdown",
   "id": "5ac11057-7dfb-4bc4-84a1-24ba4b8f88d5",
   "metadata": {},
   "source": [
    "# Generate DeepFool samples"
   ]
  },
  {
   "cell_type": "code",
   "execution_count": 20,
   "id": "1fcbb5ea-ab08-4712-bd5e-04de1fb2cd0d",
   "metadata": {},
   "outputs": [],
   "source": [
    "import numpy as np\n",
    "from torch.autograd import Variable\n",
    "import torch as torch\n",
    "import copy\n",
    "#from torch.autograd.gradcheck import zero_gradients\n",
    "\n",
    "def zero_gradients(x):\n",
    "    if isinstance(x, torch.Tensor):\n",
    "        if x.grad is not None:\n",
    "            x.grad.detach_()\n",
    "            x.grad.zero_()\n",
    "    elif isinstance(x, collections.abc.Iterable):\n",
    "        for elem in x:\n",
    "            zero_gradients(elem)\n",
    "\n",
    "is_cuda = torch.cuda.is_available()\n",
    "\n",
    "def deepfool(image, net, num_classes = 10, overshoot=0.02, max_iter=30):\n",
    "\n",
    "    \"\"\"\n",
    "       :param image: Image of size HxWx3\n",
    "       :param net: network (input: images, output: values of activation **BEFORE** softmax).\n",
    "       :param num_classes: num_classes (limits the number of classes to test against, by default = 10)\n",
    "       :param overshoot: used as a termination criterion to prevent vanishing updates (default = 0.02).\n",
    "       :param max_iter: maximum number of iterations for deepfool (default = 50)\n",
    "       :return: minimal perturbation that fools the classifier, number of iterations that it required, new estimated_label and perturbed image\n",
    "    \"\"\"\n",
    "\n",
    "\n",
    "    f_image = net.forward(Variable(image[None, :, :, :], requires_grad=True)).data.cpu().numpy().flatten()\n",
    "    I = (np.array(f_image)).flatten().argsort()[::-1]\n",
    "\n",
    "    I = I[0:num_classes]\n",
    "    label = I[0]\n",
    "\n",
    "    input_shape = image.cpu().numpy().shape\n",
    "    pert_image = copy.deepcopy(image)\n",
    "    w = np.zeros(input_shape)\n",
    "    r_tot = np.zeros(input_shape)\n",
    "\n",
    "    loop_i = 0\n",
    "\n",
    "    x = Variable(pert_image[None, :], requires_grad=True)\n",
    "    fs = net.forward(x)\n",
    "    fs_list = [fs[0,I[k]] for k in range(num_classes)]\n",
    "    k_i = label\n",
    "\n",
    "    while k_i == label and loop_i < max_iter:\n",
    "\n",
    "        pert = np.inf\n",
    "        fs[0, I[0]].backward(retain_graph=True)\n",
    "        grad_orig = x.grad.data.cpu().numpy().copy()\n",
    "\n",
    "        for k in range(1, num_classes):\n",
    "            zero_gradients(x)\n",
    "\n",
    "            fs[0, I[k]].backward(retain_graph=True)\n",
    "            cur_grad = x.grad.data.cpu().numpy().copy()\n",
    "\n",
    "            # set new w_k and new f_k\n",
    "            w_k = cur_grad - grad_orig\n",
    "            f_k = (fs[0, I[k]] - fs[0, I[0]]).data.cpu().numpy()\n",
    "\n",
    "            pert_k = abs(f_k)/np.linalg.norm(w_k.flatten())\n",
    "\n",
    "            # determine which w_k to use\n",
    "            if pert_k < pert:\n",
    "                pert = pert_k\n",
    "                w = w_k\n",
    "\n",
    "        # compute r_i and r_tot\n",
    "        # Added 1e-4 for numerical stability\n",
    "        r_i =  (pert+1e-4) * w / np.linalg.norm(w)\n",
    "        r_tot = np.float32(r_tot + r_i)\n",
    "\n",
    "        \n",
    "        pert_image = image + (1+overshoot)*torch.from_numpy(r_tot)\n",
    "            \n",
    "        x = Variable(pert_image, requires_grad=True)\n",
    "        fs = net.forward(x)\n",
    "        k_i = np.argmax(fs.data.cpu().numpy().flatten())\n",
    "\n",
    "        loop_i += 1\n",
    "\n",
    "    #r_tot = (1+overshoot)*r_tot\n",
    "\n",
    "    return pert_image  #r_tot, loop_i, label, k_i,"
   ]
  },
  {
   "cell_type": "code",
   "execution_count": 35,
   "id": "d7699481-07af-402b-8b17-66bea4eb146f",
   "metadata": {},
   "outputs": [],
   "source": [
    "x_test = torch.tensor(x_test).float()"
   ]
  },
  {
   "cell_type": "code",
   "execution_count": 36,
   "id": "a23edda6-a211-40b7-9915-80e1a46716a2",
   "metadata": {},
   "outputs": [],
   "source": [
    "X_te_cln = x_test.reshape(-1, 1, 28, 28)"
   ]
  },
  {
   "cell_type": "code",
   "execution_count": 37,
   "id": "9e2ed0d9-118e-4894-9e07-c10aa61618df",
   "metadata": {},
   "outputs": [
    {
     "data": {
      "image/png": "[encoded data removed]",
      "text/plain": [
       "<Figure size 432x288 with 2 Axes>"
      ]
     },
     "metadata": {
      "needs_background": "light"
     },
     "output_type": "display_data"
    }
   ],
   "source": [
    "plt.imshow(X_te_cln[-1].reshape(28, 28), cmap='gray')\n",
    "plt.colorbar()\n",
    "plt.show()"
   ]
  },
  {
   "cell_type": "code",
   "execution_count": 38,
   "id": "259dd094-efb5-48bc-a885-0ecb2920a104",
   "metadata": {},
   "outputs": [
    {
     "name": "stderr",
     "output_type": "stream",
     "text": [
      "100%|█████████████████████████████████████| 10000/10000 [05:12<00:00, 32.00it/s]\n"
     ]
    }
   ],
   "source": [
    "x_test_adv = torch.zeros(X_te_cln.shape)\n",
    "\n",
    "model_cnn.cpu()\n",
    "for i in tqdm(range(len(X_te_cln))):\n",
    "    x_test_adv[i] = deepfool(X_te_cln[i].reshape(1, 28, 28), model_cnn)"
   ]
  },
  {
   "cell_type": "code",
   "execution_count": 40,
   "id": "fbf3db32-cabe-4699-a6fe-85690531400c",
   "metadata": {},
   "outputs": [
    {
     "data": {
      "image/png": "[encoded data removed]",
      "text/plain": [
       "<Figure size 432x288 with 2 Axes>"
      ]
     },
     "metadata": {
      "needs_background": "light"
     },
     "output_type": "display_data"
    }
   ],
   "source": [
    "plt.imshow(x_test_adv[-1].reshape(28, 28), cmap='gray')\n",
    "plt.title(y_test[-1].item())\n",
    "plt.colorbar()\n",
    "plt.show()"
   ]
  },
  {
   "cell_type": "markdown",
   "id": "2d0a5bac-7d1f-474f-a7f7-fc201c372a31",
   "metadata": {},
   "source": [
    "# save samples"
   ]
  },
  {
   "cell_type": "code",
   "execution_count": 41,
   "id": "2416d736-9fad-4a82-bcc6-6f7d48d29250",
   "metadata": {},
   "outputs": [
    {
     "data": {
      "text/plain": [
       "torch.Size([10000, 784])"
      ]
     },
     "execution_count": 41,
     "metadata": {},
     "output_type": "execute_result"
    }
   ],
   "source": [
    "attack_sample = x_test_adv.reshape(-1, 784)\n",
    "attack_sample.shape"
   ]
  },
  {
   "cell_type": "code",
   "execution_count": 42,
   "id": "196e2584-b8b3-4cd1-85f3-ccc8edf61b5c",
   "metadata": {},
   "outputs": [],
   "source": [
    "import pickle \n",
    "\n",
    "sample = {\n",
    "    'data':attack_sample,\n",
    "    'label':y_test\n",
    "}\n",
    "\n",
    "with open('FMNIST_cnn_DF.pickle', 'wb') as f:\n",
    "    pickle.dump(sample, f)"
   ]
  },
  {
   "cell_type": "code",
   "execution_count": 45,
   "id": "19f29cf7-95bf-4dce-8954-9c2370aa1d01",
   "metadata": {},
   "outputs": [],
   "source": [
    "with open('FMNIST_cnn_DF.pickle', 'rb') as f:\n",
    "    sample = pickle.load(f)\n",
    "    \n",
    "attack_sample = sample['data']\n",
    "attack_label = sample['label']"
   ]
  },
  {
   "cell_type": "code",
   "execution_count": 47,
   "id": "c481647b-86f1-45f6-a314-d19a0895ca63",
   "metadata": {},
   "outputs": [
    {
     "data": {
      "image/png": "[encoded data removed]",
      "text/plain": [
       "<Figure size 432x288 with 2 Axes>"
      ]
     },
     "metadata": {
      "needs_background": "light"
     },
     "output_type": "display_data"
    }
   ],
   "source": [
    "plt.imshow(attack_sample[-1].reshape(28, 28), cmap='gray')\n",
    "plt.title(attack_label[-1].item())\n",
    "plt.colorbar()\n",
    "plt.show()"
   ]
  },
  {
   "cell_type": "markdown",
   "id": "3fbc6a93-738b-4c85-a407-b8d1ffd9cf5a",
   "metadata": {},
   "source": [
    "# Sample Test"
   ]
  },
  {
   "cell_type": "code",
   "execution_count": 59,
   "id": "f8232b53-4fcb-4c42-8927-37a09e11730f",
   "metadata": {},
   "outputs": [],
   "source": [
    "df_test = pd.DataFrame(attack_sample.numpy())\n",
    "df_test['label'] = y_test"
   ]
  },
  {
   "cell_type": "code",
   "execution_count": 63,
   "id": "fde24561-a31b-4148-9b30-ccda5690b287",
   "metadata": {},
   "outputs": [
    {
     "name": "stdout",
     "output_type": "stream",
     "text": [
      "Feature batch shape: torch.Size([128, 1, 28, 28])\n",
      "Labels batch shape: torch.Size([128])\n"
     ]
    },
    {
     "data": {
      "image/png": "[encoded data removed]",
      "text/plain": [
       "<Figure size 432x288 with 2 Axes>"
      ]
     },
     "metadata": {
      "needs_background": "light"
     },
     "output_type": "display_data"
    }
   ],
   "source": [
    "BATCH_SIZE = 128\n",
    "EPOCHS = 30\n",
    "\n",
    "# load dataa\n",
    "# df_train, df_val = train_test_split(df, test_size=0.2)\n",
    "\n",
    "# create Dataset\n",
    "test_data = CustomImageDataset(df_test, model_type='cnn')\n",
    "\n",
    "# create Dataloader\n",
    "test_dataloader = DataLoader(test_data, batch_size=BATCH_SIZE, shuffle=True)\n",
    "\n",
    "# Display image and label.\n",
    "test_features, test_labels = next(iter(test_dataloader))\n",
    "print(f\"Feature batch shape: {test_features.size()}\")\n",
    "print(f\"Labels batch shape: {test_labels.size()}\")\n",
    "\n",
    "img = test_features[0].squeeze()\n",
    "label = test_labels[0]\n",
    "plt.imshow(img, cmap=\"gray\")\n",
    "plt.title(label)\n",
    "plt.colorbar()\n",
    "plt.show()"
   ]
  },
  {
   "cell_type": "code",
   "execution_count": 62,
   "id": "e7db5025-bdb6-431a-8bc5-27bde7694b62",
   "metadata": {},
   "outputs": [
    {
     "data": {
      "image/png": "[encoded data removed]",
      "text/plain": [
       "<Figure size 432x288 with 2 Axes>"
      ]
     },
     "metadata": {
      "needs_background": "light"
     },
     "output_type": "display_data"
    }
   ],
   "source": [
    "plt.imshow(attack_sample[-1].reshape(28, 28), cmap='gray')\n",
    "plt.title(attack_label[-1])\n",
    "plt.colorbar()\n",
    "plt.show()"
   ]
  },
  {
   "cell_type": "code",
   "execution_count": 64,
   "id": "964b8ac0-4fc9-40a9-976f-0ebf9badffa8",
   "metadata": {},
   "outputs": [
    {
     "data": {
      "text/plain": [
       "(0.6842616215536866, 0.7468)"
      ]
     },
     "execution_count": 64,
     "metadata": {},
     "output_type": "execute_result"
    }
   ],
   "source": [
    "model = model_cnn\n",
    "dataloader = test_dataloader\n",
    "\n",
    "loss_fn = nn.CrossEntropyLoss()\n",
    "\n",
    "size = len(dataloader.dataset)\n",
    "num_batches = len(dataloader)\n",
    "model.eval()\n",
    "test_loss, correct = 0, 0\n",
    "\n",
    "with torch.no_grad():\n",
    "    for X, y_ in dataloader:\n",
    "        X, y_ = X.to(device), y_.to(device)\n",
    "        pred = model(X)\n",
    "        test_loss += loss_fn(pred, y_).item()\n",
    "        correct += (pred.argmax(1) == y_).type(torch.float).sum().item()\n",
    "\n",
    "test_loss /= num_batches\n",
    "correct /= size\n",
    "\n",
    "test_loss, correct"
   ]
  }
 ],
 "metadata": {
  "kernelspec": {
   "display_name": "UCI",
   "language": "python",
   "name": "uci"
  },
  "language_info": {
   "codemirror_mode": {
    "name": "ipython",
    "version": 3
   },
   "file_extension": ".py",
   "mimetype": "text/x-python",
   "name": "python",
   "nbconvert_exporter": "python",
   "pygments_lexer": "ipython3",
   "version": "3.8.5"
  }
 },
 "nbformat": 4,
 "nbformat_minor": 5
}
