{
 "cells": [
  {
   "cell_type": "code",
   "execution_count": 1,
   "id": "f5451645-a944-4129-9cd2-a005cc37f855",
   "metadata": {},
   "outputs": [
    {
     "data": {
      "text/plain": [
       "<torch._C.Generator at 0x7fc13ed45b30>"
      ]
     },
     "execution_count": 1,
     "metadata": {},
     "output_type": "execute_result"
    }
   ],
   "source": [
    "from time import time\n",
    "\n",
    "import pickle\n",
    "\n",
    "import torch\n",
    "import sklearn.datasets\n",
    "import sklearn.preprocessing\n",
    "import sklearn.model_selection\n",
    "import numpy as np\n",
    "import math\n",
    "import matplotlib.pyplot as plt\n",
    "\n",
    "from torchvision.datasets import MNIST\n",
    "from torchvision.datasets import FashionMNIST as FMNIST\n",
    "from torchvision.datasets import EMNIST\n",
    "import torchvision.transforms as transforms\n",
    "\n",
    "import onlinehd\n",
    "\n",
    "device = 'cuda' if torch.cuda.is_available() else 'cpu'\n",
    "np.random.seed(1234)\n",
    "torch.manual_seed(1234)"
   ]
  },
  {
   "cell_type": "markdown",
   "id": "727e0a60-654e-492b-a938-681daef7199c",
   "metadata": {},
   "source": [
    "# Prepare Neural Network"
   ]
  },
  {
   "cell_type": "code",
   "execution_count": 3,
   "id": "297098f9-9fbe-42a5-81f0-8c70fb61d1fc",
   "metadata": {},
   "outputs": [],
   "source": [
    "import pandas as pd\n",
    "import numpy as np\n",
    "import torch\n",
    "from torch import nn\n",
    "import torch.nn.functional as F\n",
    "from torch.utils.data import DataLoader, Dataset\n",
    "from torchvision.transforms import ToTensor, Lambda, Compose\n",
    "import matplotlib.pyplot as plt\n",
    "from sklearn.model_selection import train_test_split\n",
    "import pylab as pl\n",
    "from IPython import display\n",
    "%matplotlib inline"
   ]
  },
  {
   "cell_type": "markdown",
   "id": "6696041c-df1c-480d-aee7-2cdfccb300d4",
   "metadata": {},
   "source": [
    "# Dataset"
   ]
  },
  {
   "cell_type": "code",
   "execution_count": 4,
   "id": "7d6ac09b-0e41-43fe-84d6-ce84438b3548",
   "metadata": {},
   "outputs": [],
   "source": [
    "from sklearn.model_selection import train_test_split\n",
    "import torch.nn.functional as F\n",
    "\n",
    "class CustomImageDataset(Dataset):\n",
    "    def __init__(self, df, data_type = 'train', model_type='ffnn'):\n",
    "        \"\"\"\n",
    "        :param df: data frame\n",
    "        :param rating_2014_file: 'train'/'test'\n",
    "        :param model_type: 'ffnn'/'cnn'\n",
    "        \"\"\"\n",
    "        if data_type == 'train':\n",
    "            self.X = df.drop('label', axis=1).values/255.\n",
    "            self.Y = df['label'].values\n",
    "        else:\n",
    "            self.X = df.values/255.\n",
    "            self.Y = None\n",
    "        self.X = torch.from_numpy(self.X.astype(np.float32)).reshape(len(df),28, 28)\n",
    "        self.data_type = data_type\n",
    "        self.model_type = model_type\n",
    "\n",
    "    def __len__(self):\n",
    "        return len(self.Y)\n",
    "\n",
    "    def __getitem__(self, idx):\n",
    "        image = self.X[idx]\n",
    "        if self.data_type == 'train':\n",
    "            label = self.Y[idx]\n",
    "        else:\n",
    "            label = None\n",
    "        \n",
    "        if self.model_type == 'ffnn':\n",
    "            return image, label\n",
    "        else:\n",
    "            # add additional dimension if we need dataset for cnn\n",
    "            return image.unsqueeze(0), label"
   ]
  },
  {
   "cell_type": "code",
   "execution_count": 5,
   "id": "cc33e4e1-dfbd-4d67-981b-d000f3f624be",
   "metadata": {},
   "outputs": [],
   "source": [
    "def load():\n",
    "    download_root = 'data/emnist_dataset'\n",
    "    \n",
    "    temp = EMNIST(download_root, split = 'letters', train=True, download=True)\n",
    "    x = temp.data.unsqueeze(3).numpy().transpose((0,2,1,3))\n",
    "    y = temp.targets.numpy() - 1\n",
    "    temp = EMNIST(download_root, split='letters', train=False, download=True)\n",
    "    x_test = temp.data.unsqueeze(3).numpy().transpose((0,2,1,3))\n",
    "    y_test = temp.targets.numpy() - 1\n",
    "    \n",
    "    x = torch.from_numpy(x).float()\n",
    "    y = torch.from_numpy(y).long()\n",
    "    x_test = torch.from_numpy(x_test).float()\n",
    "    y_test = torch.from_numpy(y_test).long()\n",
    "    \n",
    "    x_test = x_test.float()\n",
    "    y_test = y_test.long().squeeze()\n",
    "\n",
    "    if len(x.shape) != 3:\n",
    "        x = x.squeeze(3)\n",
    "        x_test = x_test.squeeze(3)\n",
    "    \n",
    "    return x, x_test, y, y_test"
   ]
  },
  {
   "cell_type": "code",
   "execution_count": 6,
   "id": "a55f639d-6727-4a75-acff-aa52c8c2cc49",
   "metadata": {},
   "outputs": [
    {
     "name": "stderr",
     "output_type": "stream",
     "text": [
      "/Users/jeongseongheon/opt/anaconda3/envs/UCI/lib/python3.8/site-packages/torchvision/datasets/mnist.py:498: UserWarning: The given NumPy array is not writeable, and PyTorch does not support non-writeable tensors. This means you can write to the underlying (supposedly non-writeable) NumPy array using the tensor. You may want to copy the array to protect its data or make it writeable before converting it to a tensor. This type of warning will be suppressed for the rest of this program. (Triggered internally at  ../torch/csrc/utils/tensor_numpy.cpp:180.)\n",
      "  return torch.from_numpy(parsed.astype(m[2], copy=False)).view(*s)\n"
     ]
    }
   ],
   "source": [
    "x, x_test, y, y_test = load()"
   ]
  },
  {
   "cell_type": "code",
   "execution_count": 8,
   "id": "853f2d2a-14b5-45af-b707-a80aebd73025",
   "metadata": {},
   "outputs": [],
   "source": [
    "scaler = sklearn.preprocessing.Normalizer().fit(x.reshape(-1, 784))"
   ]
  },
  {
   "cell_type": "code",
   "execution_count": 11,
   "id": "b6605cd7-6d74-4bc0-bd17-f51046c16355",
   "metadata": {},
   "outputs": [
    {
     "data": {
      "text/plain": [
       "torch.Tensor"
      ]
     },
     "execution_count": 11,
     "metadata": {},
     "output_type": "execute_result"
    }
   ],
   "source": [
    "type(x)"
   ]
  },
  {
   "cell_type": "code",
   "execution_count": 12,
   "id": "fd6633bd-762e-4e10-afb7-583dddf02d9b",
   "metadata": {},
   "outputs": [],
   "source": [
    "x = x.reshape(-1, 784)\n",
    "x_test = x_test.reshape(-1, 784)\n",
    "\n",
    "df_train = pd.DataFrame(np.array(x))\n",
    "df_val = pd.DataFrame(np.array(x_test))\n",
    "\n",
    "df_train['label'] = y\n",
    "df_val['label'] = y_test"
   ]
  },
  {
   "cell_type": "code",
   "execution_count": 13,
   "id": "d3d0c11e-bfdb-40d9-9035-9e1214fd7faf",
   "metadata": {},
   "outputs": [
    {
     "name": "stdout",
     "output_type": "stream",
     "text": [
      "Feature batch shape: torch.Size([128, 28, 28])\n",
      "Labels batch shape: torch.Size([128])\n"
     ]
    },
    {
     "data": {
      "image/png": "[encoded data removed]",
      "text/plain": [
       "<Figure size 432x288 with 1 Axes>"
      ]
     },
     "metadata": {
      "needs_background": "light"
     },
     "output_type": "display_data"
    }
   ],
   "source": [
    "BATCH_SIZE = 128\n",
    "EPOCHS = 30\n",
    "\n",
    "# load dataa\n",
    "# df_train, df_val = train_test_split(df, test_size=0.2)\n",
    "\n",
    "# create Dataset\n",
    "training_data = CustomImageDataset(df_train)\n",
    "valid_data = CustomImageDataset(df_val)\n",
    "\n",
    "# create Dataloader\n",
    "train_dataloader = DataLoader(training_data, batch_size=BATCH_SIZE, shuffle=True)\n",
    "val_dataloader = DataLoader(valid_data, batch_size=BATCH_SIZE, shuffle=True)\n",
    "\n",
    "# Display image and label.\n",
    "train_features, train_labels = next(iter(train_dataloader))\n",
    "print(f\"Feature batch shape: {train_features.size()}\")\n",
    "print(f\"Labels batch shape: {train_labels.size()}\")\n",
    "\n",
    "img = train_features[0].squeeze()\n",
    "label = train_labels[0]\n",
    "plt.imshow(img, cmap=\"gray\")\n",
    "plt.title(label)\n",
    "plt.show()"
   ]
  },
  {
   "cell_type": "markdown",
   "id": "264a2dfc-9d49-467f-b3a3-e1fb13818355",
   "metadata": {},
   "source": [
    "# Network"
   ]
  },
  {
   "cell_type": "code",
   "execution_count": 21,
   "id": "98139f97-3afa-427e-bd0c-b97efe6cf353",
   "metadata": {},
   "outputs": [],
   "source": [
    "class NeuralNetwork(nn.Module):\n",
    "    def __init__(self):\n",
    "        super(NeuralNetwork, self).__init__()\n",
    "        self.flatten = nn.Flatten()\n",
    "        self.linear_relu_stack = nn.Sequential(\n",
    "            nn.Linear(28*28, 512),\n",
    "            nn.ReLU(),\n",
    "            nn.Linear(512, 512),\n",
    "            nn.ReLU(),\n",
    "            nn.Linear(512, 26)\n",
    "        )\n",
    "\n",
    "    def forward(self, x):\n",
    "        x = self.flatten(x)\n",
    "        logits = self.linear_relu_stack(x)\n",
    "        return logits\n",
    "\n",
    "# convolutional nn\n",
    "class CNN(nn.Module):\n",
    "\n",
    "    def __init__(self):\n",
    "        super(CNN, self).__init__()\n",
    "        # input torch.Size([64, 1, 28, 28])\n",
    "        # torch.Size([batch_size, channels, img_width, img_height])\n",
    "        self.conv1 = nn.Conv2d(in_channels=1, out_channels=16, kernel_size=4)\n",
    "        # torch.Size([64, 16, 28-kernel_size+1, 28-kernel_size+1])\n",
    "        # torch.Size([64, 16, 25, 25])\n",
    "        self.relu1=nn.ReLU()\n",
    "        \n",
    "        self.conv2 = nn.Conv2d(in_channels=16, out_channels=8, kernel_size=2)\n",
    "        \n",
    "        # torch.Size([64, 8, 24, 24])\n",
    "        self.relu2=nn.ReLU()\n",
    "        self.max_pool2=nn.MaxPool2d(kernel_size=2)\n",
    "        \n",
    "        # torch.Size([64, 8, 12, 12])\n",
    "        self.fc1 = nn.Linear(8*12*12, 128)\n",
    "        self.fc2 = nn.Linear(128, 26)\n",
    "\n",
    "    def forward(self, x):\n",
    "        \n",
    "        out=self.conv1(x)\n",
    "        out=self.relu1(out)\n",
    "        \n",
    "        out=self.conv2(out)\n",
    "        out=self.relu2(out)\n",
    "        out=self.max_pool2(out)\n",
    "        \n",
    "        out = torch.flatten(out, 1)\n",
    "        out=self.fc1(out)\n",
    "        out=self.fc2(out)\n",
    "        return out"
   ]
  },
  {
   "cell_type": "code",
   "execution_count": 22,
   "id": "c0bd0aa9-f042-4bd5-bd98-49e93dc476d4",
   "metadata": {},
   "outputs": [],
   "source": [
    "class EarlyStopping():\n",
    "    \"\"\"\n",
    "    Early stopping to stop the training when the loss does not improve after\n",
    "    certain epochs.\n",
    "    \"\"\"\n",
    "    def __init__(self, patience=5, min_delta=0):\n",
    "        \"\"\"\n",
    "        :param patience: how many epochs to wait before stopping when loss is\n",
    "               not improving\n",
    "        :param min_delta: minimum difference between new loss and old loss for\n",
    "               new loss to be considered as an improvement\n",
    "        \"\"\"\n",
    "        self.patience = patience\n",
    "        self.min_delta = min_delta\n",
    "        self.counter = 0\n",
    "        self.best_loss = None\n",
    "        self.early_stop = False\n",
    "    def __call__(self, val_loss):\n",
    "        if self.best_loss == None:\n",
    "            self.best_loss = val_loss\n",
    "        elif self.best_loss - val_loss > self.min_delta:\n",
    "            self.best_loss = val_loss\n",
    "        elif self.best_loss - val_loss < self.min_delta:\n",
    "            self.counter += 1\n",
    "            print(f\"INFO: Early stopping counter {self.counter} of {self.patience}\")\n",
    "            if self.counter >= self.patience:\n",
    "                print('INFO: Early stopping')\n",
    "                self.early_stop = True\n",
    "\n",
    "def train(dataloader, model, loss_fn, optimizer):\n",
    "    size = len(dataloader.dataset)\n",
    "    model.train()\n",
    "    for batch, (X, y) in enumerate(dataloader):\n",
    "        X, y = X.to(device), y.to(device)\n",
    "        \n",
    "        # Compute prediction error\n",
    "        pred = model(X)\n",
    "        loss = loss_fn(pred, y)\n",
    "\n",
    "        # Backpropagation\n",
    "        optimizer.zero_grad()\n",
    "        loss.backward()\n",
    "        optimizer.step()\n",
    "\n",
    "        if batch % 100 == 0:\n",
    "            loss, current = loss.item(), batch * len(X)\n",
    "            print(f\"loss: {loss:>7f}  [{current:>5d}/{size:>5d}]\")\n",
    "            \n",
    "def test(dataloader, model, loss_fn, result_dict):\n",
    "    size = len(dataloader.dataset)\n",
    "    num_batches = len(dataloader)\n",
    "    model.eval()\n",
    "    test_loss, correct = 0, 0\n",
    "    with torch.no_grad():\n",
    "        for X, y in dataloader:\n",
    "            X, y = X.to(device), y.to(device)\n",
    "            pred = model(X)\n",
    "            test_loss += loss_fn(pred, y).item()\n",
    "            correct += (pred.argmax(1) == y).type(torch.float).sum().item()\n",
    "    test_loss /= num_batches\n",
    "    correct /= size\n",
    "    result_dict['avg_loss'].append(test_loss)\n",
    "    result_dict['acc'].append(correct)\n",
    "    #print(f\"Test Error: \\n Accuracy: {(100*correct):>0.1f}%, Avg loss: {test_loss:>8f} \\n\")\n",
    "    \n",
    "def plot_results(axs, res_dict):\n",
    "    \n",
    "    axs[0].plot(res_dict['epoch'][-10:], res_dict['acc'][-10:], c='r')\n",
    "    axs[0].set_title('Validation accuracy {:.4f}'.format(res_dict['acc'][-1]))\n",
    "    \n",
    "    axs[1].plot(res_dict['epoch'][-10:], res_dict['avg_loss'][-10:], c='r')\n",
    "    axs[1].set_title('Average validation loss {:.4f}'.format(res_dict['avg_loss'][-1]))\n",
    "    display.clear_output(wait=True)\n",
    "    display.display(plt.gcf())"
   ]
  },
  {
   "cell_type": "markdown",
   "id": "c413bb13-cc21-4820-8a1a-31c95d675e96",
   "metadata": {},
   "source": [
    "# Fully connected neural network"
   ]
  },
  {
   "cell_type": "code",
   "execution_count": 23,
   "id": "5be963df-fb8b-4a87-b62c-0518d2b20df4",
   "metadata": {},
   "outputs": [
    {
     "data": {
      "image/png": "[encoded data removed]",
      "text/plain": [
       "<Figure size 864x216 with 2 Axes>"
      ]
     },
     "metadata": {},
     "output_type": "display_data"
    },
    {
     "name": "stdout",
     "output_type": "stream",
     "text": [
      "Epoch 13\n",
      "-------------------------------\n",
      "loss: 0.144077  [    0/124800]\n",
      "loss: 0.085209  [12800/124800]\n",
      "loss: 0.077567  [25600/124800]\n",
      "loss: 0.148314  [38400/124800]\n",
      "loss: 0.050342  [51200/124800]\n",
      "loss: 0.070116  [64000/124800]\n",
      "loss: 0.152649  [76800/124800]\n",
      "loss: 0.039249  [89600/124800]\n",
      "loss: 0.060538  [102400/124800]\n",
      "loss: 0.059966  [115200/124800]\n",
      "INFO: Early stopping counter 5 of 5\n",
      "INFO: Early stopping\n"
     ]
    },
    {
     "data": {
      "image/png": "[encoded data removed]",
      "text/plain": [
       "<Figure size 864x216 with 2 Axes>"
      ]
     },
     "metadata": {
      "needs_background": "light"
     },
     "output_type": "display_data"
    }
   ],
   "source": [
    "device = 'cuda' if torch.cuda.is_available() else 'cpu'\n",
    "print('Using {} device'.format(device))\n",
    "\n",
    "model_fcnn = NeuralNetwork().to(device)\n",
    "print(model_fcnn)\n",
    "\n",
    "loss_fn = nn.CrossEntropyLoss()\n",
    "optimizer = torch.optim.Adam(model_fcnn.parameters(), lr=0.0005)\n",
    "early_stop_callback = EarlyStopping()\n",
    "\n",
    "fig, axs = plt.subplots(1,2, figsize=(12,3))\n",
    "plt.suptitle('Fully connected neural network')\n",
    "result = {'avg_loss':[], 'acc':[], 'epoch':[]}\n",
    "\n",
    "for t in range(EPOCHS):\n",
    "    print(f\"Epoch {t+1}\\n-------------------------------\")\n",
    "    train(train_dataloader, model_fcnn, loss_fn, optimizer)\n",
    "    test(val_dataloader, model_fcnn, loss_fn, result)\n",
    "    result['epoch'].append(t)\n",
    "    early_stop_callback(result['avg_loss'][-1])\n",
    "    if early_stop_callback.early_stop:\n",
    "        break\n",
    "    plot_results(axs, result)"
   ]
  },
  {
   "cell_type": "code",
   "execution_count": 24,
   "id": "04fda66a-ce24-469c-b18d-4a119a2a2031",
   "metadata": {},
   "outputs": [
    {
     "data": {
      "text/plain": [
       "(0.29258062955609127, 0.9187980769230769)"
      ]
     },
     "execution_count": 24,
     "metadata": {},
     "output_type": "execute_result"
    }
   ],
   "source": [
    "model = model_fcnn\n",
    "dataloader = val_dataloader\n",
    "\n",
    "size = len(dataloader.dataset)\n",
    "num_batches = len(dataloader)\n",
    "model.eval()\n",
    "test_loss, correct = 0, 0\n",
    "\n",
    "with torch.no_grad():\n",
    "    for X, y in dataloader:\n",
    "        X, y = X.to(device), y.to(device)\n",
    "        pred = model(X)\n",
    "        test_loss += loss_fn(pred, y).item()\n",
    "        correct += (pred.argmax(1) == y).type(torch.float).sum().item()\n",
    "\n",
    "test_loss /= num_batches\n",
    "correct /= size\n",
    "\n",
    "test_loss, correct"
   ]
  },
  {
   "cell_type": "markdown",
   "id": "6ef27186-3dfc-4c68-82f0-6b92b6b9b929",
   "metadata": {},
   "source": [
    "# Convolutional neural network"
   ]
  },
  {
   "cell_type": "code",
   "execution_count": 25,
   "id": "ef54290b-1c16-42c9-89ce-5271a65158d8",
   "metadata": {},
   "outputs": [
    {
     "data": {
      "image/png": "[encoded data removed]",
      "text/plain": [
       "<Figure size 864x216 with 2 Axes>"
      ]
     },
     "metadata": {},
     "output_type": "display_data"
    },
    {
     "name": "stdout",
     "output_type": "stream",
     "text": [
      "Epoch 17\n",
      "-------------------------------\n",
      "loss: 0.213721  [    0/124800]\n",
      "loss: 0.279362  [12800/124800]\n",
      "loss: 0.166614  [25600/124800]\n",
      "loss: 0.148815  [38400/124800]\n",
      "loss: 0.250024  [51200/124800]\n",
      "loss: 0.195318  [64000/124800]\n",
      "loss: 0.148697  [76800/124800]\n",
      "loss: 0.189584  [89600/124800]\n",
      "loss: 0.264844  [102400/124800]\n",
      "loss: 0.272933  [115200/124800]\n",
      "INFO: Early stopping counter 5 of 5\n",
      "INFO: Early stopping\n"
     ]
    },
    {
     "data": {
      "image/png": "[encoded data removed]",
      "text/plain": [
       "<Figure size 864x216 with 2 Axes>"
      ]
     },
     "metadata": {
      "needs_background": "light"
     },
     "output_type": "display_data"
    }
   ],
   "source": [
    "training_data = CustomImageDataset(df_train, model_type='cnn')\n",
    "val_data = CustomImageDataset(df_val, model_type='cnn')\n",
    "# create Dataloader for cnn\n",
    "train_dataloader = DataLoader(training_data, batch_size=BATCH_SIZE, shuffle=True)\n",
    "val_dataloader = DataLoader(val_data, batch_size=BATCH_SIZE, shuffle=True)\n",
    "\n",
    "model_cnn = CNN().to(device)\n",
    "print(model_cnn)\n",
    "\n",
    "loss_fn = nn.CrossEntropyLoss()\n",
    "optimizer = torch.optim.Adam(model_cnn.parameters(), lr=0.0005)\n",
    "early_stop_callback = EarlyStopping()\n",
    "\n",
    "fig, axs = plt.subplots(1,2, figsize=(12,3))\n",
    "plt.suptitle('Convolutional neural network')\n",
    "result = {'avg_loss':[], 'acc':[], 'epoch':[]}\n",
    "\n",
    "for t in range(EPOCHS):\n",
    "    print(f\"Epoch {t+1}\\n-------------------------------\")\n",
    "    train(train_dataloader, model_cnn, loss_fn, optimizer)\n",
    "    test(val_dataloader, model_cnn, loss_fn, result)\n",
    "    result['epoch'].append(t)\n",
    "    early_stop_callback(result['avg_loss'][-1])\n",
    "    if early_stop_callback.early_stop:\n",
    "        break\n",
    "    plot_results(axs, result)"
   ]
  },
  {
   "cell_type": "code",
   "execution_count": 27,
   "id": "d6b51f9f-416a-4013-8e71-16657d6a37ee",
   "metadata": {},
   "outputs": [
    {
     "data": {
      "text/plain": [
       "(0.30077119336172115, 0.9103846153846153)"
      ]
     },
     "execution_count": 27,
     "metadata": {},
     "output_type": "execute_result"
    }
   ],
   "source": [
    "model = model_cnn\n",
    "dataloader = val_dataloader\n",
    "\n",
    "size = len(dataloader.dataset)\n",
    "num_batches = len(dataloader)\n",
    "model.eval()\n",
    "test_loss, correct = 0, 0\n",
    "\n",
    "with torch.no_grad():\n",
    "    for X, y in dataloader:\n",
    "        X, y = X.to(device), y.to(device)\n",
    "        pred = model(X)\n",
    "        test_loss += loss_fn(pred, y).item()\n",
    "        correct += (pred.argmax(1) == y).type(torch.float).sum().item()\n",
    "\n",
    "test_loss /= num_batches\n",
    "correct /= size\n",
    "\n",
    "test_loss, correct"
   ]
  },
  {
   "cell_type": "markdown",
   "id": "b83347e5-2407-4964-88e4-2b662b8221b7",
   "metadata": {},
   "source": [
    "# FGSM using CNN"
   ]
  },
  {
   "cell_type": "code",
   "execution_count": 28,
   "id": "e315b59a-5a7a-42e3-9c75-70f7fbd9fc0a",
   "metadata": {},
   "outputs": [],
   "source": [
    "def fgsm_attack(x_original, epsilon, gradient):\n",
    "    # Get Gradient sign\n",
    "    grad_sign = gradient.sign()\n",
    "    # Add epsilon*grad_sign perturbation to the original input\n",
    "    perturbation = epsilon*grad_sign\n",
    "    x_perturbed = x_original + perturbation\n",
    "    return x_perturbed, perturbation"
   ]
  },
  {
   "cell_type": "code",
   "execution_count": 29,
   "id": "f891ebcd-2d54-479e-92d6-db3a80c37986",
   "metadata": {},
   "outputs": [
    {
     "data": {
      "text/plain": [
       "CNN(\n",
       "  (conv1): Conv2d(1, 16, kernel_size=(4, 4), stride=(1, 1))\n",
       "  (relu1): ReLU()\n",
       "  (conv2): Conv2d(16, 8, kernel_size=(2, 2), stride=(1, 1))\n",
       "  (relu2): ReLU()\n",
       "  (max_pool2): MaxPool2d(kernel_size=2, stride=2, padding=0, dilation=1, ceil_mode=False)\n",
       "  (fc1): Linear(in_features=1152, out_features=128, bias=True)\n",
       "  (fc2): Linear(in_features=128, out_features=26, bias=True)\n",
       ")"
      ]
     },
     "execution_count": 29,
     "metadata": {},
     "output_type": "execute_result"
    }
   ],
   "source": [
    "epsilons = torch.Tensor([0.01, 0.03, 0.07, 0.1])\n",
    "acc_results_non = dict()\n",
    "verbose = False\n",
    "N_VAL_SAMPLES = 20800\n",
    "model_cnn.eval()"
   ]
  },
  {
   "cell_type": "code",
   "execution_count": 30,
   "id": "57579c81-ad5d-4562-899a-094b67cfe13f",
   "metadata": {},
   "outputs": [],
   "source": [
    "validation_dataloader = DataLoader(valid_data, batch_size=1, shuffle=False)"
   ]
  },
  {
   "cell_type": "code",
   "execution_count": 33,
   "id": "40e9c2b5-f0f7-4a95-972e-280a60b93d66",
   "metadata": {},
   "outputs": [
    {
     "name": "stderr",
     "output_type": "stream",
     "text": [
      "20800it [00:38, 544.48it/s]\n"
     ]
    },
    {
     "data": {
      "image/png": "[encoded data removed]",
      "text/plain": [
       "<Figure size 432x288 with 1 Axes>"
      ]
     },
     "metadata": {
      "needs_background": "light"
     },
     "output_type": "display_data"
    },
    {
     "data": {
      "image/png": "[encoded data removed]",
      "text/plain": [
       "<Figure size 432x288 with 1 Axes>"
      ]
     },
     "metadata": {
      "needs_background": "light"
     },
     "output_type": "display_data"
    },
    {
     "name": "stdout",
     "output_type": "stream",
     "text": [
      "\n",
      "FGSM Attack with epsilon = 0.01000 | Elapsed time: 38.43 seconds.\n",
      "Accuracy: Before the attack -> 91.04%\t|\tAfter the attack -> 81.53%\n"
     ]
    },
    {
     "name": "stderr",
     "output_type": "stream",
     "text": [
      "20800it [00:37, 550.57it/s]\n"
     ]
    },
    {
     "data": {
      "image/png": "[encoded data removed]",
      "text/plain": [
       "<Figure size 432x288 with 1 Axes>"
      ]
     },
     "metadata": {
      "needs_background": "light"
     },
     "output_type": "display_data"
    },
    {
     "data": {
      "image/png": "[encoded data removed]",
      "text/plain": [
       "<Figure size 432x288 with 1 Axes>"
      ]
     },
     "metadata": {
      "needs_background": "light"
     },
     "output_type": "display_data"
    },
    {
     "name": "stdout",
     "output_type": "stream",
     "text": [
      "\n",
      "FGSM Attack with epsilon = 0.03000 | Elapsed time: 37.98 seconds.\n",
      "Accuracy: Before the attack -> 91.04%\t|\tAfter the attack -> 47.56%\n"
     ]
    },
    {
     "name": "stderr",
     "output_type": "stream",
     "text": [
      "20800it [00:37, 549.73it/s]\n"
     ]
    },
    {
     "data": {
      "image/png": "[encoded data removed]",
      "text/plain": [
       "<Figure size 432x288 with 1 Axes>"
      ]
     },
     "metadata": {
      "needs_background": "light"
     },
     "output_type": "display_data"
    },
    {
     "data": {
      "image/png": "[encoded data removed]",
      "text/plain": [
       "<Figure size 432x288 with 1 Axes>"
      ]
     },
     "metadata": {
      "needs_background": "light"
     },
     "output_type": "display_data"
    },
    {
     "name": "stdout",
     "output_type": "stream",
     "text": [
      "\n",
      "FGSM Attack with epsilon = 0.07000 | Elapsed time: 38.03 seconds.\n",
      "Accuracy: Before the attack -> 91.04%\t|\tAfter the attack -> 6.82%\n"
     ]
    },
    {
     "name": "stderr",
     "output_type": "stream",
     "text": [
      "20800it [00:36, 572.92it/s]\n"
     ]
    },
    {
     "data": {
      "image/png": "[encoded data removed]",
      "text/plain": [
       "<Figure size 432x288 with 1 Axes>"
      ]
     },
     "metadata": {
      "needs_background": "light"
     },
     "output_type": "display_data"
    },
    {
     "data": {
      "image/png": "[encoded data removed]",
      "text/plain": [
       "<Figure size 432x288 with 1 Axes>"
      ]
     },
     "metadata": {
      "needs_background": "light"
     },
     "output_type": "display_data"
    },
    {
     "name": "stdout",
     "output_type": "stream",
     "text": [
      "\n",
      "FGSM Attack with epsilon = 0.10000 | Elapsed time: 36.50 seconds.\n",
      "Accuracy: Before the attack -> 91.04%\t|\tAfter the attack -> 2.12%\n"
     ]
    }
   ],
   "source": [
    "import time\n",
    "from tqdm import tqdm\n",
    "criterion = nn.CrossEntropyLoss()\n",
    "\n",
    "attack_sample = {'0.01':torch.zeros(20800, 28, 28),\n",
    "                 '0.03':torch.zeros(20800, 28, 28),\n",
    "                 '0.07':torch.zeros(20800, 28, 28),\n",
    "                 '0.1':torch.zeros(20800, 28, 28)}\n",
    "\n",
    "for eps in epsilons:\n",
    "    correct_unperturbed = 0\n",
    "    correct_perturbed = 0\n",
    "    t0 = time.perf_counter()\n",
    "    \n",
    "    attack = torch.zeros(20800, 28, 28)\n",
    "    label = torch.zeros(20800)\n",
    "    for j, val_data in tqdm(enumerate(validation_dataloader, 0)):\n",
    "        ### NOTE: IT WOULD BE MORE EFFICIENT TO ITERATE ONLY ONCE THROUGH THE DATA AND PERFORM ALL THE ATTACKS\n",
    "        x, y_target = val_data\n",
    "        x, y_target = x.to(device), y_target.to(device)\n",
    "        x.requires_grad = True\n",
    "        x = x.reshape(-1, 1, 28, 28)\n",
    "        output = model_cnn(x)\n",
    "        y_pred = torch.argmax(output)\n",
    "        \n",
    "        if y_pred == y_target:\n",
    "            correct_unperturbed += 1\n",
    "        # Calculate loss and gradient\n",
    "        loss = criterion(output, y_target)\n",
    "        grad = torch.autograd.grad(outputs=loss, inputs=x)[0]\n",
    "        model_cnn.zero_grad()\n",
    "        perturbed_x, _ = fgsm_attack(x, epsilon=eps, gradient=grad)\n",
    "        perturbed_output = model_cnn(perturbed_x)\n",
    "        y_pred_perturbed = torch.argmax(perturbed_output)\n",
    "        loss_perturbed = criterion(perturbed_output, y_target)\n",
    "        if y_pred_perturbed == y_target:\n",
    "            correct_perturbed += 1\n",
    "\n",
    "        attack[j] = perturbed_x\n",
    "        label[j] = y_target\n",
    "        \n",
    "    if eps == 0.1:\n",
    "        attack_sample['0.1'] = attack\n",
    "    elif eps == 0.07:\n",
    "        attack_sample['0.07'] = attack\n",
    "    elif eps == 0.03:\n",
    "        attack_sample['0.03'] = attack\n",
    "    else:\n",
    "        attack_sample['0.01'] = attack\n",
    "    \n",
    "    plt.imshow(x.detach().numpy().reshape(28, 28), cmap='gray')\n",
    "    plt.title('original')\n",
    "    plt.show()\n",
    "    plt.imshow(perturbed_x.detach().numpy().reshape(28, 28), cmap='gray')\n",
    "    plt.title('epsilon' + str(round(eps.item(), 3)))\n",
    "    plt.show()\n",
    "    \n",
    "    acc_before_attack = correct_unperturbed / N_VAL_SAMPLES\n",
    "    acc_after_attack = correct_perturbed / N_VAL_SAMPLES\n",
    "    print(f'\\nFGSM Attack with epsilon = {eps:.5f} | Elapsed time: {time.perf_counter() - t0:.2f} seconds.')\n",
    "    print(f'Accuracy: Before the attack -> {100 * acc_before_attack:.2f}%\\t|\\tAfter the attack -> {100 * acc_after_attack:.2f}%')\n",
    "    acc_results_non[eps.item()] = acc_after_attack\n",
    "acc_results_non[0] = acc_before_attack"
   ]
  },
  {
   "cell_type": "code",
   "execution_count": 34,
   "id": "6dd4d8a9-b570-470e-b02a-c09173ac8c02",
   "metadata": {},
   "outputs": [
    {
     "data": {
      "text/plain": [
       "<matplotlib.colorbar.Colorbar at 0x7fbd1b2a3a90>"
      ]
     },
     "execution_count": 34,
     "metadata": {},
     "output_type": "execute_result"
    },
    {
     "data": {
      "image/png": "[encoded data removed]",
      "text/plain": [
       "<Figure size 432x288 with 2 Axes>"
      ]
     },
     "metadata": {
      "needs_background": "light"
     },
     "output_type": "display_data"
    }
   ],
   "source": [
    "plt.imshow(attack[-1].detach().numpy().reshape(28, 28), cmap='gray')\n",
    "plt.colorbar()"
   ]
  },
  {
   "cell_type": "code",
   "execution_count": 35,
   "id": "e261fad5-682e-4213-8fbc-6ec58b6bb9c8",
   "metadata": {},
   "outputs": [],
   "source": [
    "import pickle \n",
    "\n",
    "data = {'data' : attack_sample,\n",
    "        'label' : label}\n",
    "\n",
    "with open('EMNIST_FGSM_CNN.pickle', 'wb') as f:\n",
    "    pickle.dump(data, f)"
   ]
  }
 ],
 "metadata": {
  "kernelspec": {
   "display_name": "UCI",
   "language": "python",
   "name": "uci"
  },
  "language_info": {
   "codemirror_mode": {
    "name": "ipython",
    "version": 3
   },
   "file_extension": ".py",
   "mimetype": "text/x-python",
   "name": "python",
   "nbconvert_exporter": "python",
   "pygments_lexer": "ipython3",
   "version": "3.8.5"
  }
 },
 "nbformat": 4,
 "nbformat_minor": 5
}
