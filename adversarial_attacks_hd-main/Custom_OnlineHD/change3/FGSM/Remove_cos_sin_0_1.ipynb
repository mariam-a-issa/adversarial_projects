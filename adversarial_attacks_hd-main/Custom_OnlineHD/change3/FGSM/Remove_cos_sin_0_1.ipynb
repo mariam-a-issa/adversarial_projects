{
 "cells": [
  {
   "cell_type": "code",
   "execution_count": 1,
   "id": "1510e5ef-247e-4270-b4cd-f234376fc1fa",
   "metadata": {},
   "outputs": [
    {
     "data": {
      "text/plain": [
       "<torch._C.Generator at 0x7fb3a434dbd0>"
      ]
     },
     "execution_count": 1,
     "metadata": {},
     "output_type": "execute_result"
    }
   ],
   "source": [
    "from time import time\n",
    "\n",
    "import torch\n",
    "import sklearn.datasets\n",
    "import sklearn.preprocessing\n",
    "import sklearn.model_selection\n",
    "import numpy as np\n",
    "import math\n",
    "import matplotlib.pyplot as plt\n",
    "\n",
    "from torchvision.datasets import MNIST\n",
    "from torchvision.datasets import FashionMNIST as FMNIST\n",
    "from torchvision.datasets import EMNIST\n",
    "import torchvision.transforms as transforms\n",
    "\n",
    "import Onlinehd\n",
    "\n",
    "SEED = 1234\n",
    "device = 'cuda' if torch.cuda.is_available() else 'cpu'\n",
    "np.random.seed(SEED)\n",
    "torch.manual_seed(SEED)"
   ]
  },
  {
   "cell_type": "markdown",
   "id": "cc94615f-19b3-461b-b412-25cb33476003",
   "metadata": {},
   "source": [
    "### Load Function MNIST(Digits), FMNIST, EMNIST(Letters)"
   ]
  },
  {
   "cell_type": "code",
   "execution_count": 2,
   "id": "01a7bbc3-4d2a-4486-b6bc-e817755c0d54",
   "metadata": {},
   "outputs": [],
   "source": [
    "# loads simple mnist dataset\n",
    "def load():\n",
    "    # fetches data\n",
    "    x, y = sklearn.datasets.fetch_openml('mnist_784', return_X_y=True)\n",
    "    x = x.astype(np.float)\n",
    "    y = y.astype(np.int)\n",
    "    y = np.array(y)\n",
    "\n",
    "    # split and normalize\n",
    "    x, x_test, y, y_test = sklearn.model_selection.train_test_split(x, y)\n",
    "    scaler = sklearn.preprocessing.Normalizer().fit(x)\n",
    "    x = scaler.transform(x)\n",
    "    x_test = scaler.transform(x_test)\n",
    "\n",
    "    # changes data to pytorch's tensors\n",
    "    x = torch.from_numpy(x).float()\n",
    "    y = torch.from_numpy(y).long()\n",
    "    x_test = torch.from_numpy(x_test).float()\n",
    "    y_test = torch.from_numpy(y_test).long()\n",
    "\n",
    "    return x, x_test, y, y_test, scaler"
   ]
  },
  {
   "cell_type": "markdown",
   "id": "662ffa47-7828-46fc-a6d4-8050a6b5ed3c",
   "metadata": {},
   "source": [
    "# MNIST"
   ]
  },
  {
   "cell_type": "markdown",
   "id": "e4d4ffe6-95e7-467d-b08b-a6979e04b602",
   "metadata": {},
   "source": [
    "## Normalize\n",
    "\n",
    "OnlineHD is very sensitive to Normalize.\n",
    "Therefore, it should be applied"
   ]
  },
  {
   "cell_type": "code",
   "execution_count": 3,
   "id": "61a749b3-1c69-46b5-9795-55530a1ef0ed",
   "metadata": {
    "tags": []
   },
   "outputs": [
    {
     "name": "stderr",
     "output_type": "stream",
     "text": [
      "/var/folders/4_/4812b_4j2_s0smfmxlqdpr600000gn/T/ipykernel_92432/3995914916.py:5: DeprecationWarning: `np.float` is a deprecated alias for the builtin `float`. To silence this warning, use `float` by itself. Doing this will not modify any behavior and is safe. If you specifically wanted the numpy scalar type, use `np.float64` here.\n",
      "Deprecated in NumPy 1.20; for more details and guidance: https://numpy.org/devdocs/release/1.20.0-notes.html#deprecations\n",
      "  x = x.astype(np.float)\n",
      "/var/folders/4_/4812b_4j2_s0smfmxlqdpr600000gn/T/ipykernel_92432/3995914916.py:6: DeprecationWarning: `np.int` is a deprecated alias for the builtin `int`. To silence this warning, use `int` by itself. Doing this will not modify any behavior and is safe. When replacing `np.int`, you may wish to use e.g. `np.int64` or `np.int32` to specify the precision. If you wish to review your current use, check the release note link for additional information.\n",
      "Deprecated in NumPy 1.20; for more details and guidance: https://numpy.org/devdocs/release/1.20.0-notes.html#deprecations\n",
      "  y = y.astype(np.int)\n"
     ]
    }
   ],
   "source": [
    "x, x_test, y, y_test, scaler = load()"
   ]
  },
  {
   "cell_type": "code",
   "execution_count": 4,
   "id": "2d2fce3d-ec6d-4807-8b6d-ed8e866a9d80",
   "metadata": {},
   "outputs": [],
   "source": [
    "x = x.reshape(-1, 784)\n",
    "x_test = x_test.reshape(-1, 784)\n",
    "\n",
    "scaler = sklearn.preprocessing.Normalizer().fit(x.reshape(-1, 784))\n",
    "x = torch.tensor(scaler.transform(x.reshape(-1, 784)))\n",
    "x_test = torch.tensor(scaler.transform(x_test.reshape(-1, 784)))"
   ]
  },
  {
   "cell_type": "code",
   "execution_count": 5,
   "id": "9d97797a-e6f0-47fe-98c7-40f5ee85afb6",
   "metadata": {},
   "outputs": [
    {
     "name": "stdout",
     "output_type": "stream",
     "text": [
      "Training...\n",
      "0\n",
      "10\n"
     ]
    }
   ],
   "source": [
    "classes = y.unique().size(0)\n",
    "features = x.size(1)\n",
    "model = Onlinehd.OnlineHD(classes, features, dim=10000)\n",
    "\n",
    "if torch.cuda.is_available():\n",
    "    x = x.cuda()\n",
    "    y = y.cuda()\n",
    "    x_test = x_test.cuda()\n",
    "    y_test = y_test.cuda()\n",
    "    model = model.to('cuda')\n",
    "    print('Using GPU!')\n",
    "\n",
    "print('Training...')\n",
    "t = time()\n",
    "model = model.fit(x, y, bootstrap=1.0, lr=0.035, epochs=20)\n",
    "t = time() - t"
   ]
  },
  {
   "cell_type": "code",
   "execution_count": 6,
   "id": "0d4dfe5d-1970-4c5a-8b9b-8347060c4521",
   "metadata": {},
   "outputs": [
    {
     "name": "stdout",
     "output_type": "stream",
     "text": [
      "Validating...\n",
      "acc = 0.925257\n",
      "acc_test = 0.921143\n",
      "t = 26.011528\n"
     ]
    }
   ],
   "source": [
    "print('Validating...')\n",
    "yhat = model(x)\n",
    "yhat_test = model(x_test)\n",
    "acc = (y == yhat).float().mean()\n",
    "acc_test = (y_test == yhat_test).float().mean()\n",
    "print(f'{acc = :6f}')\n",
    "print(f'{acc_test = :6f}')\n",
    "print(f'{t = :6f}')"
   ]
  },
  {
   "cell_type": "markdown",
   "id": "9653f102-7a99-4c9b-9999-858c938e8311",
   "metadata": {},
   "source": [
    "# Generate FGSM"
   ]
  },
  {
   "cell_type": "code",
   "execution_count": 7,
   "id": "eadb915f-afeb-453c-b8fe-919131cb16f5",
   "metadata": {},
   "outputs": [],
   "source": [
    "def fgsm_attack(x_original, epsilon, gradient):\n",
    "    # Get Gradient sign\n",
    "    grad_sign = gradient.sign()\n",
    "    # Add epsilon*grad_sign perturbation to the original input\n",
    "    perturbation = epsilon*grad_sign\n",
    "    x_perturbed = x_original + perturbation\n",
    "    return x_perturbed, perturbation"
   ]
  },
  {
   "cell_type": "code",
   "execution_count": 8,
   "id": "4511336d-55e5-4363-8144-e6319afe9999",
   "metadata": {},
   "outputs": [],
   "source": [
    "import torch.nn as nn\n",
    "import time\n",
    "\n",
    "epsilons = torch.Tensor([0.01, 0.03, 0.07, 0.1])\n",
    "acc_results_non = dict()\n",
    "verbose = False\n",
    "criterion = nn.CosineEmbeddingLoss()\n",
    "N_VAL_SAMPLES = x_test.data.shape[0]"
   ]
  },
  {
   "cell_type": "code",
   "execution_count": 9,
   "id": "894c50ea-0579-40e5-879c-783b246305aa",
   "metadata": {},
   "outputs": [
    {
     "data": {
      "text/plain": [
       "<matplotlib.image.AxesImage at 0x7fb38adb2220>"
      ]
     },
     "execution_count": 9,
     "metadata": {},
     "output_type": "execute_result"
    },
    {
     "data": {
      "image/png": "[encoded data removed]",
      "text/plain": [
       "<Figure size 432x288 with 1 Axes>"
      ]
     },
     "metadata": {
      "needs_background": "light"
     },
     "output_type": "display_data"
    }
   ],
   "source": [
    "plt.imshow(x_test[-1].reshape(28, 28), cmap='gray')"
   ]
  },
  {
   "cell_type": "code",
   "execution_count": 10,
   "id": "2ba8c2d3-a652-434b-9bdc-961e550b8d29",
   "metadata": {
    "tags": []
   },
   "outputs": [
    {
     "name": "stderr",
     "output_type": "stream",
     "text": [
      "100%|████████████████████████████████████| 17500/17500 [02:32<00:00, 114.93it/s]\n"
     ]
    },
    {
     "data": {
      "image/png": "[encoded data removed]",
      "text/plain": [
       "<Figure size 432x288 with 2 Axes>"
      ]
     },
     "metadata": {
      "needs_background": "light"
     },
     "output_type": "display_data"
    },
    {
     "name": "stdout",
     "output_type": "stream",
     "text": [
      "\n",
      "FGSM Attack with epsilon = 0.01000 | Elapsed time: 152.44 seconds.\n",
      "Accuracy: Before the attack -> 92.11%\t|\tAfter the attack -> 84.66%\n"
     ]
    },
    {
     "name": "stderr",
     "output_type": "stream",
     "text": [
      "100%|████████████████████████████████████| 17500/17500 [02:31<00:00, 115.80it/s]\n"
     ]
    },
    {
     "data": {
      "image/png": "[encoded data removed]",
      "text/plain": [
       "<Figure size 432x288 with 2 Axes>"
      ]
     },
     "metadata": {
      "needs_background": "light"
     },
     "output_type": "display_data"
    },
    {
     "name": "stdout",
     "output_type": "stream",
     "text": [
      "\n",
      "FGSM Attack with epsilon = 0.03000 | Elapsed time: 151.28 seconds.\n",
      "Accuracy: Before the attack -> 92.11%\t|\tAfter the attack -> 21.75%\n"
     ]
    },
    {
     "name": "stderr",
     "output_type": "stream",
     "text": [
      "100%|████████████████████████████████████| 17500/17500 [02:29<00:00, 116.94it/s]\n"
     ]
    },
    {
     "data": {
      "image/png": "[encoded data removed]",
      "text/plain": [
       "<Figure size 432x288 with 2 Axes>"
      ]
     },
     "metadata": {
      "needs_background": "light"
     },
     "output_type": "display_data"
    },
    {
     "name": "stdout",
     "output_type": "stream",
     "text": [
      "\n",
      "FGSM Attack with epsilon = 0.07000 | Elapsed time: 149.80 seconds.\n",
      "Accuracy: Before the attack -> 92.11%\t|\tAfter the attack -> 7.20%\n"
     ]
    },
    {
     "name": "stderr",
     "output_type": "stream",
     "text": [
      "100%|████████████████████████████████████| 17500/17500 [02:33<00:00, 114.22it/s]\n"
     ]
    },
    {
     "data": {
      "image/png": "[encoded data removed]",
      "text/plain": [
       "<Figure size 432x288 with 2 Axes>"
      ]
     },
     "metadata": {
      "needs_background": "light"
     },
     "output_type": "display_data"
    },
    {
     "name": "stdout",
     "output_type": "stream",
     "text": [
      "\n",
      "FGSM Attack with epsilon = 0.10000 | Elapsed time: 153.37 seconds.\n",
      "Accuracy: Before the attack -> 92.11%\t|\tAfter the attack -> 3.71%\n"
     ]
    }
   ],
   "source": [
    "from tqdm import tqdm\n",
    "\n",
    "attack_sample = {'0.01':torch.zeros(17500, 28, 28),\n",
    "                 '0.03':torch.zeros(17500, 28, 28),\n",
    "                 '0.07':torch.zeros(17500, 28, 28),\n",
    "                 '0.1':torch.zeros(17500, 28, 28)}\n",
    "\n",
    "for eps in epsilons:\n",
    "    correct_unperturbed = 0\n",
    "    correct_perturbed = 0\n",
    "    t0 = time.perf_counter()\n",
    "\n",
    "    attack = torch.zeros(17500, 28, 28)\n",
    "    labels = torch.zeros(17500)\n",
    "    for j in tqdm(range(len(x_test))):\n",
    "    ### NOTE: IT WOULD BE MORE EFFICIENT TO ITERATE ONLY ONCE THROUGH THE DATA AND PERFORM ALL THE ATTACKS\n",
    "        x_origin, y_target = x_test[j], y_test[j]\n",
    "        x_origin, y_target = x_origin.to(device), y_target.to(device)\n",
    "        x_origin.requires_grad = True\n",
    "\n",
    "        y_pred = model(x_origin.reshape(-1, 784))\n",
    "        \n",
    "        if y_pred == y_target:\n",
    "            correct_unperturbed += 1\n",
    "            \n",
    "        label = torch.ones(classes, dtype=int) * -1\n",
    "        label[y_target.item()] = 1\n",
    "        # Calculate loss and gradient\n",
    "        output = model.encode(x_origin.reshape(-1, 784))\n",
    "        loss = criterion(output, model.model, label)\n",
    "        grad = torch.autograd.grad(outputs=loss, inputs=x_origin)[0]\n",
    "\n",
    "        perturbed_x, pp = fgsm_attack(x_origin, epsilon=eps, gradient=grad)\n",
    "        perturbed_output = model(perturbed_x.reshape(-1, 784))            \n",
    "\n",
    "        if perturbed_output == y_target:\n",
    "            correct_perturbed += 1\n",
    "        \n",
    "        attack[j] = perturbed_x.reshape(28, 28)\n",
    "        labels[j] = y_target\n",
    "        \n",
    "    if eps == 0.1:\n",
    "        attack_sample['0.1'] = attack\n",
    "    elif eps == 0.07:\n",
    "        attack_sample['0.07'] = attack\n",
    "    elif eps == 0.03:\n",
    "        attack_sample['0.03'] = attack\n",
    "    else:\n",
    "        attack_sample['0.01'] = attack                \n",
    "        \n",
    "    plt.imshow(perturbed_x.detach().numpy().reshape(28, 28), cmap='gray')\n",
    "    plt.colorbar()\n",
    "    plt.show()\n",
    "    acc_before_attack = correct_unperturbed / N_VAL_SAMPLES\n",
    "    acc_after_attack = correct_perturbed / N_VAL_SAMPLES\n",
    "    print(f'\\nFGSM Attack with epsilon = {eps:.5f} | Elapsed time: {time.perf_counter() - t0:.2f} seconds.')\n",
    "    print(f'Accuracy: Before the attack -> {100 * acc_before_attack:.2f}%\\t|\\tAfter the attack -> {100 * acc_after_attack:.2f}%')\n",
    "    acc_results_non[eps.item()] = acc_after_attack\n",
    "acc_results_non[0] = acc_before_attack"
   ]
  },
  {
   "cell_type": "code",
   "execution_count": 11,
   "id": "d3cbe2da-6ed2-4cdb-a11e-d40db7bbdbd2",
   "metadata": {},
   "outputs": [
    {
     "data": {
      "image/png": "[encoded data removed]",
      "text/plain": [
       "<Figure size 432x288 with 2 Axes>"
      ]
     },
     "metadata": {
      "needs_background": "light"
     },
     "output_type": "display_data"
    }
   ],
   "source": [
    "max_ = pp.max()\n",
    "min_ = pp.min()\n",
    "\n",
    "pp = ((pp - min_) / (max_ - min_))*255\n",
    "\n",
    "plt.imshow(pp.reshape(28, 28), cmap='gray')\n",
    "plt.colorbar()\n",
    "plt.show()"
   ]
  },
  {
   "cell_type": "code",
   "execution_count": 12,
   "id": "a043a5e3-7502-48db-a085-6ec9e8afa6ea",
   "metadata": {},
   "outputs": [],
   "source": [
    "import pickle \n",
    "\n",
    "data = {'data' : attack_sample,\n",
    "        'label' : labels}\n",
    "\n",
    "with open('MNIST_FGSM_HD.pickle', 'wb') as f:\n",
    "    pickle.dump(data, f)"
   ]
  },
  {
   "cell_type": "code",
   "execution_count": 13,
   "id": "9814edc6-4556-4118-bdda-d04067182f03",
   "metadata": {},
   "outputs": [],
   "source": [
    "for eps in attack_sample.keys():\n",
    "    attack_norm = attack_sample[eps].detach().numpy().reshape(-1, 784)\n",
    "    attack_norm = scaler.transform(attack_norm)\n",
    "    attack_sample[eps] = torch.from_numpy(attack_norm).float()"
   ]
  },
  {
   "cell_type": "code",
   "execution_count": 14,
   "id": "cf006171-061d-4986-8b5c-886c1247d519",
   "metadata": {},
   "outputs": [
    {
     "data": {
      "text/plain": [
       "<matplotlib.colorbar.Colorbar at 0x7fb315c48d60>"
      ]
     },
     "execution_count": 14,
     "metadata": {},
     "output_type": "execute_result"
    },
    {
     "data": {
      "image/png": "[encoded data removed]",
      "text/plain": [
       "<Figure size 432x288 with 2 Axes>"
      ]
     },
     "metadata": {
      "needs_background": "light"
     },
     "output_type": "display_data"
    }
   ],
   "source": [
    "plt.imshow(attack_sample['0.01'][-1].reshape(28, 28), cmap='gray')\n",
    "plt.colorbar()"
   ]
  },
  {
   "cell_type": "markdown",
   "id": "9f8069a8-ad58-46b1-98f3-86b04f37ce84",
   "metadata": {},
   "source": [
    "# matrix with 0 and 1"
   ]
  },
  {
   "cell_type": "code",
   "execution_count": 15,
   "id": "e548d76f-8492-4f27-9ab5-7919fc08b25b",
   "metadata": {},
   "outputs": [
    {
     "name": "stdout",
     "output_type": "stream",
     "text": [
      "Validating...\n",
      "acc = 0.925257\n",
      "acc_test = 0.921143\n",
      "acc_attack_001 = 0.846229\n",
      "acc_attack_003 = 0.214457\n",
      "acc_attack_007 = 0.081371\n",
      "acc_attack_010 = 0.059314\n"
     ]
    }
   ],
   "source": [
    "print('Validating...')\n",
    "yhat = model(x)\n",
    "yhat_test = model(x_test)\n",
    "yhat_attack_001 = model(attack_sample['0.01'])\n",
    "yhat_attack_003 = model(attack_sample['0.03'])\n",
    "yhat_attack_007 = model(attack_sample['0.07'])\n",
    "yhat_attack_010 = model(attack_sample['0.1'])\n",
    "\n",
    "acc = (y == yhat).float().mean()\n",
    "acc_test = (y_test == yhat_test).float().mean()\n",
    "acc_attack_001 = (labels == yhat_attack_001).float().mean()\n",
    "acc_attack_003 = (labels == yhat_attack_003).float().mean()\n",
    "acc_attack_007 = (labels == yhat_attack_007).float().mean()\n",
    "acc_attack_010 = (labels == yhat_attack_010).float().mean()\n",
    "\n",
    "print(f'{acc = :6f}')\n",
    "print(f'{acc_test = :6f}')\n",
    "print(f'{acc_attack_001 = :6f}')\n",
    "print(f'{acc_attack_003 = :6f}')\n",
    "print(f'{acc_attack_007 = :6f}')\n",
    "print(f'{acc_attack_010 = :6f}')"
   ]
  },
  {
   "cell_type": "markdown",
   "id": "b2ab605f-e94c-4d29-a0b3-0fe508516bad",
   "metadata": {},
   "source": [
    "# onlineHD without cos, sin"
   ]
  },
  {
   "cell_type": "code",
   "execution_count": 15,
   "id": "f53e51ce-7baf-4eba-aaf7-bd216ac6364e",
   "metadata": {},
   "outputs": [
    {
     "name": "stdout",
     "output_type": "stream",
     "text": [
      "Validating...\n",
      "acc = 0.902610\n",
      "acc_test = 0.900400\n",
      "acc_attack_001 = 0.862971\n",
      "acc_attack_003 = 0.552457\n",
      "acc_attack_007 = 0.131771\n",
      "acc_attack_010 = 0.088343\n"
     ]
    }
   ],
   "source": [
    "print('Validating...')\n",
    "yhat = model(x)\n",
    "yhat_test = model(x_test)\n",
    "yhat_attack_001 = model(attack_sample['0.01'])\n",
    "yhat_attack_003 = model(attack_sample['0.03'])\n",
    "yhat_attack_007 = model(attack_sample['0.07'])\n",
    "yhat_attack_010 = model(attack_sample['0.1'])\n",
    "\n",
    "acc = (y == yhat).float().mean()\n",
    "acc_test = (y_test == yhat_test).float().mean()\n",
    "acc_attack_001 = (labels == yhat_attack_001).float().mean()\n",
    "acc_attack_003 = (labels == yhat_attack_003).float().mean()\n",
    "acc_attack_007 = (labels == yhat_attack_007).float().mean()\n",
    "acc_attack_010 = (labels == yhat_attack_010).float().mean()\n",
    "\n",
    "print(f'{acc = :6f}')\n",
    "print(f'{acc_test = :6f}')\n",
    "print(f'{acc_attack_001 = :6f}')\n",
    "print(f'{acc_attack_003 = :6f}')\n",
    "print(f'{acc_attack_007 = :6f}')\n",
    "print(f'{acc_attack_010 = :6f}')"
   ]
  },
  {
   "cell_type": "markdown",
   "id": "1f249e05-bb6e-4633-a569-1de6a6c7c040",
   "metadata": {},
   "source": [
    "# OnlineHD with cos, sin"
   ]
  },
  {
   "cell_type": "code",
   "execution_count": 17,
   "id": "86819470-9c6c-4d76-8e78-60b32380bc68",
   "metadata": {},
   "outputs": [
    {
     "name": "stdout",
     "output_type": "stream",
     "text": [
      "Validating...\n",
      "acc = 0.945410\n",
      "acc_test = 0.935429\n",
      "acc_attack_001 = 0.920343\n",
      "acc_attack_003 = 0.832457\n",
      "acc_attack_007 = 0.420971\n",
      "acc_attack_010 = 0.301771\n"
     ]
    }
   ],
   "source": [
    "print('Validating...')\n",
    "yhat = model(x)\n",
    "yhat_test = model(x_test)\n",
    "yhat_attack_001 = model(attack_sample['0.01'])\n",
    "yhat_attack_003 = model(attack_sample['0.03'])\n",
    "yhat_attack_007 = model(attack_sample['0.07'])\n",
    "yhat_attack_010 = model(attack_sample['0.1'])\n",
    "\n",
    "acc = (y == yhat).float().mean()\n",
    "acc_test = (y_test == yhat_test).float().mean()\n",
    "acc_attack_001 = (labels == yhat_attack_001).float().mean()\n",
    "acc_attack_003 = (labels == yhat_attack_003).float().mean()\n",
    "acc_attack_007 = (labels == yhat_attack_007).float().mean()\n",
    "acc_attack_010 = (labels == yhat_attack_010).float().mean()\n",
    "\n",
    "print(f'{acc = :6f}')\n",
    "print(f'{acc_test = :6f}')\n",
    "print(f'{acc_attack_001 = :6f}')\n",
    "print(f'{acc_attack_003 = :6f}')\n",
    "print(f'{acc_attack_007 = :6f}')\n",
    "print(f'{acc_attack_010 = :6f}')"
   ]
  }
 ],
 "metadata": {
  "kernelspec": {
   "display_name": "UCI",
   "language": "python",
   "name": "uci"
  },
  "language_info": {
   "codemirror_mode": {
    "name": "ipython",
    "version": 3
   },
   "file_extension": ".py",
   "mimetype": "text/x-python",
   "name": "python",
   "nbconvert_exporter": "python",
   "pygments_lexer": "ipython3",
   "version": "3.8.5"
  }
 },
 "nbformat": 4,
 "nbformat_minor": 5
}
