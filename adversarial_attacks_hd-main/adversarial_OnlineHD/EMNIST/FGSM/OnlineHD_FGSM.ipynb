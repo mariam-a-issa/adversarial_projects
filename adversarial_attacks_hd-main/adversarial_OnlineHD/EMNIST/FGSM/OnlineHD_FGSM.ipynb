{
 "cells": [
  {
   "cell_type": "code",
   "execution_count": 2,
   "id": "1510e5ef-247e-4270-b4cd-f234376fc1fa",
   "metadata": {},
   "outputs": [
    {
     "data": {
      "text/plain": [
       "<torch._C.Generator at 0x7fd953649b90>"
      ]
     },
     "execution_count": 2,
     "metadata": {},
     "output_type": "execute_result"
    }
   ],
   "source": [
    "from time import time\n",
    "\n",
    "import torch\n",
    "import sklearn.datasets\n",
    "import sklearn.preprocessing\n",
    "import sklearn.model_selection\n",
    "import numpy as np\n",
    "import math\n",
    "import matplotlib.pyplot as plt\n",
    "\n",
    "from torchvision.datasets import MNIST\n",
    "from torchvision.datasets import FashionMNIST as FMNIST\n",
    "from torchvision.datasets import EMNIST\n",
    "import torchvision.transforms as transforms\n",
    "\n",
    "import Onlinehd\n",
    "\n",
    "SEED = 1234\n",
    "device = 'cuda' if torch.cuda.is_available() else 'cpu'\n",
    "np.random.seed(SEED)\n",
    "torch.manual_seed(SEED)"
   ]
  },
  {
   "cell_type": "markdown",
   "id": "cc94615f-19b3-461b-b412-25cb33476003",
   "metadata": {},
   "source": [
    "### Load Function MNIST(Digits), FMNIST, EMNIST(Letters)"
   ]
  },
  {
   "cell_type": "code",
   "execution_count": 4,
   "id": "01a7bbc3-4d2a-4486-b6bc-e817755c0d54",
   "metadata": {},
   "outputs": [],
   "source": [
    "def load():\n",
    "    download_root = 'data/emnist_dataset'\n",
    "    \n",
    "    temp = EMNIST(download_root, split = 'letters', train=True, download=True)\n",
    "    x = temp.data.unsqueeze(3).numpy().transpose((0,2,1,3))\n",
    "    y = temp.targets.numpy() - 1\n",
    "    temp = EMNIST(download_root, split='letters', train=False, download=True)\n",
    "    x_test = temp.data.unsqueeze(3).numpy().transpose((0,2,1,3))\n",
    "    y_test = temp.targets.numpy() - 1\n",
    "    \n",
    "    x = torch.from_numpy(x).float()\n",
    "    y = torch.from_numpy(y).long()\n",
    "    x_test = torch.from_numpy(x_test).float()\n",
    "    y_test = torch.from_numpy(y_test).long()\n",
    "    \n",
    "    x_test = x_test.float()\n",
    "    y_test = y_test.long().squeeze()\n",
    "\n",
    "    if len(x.shape) != 3:\n",
    "        x = x.squeeze(3)\n",
    "        x_test = x_test.squeeze(3)\n",
    "    \n",
    "    return x, x_test, y, y_test"
   ]
  },
  {
   "cell_type": "markdown",
   "id": "bf573a15-009e-4eb2-af81-e70dd7f5d37d",
   "metadata": {},
   "source": [
    "# EMNIST"
   ]
  },
  {
   "cell_type": "code",
   "execution_count": 5,
   "id": "ebacaebc-c1a4-4194-b4fe-f822cb5df932",
   "metadata": {},
   "outputs": [
    {
     "name": "stderr",
     "output_type": "stream",
     "text": [
      "/Users/jeongseongheon/opt/anaconda3/envs/UCI/lib/python3.8/site-packages/torchvision/datasets/mnist.py:498: UserWarning: The given NumPy array is not writeable, and PyTorch does not support non-writeable tensors. This means you can write to the underlying (supposedly non-writeable) NumPy array using the tensor. You may want to copy the array to protect its data or make it writeable before converting it to a tensor. This type of warning will be suppressed for the rest of this program. (Triggered internally at  ../torch/csrc/utils/tensor_numpy.cpp:180.)\n",
      "  return torch.from_numpy(parsed.astype(m[2], copy=False)).view(*s)\n"
     ]
    }
   ],
   "source": [
    "e_x, e_x_test, e_y, e_y_test = load()"
   ]
  },
  {
   "cell_type": "code",
   "execution_count": 6,
   "id": "2cdbc51d-b392-424e-9ec5-21e66f919e30",
   "metadata": {},
   "outputs": [],
   "source": [
    "e_x = e_x.reshape(-1, 784)\n",
    "e_x_test = e_x_test.reshape(-1, 784)\n",
    "\n",
    "e_scaler = sklearn.preprocessing.Normalizer().fit(e_x.reshape(-1, 784))\n",
    "e_x = torch.tensor(e_scaler.transform(e_x.reshape(-1, 784)))\n",
    "e_x_test = torch.tensor(e_scaler.transform(e_x_test.reshape(-1, 784)))"
   ]
  },
  {
   "cell_type": "code",
   "execution_count": 7,
   "id": "0f6229d0-b5a4-4210-bb61-c2b68807681f",
   "metadata": {},
   "outputs": [
    {
     "name": "stdout",
     "output_type": "stream",
     "text": [
      "Training...\n",
      "0\n",
      "10\n"
     ]
    }
   ],
   "source": [
    "from time import time\n",
    "\n",
    "e_classes = e_y.unique().size(0)\n",
    "e_features = e_x.size(1)\n",
    "Emodel = Onlinehd.OnlineHD(e_classes, e_features, dim=10000)\n",
    "\n",
    "if torch.cuda.is_available():\n",
    "    e_x = e_x.cuda()\n",
    "    e_y = e_y.cuda()\n",
    "    e_x_test = e_x_test.cuda()\n",
    "    e_y_test = e_y_test.cuda()\n",
    "    Emodel = Emodel.to('cuda')\n",
    "    print('Using GPU!')\n",
    "\n",
    "print('Training...')\n",
    "t = time()\n",
    "Emodel = Emodel.fit(e_x, e_y, bootstrap=1.0, lr=0.035, epochs=20)\n",
    "t = time() - t"
   ]
  },
  {
   "cell_type": "code",
   "execution_count": 8,
   "id": "49573926-1654-403f-a3be-6dfc5cc5c786",
   "metadata": {},
   "outputs": [
    {
     "name": "stdout",
     "output_type": "stream",
     "text": [
      "Validating...\n",
      "e_acc = 0.860625\n",
      "e_acc_test = 0.832452\n",
      "t = 89.408315\n"
     ]
    }
   ],
   "source": [
    "print('Validating...')\n",
    "e_yhat = Emodel(e_x)\n",
    "e_yhat_test = Emodel(e_x_test)\n",
    "\n",
    "e_acc = (e_y == e_yhat).float().mean()\n",
    "e_acc_test = (e_y_test == e_yhat_test).float().mean()\n",
    "\n",
    "print(f'{e_acc = :6f}')\n",
    "print(f'{e_acc_test = :6f}')\n",
    "print(f'{t = :6f}')"
   ]
  },
  {
   "cell_type": "code",
   "execution_count": 9,
   "id": "c86f75ae-7bde-4ede-a824-fff872debe67",
   "metadata": {},
   "outputs": [],
   "source": [
    "def fgsm_attack(x_original, epsilon, gradient):\n",
    "    # Get Gradient sign\n",
    "    grad_sign = gradient.sign()\n",
    "    # Add epsilon*grad_sign perturbation to the original input\n",
    "    perturbation = epsilon*grad_sign\n",
    "    x_perturbed = x_original + perturbation\n",
    "    return x_perturbed, perturbation"
   ]
  },
  {
   "cell_type": "code",
   "execution_count": 10,
   "id": "fc7c58a3-a708-47e0-886d-98cbb42e7633",
   "metadata": {},
   "outputs": [],
   "source": [
    "import torch.nn as nn\n",
    "import time\n",
    "\n",
    "epsilons = torch.Tensor([0.01, 0.03, 0.07, 0.1])\n",
    "acc_results_non = dict()\n",
    "verbose = False\n",
    "criterion = nn.CosineEmbeddingLoss()\n",
    "N_VAL_SAMPLES = e_x_test.data.shape[0]"
   ]
  },
  {
   "cell_type": "code",
   "execution_count": 15,
   "id": "007b30d3-d643-4a61-8292-b31280e67407",
   "metadata": {},
   "outputs": [
    {
     "data": {
      "image/png": "[encoded data removed]",
      "text/plain": [
       "<Figure size 432x288 with 2 Axes>"
      ]
     },
     "metadata": {
      "needs_background": "light"
     },
     "output_type": "display_data"
    },
    {
     "name": "stdout",
     "output_type": "stream",
     "text": [
      "\n",
      "FGSM Attack with epsilon = 0.01000 | Elapsed time: 206.15 seconds.\n",
      "Accuracy: Before the attack -> 83.24%\t|\tAfter the attack -> 79.75%\n"
     ]
    },
    {
     "data": {
      "image/png": "[encoded data removed]",
      "text/plain": [
       "<Figure size 432x288 with 2 Axes>"
      ]
     },
     "metadata": {
      "needs_background": "light"
     },
     "output_type": "display_data"
    },
    {
     "name": "stdout",
     "output_type": "stream",
     "text": [
      "\n",
      "FGSM Attack with epsilon = 0.03000 | Elapsed time: 193.79 seconds.\n",
      "Accuracy: Before the attack -> 83.24%\t|\tAfter the attack -> 18.83%\n"
     ]
    },
    {
     "data": {
      "image/png": "[encoded data removed]",
      "text/plain": [
       "<Figure size 432x288 with 2 Axes>"
      ]
     },
     "metadata": {
      "needs_background": "light"
     },
     "output_type": "display_data"
    },
    {
     "name": "stdout",
     "output_type": "stream",
     "text": [
      "\n",
      "FGSM Attack with epsilon = 0.07000 | Elapsed time: 197.90 seconds.\n",
      "Accuracy: Before the attack -> 83.24%\t|\tAfter the attack -> 3.77%\n"
     ]
    },
    {
     "data": {
      "image/png": "[encoded data removed]",
      "text/plain": [
       "<Figure size 432x288 with 2 Axes>"
      ]
     },
     "metadata": {
      "needs_background": "light"
     },
     "output_type": "display_data"
    },
    {
     "name": "stdout",
     "output_type": "stream",
     "text": [
      "\n",
      "FGSM Attack with epsilon = 0.10000 | Elapsed time: 192.80 seconds.\n",
      "Accuracy: Before the attack -> 83.24%\t|\tAfter the attack -> 4.00%\n"
     ]
    }
   ],
   "source": [
    "attack_sample = {'0.01':torch.zeros(20800, 28, 28),\n",
    "                 '0.03':torch.zeros(20800, 28, 28),\n",
    "                 '0.07':torch.zeros(20800, 28, 28),\n",
    "                 '0.1':torch.zeros(20800, 28, 28)}\n",
    "\n",
    "for eps in epsilons:\n",
    "    correct_unperturbed = 0\n",
    "    correct_perturbed = 0\n",
    "    t0 = time.perf_counter()\n",
    "\n",
    "    attack = torch.zeros(20800, 28, 28)\n",
    "    labels = torch.zeros(20800)\n",
    "    \n",
    "    for j in range(len(e_x_test)):\n",
    "    ### NOTE: IT WOULD BE MORE EFFICIENT TO ITERATE ONLY ONCE THROUGH THE DATA AND PERFORM ALL THE ATTACKS\n",
    "        x_origin, y_target = e_x_test[j], e_y_test[j]\n",
    "        x_origin, y_target = x_origin.to(device), y_target.to(device)\n",
    "        x_origin.requires_grad = True\n",
    "\n",
    "        y_pred = Emodel(x_origin.reshape(-1, 784))\n",
    "        \n",
    "        if y_pred == y_target:#Only make attack on correctly classified samples\n",
    "            correct_unperturbed += 1\n",
    "            \n",
    "        label = torch.ones(e_classes, dtype=int) * -1\n",
    "        label[y_target.item()] = 1\n",
    "        # Calculate loss and gradient\n",
    "        output = Emodel.encode(x_origin.reshape(-1, 784))\n",
    "        loss = criterion(output, Emodel.model, label)\n",
    "        grad = torch.autograd.grad(outputs=loss, inputs=x_origin)[0]\n",
    "\n",
    "        perturbed_x, _ = fgsm_attack(x_origin, epsilon=eps, gradient=grad)\n",
    "        perturbed_output = Emodel(perturbed_x.reshape(-1, 784))            \n",
    "\n",
    "        if perturbed_output == y_target:\n",
    "            correct_perturbed += 1\n",
    "        \n",
    "        attack[j] = perturbed_x.reshape(28, 28)\n",
    "        labels[j] = y_target\n",
    "        \n",
    "    if eps == 0.1:\n",
    "        attack_sample['0.1'] = attack\n",
    "    elif eps == 0.07:\n",
    "        attack_sample['0.07'] = attack\n",
    "    elif eps == 0.03:\n",
    "        attack_sample['0.03'] = attack\n",
    "    else:\n",
    "        attack_sample['0.01'] = attack           \n",
    "        \n",
    "    plt.imshow(perturbed_x.detach().numpy().reshape(28, 28), cmap='gray')\n",
    "    plt.colorbar()\n",
    "    plt.show()\n",
    "    acc_before_attack = correct_unperturbed / N_VAL_SAMPLES\n",
    "    acc_after_attack = correct_perturbed / N_VAL_SAMPLES\n",
    "    print(f'\\nFGSM Attack with epsilon = {eps:.5f} | Elapsed time: {time.perf_counter() - t0:.2f} seconds.')\n",
    "    print(f'Accuracy: Before the attack -> {100 * acc_before_attack:.2f}%\\t|\\tAfter the attack -> {100 * acc_after_attack:.2f}%')\n",
    "    acc_results_non[eps.item()] = acc_after_attack\n",
    "acc_results_non[0] = acc_before_attack"
   ]
  },
  {
   "cell_type": "code",
   "execution_count": 16,
   "id": "7f6b1be2-4e1a-408f-af56-9f230109671e",
   "metadata": {},
   "outputs": [],
   "source": [
    "import pickle \n",
    "\n",
    "data = {'data' : attack_sample,\n",
    "        'label' : labels}\n",
    "\n",
    "with open('EMNIST_FGSM_HD.pickle', 'wb') as f:\n",
    "    pickle.dump(data, f)"
   ]
  },
  {
   "cell_type": "code",
   "execution_count": 17,
   "id": "a03b70c7-6279-4cbf-887d-942799a16f79",
   "metadata": {},
   "outputs": [],
   "source": [
    "for eps in attack_sample.keys():\n",
    "    attack_norm = attack_sample[eps].detach().numpy().reshape(-1, 784)\n",
    "    attack_norm = e_scaler.transform(attack_norm)\n",
    "    attack_sample[eps] = torch.from_numpy(attack_norm).float()"
   ]
  },
  {
   "cell_type": "code",
   "execution_count": 18,
   "id": "ce92efea-5231-4349-bbf6-e556faa92cd8",
   "metadata": {},
   "outputs": [
    {
     "data": {
      "text/plain": [
       "<matplotlib.colorbar.Colorbar at 0x7fd7c66a45b0>"
      ]
     },
     "execution_count": 18,
     "metadata": {},
     "output_type": "execute_result"
    },
    {
     "data": {
      "image/png": "[encoded data removed]",
      "text/plain": [
       "<Figure size 432x288 with 2 Axes>"
      ]
     },
     "metadata": {
      "needs_background": "light"
     },
     "output_type": "display_data"
    }
   ],
   "source": [
    "plt.imshow(attack_sample['0.01'][-1].reshape(28, 28), cmap='gray')\n",
    "plt.colorbar()"
   ]
  },
  {
   "cell_type": "code",
   "execution_count": 19,
   "id": "55476e11-c585-4d0a-9394-ad9d1bca4f67",
   "metadata": {},
   "outputs": [
    {
     "name": "stdout",
     "output_type": "stream",
     "text": [
      "Validating...\n",
      "acc = 0.860625\n",
      "acc_test = 0.832452\n",
      "acc_attack_001 = 0.809375\n",
      "acc_attack_003 = 0.636010\n",
      "acc_attack_007 = 0.222740\n",
      "acc_attack_010 = 0.138654\n"
     ]
    }
   ],
   "source": [
    "print('Validating...')\n",
    "yhat = Emodel(e_x)\n",
    "yhat_test = Emodel(e_x_test)\n",
    "yhat_attack_001 = Emodel(attack_sample['0.01'])\n",
    "yhat_attack_003 = Emodel(attack_sample['0.03'])\n",
    "yhat_attack_007 = Emodel(attack_sample['0.07'])\n",
    "yhat_attack_010 = Emodel(attack_sample['0.1'])\n",
    "\n",
    "acc = (e_y == yhat).float().mean()\n",
    "acc_test = (e_y_test == yhat_test).float().mean()\n",
    "acc_attack_001 = (labels == yhat_attack_001).float().mean()\n",
    "acc_attack_003 = (labels == yhat_attack_003).float().mean()\n",
    "acc_attack_007 = (labels == yhat_attack_007).float().mean()\n",
    "acc_attack_010 = (labels == yhat_attack_010).float().mean()\n",
    "\n",
    "print(f'{acc = :6f}')\n",
    "print(f'{acc_test = :6f}')\n",
    "print(f'{acc_attack_001 = :6f}')\n",
    "print(f'{acc_attack_003 = :6f}')\n",
    "print(f'{acc_attack_007 = :6f}')\n",
    "print(f'{acc_attack_010 = :6f}')"
   ]
  },
  {
   "cell_type": "code",
   "execution_count": null,
   "id": "f164459a-a307-42f8-9d65-9529983ca0eb",
   "metadata": {},
   "outputs": [],
   "source": []
  }
 ],
 "metadata": {
  "kernelspec": {
   "display_name": "UCI",
   "language": "python",
   "name": "uci"
  },
  "language_info": {
   "codemirror_mode": {
    "name": "ipython",
    "version": 3
   },
   "file_extension": ".py",
   "mimetype": "text/x-python",
   "name": "python",
   "nbconvert_exporter": "python",
   "pygments_lexer": "ipython3",
   "version": "3.8.5"
  }
 },
 "nbformat": 4,
 "nbformat_minor": 5
}
