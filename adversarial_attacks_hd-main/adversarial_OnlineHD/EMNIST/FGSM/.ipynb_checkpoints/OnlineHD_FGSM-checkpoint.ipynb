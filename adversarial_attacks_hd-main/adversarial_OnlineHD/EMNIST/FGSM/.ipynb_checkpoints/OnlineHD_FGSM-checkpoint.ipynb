{
 "cells": [
  {
   "cell_type": "code",
   "execution_count": 2,
   "id": "1510e5ef-247e-4270-b4cd-f234376fc1fa",
   "metadata": {},
   "outputs": [
    {
     "data": {
      "text/plain": [
       "<torch._C.Generator at 0x7f9f43445cd0>"
      ]
     },
     "execution_count": 2,
     "metadata": {},
     "output_type": "execute_result"
    }
   ],
   "source": [
    "from time import time\n",
    "\n",
    "import torch\n",
    "import sklearn.datasets\n",
    "import sklearn.preprocessing\n",
    "import sklearn.model_selection\n",
    "import numpy as np\n",
    "import math\n",
    "import matplotlib.pyplot as plt\n",
    "\n",
    "from torchvision.datasets import MNIST\n",
    "from torchvision.datasets import FashionMNIST as FMNIST\n",
    "from torchvision.datasets import EMNIST\n",
    "import torchvision.transforms as transforms\n",
    "\n",
    "import Onlinehd\n",
    "\n",
    "SEED = 1234\n",
    "device = 'cuda' if torch.cuda.is_available() else 'cpu'\n",
    "np.random.seed(SEED)\n",
    "torch.manual_seed(SEED)"
   ]
  },
  {
   "cell_type": "markdown",
   "id": "cc94615f-19b3-461b-b412-25cb33476003",
   "metadata": {},
   "source": [
    "### Load Function MNIST(Digits), FMNIST, EMNIST(Letters)"
   ]
  },
  {
   "cell_type": "code",
   "execution_count": 3,
   "id": "01a7bbc3-4d2a-4486-b6bc-e817755c0d54",
   "metadata": {},
   "outputs": [],
   "source": [
    "def load(dataset):\n",
    "    if dataset == 'mnist':\n",
    "        download_root = 'data/mnist_dataset'\n",
    "        train_dataset = MNIST(download_root, train=True, download=True)\n",
    "        valid_dataset = MNIST(download_root, train=False, download=True)        \n",
    "        x, y = train_dataset.data, train_dataset.train_labels\n",
    "        x_test, y_test = valid_dataset.data, valid_dataset.train_labels\n",
    "    \n",
    "    elif dataset == 'fmnist':\n",
    "        download_root = 'data/fmnist_dataset'\n",
    "        train_dataset = FMNIST(download_root, train=True, download=True)\n",
    "        valid_dataset = FMNIST(download_root, train=False, download=True)        \n",
    "        x, y = train_dataset.data, train_dataset.train_labels\n",
    "        x_test, y_test = valid_dataset.data, valid_dataset.train_labels\n",
    "\n",
    "    elif dataset == 'emnist':\n",
    "        download_root = 'data/emnist_dataset'\n",
    "        temp = EMNIST(download_root, split = 'letters', train=True, download=True)\n",
    "        x = temp.data.unsqueeze(3).numpy().transpose((0,2,1,3))\n",
    "        y = temp.targets.numpy() - 1\n",
    "        temp = EMNIST(download_root, split='letters', train=False, download=True)\n",
    "        x_test = temp.data.unsqueeze(3).numpy().transpose((0,2,1,3))\n",
    "        y_test = temp.targets.numpy() - 1\n",
    "        x = torch.from_numpy(x)\n",
    "        y = torch.from_numpy(y)\n",
    "        x_test = torch.from_numpy(x_test)\n",
    "        y_test = torch.from_numpy(y_test)\n",
    "    \n",
    "    x = x.float()\n",
    "    y = y.long()\n",
    "    x_test = x_test.float()\n",
    "    y_test = y_test.long().squeeze()\n",
    "\n",
    "    if len(x.shape) != 3:\n",
    "        x = x.squeeze(3)\n",
    "        x_test = x_test.squeeze(3)\n",
    "    \n",
    "    return x, x_test, y, y_test"
   ]
  },
  {
   "cell_type": "markdown",
   "id": "662ffa47-7828-46fc-a6d4-8050a6b5ed3c",
   "metadata": {},
   "source": [
    "# MNIST"
   ]
  },
  {
   "cell_type": "markdown",
   "id": "e4d4ffe6-95e7-467d-b08b-a6979e04b602",
   "metadata": {},
   "source": [
    "## Normalize\n",
    "\n",
    "OnlineHD is very sensitive to Normalize.\n",
    "Therefore, it should be applied"
   ]
  },
  {
   "cell_type": "code",
   "execution_count": 5,
   "id": "61a749b3-1c69-46b5-9795-55530a1ef0ed",
   "metadata": {
    "collapsed": true,
    "jupyter": {
     "outputs_hidden": true
    },
    "tags": []
   },
   "outputs": [
    {
     "name": "stdout",
     "output_type": "stream",
     "text": [
      "Downloading http://yann.lecun.com/exdb/mnist/train-images-idx3-ubyte.gz\n",
      "Downloading http://yann.lecun.com/exdb/mnist/train-images-idx3-ubyte.gz to data/mnist_dataset/MNIST/raw/train-images-idx3-ubyte.gz\n"
     ]
    },
    {
     "data": {
      "application/vnd.jupyter.widget-view+json": {
       "model_id": "f0341ecbb24949b6ba7d1f950e4c60ca",
       "version_major": 2,
       "version_minor": 0
      },
      "text/plain": [
       "  0%|          | 0/9912422 [00:00<?, ?it/s]"
      ]
     },
     "metadata": {},
     "output_type": "display_data"
    },
    {
     "name": "stdout",
     "output_type": "stream",
     "text": [
      "Extracting data/mnist_dataset/MNIST/raw/train-images-idx3-ubyte.gz to data/mnist_dataset/MNIST/raw\n",
      "\n",
      "Downloading http://yann.lecun.com/exdb/mnist/train-labels-idx1-ubyte.gz\n",
      "Downloading http://yann.lecun.com/exdb/mnist/train-labels-idx1-ubyte.gz to data/mnist_dataset/MNIST/raw/train-labels-idx1-ubyte.gz\n"
     ]
    },
    {
     "data": {
      "application/vnd.jupyter.widget-view+json": {
       "model_id": "c7f20405d27b45518f62892177a36a29",
       "version_major": 2,
       "version_minor": 0
      },
      "text/plain": [
       "  0%|          | 0/28881 [00:00<?, ?it/s]"
      ]
     },
     "metadata": {},
     "output_type": "display_data"
    },
    {
     "name": "stdout",
     "output_type": "stream",
     "text": [
      "Extracting data/mnist_dataset/MNIST/raw/train-labels-idx1-ubyte.gz to data/mnist_dataset/MNIST/raw\n",
      "\n",
      "Downloading http://yann.lecun.com/exdb/mnist/t10k-images-idx3-ubyte.gz\n",
      "Downloading http://yann.lecun.com/exdb/mnist/t10k-images-idx3-ubyte.gz to data/mnist_dataset/MNIST/raw/t10k-images-idx3-ubyte.gz\n"
     ]
    },
    {
     "data": {
      "application/vnd.jupyter.widget-view+json": {
       "model_id": "b474d798c720447685961a81990bed46",
       "version_major": 2,
       "version_minor": 0
      },
      "text/plain": [
       "  0%|          | 0/1648877 [00:00<?, ?it/s]"
      ]
     },
     "metadata": {},
     "output_type": "display_data"
    },
    {
     "name": "stdout",
     "output_type": "stream",
     "text": [
      "Extracting data/mnist_dataset/MNIST/raw/t10k-images-idx3-ubyte.gz to data/mnist_dataset/MNIST/raw\n",
      "\n",
      "Downloading http://yann.lecun.com/exdb/mnist/t10k-labels-idx1-ubyte.gz\n",
      "Downloading http://yann.lecun.com/exdb/mnist/t10k-labels-idx1-ubyte.gz to data/mnist_dataset/MNIST/raw/t10k-labels-idx1-ubyte.gz\n"
     ]
    },
    {
     "data": {
      "application/vnd.jupyter.widget-view+json": {
       "model_id": "a91da50922144336a2e2b52a5aa1d47a",
       "version_major": 2,
       "version_minor": 0
      },
      "text/plain": [
       "  0%|          | 0/4542 [00:00<?, ?it/s]"
      ]
     },
     "metadata": {},
     "output_type": "display_data"
    },
    {
     "name": "stdout",
     "output_type": "stream",
     "text": [
      "Extracting data/mnist_dataset/MNIST/raw/t10k-labels-idx1-ubyte.gz to data/mnist_dataset/MNIST/raw\n",
      "\n"
     ]
    },
    {
     "name": "stderr",
     "output_type": "stream",
     "text": [
      "/Users/jeongseongheon/opt/anaconda3/envs/UCI/lib/python3.8/site-packages/torchvision/datasets/mnist.py:498: UserWarning: The given NumPy array is not writeable, and PyTorch does not support non-writeable tensors. This means you can write to the underlying (supposedly non-writeable) NumPy array using the tensor. You may want to copy the array to protect its data or make it writeable before converting it to a tensor. This type of warning will be suppressed for the rest of this program. (Triggered internally at  ../torch/csrc/utils/tensor_numpy.cpp:180.)\n",
      "  return torch.from_numpy(parsed.astype(m[2], copy=False)).view(*s)\n",
      "/Users/jeongseongheon/opt/anaconda3/envs/UCI/lib/python3.8/site-packages/torchvision/datasets/mnist.py:52: UserWarning: train_labels has been renamed targets\n",
      "  warnings.warn(\"train_labels has been renamed targets\")\n"
     ]
    }
   ],
   "source": [
    "x, x_test, y, y_test = load('mnist')"
   ]
  },
  {
   "cell_type": "code",
   "execution_count": 7,
   "id": "2d2fce3d-ec6d-4807-8b6d-ed8e866a9d80",
   "metadata": {},
   "outputs": [],
   "source": [
    "x = x.reshape(-1, 784)\n",
    "x_test = x_test.reshape(-1, 784)\n",
    "\n",
    "scaler = sklearn.preprocessing.Normalizer().fit(x.reshape(-1, 784))\n",
    "x = torch.tensor(scaler.transform(x.reshape(-1, 784)))\n",
    "x_test = torch.tensor(scaler.transform(x_test.reshape(-1, 784)))"
   ]
  },
  {
   "cell_type": "code",
   "execution_count": 10,
   "id": "9d97797a-e6f0-47fe-98c7-40f5ee85afb6",
   "metadata": {},
   "outputs": [
    {
     "name": "stdout",
     "output_type": "stream",
     "text": [
      "Training...\n",
      "0\n",
      "10\n"
     ]
    }
   ],
   "source": [
    "classes = y.unique().size(0)\n",
    "features = x.size(1)\n",
    "model = Onlinehd.OnlineHD(classes, features, dim=10000)\n",
    "\n",
    "if torch.cuda.is_available():\n",
    "    x = x.cuda()\n",
    "    y = y.cuda()\n",
    "    x_test = x_test.cuda()\n",
    "    y_test = y_test.cuda()\n",
    "    model = model.to('cuda')\n",
    "    print('Using GPU!')\n",
    "\n",
    "print('Training...')\n",
    "t = time()\n",
    "model = model.fit(x, y, bootstrap=1.0, lr=0.035, epochs=20)\n",
    "t = time() - t"
   ]
  },
  {
   "cell_type": "code",
   "execution_count": 11,
   "id": "0d4dfe5d-1970-4c5a-8b9b-8347060c4521",
   "metadata": {},
   "outputs": [
    {
     "name": "stdout",
     "output_type": "stream",
     "text": [
      "Validating...\n",
      "acc = 0.943833\n",
      "acc_test = 0.940100\n",
      "t = 29.861161\n"
     ]
    }
   ],
   "source": [
    "print('Validating...')\n",
    "yhat = model(x)\n",
    "yhat_test = model(x_test)\n",
    "acc = (y == yhat).float().mean()\n",
    "acc_test = (y_test == yhat_test).float().mean()\n",
    "print(f'{acc = :6f}')\n",
    "print(f'{acc_test = :6f}')\n",
    "print(f'{t = :6f}')"
   ]
  },
  {
   "cell_type": "markdown",
   "id": "9653f102-7a99-4c9b-9999-858c938e8311",
   "metadata": {},
   "source": [
    "# Generate FGSM"
   ]
  },
  {
   "cell_type": "code",
   "execution_count": 12,
   "id": "eadb915f-afeb-453c-b8fe-919131cb16f5",
   "metadata": {},
   "outputs": [],
   "source": [
    "def fgsm_attack(x_original, epsilon, gradient):\n",
    "    # Get Gradient sign\n",
    "    grad_sign = gradient.sign()\n",
    "    # Add epsilon*grad_sign perturbation to the original input\n",
    "    perturbation = epsilon*grad_sign\n",
    "    x_perturbed = x_original + perturbation\n",
    "    return x_perturbed, perturbation"
   ]
  },
  {
   "cell_type": "code",
   "execution_count": 51,
   "id": "2ba8c2d3-a652-434b-9bdc-961e550b8d29",
   "metadata": {
    "tags": []
   },
   "outputs": [
    {
     "data": {
      "image/png": "[encoded data removed]",
      "text/plain": [
       "<Figure size 432x288 with 2 Axes>"
      ]
     },
     "metadata": {
      "needs_background": "light"
     },
     "output_type": "display_data"
    },
    {
     "name": "stdout",
     "output_type": "stream",
     "text": [
      "\n",
      "FGSM Attack with epsilon = 0.10000 | Elapsed time: 96.71 seconds.\n",
      "Accuracy: Before the attack -> 94.01%\t|\tAfter the attack -> 8.35%\n"
     ]
    },
    {
     "data": {
      "image/png": "[encoded data removed]",
      "text/plain": [
       "<Figure size 432x288 with 2 Axes>"
      ]
     },
     "metadata": {
      "needs_background": "light"
     },
     "output_type": "display_data"
    },
    {
     "name": "stdout",
     "output_type": "stream",
     "text": [
      "\n",
      "FGSM Attack with epsilon = 0.05000 | Elapsed time: 92.60 seconds.\n",
      "Accuracy: Before the attack -> 94.01%\t|\tAfter the attack -> 8.47%\n"
     ]
    },
    {
     "data": {
      "image/png": "[encoded data removed]",
      "text/plain": [
       "<Figure size 432x288 with 2 Axes>"
      ]
     },
     "metadata": {
      "needs_background": "light"
     },
     "output_type": "display_data"
    },
    {
     "name": "stdout",
     "output_type": "stream",
     "text": [
      "\n",
      "FGSM Attack with epsilon = 0.01000 | Elapsed time: 92.44 seconds.\n",
      "Accuracy: Before the attack -> 94.01%\t|\tAfter the attack -> 91.52%\n"
     ]
    },
    {
     "data": {
      "image/png": "[encoded data removed]",
      "text/plain": [
       "<Figure size 432x288 with 2 Axes>"
      ]
     },
     "metadata": {
      "needs_background": "light"
     },
     "output_type": "display_data"
    },
    {
     "name": "stdout",
     "output_type": "stream",
     "text": [
      "\n",
      "FGSM Attack with epsilon = 0.00500 | Elapsed time: 92.67 seconds.\n",
      "Accuracy: Before the attack -> 94.01%\t|\tAfter the attack -> 93.27%\n"
     ]
    }
   ],
   "source": [
    "import torch.nn as nn\n",
    "import time\n",
    "\n",
    "epsilons = torch.Tensor([0.1, 0.05, 0.01, 0.005])\n",
    "acc_results_non = dict()\n",
    "verbose = False\n",
    "criterion = nn.CosineEmbeddingLoss()\n",
    "N_VAL_SAMPLES = x_test.data.shape[0]\n",
    "x_attack = torch.zeros((len(x_test), features))\n",
    "y_attack = y_test\n",
    "\n",
    "for eps in epsilons:\n",
    "    correct_unperturbed = 0\n",
    "    correct_perturbed = 0\n",
    "    t0 = time.perf_counter()\n",
    "\n",
    "    for j in range(len(x_test)):\n",
    "    ### NOTE: IT WOULD BE MORE EFFICIENT TO ITERATE ONLY ONCE THROUGH THE DATA AND PERFORM ALL THE ATTACKS\n",
    "        x_origin, y_target = x_test[j], y_test[j]\n",
    "        x_origin, y_target = x_origin.to(device), y_target.to(device)\n",
    "        x_origin.requires_grad = True\n",
    "\n",
    "        y_pred = model(x_origin.reshape(-1, 784))\n",
    "        \n",
    "        if y_pred == y_target:#Only make attack on correctly classified samples\n",
    "            correct_unperturbed += 1\n",
    "            \n",
    "            label = torch.ones(classes, dtype=int) * -1\n",
    "            label[y_target.item()] = 1\n",
    "            # Calculate loss and gradient\n",
    "            output = model.encode(x_origin.reshape(-1, 784))\n",
    "            loss = criterion(output, model.model, label)\n",
    "            grad = torch.autograd.grad(outputs=loss, inputs=x_origin)[0]\n",
    "            \n",
    "            perturbed_x, _ = fgsm_attack(x_origin, epsilon=eps, gradient=grad)\n",
    "            perturbed_output = model(perturbed_x.reshape(-1, 784))            \n",
    "            \n",
    "            if eps == 0.005:\n",
    "                x_attack[j] = perturbed_x\n",
    "                \n",
    "            if perturbed_output == y_target:\n",
    "                correct_perturbed += 1\n",
    "                \n",
    "        \n",
    "    plt.imshow(perturbed_x.detach().numpy().reshape(28, 28), cmap='gray')\n",
    "    plt.colorbar()\n",
    "    plt.show()\n",
    "    acc_before_attack = correct_unperturbed / N_VAL_SAMPLES\n",
    "    acc_after_attack = correct_perturbed / N_VAL_SAMPLES\n",
    "    print(f'\\nFGSM Attack with epsilon = {eps:.5f} | Elapsed time: {time.perf_counter() - t0:.2f} seconds.')\n",
    "    print(f'Accuracy: Before the attack -> {100 * acc_before_attack:.2f}%\\t|\\tAfter the attack -> {100 * acc_after_attack:.2f}%')\n",
    "    acc_results_non[eps.item()] = acc_after_attack\n",
    "acc_results_non[0] = acc_before_attack"
   ]
  },
  {
   "cell_type": "code",
   "execution_count": 54,
   "id": "7b91ae25-7e91-4650-9c08-0cfe28b7ac8e",
   "metadata": {},
   "outputs": [
    {
     "name": "stdout",
     "output_type": "stream",
     "text": [
      "Validating...\n",
      "acc = 0.943833\n",
      "acc_test = 0.940100\n",
      "acc_attack = 0.935000\n",
      "t = 29.861161\n"
     ]
    }
   ],
   "source": [
    "print('Validating...')\n",
    "yhat = model(x)\n",
    "yhat_test = model(x_test)\n",
    "yhat_attack = model(x_attack)\n",
    "\n",
    "acc = (y == yhat).float().mean()\n",
    "acc_test = (y_test == yhat_test).float().mean()\n",
    "acc_attack = (y_attack == yhat_attack).float().mean()\n",
    "\n",
    "print(f'{acc = :6f}')\n",
    "print(f'{acc_test = :6f}')\n",
    "print(f'{acc_attack = :6f}')\n",
    "print(f'{t = :6f}')"
   ]
  },
  {
   "cell_type": "markdown",
   "id": "9d851bcf-03cd-4c75-9a43-214c2bbcb96d",
   "metadata": {},
   "source": [
    "# FMNIST"
   ]
  },
  {
   "cell_type": "code",
   "execution_count": 77,
   "id": "11e030cc-636f-4fda-a33b-6e0e009363ce",
   "metadata": {
    "tags": []
   },
   "outputs": [
    {
     "name": "stderr",
     "output_type": "stream",
     "text": [
      "/Users/jeongseongheon/opt/anaconda3/envs/UCI/lib/python3.8/site-packages/torchvision/datasets/mnist.py:52: UserWarning: train_labels has been renamed targets\n",
      "  warnings.warn(\"train_labels has been renamed targets\")\n"
     ]
    }
   ],
   "source": [
    "f_x, f_x_test, f_y, f_y_test = load('fmnist')"
   ]
  },
  {
   "cell_type": "code",
   "execution_count": 78,
   "id": "bc02af66-b466-4548-9398-bae20499f53e",
   "metadata": {},
   "outputs": [],
   "source": [
    "f_x = f_x.reshape(-1, 784)\n",
    "f_x_test = f_x_test.reshape(-1, 784)\n",
    "\n",
    "f_scaler = sklearn.preprocessing.Normalizer().fit(f_x.reshape(-1, 784))\n",
    "f_x = torch.tensor(f_scaler.transform(f_x.reshape(-1, 784)))\n",
    "f_x_test = torch.tensor(f_scaler.transform(f_x_test.reshape(-1, 784)))"
   ]
  },
  {
   "cell_type": "code",
   "execution_count": 60,
   "id": "eee07194-9e05-4c4f-ba17-02a879dd8230",
   "metadata": {},
   "outputs": [
    {
     "name": "stdout",
     "output_type": "stream",
     "text": [
      "Training...\n",
      "0\n",
      "10\n"
     ]
    }
   ],
   "source": [
    "from time import time\n",
    "\n",
    "f_classes = f_y.unique().size(0)\n",
    "f_features = f_x.size(1)\n",
    "Fmodel = Onlinehd.OnlineHD(f_classes, f_features, dim=10000)\n",
    "\n",
    "if torch.cuda.is_available():\n",
    "    f_x = f_x.cuda()\n",
    "    f_y = f_y.cuda()\n",
    "    f_x_test = f_x_test.cuda()\n",
    "    f_y_test = f_y_test.cuda()\n",
    "    Fmodel = Fmodel.to('cuda')\n",
    "    print('Using GPU!')\n",
    "\n",
    "print('Training...')\n",
    "t = time()\n",
    "Fmodel = Fmodel.fit(f_x, f_y, bootstrap=1.0, lr=0.035, epochs=20)\n",
    "t = time() - t"
   ]
  },
  {
   "cell_type": "code",
   "execution_count": 61,
   "id": "01847ed1-423b-4da0-acab-ff95fef31ec5",
   "metadata": {},
   "outputs": [
    {
     "name": "stdout",
     "output_type": "stream",
     "text": [
      "Validating...\n",
      "f_acc = 0.834750\n",
      "f_acc_test = 0.821300\n",
      "t = 30.272200\n"
     ]
    }
   ],
   "source": [
    "print('Validating...')\n",
    "f_yhat = Fmodel(f_x)\n",
    "f_yhat_test = Fmodel(f_x_test)\n",
    "\n",
    "f_acc = (f_y == f_yhat).float().mean()\n",
    "f_acc_test = (f_y_test == f_yhat_test).float().mean()\n",
    "\n",
    "print(f'{f_acc = :6f}')\n",
    "print(f'{f_acc_test = :6f}')\n",
    "print(f'{t = :6f}')"
   ]
  },
  {
   "cell_type": "code",
   "execution_count": 62,
   "id": "e5220ac0-605d-4edf-9903-35aee541e409",
   "metadata": {},
   "outputs": [
    {
     "data": {
      "image/png": "[encoded data removed]",
      "text/plain": [
       "<Figure size 432x288 with 2 Axes>"
      ]
     },
     "metadata": {
      "needs_background": "light"
     },
     "output_type": "display_data"
    },
    {
     "name": "stdout",
     "output_type": "stream",
     "text": [
      "\n",
      "FGSM Attack with epsilon = 0.10000 | Elapsed time: 86.30 seconds.\n",
      "Accuracy: Before the attack -> 82.13%\t|\tAfter the attack -> 9.08%\n"
     ]
    },
    {
     "data": {
      "image/png": "[encoded data removed]",
      "text/plain": [
       "<Figure size 432x288 with 2 Axes>"
      ]
     },
     "metadata": {
      "needs_background": "light"
     },
     "output_type": "display_data"
    },
    {
     "name": "stdout",
     "output_type": "stream",
     "text": [
      "\n",
      "FGSM Attack with epsilon = 0.05000 | Elapsed time: 83.49 seconds.\n",
      "Accuracy: Before the attack -> 82.13%\t|\tAfter the attack -> 9.08%\n"
     ]
    },
    {
     "data": {
      "image/png": "[encoded data removed]",
      "text/plain": [
       "<Figure size 432x288 with 2 Axes>"
      ]
     },
     "metadata": {
      "needs_background": "light"
     },
     "output_type": "display_data"
    },
    {
     "name": "stdout",
     "output_type": "stream",
     "text": [
      "\n",
      "FGSM Attack with epsilon = 0.01000 | Elapsed time: 83.73 seconds.\n",
      "Accuracy: Before the attack -> 82.13%\t|\tAfter the attack -> 72.24%\n"
     ]
    },
    {
     "data": {
      "image/png": "[encoded data removed]",
      "text/plain": [
       "<Figure size 432x288 with 2 Axes>"
      ]
     },
     "metadata": {
      "needs_background": "light"
     },
     "output_type": "display_data"
    },
    {
     "name": "stdout",
     "output_type": "stream",
     "text": [
      "\n",
      "FGSM Attack with epsilon = 0.00500 | Elapsed time: 85.73 seconds.\n",
      "Accuracy: Before the attack -> 82.13%\t|\tAfter the attack -> 78.59%\n"
     ]
    }
   ],
   "source": [
    "import torch.nn as nn\n",
    "import time\n",
    "\n",
    "epsilons = torch.Tensor([0.1, 0.05, 0.01, 0.005])\n",
    "acc_results_non = dict()\n",
    "verbose = False\n",
    "criterion = nn.CosineEmbeddingLoss()\n",
    "N_VAL_SAMPLES = f_x_test.data.shape[0]\n",
    "f_x_attack = torch.zeros((len(f_x_test), f_features))\n",
    "f_y_attack = f_y_test\n",
    "\n",
    "for eps in epsilons:\n",
    "    correct_unperturbed = 0\n",
    "    correct_perturbed = 0\n",
    "    t0 = time.perf_counter()\n",
    "\n",
    "    for j in range(len(f_x_test)):\n",
    "    ### NOTE: IT WOULD BE MORE EFFICIENT TO ITERATE ONLY ONCE THROUGH THE DATA AND PERFORM ALL THE ATTACKS\n",
    "        x_origin, y_target = f_x_test[j], f_y_test[j]\n",
    "        x_origin, y_target = x_origin.to(device), y_target.to(device)\n",
    "        x_origin.requires_grad = True\n",
    "\n",
    "        y_pred = Fmodel(x_origin.reshape(-1, 784))\n",
    "        \n",
    "        if y_pred == y_target:#Only make attack on correctly classified samples\n",
    "            correct_unperturbed += 1\n",
    "            \n",
    "            label = torch.ones(f_classes, dtype=int) * -1\n",
    "            label[y_target.item()] = 1\n",
    "            # Calculate loss and gradient\n",
    "            output = Fmodel.encode(x_origin.reshape(-1, 784))\n",
    "            loss = criterion(output, Fmodel.model, label)\n",
    "            grad = torch.autograd.grad(outputs=loss, inputs=x_origin)[0]\n",
    "            \n",
    "            perturbed_x, _ = fgsm_attack(x_origin, epsilon=eps, gradient=grad)\n",
    "            perturbed_output = Fmodel(perturbed_x.reshape(-1, 784))            \n",
    "            \n",
    "            if eps == 0.005:\n",
    "                f_x_attack[j] = perturbed_x\n",
    "                \n",
    "            if perturbed_output == y_target:\n",
    "                correct_perturbed += 1\n",
    "                \n",
    "        \n",
    "    plt.imshow(perturbed_x.detach().numpy().reshape(28, 28), cmap='gray')\n",
    "    plt.colorbar()\n",
    "    plt.show()\n",
    "    acc_before_attack = correct_unperturbed / N_VAL_SAMPLES\n",
    "    acc_after_attack = correct_perturbed / N_VAL_SAMPLES\n",
    "    print(f'\\nFGSM Attack with epsilon = {eps:.5f} | Elapsed time: {time.perf_counter() - t0:.2f} seconds.')\n",
    "    print(f'Accuracy: Before the attack -> {100 * acc_before_attack:.2f}%\\t|\\tAfter the attack -> {100 * acc_after_attack:.2f}%')\n",
    "    acc_results_non[eps.item()] = acc_after_attack\n",
    "acc_results_non[0] = acc_before_attack"
   ]
  },
  {
   "cell_type": "code",
   "execution_count": 63,
   "id": "40787e7c-4ea4-4e55-889e-f113fd08e2de",
   "metadata": {},
   "outputs": [
    {
     "name": "stdout",
     "output_type": "stream",
     "text": [
      "Validating...\n",
      "f_acc = 0.834750\n",
      "f_acc_test = 0.821300\n",
      "f_acc_attack = 0.804000\n",
      "t = 30.272200\n"
     ]
    }
   ],
   "source": [
    "print('Validating...')\n",
    "f_yhat = Fmodel(f_x)\n",
    "f_yhat_test = Fmodel(f_x_test)\n",
    "f_yhat_attack = Fmodel(f_x_attack)\n",
    "\n",
    "f_acc = (f_y == f_yhat).float().mean()\n",
    "f_acc_test = (f_y_test == f_yhat_test).float().mean()\n",
    "f_acc_attack = (f_y_attack == f_yhat_attack).float().mean()\n",
    "\n",
    "print(f'{f_acc = :6f}')\n",
    "print(f'{f_acc_test = :6f}')\n",
    "print(f'{f_acc_attack = :6f}')\n",
    "print(f'{t = :6f}')"
   ]
  },
  {
   "cell_type": "markdown",
   "id": "bf573a15-009e-4eb2-af81-e70dd7f5d37d",
   "metadata": {},
   "source": [
    "# EMNIST"
   ]
  },
  {
   "cell_type": "code",
   "execution_count": 65,
   "id": "ebacaebc-c1a4-4194-b4fe-f822cb5df932",
   "metadata": {},
   "outputs": [],
   "source": [
    "e_x, e_x_test, e_y, e_y_test = load('emnist')"
   ]
  },
  {
   "cell_type": "code",
   "execution_count": 66,
   "id": "2cdbc51d-b392-424e-9ec5-21e66f919e30",
   "metadata": {},
   "outputs": [],
   "source": [
    "e_x = e_x.reshape(-1, 784)\n",
    "e_x_test = e_x_test.reshape(-1, 784)\n",
    "\n",
    "e_scaler = sklearn.preprocessing.Normalizer().fit(e_x.reshape(-1, 784))\n",
    "e_x = torch.tensor(e_scaler.transform(e_x.reshape(-1, 784)))\n",
    "e_x_test = torch.tensor(e_scaler.transform(e_x_test.reshape(-1, 784)))"
   ]
  },
  {
   "cell_type": "code",
   "execution_count": 67,
   "id": "0f6229d0-b5a4-4210-bb61-c2b68807681f",
   "metadata": {},
   "outputs": [
    {
     "name": "stdout",
     "output_type": "stream",
     "text": [
      "Training...\n",
      "0\n",
      "10\n"
     ]
    }
   ],
   "source": [
    "from time import time\n",
    "\n",
    "e_classes = e_y.unique().size(0)\n",
    "e_features = e_x.size(1)\n",
    "Emodel = Onlinehd.OnlineHD(e_classes, e_features, dim=10000)\n",
    "\n",
    "if torch.cuda.is_available():\n",
    "    e_x = e_x.cuda()\n",
    "    e_y = e_y.cuda()\n",
    "    e_x_test = e_x_test.cuda()\n",
    "    e_y_test = e_y_test.cuda()\n",
    "    Emodel = Emodel.to('cuda')\n",
    "    print('Using GPU!')\n",
    "\n",
    "print('Training...')\n",
    "t = time()\n",
    "Emodel = Emodel.fit(e_x, e_y, bootstrap=1.0, lr=0.035, epochs=20)\n",
    "t = time() - t"
   ]
  },
  {
   "cell_type": "code",
   "execution_count": 68,
   "id": "41995428-779d-4a0d-aa32-270d50b3d8b6",
   "metadata": {},
   "outputs": [
    {
     "name": "stdout",
     "output_type": "stream",
     "text": [
      "Validating...\n",
      "e_acc = 0.863389\n",
      "e_acc_test = 0.833606\n",
      "t = 88.139874\n"
     ]
    }
   ],
   "source": [
    "print('Validating...')\n",
    "e_yhat = Emodel(e_x)\n",
    "e_yhat_test = Emodel(e_x_test)\n",
    "\n",
    "e_acc = (e_y == e_yhat).float().mean()\n",
    "e_acc_test = (e_y_test == e_yhat_test).float().mean()\n",
    "\n",
    "print(f'{e_acc = :6f}')\n",
    "print(f'{e_acc_test = :6f}')\n",
    "print(f'{t = :6f}')"
   ]
  },
  {
   "cell_type": "code",
   "execution_count": 69,
   "id": "007b30d3-d643-4a61-8292-b31280e67407",
   "metadata": {},
   "outputs": [
    {
     "data": {
      "image/png": "[encoded data removed]",
      "text/plain": [
       "<Figure size 432x288 with 2 Axes>"
      ]
     },
     "metadata": {
      "needs_background": "light"
     },
     "output_type": "display_data"
    },
    {
     "name": "stdout",
     "output_type": "stream",
     "text": [
      "\n",
      "FGSM Attack with epsilon = 0.10000 | Elapsed time: 181.83 seconds.\n",
      "Accuracy: Before the attack -> 83.36%\t|\tAfter the attack -> 2.99%\n"
     ]
    },
    {
     "data": {
      "image/png": "[encoded data removed]",
      "text/plain": [
       "<Figure size 432x288 with 2 Axes>"
      ]
     },
     "metadata": {
      "needs_background": "light"
     },
     "output_type": "display_data"
    },
    {
     "name": "stdout",
     "output_type": "stream",
     "text": [
      "\n",
      "FGSM Attack with epsilon = 0.05000 | Elapsed time: 181.42 seconds.\n",
      "Accuracy: Before the attack -> 83.36%\t|\tAfter the attack -> 3.53%\n"
     ]
    },
    {
     "data": {
      "image/png": "[encoded data removed]",
      "text/plain": [
       "<Figure size 432x288 with 2 Axes>"
      ]
     },
     "metadata": {
      "needs_background": "light"
     },
     "output_type": "display_data"
    },
    {
     "name": "stdout",
     "output_type": "stream",
     "text": [
      "\n",
      "FGSM Attack with epsilon = 0.01000 | Elapsed time: 182.33 seconds.\n",
      "Accuracy: Before the attack -> 83.36%\t|\tAfter the attack -> 77.43%\n"
     ]
    },
    {
     "data": {
      "image/png": "[encoded data removed]",
      "text/plain": [
       "<Figure size 432x288 with 2 Axes>"
      ]
     },
     "metadata": {
      "needs_background": "light"
     },
     "output_type": "display_data"
    },
    {
     "name": "stdout",
     "output_type": "stream",
     "text": [
      "\n",
      "FGSM Attack with epsilon = 0.00500 | Elapsed time: 180.60 seconds.\n",
      "Accuracy: Before the attack -> 83.36%\t|\tAfter the attack -> 80.95%\n"
     ]
    }
   ],
   "source": [
    "import torch.nn as nn\n",
    "import time\n",
    "\n",
    "epsilons = torch.Tensor([0.1, 0.05, 0.01, 0.005])\n",
    "acc_results_non = dict()\n",
    "verbose = False\n",
    "criterion = nn.CosineEmbeddingLoss()\n",
    "N_VAL_SAMPLES = e_x_test.data.shape[0]\n",
    "e_x_attack = torch.zeros((len(e_x_test), e_features))\n",
    "e_y_attack = e_y_test\n",
    "\n",
    "for eps in epsilons:\n",
    "    correct_unperturbed = 0\n",
    "    correct_perturbed = 0\n",
    "    t0 = time.perf_counter()\n",
    "\n",
    "    for j in range(len(e_x_test)):\n",
    "    ### NOTE: IT WOULD BE MORE EFFICIENT TO ITERATE ONLY ONCE THROUGH THE DATA AND PERFORM ALL THE ATTACKS\n",
    "        x_origin, y_target = e_x_test[j], e_y_test[j]\n",
    "        x_origin, y_target = x_origin.to(device), y_target.to(device)\n",
    "        x_origin.requires_grad = True\n",
    "\n",
    "        y_pred = Emodel(x_origin.reshape(-1, 784))\n",
    "        \n",
    "        if y_pred == y_target:#Only make attack on correctly classified samples\n",
    "            correct_unperturbed += 1\n",
    "            \n",
    "            label = torch.ones(e_classes, dtype=int) * -1\n",
    "            label[y_target.item()] = 1\n",
    "            # Calculate loss and gradient\n",
    "            output = Emodel.encode(x_origin.reshape(-1, 784))\n",
    "            loss = criterion(output, Emodel.model, label)\n",
    "            grad = torch.autograd.grad(outputs=loss, inputs=x_origin)[0]\n",
    "            \n",
    "            perturbed_x, _ = fgsm_attack(x_origin, epsilon=eps, gradient=grad)\n",
    "            perturbed_output = Emodel(perturbed_x.reshape(-1, 784))            \n",
    "            \n",
    "            if eps == 0.005:\n",
    "                e_x_attack[j] = perturbed_x\n",
    "                \n",
    "            if perturbed_output == y_target:\n",
    "                correct_perturbed += 1\n",
    "                \n",
    "        \n",
    "    plt.imshow(perturbed_x.detach().numpy().reshape(28, 28), cmap='gray')\n",
    "    plt.colorbar()\n",
    "    plt.show()\n",
    "    acc_before_attack = correct_unperturbed / N_VAL_SAMPLES\n",
    "    acc_after_attack = correct_perturbed / N_VAL_SAMPLES\n",
    "    print(f'\\nFGSM Attack with epsilon = {eps:.5f} | Elapsed time: {time.perf_counter() - t0:.2f} seconds.')\n",
    "    print(f'Accuracy: Before the attack -> {100 * acc_before_attack:.2f}%\\t|\\tAfter the attack -> {100 * acc_after_attack:.2f}%')\n",
    "    acc_results_non[eps.item()] = acc_after_attack\n",
    "acc_results_non[0] = acc_before_attack"
   ]
  },
  {
   "cell_type": "code",
   "execution_count": 70,
   "id": "96f71418-0bbc-4176-8db6-d064b75c7034",
   "metadata": {},
   "outputs": [
    {
     "name": "stdout",
     "output_type": "stream",
     "text": [
      "Validating...\n",
      "e_acc = 0.863389\n",
      "e_acc_test = 0.833606\n",
      "e_acc_attack = 0.818510\n",
      "t = 88.139874\n"
     ]
    }
   ],
   "source": [
    "print('Validating...')\n",
    "e_yhat = Emodel(e_x)\n",
    "e_yhat_test = Emodel(e_x_test)\n",
    "e_yhat_attack = Emodel(e_x_attack)\n",
    "\n",
    "e_acc = (e_y == e_yhat).float().mean()\n",
    "e_acc_test = (e_y_test == e_yhat_test).float().mean()\n",
    "e_acc_attack = (e_y_attack == e_yhat_attack).float().mean()\n",
    "\n",
    "print(f'{e_acc = :6f}')\n",
    "print(f'{e_acc_test = :6f}')\n",
    "print(f'{e_acc_attack = :6f}')\n",
    "print(f'{t = :6f}')"
   ]
  },
  {
   "cell_type": "code",
   "execution_count": 72,
   "id": "013e144e-3e20-4faa-a27e-aa8d1b2373b9",
   "metadata": {},
   "outputs": [],
   "source": [
    "import pickle \n",
    "\n",
    "data = {'mnist_fgsm':x_attack,\n",
    "       'mnist_label':y_attack,\n",
    "       'fnist_fgsm':f_x_attack,\n",
    "       'fnist_label':f_y_attack,\n",
    "       'enist_fgsm':e_x_attack,\n",
    "       'enist_label':e_y_attack}\n",
    "\n",
    "with open('./data/FGSM.pickle', 'wb') as f:\n",
    "    pickle.dump(data, f)"
   ]
  }
 ],
 "metadata": {
  "kernelspec": {
   "display_name": "UCI",
   "language": "python",
   "name": "uci"
  },
  "language_info": {
   "codemirror_mode": {
    "name": "ipython",
    "version": 3
   },
   "file_extension": ".py",
   "mimetype": "text/x-python",
   "name": "python",
   "nbconvert_exporter": "python",
   "pygments_lexer": "ipython3",
   "version": "3.8.5"
  }
 },
 "nbformat": 4,
 "nbformat_minor": 5
}
