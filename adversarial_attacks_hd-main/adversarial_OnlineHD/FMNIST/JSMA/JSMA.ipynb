{
 "cells": [
  {
   "cell_type": "code",
   "execution_count": 1,
   "id": "2dd18493-2edc-422a-a7cb-456ee9651988",
   "metadata": {},
   "outputs": [
    {
     "data": {
      "text/plain": [
       "<torch._C.Generator at 0x7faf3bf44b30>"
      ]
     },
     "execution_count": 1,
     "metadata": {},
     "output_type": "execute_result"
    }
   ],
   "source": [
    "from time import time\n",
    "\n",
    "import torch\n",
    "import sklearn.datasets\n",
    "import sklearn.preprocessing\n",
    "import sklearn.model_selection\n",
    "import numpy as np\n",
    "import math\n",
    "import matplotlib.pyplot as plt\n",
    "\n",
    "from torchvision.datasets import MNIST\n",
    "from torchvision.datasets import FashionMNIST as FMNIST\n",
    "from torchvision.datasets import EMNIST\n",
    "import torchvision.transforms as transforms\n",
    "\n",
    "import Onlinehd\n",
    "\n",
    "SEED = 1234\n",
    "device = 'cuda' if torch.cuda.is_available() else 'cpu'\n",
    "np.random.seed(SEED)\n",
    "torch.manual_seed(SEED)"
   ]
  },
  {
   "cell_type": "code",
   "execution_count": 2,
   "id": "30f1cb6c-e58d-4155-9f34-e8a094f91e01",
   "metadata": {},
   "outputs": [],
   "source": [
    "from tensorflow.keras.datasets import fashion_mnist\n",
    "\n",
    "def load():\n",
    "    if dataset == 'mnist':\n",
    "        (x, y), (x_test, y_test) = mnist.load_data()\n",
    "    elif dataset == 'fashion_mnist':\n",
    "        (x, y), (x_test, y_test) = fashion_mnist.load_data()\n",
    "    else:\n",
    "        temp = EMNIST('./data/EMNIST', split = 'letters', train=True, download=True)\n",
    "        x = temp.data.unsqueeze(3).numpy().transpose((0,2,1,3))\n",
    "        y = temp.targets.numpy() - 1\n",
    "        temp = EMNIST('./data/EMNIST', split='letters', train=False, download=True)\n",
    "        x_test = temp.data.unsqueeze(3).numpy().transpose((0,2,1,3))\n",
    "        y_test = temp.targets.numpy() - 1\n",
    "        \n",
    "    x = torch.from_numpy(x).float()\n",
    "    y = torch.from_numpy(y).long()\n",
    "    x_test = torch.from_numpy(x_test).float()\n",
    "    y_test = torch.from_numpy(y_test).long().squeeze()\n",
    "\n",
    "    if len(x.shape) != 3:\n",
    "        x = x.squeeze(3)\n",
    "        x_test = x_test.squeeze(3)\n",
    "    \n",
    "    return x, x_test, y, y_test"
   ]
  },
  {
   "cell_type": "code",
   "execution_count": 5,
   "id": "77750277-fc51-4e0e-8715-e88c3f379ad8",
   "metadata": {},
   "outputs": [],
   "source": [
    "dataset = 'fashion_mnist' # dataset can be 'fashion_mnist', 'mnist', or  'emnist'\n",
    "\n",
    "\n",
    "x, x_test, y, y_test = load()"
   ]
  },
  {
   "cell_type": "code",
   "execution_count": 6,
   "id": "a99d7fca-66d4-42e0-85f9-eee43d4bb247",
   "metadata": {},
   "outputs": [],
   "source": [
    "x = x.reshape(-1, 784)\n",
    "x_test = x_test.reshape(-1, 784)\n",
    "\n",
    "scaler = sklearn.preprocessing.Normalizer().fit(x.reshape(-1, 784))\n",
    "x = torch.tensor(scaler.transform(x.reshape(-1, 784)))\n",
    "x_test = torch.tensor(scaler.transform(x_test.reshape(-1, 784)))"
   ]
  },
  {
   "cell_type": "code",
   "execution_count": 8,
   "id": "4faa4ee4-ecce-4f85-a898-88562360c2c7",
   "metadata": {},
   "outputs": [
    {
     "name": "stdout",
     "output_type": "stream",
     "text": [
      "Training...\n",
      "0\n",
      "10\n"
     ]
    }
   ],
   "source": [
    "classes = y.unique().size(0)\n",
    "features = x.size(1)\n",
    "model = Onlinehd.OnlineHD(classes, features, dim=10000)\n",
    "\n",
    "if torch.cuda.is_available():\n",
    "    x = x.cuda()\n",
    "    y = y.cuda()\n",
    "    x_test = x_test.cuda()\n",
    "    y_test = y_test.cuda()\n",
    "    model = model.to('cuda')\n",
    "    print('Using GPU!')\n",
    "\n",
    "print('Training...')\n",
    "t = time()\n",
    "model = model.fit(x, y, bootstrap=1.0, lr=0.035, epochs=20)\n",
    "t = time() - t"
   ]
  },
  {
   "cell_type": "code",
   "execution_count": 9,
   "id": "ddde6eeb-2947-49fb-83e8-6ad2586b82a8",
   "metadata": {},
   "outputs": [
    {
     "name": "stdout",
     "output_type": "stream",
     "text": [
      "Validating...\n",
      "acc = 0.833617\n",
      "acc_test = 0.819600\n",
      "t = 32.590231\n"
     ]
    }
   ],
   "source": [
    "print('Validating...')\n",
    "yhat = model(x)\n",
    "yhat_test = model(x_test)\n",
    "acc = (y == yhat).float().mean()\n",
    "acc_test = (y_test == yhat_test).float().mean()\n",
    "print(f'{acc = :6f}')\n",
    "print(f'{acc_test = :6f}')\n",
    "print(f'{t = :6f}')"
   ]
  },
  {
   "cell_type": "markdown",
   "id": "055239fd-0e16-4f3e-a274-694ad33b1452",
   "metadata": {},
   "source": [
    "# JSMA"
   ]
  },
  {
   "cell_type": "code",
   "execution_count": 10,
   "id": "ad1f0ed1-61b9-4a51-97a3-c83a4d76207f",
   "metadata": {},
   "outputs": [],
   "source": [
    "\n",
    "from abc import ABCMeta\n",
    "\n",
    "import torch\n",
    "\n",
    "def replicate_input(x):\n",
    "    return x.detach().clone()\n",
    "\n",
    "class Attack(object):\n",
    "    \"\"\"\n",
    "    Abstract base class for all attack classes.\n",
    "    :param predict: forward pass function.\n",
    "    :param loss_fn: loss function that takes .\n",
    "    :param clip_min: mininum value per input dimension.\n",
    "    :param clip_max: maximum value per input dimension.\n",
    "    \"\"\"\n",
    "\n",
    "    __metaclass__ = ABCMeta\n",
    "\n",
    "    def __init__(self, predict, loss_fn, clip_min, clip_max):\n",
    "        \"\"\"Create an Attack instance.\"\"\"\n",
    "        self.predict = predict\n",
    "        self.loss_fn = loss_fn\n",
    "        self.clip_min = clip_min\n",
    "        self.clip_max = clip_max\n",
    "\n",
    "    def perturb(self, x, **kwargs):\n",
    "        \"\"\"Virtual method for generating the adversarial examples.\n",
    "        :param x: the model's input tensor.\n",
    "        :param **kwargs: optional parameters used by child classes.\n",
    "        :return: adversarial examples.\n",
    "        \"\"\"\n",
    "        error = \"Sub-classes must implement perturb.\"\n",
    "        raise NotImplementedError(error)\n",
    "\n",
    "    def __call__(self, *args, **kwargs):\n",
    "        return self.perturb(*args, **kwargs)\n",
    "\n",
    "\n",
    "class LabelMixin(object):\n",
    "    def _get_predicted_label(self, x):\n",
    "        \"\"\"\n",
    "        Compute predicted labels given x. Used to prevent label leaking\n",
    "        during adversarial training.\n",
    "        :param x: the model's input tensor.\n",
    "        :return: tensor containing predicted labels.\n",
    "        \"\"\"\n",
    "        with torch.no_grad():\n",
    "            outputs = self.predict(x)\n",
    "        _, y = torch.max(outputs, dim=1)\n",
    "        return y\n",
    "\n",
    "    def _verify_and_process_inputs(self, x, y):\n",
    "        if self.targeted:\n",
    "            assert y is not None\n",
    "\n",
    "        if not self.targeted:\n",
    "            if y is None:\n",
    "                y = self._get_predicted_label(x)\n",
    "\n",
    "        x = replicate_input(x)\n",
    "        y = replicate_input(y)\n",
    "        return x, y"
   ]
  },
  {
   "cell_type": "code",
   "execution_count": 11,
   "id": "87b4b7df-1d5c-40a1-84f6-8526ebcf29c7",
   "metadata": {},
   "outputs": [],
   "source": [
    "class JacobianSaliencyMapAttack():\n",
    "    \"\"\"\n",
    "    Jacobian Saliency Map Attack\n",
    "    This includes Algorithm 1 and 3 in v1, https://arxiv.org/abs/1511.07528v1\n",
    "    :param predict: forward pass function.\n",
    "    :param num_classes: number of clasess.\n",
    "    :param clip_min: mininum value per input dimension.\n",
    "    :param clip_max: maximum value per input dimension.\n",
    "    :param gamma: highest percentage of pixels can be modified\n",
    "    :param theta: perturb length, range is either [theta, 0], [0, theta]\n",
    "    \"\"\"\n",
    "\n",
    "    def __init__(self, predict, num_classes=10,\n",
    "                 clip_min=0.0, clip_max=1.0, loss_fn=None,\n",
    "                 theta=1.0, gamma=1.0, comply_cleverhans=False):\n",
    "        \n",
    "        self.clip_max = clip_max\n",
    "        self.clip_min = clip_min\n",
    "        self.predict = predict\n",
    "        self.num_classes = num_classes\n",
    "        self.theta = theta\n",
    "        self.gamma = gamma\n",
    "        self.comply_cleverhans = comply_cleverhans\n",
    "        self.targeted = True\n",
    "\n",
    "    def _compute_forward_derivative(self, xadv, y):\n",
    "        jacobians = torch.stack([jacobian(self.predict, xadv, yadv)\n",
    "                                 for yadv in range(self.num_classes)])\n",
    "        grads = jacobians.view((jacobians.shape[0], jacobians.shape[1], -1))\n",
    "        grads_target = grads[y, range(len(y)), :]\n",
    "        grads_other = grads.sum(dim=0) - grads_target\n",
    "        return grads_target, grads_other\n",
    "\n",
    "    def _sum_pair(self, grads, dim_x):\n",
    "        return grads.view(-1, dim_x, 1) + grads.view(-1, 1, dim_x)\n",
    "\n",
    "    def _and_pair(self, cond, dim_x):\n",
    "        return cond.view(-1, dim_x, 1) & cond.view(-1, 1, dim_x)\n",
    "\n",
    "    def _saliency_map(self, search_space, grads_target, grads_other, y):\n",
    "\n",
    "        dim_x = search_space.shape[1]\n",
    "\n",
    "        # alpha in Algorithm 3 line 2\n",
    "        gradsum_target = self._sum_pair(grads_target, dim_x)\n",
    "        # alpha in Algorithm 3 line 3\n",
    "        gradsum_other = self._sum_pair(grads_other, dim_x)\n",
    "\n",
    "        if self.theta > 0:\n",
    "            scores_mask = (torch.gt(gradsum_target, 0) &\n",
    "                           torch.lt(gradsum_other, 0))\n",
    "        else:\n",
    "            scores_mask = (torch.lt(gradsum_target, 0) &\n",
    "                           torch.gt(gradsum_other, 0))\n",
    "\n",
    "        scores_mask &= self._and_pair(search_space.ne(0), dim_x)\n",
    "        scores_mask[:, range(dim_x), range(dim_x)] = 0\n",
    "\n",
    "        if self.comply_cleverhans:\n",
    "            valid = torch.ones(scores_mask.shape[0]).byte()\n",
    "        else:\n",
    "            valid = scores_mask.view(-1, dim_x * dim_x).any(dim=1)\n",
    "\n",
    "        scores = scores_mask.float() * (-gradsum_target * gradsum_other)\n",
    "        best = torch.max(scores.view(-1, dim_x * dim_x), 1)[1]\n",
    "        p1 = torch.remainder(best, dim_x)\n",
    "        p2 = (best / dim_x).long()\n",
    "        return p1, p2, valid\n",
    "\n",
    "    def _modify_xadv(self, xadv, batch_size, cond, p1, p2):\n",
    "        ori_shape = xadv.shape\n",
    "        xadv = xadv.view(batch_size, -1)\n",
    "        for idx in range(batch_size):\n",
    "            if cond[idx] != 0:\n",
    "                xadv[idx, p1[idx]] += self.theta\n",
    "                xadv[idx, p2[idx]] += self.theta\n",
    "        xadv = clamp(xadv, min=self.clip_min, max=self.clip_max)\n",
    "        xadv = xadv.view(ori_shape)\n",
    "        return xadv\n",
    "\n",
    "    def _update_search_space(self, search_space, p1, p2, cond):\n",
    "        for idx in range(len(cond)):\n",
    "            if cond[idx] != 0:\n",
    "                search_space[idx, p1[idx]] -= 1\n",
    "                search_space[idx, p2[idx]] -= 1\n",
    "\n",
    "    def perturb(self, x, y=None):\n",
    "#         x, y = self._verify_and_process_inputs(x, y)\n",
    "        xadv = x.clone()\n",
    "        batch_size = 1\n",
    "        dim_x = 784\n",
    "        max_iters = int(dim_x * self.gamma / 2)\n",
    "        search_space = x.new_ones(batch_size, dim_x).int()\n",
    "        curr_step = 0\n",
    "        yadv = model(xadv)\n",
    "        \n",
    "        self.clip_max = x.max().item()\n",
    "        self.clip_min = x.min().item()\n",
    "\n",
    "        # Algorithm 1        \n",
    "        while ((y != yadv).any() and curr_step < 10):\n",
    "            grads_target, grads_other = self._compute_forward_derivative(xadv, y)\n",
    "            # Algorithm 3\n",
    "            p1, p2, valid = self._saliency_map(\n",
    "                search_space, grads_target, grads_other, y)\n",
    "\n",
    "            cond = (y != yadv) & valid\n",
    "\n",
    "            self._update_search_space(search_space, p1, p2, cond)\n",
    "\n",
    "            xadv = self._modify_xadv(xadv, batch_size, cond, p1, p2)\n",
    "            yadv = model(xadv)\n",
    "\n",
    "            curr_step += 1\n",
    "\n",
    "        xadv = clamp(xadv, min=self.clip_min, max=self.clip_max)\n",
    "        return xadv"
   ]
  },
  {
   "cell_type": "code",
   "execution_count": 12,
   "id": "ebc04984-2aed-4cc5-8985-b736a9170b72",
   "metadata": {},
   "outputs": [],
   "source": [
    "def jacobian(model, x, output_class):\n",
    "    \"\"\"\n",
    "    Compute the output_class'th row of a Jacobian matrix. In other words,\n",
    "    compute the gradient wrt to the output_class.\n",
    "    :param model: forward pass function.\n",
    "    :param x: input tensor.\n",
    "    :param output_class: the output class we want to compute the gradients.\n",
    "    :return: output_class'th row of the Jacobian matrix wrt x.\n",
    "    \"\"\"\n",
    "\n",
    "    xvar = x.detach().clone()\n",
    "    xvar.requires_grad = True\n",
    "    scores = model.scores(xvar)\n",
    "\n",
    "    # compute gradients for the class output_class wrt the input x\n",
    "    # using backpropagation\n",
    "    torch.sum(scores[:, output_class]).backward()\n",
    "\n",
    "    return xvar.grad.detach().clone()"
   ]
  },
  {
   "cell_type": "code",
   "execution_count": 13,
   "id": "59d51411-b50f-4305-8746-0192b0833678",
   "metadata": {},
   "outputs": [],
   "source": [
    "def clamp(input, min=None, max=None):\n",
    "    ndim = input.ndimension()\n",
    "    if min is None:\n",
    "        pass\n",
    "    elif isinstance(min, (float, int)):\n",
    "        input = torch.clamp(input, min=min)\n",
    "    elif isinstance(min, torch.Tensor):\n",
    "        if min.ndimension() == ndim - 1 and min.shape == input.shape[1:]:\n",
    "            input = torch.max(input, min.view(1, *min.shape))\n",
    "        else:\n",
    "            assert min.shape == input.shape\n",
    "            input = torch.max(input, min)\n",
    "    else:\n",
    "        raise ValueError(\"min can only be None | float | torch.Tensor\")\n",
    "\n",
    "    if max is None:\n",
    "        pass\n",
    "    elif isinstance(max, (float, int)):\n",
    "        input = torch.clamp(input, max=max)\n",
    "    elif isinstance(max, torch.Tensor):\n",
    "        if max.ndimension() == ndim - 1 and max.shape == input.shape[1:]:\n",
    "            input = torch.min(input, max.view(1, *max.shape))\n",
    "        else:\n",
    "            assert max.shape == input.shape\n",
    "            input = torch.min(input, max)\n",
    "    else:\n",
    "        raise ValueError(\"max can only be None | float | torch.Tensor\")\n",
    "    return input\n"
   ]
  },
  {
   "cell_type": "code",
   "execution_count": 14,
   "id": "60dddab1-a4fb-49fd-aa73-392c1b2cff36",
   "metadata": {},
   "outputs": [],
   "source": [
    "JSMA = JacobianSaliencyMapAttack(model)"
   ]
  },
  {
   "cell_type": "code",
   "execution_count": 15,
   "id": "f5a254a2-fdab-4036-bc12-254155f55fe4",
   "metadata": {
    "tags": []
   },
   "outputs": [
    {
     "name": "stderr",
     "output_type": "stream",
     "text": [
      " 57%|████████████████████               | 10000/17500 [1:17:24<58:03,  2.15it/s]\n"
     ]
    },
    {
     "ename": "IndexError",
     "evalue": "index 10000 is out of bounds for dimension 0 with size 10000",
     "output_type": "error",
     "traceback": [
      "\u001b[0;31m---------------------------------------------------------------------------\u001b[0m",
      "\u001b[0;31mIndexError\u001b[0m                                Traceback (most recent call last)",
      "\u001b[0;32m/var/folders/4_/4812b_4j2_s0smfmxlqdpr600000gn/T/ipykernel_61716/2621622199.py\u001b[0m in \u001b[0;36m<module>\u001b[0;34m\u001b[0m\n\u001b[1;32m      3\u001b[0m \u001b[0;34m\u001b[0m\u001b[0m\n\u001b[1;32m      4\u001b[0m \u001b[0;32mfor\u001b[0m \u001b[0mi\u001b[0m \u001b[0;32min\u001b[0m \u001b[0mtqdm\u001b[0m\u001b[0;34m(\u001b[0m\u001b[0mrange\u001b[0m\u001b[0;34m(\u001b[0m\u001b[0;36m17500\u001b[0m\u001b[0;34m)\u001b[0m\u001b[0;34m)\u001b[0m\u001b[0;34m:\u001b[0m\u001b[0;34m\u001b[0m\u001b[0;34m\u001b[0m\u001b[0m\n\u001b[0;32m----> 5\u001b[0;31m     \u001b[0mxadv\u001b[0m\u001b[0;34m[\u001b[0m\u001b[0mi\u001b[0m\u001b[0;34m]\u001b[0m \u001b[0;34m=\u001b[0m \u001b[0mJSMA\u001b[0m\u001b[0;34m.\u001b[0m\u001b[0mperturb\u001b[0m\u001b[0;34m(\u001b[0m\u001b[0mx_test\u001b[0m\u001b[0;34m[\u001b[0m\u001b[0mi\u001b[0m\u001b[0;34m]\u001b[0m\u001b[0;34m.\u001b[0m\u001b[0mreshape\u001b[0m\u001b[0;34m(\u001b[0m\u001b[0;36m1\u001b[0m\u001b[0;34m,\u001b[0m \u001b[0;36m784\u001b[0m\u001b[0;34m)\u001b[0m\u001b[0;34m,\u001b[0m \u001b[0my\u001b[0m\u001b[0;34m[\u001b[0m\u001b[0mi\u001b[0m\u001b[0;34m]\u001b[0m\u001b[0;34m.\u001b[0m\u001b[0mreshape\u001b[0m\u001b[0;34m(\u001b[0m\u001b[0;36m1\u001b[0m\u001b[0;34m)\u001b[0m\u001b[0;34m)\u001b[0m\u001b[0;34m\u001b[0m\u001b[0;34m\u001b[0m\u001b[0m\n\u001b[0m",
      "\u001b[0;31mIndexError\u001b[0m: index 10000 is out of bounds for dimension 0 with size 10000"
     ]
    }
   ],
   "source": [
    "from tqdm import tqdm\n",
    "xadv = torch.zeros(17500, 784)\n",
    "\n",
    "for i in tqdm(range(17500)):\n",
    "    xadv[i] = JSMA.perturb(x_test[i].reshape(1, 784), y[i].reshape(1))"
   ]
  },
  {
   "cell_type": "code",
   "execution_count": 16,
   "id": "85894cf4-9c10-48cf-8823-6a7745d2f99d",
   "metadata": {},
   "outputs": [
    {
     "data": {
      "image/png": "[encoded data removed]",
      "text/plain": [
       "<Figure size 432x288 with 2 Axes>"
      ]
     },
     "metadata": {
      "needs_background": "light"
     },
     "output_type": "display_data"
    },
    {
     "data": {
      "image/png": "[encoded data removed]",
      "text/plain": [
       "<Figure size 432x288 with 2 Axes>"
      ]
     },
     "metadata": {
      "needs_background": "light"
     },
     "output_type": "display_data"
    },
    {
     "data": {
      "image/png": "[encoded data removed]",
      "text/plain": [
       "<Figure size 432x288 with 2 Axes>"
      ]
     },
     "metadata": {
      "needs_background": "light"
     },
     "output_type": "display_data"
    }
   ],
   "source": [
    "for i in range(3):\n",
    "    plt.imshow(xadv[i].reshape(28, 28), cmap='gray')\n",
    "    plt.colorbar()\n",
    "    plt.show()"
   ]
  },
  {
   "cell_type": "code",
   "execution_count": 17,
   "id": "d3999042-355a-4254-b762-47578bf85b11",
   "metadata": {},
   "outputs": [],
   "source": [
    "adv_samples = torch.from_numpy(scaler.transform(xadv[:10000])).float()"
   ]
  },
  {
   "cell_type": "code",
   "execution_count": 18,
   "id": "327a1a90-16a3-44c6-954f-c2e4df5b1198",
   "metadata": {},
   "outputs": [
    {
     "name": "stdout",
     "output_type": "stream",
     "text": [
      "Validating...\n",
      "acc = 0.833617\n",
      "acc_test = 0.819600\n",
      "acc_attack = 0.789600\n",
      "t = 32.590231\n"
     ]
    }
   ],
   "source": [
    "print('Validating...')\n",
    "yhat = model(x)\n",
    "yhat_test = model(x_test)\n",
    "yhat_attack = model(adv_samples.reshape(-1, 784))\n",
    "\n",
    "\n",
    "acc = (y == yhat).float().mean()\n",
    "acc_test = (y_test == yhat_test).float().mean()\n",
    "acc_attack = (y_test == yhat_attack).float().mean()\n",
    "\n",
    "print(f'{acc = :6f}')\n",
    "print(f'{acc_test = :6f}')\n",
    "print(f'{acc_attack = :6f}')\n",
    "print(f'{t = :6f}')"
   ]
  },
  {
   "cell_type": "code",
   "execution_count": 19,
   "id": "d2305b21-130a-4262-b72f-c5319674d911",
   "metadata": {},
   "outputs": [],
   "source": [
    "import pickle\n",
    "\n",
    "data = {\n",
    "    'data':adv_samples,\n",
    "    'label':y_test\n",
    "}\n",
    "\n",
    "with open('FMNIST_HD_JSMA.pickle', 'wb') as f:\n",
    "    pickle.dump(data, f)"
   ]
  },
  {
   "cell_type": "code",
   "execution_count": null,
   "id": "da95e6dd-4b4b-4f7a-8417-2cbeabf69337",
   "metadata": {},
   "outputs": [],
   "source": []
  }
 ],
 "metadata": {
  "kernelspec": {
   "display_name": "UCI",
   "language": "python",
   "name": "uci"
  },
  "language_info": {
   "codemirror_mode": {
    "name": "ipython",
    "version": 3
   },
   "file_extension": ".py",
   "mimetype": "text/x-python",
   "name": "python",
   "nbconvert_exporter": "python",
   "pygments_lexer": "ipython3",
   "version": "3.8.5"
  }
 },
 "nbformat": 4,
 "nbformat_minor": 5
}
