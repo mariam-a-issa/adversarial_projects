{
 "cells": [
  {
   "cell_type": "code",
   "execution_count": 2,
   "id": "1510e5ef-247e-4270-b4cd-f234376fc1fa",
   "metadata": {},
   "outputs": [
    {
     "data": {
      "text/plain": [
       "<torch._C.Generator at 0x7fec58c54070>"
      ]
     },
     "execution_count": 2,
     "metadata": {},
     "output_type": "execute_result"
    }
   ],
   "source": [
    "from time import time\n",
    "\n",
    "import torch\n",
    "import sklearn.datasets\n",
    "import sklearn.preprocessing\n",
    "import sklearn.model_selection\n",
    "import numpy as np\n",
    "import math\n",
    "import matplotlib.pyplot as plt\n",
    "\n",
    "from torchvision.datasets import MNIST\n",
    "from torchvision.datasets import FashionMNIST as FMNIST\n",
    "from torchvision.datasets import EMNIST\n",
    "import torchvision.transforms as transforms\n",
    "\n",
    "import Onlinehd\n",
    "\n",
    "SEED = 1234\n",
    "device = 'cuda' if torch.cuda.is_available() else 'cpu'\n",
    "np.random.seed(SEED)\n",
    "torch.manual_seed(SEED)"
   ]
  },
  {
   "cell_type": "markdown",
   "id": "cc94615f-19b3-461b-b412-25cb33476003",
   "metadata": {},
   "source": [
    "### Load Function MNIST(Digits), FMNIST, EMNIST(Letters)"
   ]
  },
  {
   "cell_type": "code",
   "execution_count": 1,
   "id": "01a7bbc3-4d2a-4486-b6bc-e817755c0d54",
   "metadata": {},
   "outputs": [],
   "source": [
    "from tensorflow.keras.datasets import fashion_mnist\n",
    "\n",
    "def load():\n",
    "    if dataset == 'mnist':\n",
    "        (x, y), (x_test, y_test) = mnist.load_data()\n",
    "    elif dataset == 'fashion_mnist':\n",
    "        (x, y), (x_test, y_test) = fashion_mnist.load_data()\n",
    "    else:\n",
    "        temp = EMNIST('./data/EMNIST', split = 'letters', train=True, download=True)\n",
    "        x = temp.data.unsqueeze(3).numpy().transpose((0,2,1,3))\n",
    "        y = temp.targets.numpy() - 1\n",
    "        temp = EMNIST('./data/EMNIST', split='letters', train=False, download=True)\n",
    "        x_test = temp.data.unsqueeze(3).numpy().transpose((0,2,1,3))\n",
    "        y_test = temp.targets.numpy() - 1\n",
    "        \n",
    "    x = torch.from_numpy(x).float()\n",
    "    y = torch.from_numpy(y).long()\n",
    "    x_test = torch.from_numpy(x_test).float()\n",
    "    y_test = torch.from_numpy(y_test).long().squeeze()\n",
    "\n",
    "    if len(x.shape) != 3:\n",
    "        x = x.squeeze(3)\n",
    "        x_test = x_test.squeeze(3)\n",
    "    \n",
    "    return x, x_test, y, y_test"
   ]
  },
  {
   "cell_type": "markdown",
   "id": "9d851bcf-03cd-4c75-9a43-214c2bbcb96d",
   "metadata": {},
   "source": [
    "# FMNIST"
   ]
  },
  {
   "cell_type": "code",
   "execution_count": 5,
   "id": "11e030cc-636f-4fda-a33b-6e0e009363ce",
   "metadata": {
    "collapsed": true,
    "jupyter": {
     "outputs_hidden": true
    },
    "tags": []
   },
   "outputs": [
    {
     "name": "stderr",
     "output_type": "stream",
     "text": [
      "/var/folders/4_/4812b_4j2_s0smfmxlqdpr600000gn/T/ipykernel_5609/2281456639.py:17: UserWarning: The given NumPy array is not writeable, and PyTorch does not support non-writeable tensors. This means you can write to the underlying (supposedly non-writeable) NumPy array using the tensor. You may want to copy the array to protect its data or make it writeable before converting it to a tensor. This type of warning will be suppressed for the rest of this program. (Triggered internally at  ../torch/csrc/utils/tensor_numpy.cpp:180.)\n",
      "  x = torch.from_numpy(x).float()\n"
     ]
    }
   ],
   "source": [
    "dataset = 'fashion_mnist' # dataset can be 'fashion_mnist', 'mnist', or  'emnist'\n",
    "\n",
    "f_x, f_x_test, f_y, f_y_test = load()"
   ]
  },
  {
   "cell_type": "code",
   "execution_count": 6,
   "id": "bc02af66-b466-4548-9398-bae20499f53e",
   "metadata": {},
   "outputs": [],
   "source": [
    "f_x = f_x.reshape(-1, 784)\n",
    "f_x_test = f_x_test.reshape(-1, 784)\n",
    "\n",
    "f_scaler = sklearn.preprocessing.Normalizer().fit(f_x.reshape(-1, 784))\n",
    "f_x = torch.tensor(f_scaler.transform(f_x.reshape(-1, 784)))\n",
    "f_x_test = torch.tensor(f_scaler.transform(f_x_test.reshape(-1, 784)))"
   ]
  },
  {
   "cell_type": "code",
   "execution_count": 7,
   "id": "eee07194-9e05-4c4f-ba17-02a879dd8230",
   "metadata": {},
   "outputs": [
    {
     "name": "stdout",
     "output_type": "stream",
     "text": [
      "Training...\n",
      "0\n",
      "10\n"
     ]
    }
   ],
   "source": [
    "from time import time\n",
    "\n",
    "f_classes = f_y.unique().size(0)\n",
    "f_features = f_x.size(1)\n",
    "Fmodel = Onlinehd.OnlineHD(f_classes, f_features, dim=10000)\n",
    "\n",
    "if torch.cuda.is_available():\n",
    "    f_x = f_x.cuda()\n",
    "    f_y = f_y.cuda()\n",
    "    f_x_test = f_x_test.cuda()\n",
    "    f_y_test = f_y_test.cuda()\n",
    "    Fmodel = Fmodel.to('cuda')\n",
    "    print('Using GPU!')\n",
    "\n",
    "print('Training...')\n",
    "t = time()\n",
    "Fmodel = Fmodel.fit(f_x, f_y, bootstrap=1.0, lr=0.035, epochs=20)\n",
    "t = time() - t"
   ]
  },
  {
   "cell_type": "code",
   "execution_count": 8,
   "id": "01847ed1-423b-4da0-acab-ff95fef31ec5",
   "metadata": {},
   "outputs": [
    {
     "name": "stdout",
     "output_type": "stream",
     "text": [
      "Validating...\n",
      "f_acc = 0.833617\n",
      "f_acc_test = 0.819600\n",
      "t = 31.350919\n"
     ]
    }
   ],
   "source": [
    "print('Validating...')\n",
    "f_yhat = Fmodel(f_x)\n",
    "f_yhat_test = Fmodel(f_x_test)\n",
    "\n",
    "f_acc = (f_y == f_yhat).float().mean()\n",
    "f_acc_test = (f_y_test == f_yhat_test).float().mean()\n",
    "\n",
    "print(f'{f_acc = :6f}')\n",
    "print(f'{f_acc_test = :6f}')\n",
    "print(f'{t = :6f}')"
   ]
  },
  {
   "cell_type": "code",
   "execution_count": 10,
   "id": "861a7d45-d95e-40e6-b27e-1413ab05b176",
   "metadata": {},
   "outputs": [],
   "source": [
    "def fgsm_attack(x_original, epsilon, gradient):\n",
    "    # Get Gradient sign\n",
    "    grad_sign = gradient.sign()\n",
    "    # Add epsilon*grad_sign perturbation to the original input\n",
    "    perturbation = epsilon*grad_sign\n",
    "    x_perturbed = x_original + perturbation\n",
    "    return x_perturbed, perturbation"
   ]
  },
  {
   "cell_type": "code",
   "execution_count": 12,
   "id": "986a357c-42fd-44d8-ad67-9f86f5205544",
   "metadata": {},
   "outputs": [
    {
     "data": {
      "text/plain": [
       "Text(0.5, 1.0, 'tensor(5)')"
      ]
     },
     "execution_count": 12,
     "metadata": {},
     "output_type": "execute_result"
    },
    {
     "data": {
      "image/png": "[encoded data removed]",
      "text/plain": [
       "<Figure size 432x288 with 2 Axes>"
      ]
     },
     "metadata": {
      "needs_background": "light"
     },
     "output_type": "display_data"
    }
   ],
   "source": [
    "plt.imshow(f_x_test[-1].reshape(28, 28), cmap='gray')\n",
    "plt.colorbar()\n",
    "plt.title(f_y_test[-1])"
   ]
  },
  {
   "cell_type": "code",
   "execution_count": 13,
   "id": "2885541e-0b74-44d0-b775-6648482a3ba0",
   "metadata": {},
   "outputs": [],
   "source": [
    "import torch.nn as nn\n",
    "import time\n",
    "\n",
    "epsilons = torch.Tensor([0.01, 0.03, 0.07, 0.1])\n",
    "acc_results_non = dict()\n",
    "verbose = False\n",
    "criterion = nn.CosineEmbeddingLoss()\n",
    "N_VAL_SAMPLES = f_x_test.data.shape[0]"
   ]
  },
  {
   "cell_type": "code",
   "execution_count": 23,
   "id": "e5220ac0-605d-4edf-9903-35aee541e409",
   "metadata": {},
   "outputs": [
    {
     "data": {
      "image/png": "[encoded data removed]",
      "text/plain": [
       "<Figure size 432x288 with 2 Axes>"
      ]
     },
     "metadata": {
      "needs_background": "light"
     },
     "output_type": "display_data"
    },
    {
     "name": "stdout",
     "output_type": "stream",
     "text": [
      "\n",
      "FGSM Attack with epsilon = 0.01000 | Elapsed time: 88.35 seconds.\n",
      "Accuracy: Before the attack -> 81.96%\t|\tAfter the attack -> 72.88%\n"
     ]
    },
    {
     "data": {
      "image/png": "[encoded data removed]",
      "text/plain": [
       "<Figure size 432x288 with 2 Axes>"
      ]
     },
     "metadata": {
      "needs_background": "light"
     },
     "output_type": "display_data"
    },
    {
     "name": "stdout",
     "output_type": "stream",
     "text": [
      "\n",
      "FGSM Attack with epsilon = 0.03000 | Elapsed time: 84.35 seconds.\n",
      "Accuracy: Before the attack -> 81.96%\t|\tAfter the attack -> 22.45%\n"
     ]
    },
    {
     "data": {
      "image/png": "[encoded data removed]",
      "text/plain": [
       "<Figure size 432x288 with 2 Axes>"
      ]
     },
     "metadata": {
      "needs_background": "light"
     },
     "output_type": "display_data"
    },
    {
     "name": "stdout",
     "output_type": "stream",
     "text": [
      "\n",
      "FGSM Attack with epsilon = 0.07000 | Elapsed time: 84.80 seconds.\n",
      "Accuracy: Before the attack -> 81.96%\t|\tAfter the attack -> 10.00%\n"
     ]
    },
    {
     "data": {
      "image/png": "[encoded data removed]",
      "text/plain": [
       "<Figure size 432x288 with 2 Axes>"
      ]
     },
     "metadata": {
      "needs_background": "light"
     },
     "output_type": "display_data"
    },
    {
     "name": "stdout",
     "output_type": "stream",
     "text": [
      "\n",
      "FGSM Attack with epsilon = 0.10000 | Elapsed time: 86.80 seconds.\n",
      "Accuracy: Before the attack -> 81.96%\t|\tAfter the attack -> 10.00%\n"
     ]
    }
   ],
   "source": [
    "attack_sample = {'0.01':torch.zeros(10000, 28, 28),\n",
    "                 '0.03':torch.zeros(10000, 28, 28),\n",
    "                 '0.07':torch.zeros(10000, 28, 28),\n",
    "                 '0.1':torch.zeros(10000, 28, 28)}\n",
    "\n",
    "for eps in epsilons:\n",
    "    correct_unperturbed = 0\n",
    "    correct_perturbed = 0\n",
    "    t0 = time.perf_counter()\n",
    "\n",
    "    attack = torch.zeros(10000, 28, 28)\n",
    "    labels = torch.zeros(10000)\n",
    "    \n",
    "    for j in range(len(f_x_test)):\n",
    "    ### NOTE: IT WOULD BE MORE EFFICIENT TO ITERATE ONLY ONCE THROUGH THE DATA AND PERFORM ALL THE ATTACKS\n",
    "        x_origin, y_target = f_x_test[j], f_y_test[j]\n",
    "        x_origin, y_target = x_origin.to(device), y_target.to(device)\n",
    "        x_origin.requires_grad = True\n",
    "\n",
    "        y_pred = Fmodel(x_origin.reshape(-1, 784))\n",
    "        \n",
    "        if y_pred == y_target:\n",
    "            correct_unperturbed += 1\n",
    "            \n",
    "        label = torch.ones(f_classes, dtype=int) * -1\n",
    "        label[y_target.item()] = 1\n",
    "        # Calculate loss and gradient\n",
    "        output = Fmodel.encode(x_origin.reshape(-1, 784))\n",
    "        loss = criterion(output, Fmodel.model, label)\n",
    "        grad = torch.autograd.grad(outputs=loss, inputs=x_origin)[0]\n",
    "\n",
    "        perturbed_x, _ = fgsm_attack(x_origin, epsilon=eps, gradient=grad)\n",
    "        perturbed_output = Fmodel(perturbed_x.reshape(-1, 784))            \n",
    "            \n",
    "        if perturbed_output == y_target:\n",
    "            correct_perturbed += 1\n",
    "        \n",
    "        attack[j] = perturbed_x.reshape(28, 28)\n",
    "        labels[j] = y_target\n",
    "                \n",
    "    if eps == 0.1:\n",
    "        attack_sample['0.1'] = attack\n",
    "    elif eps == 0.07:\n",
    "        attack_sample['0.07'] = attack\n",
    "    elif eps == 0.03:\n",
    "        attack_sample['0.03'] = attack\n",
    "    else:\n",
    "        attack_sample['0.01'] = attack  \n",
    "        \n",
    "    plt.imshow(perturbed_x.detach().numpy().reshape(28, 28), cmap='gray')\n",
    "    plt.colorbar()\n",
    "    plt.show()\n",
    "    acc_before_attack = correct_unperturbed / N_VAL_SAMPLES\n",
    "    acc_after_attack = correct_perturbed / N_VAL_SAMPLES\n",
    "    print(f'\\nFGSM Attack with epsilon = {eps:.5f} | Elapsed time: {time.perf_counter() - t0:.2f} seconds.')\n",
    "    print(f'Accuracy: Before the attack -> {100 * acc_before_attack:.2f}%\\t|\\tAfter the attack -> {100 * acc_after_attack:.2f}%')\n",
    "    acc_results_non[eps.item()] = acc_after_attack\n",
    "acc_results_non[0] = acc_before_attack"
   ]
  },
  {
   "cell_type": "code",
   "execution_count": 24,
   "id": "362d8a98-4b3c-4a53-a191-d8d365e3d414",
   "metadata": {},
   "outputs": [],
   "source": [
    "import pickle \n",
    "\n",
    "data = {'data' : attack_sample,\n",
    "        'label' : labels}\n",
    "\n",
    "with open('FMNIST_FGSM_HD.pickle', 'wb') as f:\n",
    "    pickle.dump(data, f)"
   ]
  },
  {
   "cell_type": "code",
   "execution_count": 25,
   "id": "6bbfc02d-15f7-42ae-8a51-a8d0bddb39ce",
   "metadata": {},
   "outputs": [],
   "source": [
    "for eps in attack_sample.keys():\n",
    "    attack_norm = attack_sample[eps].detach().numpy().reshape(-1, 784)\n",
    "    attack_norm = f_scaler.transform(attack_norm)\n",
    "    attack_sample[eps] = torch.from_numpy(attack_norm).float()"
   ]
  },
  {
   "cell_type": "code",
   "execution_count": 26,
   "id": "d6bf2f9b-1b16-4733-aaa9-0faea822a42d",
   "metadata": {},
   "outputs": [
    {
     "data": {
      "text/plain": [
       "<matplotlib.colorbar.Colorbar at 0x7feba338b760>"
      ]
     },
     "execution_count": 26,
     "metadata": {},
     "output_type": "execute_result"
    },
    {
     "data": {
      "image/png": "[encoded data removed]",
      "text/plain": [
       "<Figure size 432x288 with 2 Axes>"
      ]
     },
     "metadata": {
      "needs_background": "light"
     },
     "output_type": "display_data"
    }
   ],
   "source": [
    "plt.imshow(attack_sample['0.01'][-1].reshape(28, 28), cmap='gray')\n",
    "plt.colorbar()"
   ]
  },
  {
   "cell_type": "code",
   "execution_count": 29,
   "id": "bed2d69e-8e38-4bfc-be3d-e742c18d2120",
   "metadata": {},
   "outputs": [
    {
     "name": "stdout",
     "output_type": "stream",
     "text": [
      "Validating...\n",
      "acc = 0.833617\n",
      "acc_test = 0.819600\n",
      "acc_attack_001 = 0.732200\n",
      "acc_attack_003 = 0.359000\n",
      "acc_attack_007 = 0.100000\n",
      "acc_attack_010 = 0.100000\n"
     ]
    }
   ],
   "source": [
    "print('Validating...')\n",
    "yhat = Fmodel(f_x)\n",
    "yhat_test = Fmodel(f_x_test)\n",
    "yhat_attack_001 = Fmodel(attack_sample['0.01'])\n",
    "yhat_attack_003 = Fmodel(attack_sample['0.03'])\n",
    "yhat_attack_007 = Fmodel(attack_sample['0.07'])\n",
    "yhat_attack_010 = Fmodel(attack_sample['0.1'])\n",
    "\n",
    "acc = (f_y == yhat).float().mean()\n",
    "acc_test = (f_y_test == yhat_test).float().mean()\n",
    "acc_attack_001 = (labels == yhat_attack_001).float().mean()\n",
    "acc_attack_003 = (labels == yhat_attack_003).float().mean()\n",
    "acc_attack_007 = (labels == yhat_attack_007).float().mean()\n",
    "acc_attack_010 = (labels == yhat_attack_010).float().mean()\n",
    "\n",
    "print(f'{acc = :6f}')\n",
    "print(f'{acc_test = :6f}')\n",
    "print(f'{acc_attack_001 = :6f}')\n",
    "print(f'{acc_attack_003 = :6f}')\n",
    "print(f'{acc_attack_007 = :6f}')\n",
    "print(f'{acc_attack_010 = :6f}')"
   ]
  }
 ],
 "metadata": {
  "kernelspec": {
   "display_name": "UCI",
   "language": "python",
   "name": "uci"
  },
  "language_info": {
   "codemirror_mode": {
    "name": "ipython",
    "version": 3
   },
   "file_extension": ".py",
   "mimetype": "text/x-python",
   "name": "python",
   "nbconvert_exporter": "python",
   "pygments_lexer": "ipython3",
   "version": "3.8.5"
  }
 },
 "nbformat": 4,
 "nbformat_minor": 5
}
