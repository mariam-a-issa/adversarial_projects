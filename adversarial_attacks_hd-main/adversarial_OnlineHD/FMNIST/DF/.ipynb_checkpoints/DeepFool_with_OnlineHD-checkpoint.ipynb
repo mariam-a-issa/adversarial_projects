{
  "nbformat": 4,
  "nbformat_minor": 0,
  "metadata": {
    "colab": {
      "name": "DeepFool_with_OnlineHD.ipynb",
      "provenance": [],
      "collapsed_sections": []
    },
    "kernelspec": {
      "name": "python3",
      "display_name": "Python 3"
    },
    "language_info": {
      "name": "python"
    }
  },
  "cells": [
    {
      "cell_type": "code",
      "metadata": {
        "id": "adaVijx6xz2O"
      },
      "source": [
        "!wget https://www.python.org/ftp/python/3.8.2/Python-3.8.2.tgz\n",
        "!tar xvfz Python-3.8.2.tgz \n",
        "!Python-3.8.2/configure \n",
        "!make\n",
        "!sudo make install"
      ],
      "execution_count": null,
      "outputs": []
    },
    {
      "cell_type": "code",
      "metadata": {
        "colab": {
          "base_uri": "https://localhost:8080/"
        },
        "id": "4swNDM7DxzzW",
        "outputId": "5aec9bd1-3daf-41d9-9169-f9d40ca2eefa"
      },
      "source": [
        "!python -V"
      ],
      "execution_count": null,
      "outputs": [
        {
          "output_type": "stream",
          "text": [
            "Python 3.8.2\n"
          ],
          "name": "stdout"
        }
      ]
    },
    {
      "cell_type": "code",
      "metadata": {
        "colab": {
          "base_uri": "https://localhost:8080/"
        },
        "id": "PoPMy_sRxz7u",
        "outputId": "64f44126-e4e6-4564-ad77-6a34a480ae0b"
      },
      "source": [
        "pip install onlinehd"
      ],
      "execution_count": null,
      "outputs": [
        {
          "output_type": "stream",
          "text": [
            "Collecting onlinehd\n",
            "  Downloading https://files.pythonhosted.org/packages/cb/05/e170bef130a68f50e11ab0085a03b5955df23998d862faf5ef39eac68271/onlinehd-0.1.2-py3-none-any.whl\n",
            "Collecting torch<2.0.0,>=1.7.1 (from onlinehd)\n",
            "\u001b[?25l  Downloading https://files.pythonhosted.org/packages/69/f2/2c0114a3ba44445de3e6a45c4a2bf33c7f6711774adece8627746380780c/torch-1.9.0-cp38-cp38-manylinux1_x86_64.whl (831.4MB)\n",
            "\u001b[K     |████████████████████████████████| 831.4MB 29kB/s \n",
            "\u001b[?25hCollecting ninja<2.0.0,>=1.10.0 (from onlinehd)\n",
            "\u001b[?25l  Downloading https://files.pythonhosted.org/packages/14/e9/981a87bdb105768fd9b9db4c9bef1e9e73e1814fddcbbe5fcc36b446ead3/ninja-1.10.2-py2.py3-none-manylinux_2_5_x86_64.manylinux1_x86_64.whl (108kB)\n",
            "\u001b[K     |████████████████████████████████| 112kB 41.0MB/s \n",
            "\u001b[?25hCollecting typing-extensions (from torch<2.0.0,>=1.7.1->onlinehd)\n",
            "  Downloading https://files.pythonhosted.org/packages/2e/35/6c4fff5ab443b57116cb1aad46421fb719bed2825664e8fe77d66d99bcbc/typing_extensions-3.10.0.0-py3-none-any.whl\n",
            "Installing collected packages: typing-extensions, torch, ninja, onlinehd\n",
            "Successfully installed ninja-1.10.2 onlinehd-0.1.2 torch-1.9.0 typing-extensions-3.10.0.0\n"
          ],
          "name": "stdout"
        }
      ]
    },
    {
      "cell_type": "code",
      "metadata": {
        "id": "ylEU_B6GAiI6",
        "colab": {
          "base_uri": "https://localhost:8080/"
        },
        "outputId": "cb89229a-850d-400b-98ab-16897e8c98ec"
      },
      "source": [
        "from google.colab import drive\n",
        "drive.mount('/content/drive')"
      ],
      "execution_count": null,
      "outputs": [
        {
          "output_type": "stream",
          "text": [
            "Mounted at /content/drive\n"
          ],
          "name": "stdout"
        }
      ]
    },
    {
      "cell_type": "code",
      "metadata": {
        "colab": {
          "base_uri": "https://localhost:8080/"
        },
        "id": "tHIX1HcS5W2a",
        "outputId": "4b481505-45de-4097-d552-3b1b2290f53b"
      },
      "source": [
        "%cd /content/drive/MyDrive/Colab Notebooks/onlinehd-main"
      ],
      "execution_count": null,
      "outputs": [
        {
          "output_type": "stream",
          "text": [
            "/content/drive/MyDrive/Colab Notebooks/onlinehd-main\n"
          ],
          "name": "stdout"
        }
      ]
    },
    {
      "cell_type": "code",
      "metadata": {
        "id": "DTPuJDbblaTP"
      },
      "source": [
        "import os\n",
        "os.environ['CUDA_LAUNCH_BLOCKING'] = \"1\"\n",
        "os.environ[\"CUDA_VISIBLE_DEVICES\"] = \"0\""
      ],
      "execution_count": null,
      "outputs": []
    },
    {
      "cell_type": "code",
      "metadata": {
        "id": "33Lwo5S5lI6D"
      },
      "source": [
        "import torch.nn as nn\n",
        "import torch.nn.functional as F\n",
        "import torchvision\n",
        "import torchvision.transforms as transforms\n",
        "import numpy as np\n",
        "import matplotlib.pyplot as plt\n",
        "import torch\n",
        "import torch.optim as optim\n",
        "import torch.utils.data as data_utils\n",
        "from torch.autograd import Variable\n",
        "import math\n",
        "import torchvision.models as models\n",
        "from PIL import Image\n",
        "import tensorflow as tf\n",
        "import os\n",
        "import copy\n",
        "import sklearn.datasets\n",
        "import sklearn.model_selection\n",
        "import sklearn.preprocessing"
      ],
      "execution_count": null,
      "outputs": []
    },
    {
      "cell_type": "code",
      "metadata": {
        "id": "vyYWkFSq5Wzg"
      },
      "source": [
        "import onlinehd"
      ],
      "execution_count": null,
      "outputs": []
    },
    {
      "cell_type": "code",
      "metadata": {
        "id": "v_5k69UMx_mk"
      },
      "source": [
        "import pickle\n",
        "def save_data(x_train, y_train, x_test, y_test, save_path):\n",
        "    data = {\n",
        "        'train_data': x_train,\n",
        "        'train_label': y_train,\n",
        "        'test_data': x_test,\n",
        "        'test_label': y_test,\n",
        "    }\n",
        "    with open(save_path, 'wb') as handle:\n",
        "        pickle.dump(data, handle, protocol=pickle.HIGHEST_PROTOCOL)"
      ],
      "execution_count": null,
      "outputs": []
    },
    {
      "cell_type": "code",
      "metadata": {
        "id": "QfS1TJd1lLVn"
      },
      "source": [
        "def load_mnist():\n",
        "    x, y = sklearn.datasets.fetch_openml('mnist_784', return_X_y=True)\n",
        "    x = np.array(x).astype(np.float64)\n",
        "    y = np.array(y).astype(np.int64)\n",
        "\n",
        "    # Split\n",
        "    x_train, x_test, y_train, y_test = sklearn.model_selection.train_test_split(x, y)\n",
        "\n",
        "    x_train = x_train.reshape(-1, 28, 28)\n",
        "    y_train = y_train.flatten()\n",
        "    x_test = x_test.reshape(-1, 28, 28)\n",
        "    y_test = y_test.flatten()\n",
        "\n",
        "    return x_train, y_train, x_test, y_test\n",
        "\n",
        "def load_emnist():\n",
        "    temp = torchvision.datasets.EMNIST('./data/EMNIST', split = 'letters', train = True, download = True)\n",
        "    x_train = temp.data.unsqueeze(3).numpy().transpose((0,2,1,3))\n",
        "    y_train = temp.targets.numpy() - 1\n",
        "    temp = torchvision.datasets.EMNIST('./data/EMNIST', split = 'letters', train = False, download = True)\n",
        "    x_test = temp.data.unsqueeze(3).numpy().transpose((0,2,1,3))\n",
        "    y_test = temp.targets.numpy() - 1\n",
        "\n",
        "    return x_train, y_train, x_test, y_test\n",
        "\n",
        "def load_fashion_mnist():\n",
        "    (x_train, y_train), (x_test, y_test) = tf.keras.datasets.fashion_mnist.load_data()\n",
        "\n",
        "    return x_train, y_train, x_test, y_test\n",
        "\n",
        "def load_data(dataset, save_data=True, use_new=False):\n",
        "    if dataset.lower() == 'fmnist':\n",
        "        x_train, y_train, x_test, y_test = load_fashion_mnist()\n",
        "    elif dataset.lower() == 'emnist':\n",
        "        x_train, y_train, x_test, y_test = load_emnist()\n",
        "    elif dataset.lower() == 'mnist':\n",
        "        x_train, y_train, x_test, y_test = load_mnist()\n",
        "    else:\n",
        "        print('Unknown dataset: {}'.format(dataset))\n",
        "        raise AssertionError\n",
        "\n",
        "    classes = np.unique([np.unique(y_train.flatten()), np.unique(y_test.flatten())])\n",
        "    num_classes = len(classes)\n",
        "\n",
        "    x_train = x_train.reshape(-1, 28, 28, 1)\n",
        "    x_test = x_test.reshape(-1, 28, 28, 1)\n",
        "    y_train = np.eye(num_classes)[y_train]\n",
        "    y_test = np.eye(num_classes)[y_test]\n",
        "    x_train = np.transpose(x_train, (0, 3, 1, 2)).astype(np.float32)\n",
        "    x_test = np.transpose(x_test, (0, 3, 1, 2)).astype(np.float32)\n",
        "\n",
        "    x_train = torch.tensor(x_train)\n",
        "    x_test = torch.tensor(x_test)\n",
        "    y_train = torch.tensor(y_train)\n",
        "    y_test = torch.tensor(y_test)\n",
        "\n",
        "    return (x_train, y_train), (x_test, y_test), num_classes\n"
      ],
      "execution_count": null,
      "outputs": []
    },
    {
      "cell_type": "code",
      "metadata": {
        "id": "x8q8RDbME2E-",
        "colab": {
          "base_uri": "https://localhost:8080/"
        },
        "outputId": "0cccaf12-0151-4f46-e74c-580888180e4c"
      },
      "source": [
        "SEED = 1234\n",
        "np.random.seed(SEED)\n",
        "torch.manual_seed(SEED)"
      ],
      "execution_count": null,
      "outputs": [
        {
          "output_type": "execute_result",
          "data": {
            "text/plain": [
              "<torch._C.Generator at 0x7f5710ecaaf0>"
            ]
          },
          "metadata": {},
          "execution_count": 3
        }
      ]
    },
    {
      "cell_type": "code",
      "metadata": {
        "colab": {
          "base_uri": "https://localhost:8080/"
        },
        "id": "V-vGp6IalSDQ",
        "outputId": "8dfab94d-8cb9-4741-95a4-e62774dcb294"
      },
      "source": [
        "(x_train, y_train), (x_test, y_test), num_classes = load_data('fmnist')\n",
        "train_labels = np.argmax(y_train, axis=1)\n",
        "test_labels = np.argmax(y_test, axis=1)\n",
        "train_labels = torch.tensor(train_labels)\n",
        "test_labels = torch.tensor(test_labels)"
      ],
      "execution_count": null,
      "outputs": [
        {
          "output_type": "stream",
          "text": [
            "Downloading data from https://storage.googleapis.com/tensorflow/tf-keras-datasets/train-labels-idx1-ubyte.gz\n",
            "32768/29515 [=================================] - 0s 0us/step\n",
            "40960/29515 [=========================================] - 0s 0us/step\n",
            "Downloading data from https://storage.googleapis.com/tensorflow/tf-keras-datasets/train-images-idx3-ubyte.gz\n",
            "26427392/26421880 [==============================] - 0s 0us/step\n",
            "26435584/26421880 [==============================] - 0s 0us/step\n",
            "Downloading data from https://storage.googleapis.com/tensorflow/tf-keras-datasets/t10k-labels-idx1-ubyte.gz\n",
            "16384/5148 [===============================================================================================] - 0s 0us/step\n",
            "Downloading data from https://storage.googleapis.com/tensorflow/tf-keras-datasets/t10k-images-idx3-ubyte.gz\n",
            "4423680/4422102 [==============================] - 0s 0us/step\n",
            "4431872/4422102 [==============================] - 0s 0us/step\n"
          ],
          "name": "stdout"
        },
        {
          "output_type": "stream",
          "text": [
            "/usr/local/lib/python3.7/dist-packages/ipykernel_launcher.py:4: UserWarning: To copy construct from a tensor, it is recommended to use sourceTensor.clone().detach() or sourceTensor.clone().detach().requires_grad_(True), rather than torch.tensor(sourceTensor).\n",
            "  after removing the cwd from sys.path.\n",
            "/usr/local/lib/python3.7/dist-packages/ipykernel_launcher.py:5: UserWarning: To copy construct from a tensor, it is recommended to use sourceTensor.clone().detach() or sourceTensor.clone().detach().requires_grad_(True), rather than torch.tensor(sourceTensor).\n",
            "  \"\"\"\n"
          ],
          "name": "stderr"
        }
      ]
    },
    {
      "cell_type": "code",
      "metadata": {
        "colab": {
          "base_uri": "https://localhost:8080/"
        },
        "id": "p78iHqhtt6Fb",
        "outputId": "df8facb3-14b2-4089-dd89-a5d8206acb53"
      },
      "source": [
        "x = x_train.reshape(-1,784)\n",
        "x_test = x_test.reshape(-1,784)\n",
        "x.shape"
      ],
      "execution_count": null,
      "outputs": [
        {
          "output_type": "execute_result",
          "data": {
            "text/plain": [
              "torch.Size([60000, 784])"
            ]
          },
          "metadata": {},
          "execution_count": 5
        }
      ]
    },
    {
      "cell_type": "code",
      "metadata": {
        "id": "HIPXyj6j9z2a"
      },
      "source": [
        "y = train_labels\n",
        "y_test = test_labels"
      ],
      "execution_count": null,
      "outputs": []
    },
    {
      "cell_type": "code",
      "metadata": {
        "id": "Njklivek8C3R"
      },
      "source": [
        "x = x.float() \n",
        "y = y.long()\n",
        "x_test = x_test.float() \n",
        "y_test = y_test.long()"
      ],
      "execution_count": null,
      "outputs": []
    },
    {
      "cell_type": "code",
      "metadata": {
        "colab": {
          "base_uri": "https://localhost:8080/"
        },
        "id": "-1N7GeNc8C58",
        "outputId": "bad2f97e-3170-4fb3-969f-cd315e403cb2"
      },
      "source": [
        "print(x.shape)\n",
        "print(y.shape)"
      ],
      "execution_count": null,
      "outputs": [
        {
          "output_type": "stream",
          "text": [
            "torch.Size([60000, 784])\n",
            "torch.Size([60000])\n"
          ],
          "name": "stdout"
        }
      ]
    },
    {
      "cell_type": "code",
      "metadata": {
        "id": "nAxvUfFjnarL"
      },
      "source": [
        "classes = y.unique().size(0)\n",
        "features = x.size(1)\n",
        "model = onlinehd.OnlineHD(classes, features, dim=10000)"
      ],
      "execution_count": null,
      "outputs": []
    },
    {
      "cell_type": "code",
      "metadata": {
        "colab": {
          "base_uri": "https://localhost:8080/"
        },
        "id": "EnPVGk2b9sBB",
        "outputId": "055db787-baa7-4950-f4ec-ea2f54278052"
      },
      "source": [
        "if torch.cuda.is_available():\n",
        "  x = x.cuda()\n",
        "  y = y.cuda()\n",
        "  x_test = x_test.cuda()\n",
        "  y_test = y_test.cuda()\n",
        "  model = model.to('cuda')\n",
        "  print('Using GPU!')"
      ],
      "execution_count": null,
      "outputs": [
        {
          "output_type": "stream",
          "text": [
            "Using GPU!\n"
          ],
          "name": "stdout"
        }
      ]
    },
    {
      "cell_type": "code",
      "metadata": {
        "id": "CUUM14hSKmxz"
      },
      "source": [
        "def normalizer(x):\n",
        "    x = np.array(x)\n",
        "    max_value = np.max(x)\n",
        "    min_value = np.min(x)\n",
        "    return (x-min_value)/(max_value-min_value)"
      ],
      "execution_count": null,
      "outputs": []
    },
    {
      "cell_type": "code",
      "metadata": {
        "id": "1aynC0bPFWKF"
      },
      "source": [
        "model = model.fit(x, y, bootstrap=1.0, lr=0.035, epochs=300)"
      ],
      "execution_count": null,
      "outputs": []
    },
    {
      "cell_type": "code",
      "metadata": {
        "id": "s_Lg9NgD5HGJ"
      },
      "source": [
        "import numpy as np\n",
        "from torch.autograd import Variable\n",
        "import torch as torch\n",
        "import copy\n",
        "#from torch.autograd.gradcheck import zero_gradients\n",
        "\n",
        "def zero_gradients(x):\n",
        "    if isinstance(x, torch.Tensor):\n",
        "        if x.grad is not None:\n",
        "            x.grad.detach_()\n",
        "            x.grad.zero_()\n",
        "    elif isinstance(x, collections.abc.Iterable):\n",
        "        for elem in x:\n",
        "            zero_gradients(elem)\n",
        "\n",
        "is_cuda = torch.cuda.is_available()\n",
        "\n",
        "def deepfool(image, net, num_classes=10, overshoot=0.02, max_iter=30):  #num_classes; mnist:10/ fmnist:10 / emnist:26\n",
        "\n",
        "    \"\"\"\n",
        "       :param image: Image of size HxWx3\n",
        "       :param net: network (input: images, output: values of activation **BEFORE** softmax).\n",
        "       :param num_classes: num_classes (limits the number of classes to test against, by default = 10)\n",
        "       :param overshoot: used as a termination criterion to prevent vanishing updates (default = 0.02).\n",
        "       :param max_iter: maximum number of iterations for deepfool (default = 50)\n",
        "       :return: minimal perturbation that fools the classifier, number of iterations that it required, new estimated_label and perturbed image\n",
        "    \"\"\"\n",
        "    \n",
        "   \n",
        "    image = image.cuda()\n",
        "    net = model.to('cuda')\n",
        "\n",
        "    I = torch.argsort(-model.scores(image)).tolist()[0]  # sort image score (descending)\n",
        "    label = I[0]  #label\n",
        "\n",
        "    input_shape = image.cpu().numpy().shape\n",
        "    pert_image = copy.deepcopy(image)\n",
        "    w = np.zeros(input_shape)\n",
        "    r_tot = np.zeros(input_shape)\n",
        "\n",
        "    loop_i = 0\n",
        "\n",
        "    x = Variable(pert_image[None, :], requires_grad=True)\n",
        "    fs = model.scores(x)\n",
        "    fs_list = [fs[0,I[k]] for k in range(num_classes)]\n",
        "    k_i = label\n",
        "\n",
        "    while k_i == label and loop_i < max_iter:\n",
        "\n",
        "        pert = np.inf\n",
        "        fs[0, I[0]].backward(retain_graph=True)\n",
        "        grad_orig = x.grad.data.cpu().numpy().copy()\n",
        "\n",
        "        for k in range(1, num_classes):\n",
        "            zero_gradients(x)\n",
        "\n",
        "            fs[0, I[k]].backward(retain_graph=True)\n",
        "            cur_grad = x.grad.cpu().numpy().copy()\n",
        "\n",
        "            # set new w_k and new f_k\n",
        "            w_k = cur_grad - grad_orig\n",
        "            f_k = (fs[0, I[k]] - fs[0, I[0]]).data.cpu().numpy()\n",
        "\n",
        "            pert_k = abs(f_k)/np.linalg.norm(w_k.flatten())\n",
        "\n",
        "            # determine which w_k to use\n",
        "            if pert_k < pert:\n",
        "                pert = pert_k\n",
        "                w = w_k\n",
        "\n",
        "        # compute r_i and r_tot\n",
        "        # Added 1e-4 for numerical stability\n",
        "        r_i =  (pert+1e-4) * w / np.linalg.norm(w)\n",
        "        r_tot = np.float32(r_tot + r_i)\n",
        "\n",
        "        \n",
        "        pert_image = image + (1+overshoot)*torch.from_numpy(r_tot).cuda()\n",
        "            \n",
        "        x = Variable(pert_image, requires_grad=True)\n",
        "        fs = model.scores(x)\n",
        "        k_i = torch.argsort(-fs).tolist()[0][0]  # labels for x\n",
        "\n",
        "        loop_i += 1\n",
        "\n",
        "    #r_tot = (1+overshoot)*r_tot\n",
        "\n",
        "    return pert_image  #r_tot, loop_i, label, k_i,"
      ],
      "execution_count": null,
      "outputs": []
    },
    {
      "cell_type": "markdown",
      "metadata": {
        "id": "GqXjZn1QY9bF"
      },
      "source": [
        "!! save point !!"
      ]
    },
    {
      "cell_type": "code",
      "metadata": {
        "id": "z-xXBSEWliBC"
      },
      "source": [
        "X_te_cln = x.reshape(-1,1,784)  # x_test\n",
        "Y_te_cln = y #y_test"
      ],
      "execution_count": null,
      "outputs": []
    },
    {
      "cell_type": "code",
      "metadata": {
        "id": "2PSRg5L95HJN"
      },
      "source": [
        "x_train_adv = torch.zeros(X_te_cln.shape)\n",
        "\n",
        "for i in range(len(X_te_cln)):\n",
        "    x_train_adv[i] = deepfool(X_te_cln[i], model)"
      ],
      "execution_count": null,
      "outputs": []
    },
    {
      "cell_type": "code",
      "metadata": {
        "colab": {
          "base_uri": "https://localhost:8080/"
        },
        "id": "C1ahu3h35HMh",
        "outputId": "926775ad-c40c-4948-c51e-636d547827d3"
      },
      "source": [
        "print(x_train_adv.shape)"
      ],
      "execution_count": null,
      "outputs": [
        {
          "output_type": "stream",
          "text": [
            "torch.Size([10000, 1, 784])\n"
          ],
          "name": "stdout"
        }
      ]
    },
    {
      "cell_type": "code",
      "metadata": {
        "id": "G0VJSyypOl_h"
      },
      "source": [
        "x_train_adv = x_train_adv.squeeze()\n",
        "x_train_adv= x_train_adv.reshape(-1,28,28)"
      ],
      "execution_count": null,
      "outputs": []
    },
    {
      "cell_type": "code",
      "metadata": {
        "id": "ya8Hd-balYlb",
        "colab": {
          "base_uri": "https://localhost:8080/",
          "height": 265
        },
        "outputId": "9fe51e00-e78a-4244-bf0f-18534af5e5e9"
      },
      "source": [
        "plt.figure()\n",
        "plt.imshow(x_train_adv[5])\n",
        "plt.show()"
      ],
      "execution_count": null,
      "outputs": [
        {
          "output_type": "display_data",
          "data": {
            "image/png": "[encoded data removed]",
            "text/plain": [
              "<Figure size 432x288 with 1 Axes>"
            ]
          },
          "metadata": {
            "needs_background": "light"
          }
        }
      ]
    },
    {
      "cell_type": "code",
      "metadata": {
        "id": "WMYRZ947_WZL"
      },
      "source": [
        ""
      ],
      "execution_count": null,
      "outputs": []
    },
    {
      "cell_type": "code",
      "metadata": {
        "id": "Iwk6eXy44QlJ"
      },
      "source": [
        "x_train_adv = np.where(x_train_adv<0., 0., x_train_adv)"
      ],
      "execution_count": null,
      "outputs": []
    },
    {
      "cell_type": "code",
      "metadata": {
        "id": "VwtTPuG7KpQ_"
      },
      "source": [
        "x_train_adv = normalizer(x_train_adv)"
      ],
      "execution_count": null,
      "outputs": []
    },
    {
      "cell_type": "code",
      "metadata": {
        "id": "bAtq4TJ_I9vu"
      },
      "source": [
        "x_train_adv = x_train_adv *255"
      ],
      "execution_count": null,
      "outputs": []
    },
    {
      "cell_type": "code",
      "metadata": {
        "id": "e3vNTMPeN5KP"
      },
      "source": [
        "import cv2\n",
        "from google.colab.patches import cv2_imshow"
      ],
      "execution_count": null,
      "outputs": []
    },
    {
      "cell_type": "code",
      "metadata": {
        "id": "315lfrd5N5PG",
        "colab": {
          "base_uri": "https://localhost:8080/",
          "height": 417
        },
        "outputId": "0681c5c9-4d75-4f2f-dfec-e3dfe15a6eb6"
      },
      "source": [
        "cv2_imshow(cv2.resize(x_train_adv[5],(400,400), interpolation=cv2.INTER_LINEAR_EXACT))"
      ],
      "execution_count": null,
      "outputs": [
        {
          "output_type": "display_data",
          "data": {
            "image/png": "[encoded data removed]",
            "text/plain": [
              "<PIL.Image.Image image mode=L size=400x400 at 0x7F236C3E3910>"
            ]
          },
          "metadata": {}
        }
      ]
    },
    {
      "cell_type": "code",
      "metadata": {
        "id": "rn4Sr1unN5Rd"
      },
      "source": [
        ""
      ],
      "execution_count": null,
      "outputs": []
    },
    {
      "cell_type": "code",
      "metadata": {
        "id": "2D9Gszq94Qqd"
      },
      "source": [
        "x_train = torch.tensor(x_train_adv)  # back to the save point"
      ],
      "execution_count": null,
      "outputs": []
    },
    {
      "cell_type": "code",
      "metadata": {
        "id": "NJPM8sKK-_sc"
      },
      "source": [
        "#x_test = torch.tensor(x_train_adv)"
      ],
      "execution_count": null,
      "outputs": []
    },
    {
      "cell_type": "code",
      "metadata": {
        "id": "rJBupRkTBnVb"
      },
      "source": [
        "y = y.long().cpu()"
      ],
      "execution_count": null,
      "outputs": []
    },
    {
      "cell_type": "code",
      "metadata": {
        "id": "DxVhi2r6LOSg"
      },
      "source": [
        "y_test = y_test.long().cpu()"
      ],
      "execution_count": null,
      "outputs": []
    },
    {
      "cell_type": "code",
      "metadata": {
        "colab": {
          "base_uri": "https://localhost:8080/"
        },
        "id": "6Ryfy4N1BnTI",
        "outputId": "b44fe0c8-7c30-44df-ea3a-587f07b1afd5"
      },
      "source": [
        "y_test"
      ],
      "execution_count": null,
      "outputs": [
        {
          "output_type": "execute_result",
          "data": {
            "text/plain": [
              "tensor([9, 2, 1,  ..., 8, 1, 5])"
            ]
          },
          "metadata": {},
          "execution_count": 61
        }
      ]
    },
    {
      "cell_type": "code",
      "metadata": {
        "id": "nQydTs-oLVFD"
      },
      "source": [
        ""
      ],
      "execution_count": null,
      "outputs": []
    },
    {
      "cell_type": "code",
      "metadata": {
        "id": "_VEkJdAE4y4v"
      },
      "source": [
        "save_data(x_train, y, x_test, y_test, 'FMNIST_DeepFool.pickle')"
      ],
      "execution_count": null,
      "outputs": []
    }
  ]
}