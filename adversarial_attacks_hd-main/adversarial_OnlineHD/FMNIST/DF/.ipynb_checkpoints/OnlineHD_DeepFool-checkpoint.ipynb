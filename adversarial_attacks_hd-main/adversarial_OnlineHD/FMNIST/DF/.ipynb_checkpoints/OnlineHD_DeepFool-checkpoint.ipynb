{
 "cells": [
  {
   "cell_type": "code",
   "execution_count": 172,
   "id": "1510e5ef-247e-4270-b4cd-f234376fc1fa",
   "metadata": {},
   "outputs": [
    {
     "data": {
      "text/plain": [
       "<torch._C.Generator at 0x7fd059b44cd0>"
      ]
     },
     "execution_count": 172,
     "metadata": {},
     "output_type": "execute_result"
    }
   ],
   "source": [
    "from time import time\n",
    "\n",
    "import torch\n",
    "import sklearn.datasets\n",
    "import sklearn.preprocessing\n",
    "import sklearn.model_selection\n",
    "import numpy as np\n",
    "import math\n",
    "import matplotlib.pyplot as plt\n",
    "import copy\n",
    "from tqdm import tqdm\n",
    "\n",
    "from torchvision.datasets import MNIST\n",
    "from torchvision.datasets import FashionMNIST as FMNIST\n",
    "from torchvision.datasets import EMNIST\n",
    "import torchvision.transforms as transforms\n",
    "from torch.autograd import Variable\n",
    "\n",
    "import Onlinehd\n",
    "\n",
    "SEED = 1234\n",
    "device = 'cuda' if torch.cuda.is_available() else 'cpu'\n",
    "np.random.seed(SEED)\n",
    "torch.manual_seed(SEED)"
   ]
  },
  {
   "cell_type": "markdown",
   "id": "cc94615f-19b3-461b-b412-25cb33476003",
   "metadata": {},
   "source": [
    "### Load Function MNIST(Digits), FMNIST, EMNIST(Letters)"
   ]
  },
  {
   "cell_type": "code",
   "execution_count": 3,
   "id": "01a7bbc3-4d2a-4486-b6bc-e817755c0d54",
   "metadata": {},
   "outputs": [],
   "source": [
    "def load(dataset):\n",
    "    if dataset == 'mnist':\n",
    "        download_root = 'data/mnist_dataset'\n",
    "        train_dataset = MNIST(download_root, train=True, download=True)\n",
    "        valid_dataset = MNIST(download_root, train=False, download=True)        \n",
    "        x, y = train_dataset.data, train_dataset.train_labels\n",
    "        x_test, y_test = valid_dataset.data, valid_dataset.train_labels\n",
    "    \n",
    "    elif dataset == 'fmnist':\n",
    "        download_root = 'data/fmnist_dataset'\n",
    "        train_dataset = FMNIST(download_root, train=True, download=True)\n",
    "        valid_dataset = FMNIST(download_root, train=False, download=True)        \n",
    "        x, y = train_dataset.data, train_dataset.train_labels\n",
    "        x_test, y_test = valid_dataset.data, valid_dataset.train_labels\n",
    "\n",
    "    elif dataset == 'emnist':\n",
    "        download_root = 'data/emnist_dataset'\n",
    "        temp = EMNIST(download_root, split = 'letters', train=True, download=True)\n",
    "        x = temp.data.unsqueeze(3).numpy().transpose((0,2,1,3))\n",
    "        y = temp.targets.numpy() - 1\n",
    "        temp = EMNIST(download_root, split='letters', train=False, download=True)\n",
    "        x_test = temp.data.unsqueeze(3).numpy().transpose((0,2,1,3))\n",
    "        y_test = temp.targets.numpy() - 1\n",
    "        x = torch.from_numpy(x)\n",
    "        y = torch.from_numpy(y)\n",
    "        x_test = torch.from_numpy(x_test)\n",
    "        y_test = torch.from_numpy(y_test)\n",
    "    \n",
    "    x = x.float()\n",
    "    y = y.long()\n",
    "    x_test = x_test.float()\n",
    "    y_test = y_test.long().squeeze()\n",
    "\n",
    "    if len(x.shape) != 3:\n",
    "        x = x.squeeze(3)\n",
    "        x_test = x_test.squeeze(3)\n",
    "    \n",
    "    return x, x_test, y, y_test"
   ]
  },
  {
   "cell_type": "markdown",
   "id": "662ffa47-7828-46fc-a6d4-8050a6b5ed3c",
   "metadata": {},
   "source": [
    "# MNIST"
   ]
  },
  {
   "cell_type": "markdown",
   "id": "e4d4ffe6-95e7-467d-b08b-a6979e04b602",
   "metadata": {},
   "source": [
    "## Normalize\n",
    "\n",
    "OnlineHD is very sensitive to Normalize.\n",
    "Therefore, it should be applied"
   ]
  },
  {
   "cell_type": "code",
   "execution_count": 181,
   "id": "61a749b3-1c69-46b5-9795-55530a1ef0ed",
   "metadata": {
    "tags": []
   },
   "outputs": [
    {
     "name": "stderr",
     "output_type": "stream",
     "text": [
      "/Users/jeongseongheon/opt/anaconda3/envs/UCI/lib/python3.8/site-packages/torchvision/datasets/mnist.py:52: UserWarning: train_labels has been renamed targets\n",
      "  warnings.warn(\"train_labels has been renamed targets\")\n"
     ]
    }
   ],
   "source": [
    "x, x_test, y, y_test = load('mnist')"
   ]
  },
  {
   "cell_type": "code",
   "execution_count": 182,
   "id": "2d2fce3d-ec6d-4807-8b6d-ed8e866a9d80",
   "metadata": {},
   "outputs": [],
   "source": [
    "x = x.reshape(-1, 784)\n",
    "x_test = x_test.reshape(-1, 784)\n",
    "\n",
    "scaler = sklearn.preprocessing.Normalizer().fit(x.reshape(-1, 784))\n",
    "x = torch.tensor(scaler.transform(x.reshape(-1, 784)))\n",
    "x_test = torch.tensor(scaler.transform(x_test.reshape(-1, 784)))"
   ]
  },
  {
   "cell_type": "code",
   "execution_count": 218,
   "id": "9d97797a-e6f0-47fe-98c7-40f5ee85afb6",
   "metadata": {
    "collapsed": true,
    "jupyter": {
     "outputs_hidden": true
    },
    "tags": []
   },
   "outputs": [
    {
     "name": "stdout",
     "output_type": "stream",
     "text": [
      "Training...\n",
      "0\n",
      "10\n",
      "20\n",
      "30\n",
      "40\n",
      "50\n",
      "60\n",
      "70\n",
      "80\n",
      "90\n",
      "100\n",
      "110\n",
      "120\n",
      "130\n",
      "140\n",
      "150\n",
      "160\n",
      "170\n",
      "180\n",
      "190\n",
      "200\n",
      "210\n",
      "220\n",
      "230\n",
      "240\n",
      "250\n",
      "260\n",
      "270\n",
      "280\n",
      "290\n"
     ]
    }
   ],
   "source": [
    "classes = y.unique().size(0)\n",
    "features = x.size(1)\n",
    "model = Onlinehd.OnlineHD(classes, features, dim=10000)\n",
    "\n",
    "if torch.cuda.is_available():\n",
    "    x = x.cuda()\n",
    "    y = y.cuda()\n",
    "    x_test = x_test.cuda()\n",
    "    y_test = y_test.cuda()\n",
    "    model = model.to('cuda')\n",
    "    print('Using GPU!')\n",
    "\n",
    "print('Training...')\n",
    "t = time()\n",
    "model = model.fit(x, y, bootstrap=1.0, lr=0.035, epochs=20)\n",
    "t = time() - t"
   ]
  },
  {
   "cell_type": "code",
   "execution_count": 184,
   "id": "0d4dfe5d-1970-4c5a-8b9b-8347060c4521",
   "metadata": {},
   "outputs": [
    {
     "name": "stdout",
     "output_type": "stream",
     "text": [
      "Validating...\n",
      "acc = 0.943833\n",
      "acc_test = 0.940100\n",
      "t = 30.225033\n"
     ]
    }
   ],
   "source": [
    "print('Validating...')\n",
    "yhat = model(x)\n",
    "yhat_test = model(x_test)\n",
    "acc = (y == yhat).float().mean()\n",
    "acc_test = (y_test == yhat_test).float().mean()\n",
    "print(f'{acc = :6f}')\n",
    "print(f'{acc_test = :6f}')\n",
    "print(f'{t = :6f}')"
   ]
  },
  {
   "cell_type": "markdown",
   "id": "9653f102-7a99-4c9b-9999-858c938e8311",
   "metadata": {},
   "source": [
    "# Generate DeepFool"
   ]
  },
  {
   "cell_type": "code",
   "execution_count": 219,
   "id": "eadb915f-afeb-453c-b8fe-919131cb16f5",
   "metadata": {},
   "outputs": [],
   "source": [
    "#from torch.autograd.gradcheck import zero_gradients\n",
    "\n",
    "def zero_gradients(x):\n",
    "    if isinstance(x, torch.Tensor):\n",
    "        if x.grad is not None:\n",
    "            x.grad.detach_()\n",
    "            x.grad.zero_()\n",
    "    elif isinstance(x, collections.abc.Iterable):\n",
    "        for elem in x:\n",
    "            zero_gradients(elem)\n",
    "\n",
    "is_cuda = torch.cuda.is_available()\n",
    "\n",
    "def deepfool(image, net, num_classes=10, overshoot=0.02, max_iter=50):  #num_classes; mnist:10/ fmnist:10 / emnist:26\n",
    "\n",
    "    \"\"\"\n",
    "       :param image: Image of size HxWx3\n",
    "       :param net: network (input: images, output: values of activation **BEFORE** softmax).\n",
    "       :param num_classes: num_classes (limits the number of classes to test against, by default = 10)\n",
    "       :param overshoot: used as a termination criterion to prevent vanishing updates (default = 0.02).\n",
    "       :param max_iter: maximum number of iterations for deepfool (default = 50)\n",
    "       :return: minimal perturbation that fools the classifier, number of iterations that it required, new estimated_label and perturbed image\n",
    "    \"\"\"\n",
    "      \n",
    "#     image = image.cuda()\n",
    "#     net = model.to('cuda')\n",
    "\n",
    "    I = torch.argsort(-model.scores(image)).tolist()[0]  # sort image score (descending)\n",
    "    label = I[0]  #label\n",
    "\n",
    "    input_shape = image.cpu().numpy().shape\n",
    "    pert_image = copy.deepcopy(image)\n",
    "    w = np.zeros(input_shape)\n",
    "    r_tot = np.zeros(input_shape)\n",
    "\n",
    "    loop_i = 0\n",
    "\n",
    "    x = Variable(pert_image[None, :], requires_grad=True)\n",
    "    fs = model.scores(x)\n",
    "    fs_list = [fs[0,I[k]] for k in range(num_classes)]\n",
    "    k_i = label\n",
    "\n",
    "    while k_i == label and loop_i < max_iter:\n",
    "\n",
    "        pert = np.inf\n",
    "        fs[0, I[0]].backward(retain_graph=True)\n",
    "        grad_orig = x.grad.data.cpu().numpy().copy()\n",
    "\n",
    "        for k in range(1, num_classes):\n",
    "            zero_gradients(x)\n",
    "\n",
    "            fs[0, I[k]].backward(retain_graph=True)\n",
    "            cur_grad = x.grad.cpu().numpy().copy()\n",
    "\n",
    "            # set new w_k and new f_k\n",
    "            w_k = cur_grad - grad_orig\n",
    "            f_k = (fs[0, I[k]] - fs[0, I[0]]).data.cpu().numpy()\n",
    "\n",
    "            pert_k = abs(f_k)/np.linalg.norm(w_k.flatten())\n",
    "\n",
    "            # determine which w_k to use\n",
    "            if pert_k < pert:\n",
    "                pert = pert_k\n",
    "                w = w_k\n",
    "\n",
    "        # compute r_i and r_tot\n",
    "        # Added 1e-4 for numerical stability\n",
    "        r_i =  (pert+1e-4) * w / np.linalg.norm(w)\n",
    "        r_tot = np.float32(r_tot + r_i)\n",
    "\n",
    "        \n",
    "        pert_image = image + (1+overshoot)*torch.from_numpy(r_tot)\n",
    "            \n",
    "        x = Variable(pert_image, requires_grad=True)\n",
    "        fs = model.scores(x)\n",
    "        k_i = torch.argsort(-fs).tolist()[0][0]  # labels for x\n",
    "\n",
    "        loop_i += 1\n",
    "\n",
    "    #r_tot = (1+overshoot)*r_tot\n",
    "\n",
    "    return pert_image  #r_tot, loop_i, label, k_i,"
   ]
  },
  {
   "cell_type": "code",
   "execution_count": 220,
   "id": "749efa65-8df9-41f7-bb42-c48703d78ff4",
   "metadata": {},
   "outputs": [
    {
     "data": {
      "text/plain": [
       "(torch.Size([10000, 1, 784]), torch.Size([10000]))"
      ]
     },
     "execution_count": 220,
     "metadata": {},
     "output_type": "execute_result"
    }
   ],
   "source": [
    "X_te_cln = x_test.reshape(-1,1,784)  # x_test\n",
    "Y_te_cln = y_test #y_test\n",
    "X_te_cln.shape, Y_te_cln.shape"
   ]
  },
  {
   "cell_type": "code",
   "execution_count": 221,
   "id": "66aa00cf-7b0e-4489-b94c-70c38e37c2d3",
   "metadata": {},
   "outputs": [
    {
     "name": "stderr",
     "output_type": "stream",
     "text": [
      "100%|█████████████████████████████████████| 10000/10000 [10:08<00:00, 16.44it/s]\n"
     ]
    }
   ],
   "source": [
    "# x_train_adv = torch.zeros(100, 784)\n",
    "\n",
    "# for i in tqdm(range(100)):\n",
    "#     x_train_adv[i] = deepfool(X_te_cln[i], model)\n",
    "\n",
    "x_train_adv = torch.zeros(X_te_cln.shape)\n",
    "    \n",
    "for i in tqdm(range(len(X_te_cln))):\n",
    "    x_train_adv[i] = deepfool(X_te_cln[i], model)"
   ]
  },
  {
   "cell_type": "code",
   "execution_count": 222,
   "id": "bf9f1ba5-514f-4055-b858-0203c4572cb8",
   "metadata": {},
   "outputs": [
    {
     "name": "stdout",
     "output_type": "stream",
     "text": [
      "torch.Size([10000, 1, 784])\n"
     ]
    }
   ],
   "source": [
    "print(x_train_adv.shape)"
   ]
  },
  {
   "cell_type": "code",
   "execution_count": 223,
   "id": "b5aceb43-fd24-4d5c-8c25-f21a12492999",
   "metadata": {},
   "outputs": [
    {
     "data": {
      "text/plain": [
       "torch.Size([10000, 784])"
      ]
     },
     "execution_count": 223,
     "metadata": {},
     "output_type": "execute_result"
    }
   ],
   "source": [
    "x_train_adv = x_train_adv.squeeze()\n",
    "x_train_adv.shape"
   ]
  },
  {
   "cell_type": "code",
   "execution_count": 224,
   "id": "0fd6fd40-6be1-449e-b030-e4b2a96d3a39",
   "metadata": {},
   "outputs": [
    {
     "data": {
      "image/png": "[encoded data removed]",
      "text/plain": [
       "<Figure size 432x288 with 2 Axes>"
      ]
     },
     "metadata": {
      "needs_background": "light"
     },
     "output_type": "display_data"
    }
   ],
   "source": [
    "plt.figure()\n",
    "plt.imshow(x_train_adv[-1].reshape(28, 28), cmap='gray')\n",
    "plt.colorbar()\n",
    "plt.show()"
   ]
  },
  {
   "cell_type": "code",
   "execution_count": 209,
   "id": "e4cf30cc-4400-4c37-95ef-61ea2cf2755c",
   "metadata": {},
   "outputs": [],
   "source": [
    "min_ = x_train_adv.min()\n",
    "max_ = x_train_adv.max()\n",
    "x_train_adv_norm = ((x_train_adv - min_) / (max_ - min_))*255"
   ]
  },
  {
   "cell_type": "code",
   "execution_count": 225,
   "id": "b5ab3b6e-a090-4c19-a6b5-9d6a9af8ba58",
   "metadata": {},
   "outputs": [],
   "source": [
    "x_train_adv_norm = scaler.transform(x_train_adv)"
   ]
  },
  {
   "cell_type": "code",
   "execution_count": 226,
   "id": "4a66591d-e0ff-45fe-9244-12705d86c1e2",
   "metadata": {},
   "outputs": [],
   "source": [
    "x_train_adv_norm = torch.tensor(x_train_adv_norm)"
   ]
  },
  {
   "cell_type": "code",
   "execution_count": 227,
   "id": "fb0697b8-a969-4d58-aefe-2a55199c7dd5",
   "metadata": {},
   "outputs": [
    {
     "data": {
      "image/png": "[encoded data removed]",
      "text/plain": [
       "<Figure size 432x288 with 2 Axes>"
      ]
     },
     "metadata": {
      "needs_background": "light"
     },
     "output_type": "display_data"
    }
   ],
   "source": [
    "plt.imshow(x_train_adv_norm[-1].reshape(28, 28), cmap='gray')\n",
    "plt.colorbar()\n",
    "plt.show()"
   ]
  },
  {
   "cell_type": "code",
   "execution_count": 228,
   "id": "7b91ae25-7e91-4650-9c08-0cfe28b7ac8e",
   "metadata": {},
   "outputs": [
    {
     "name": "stdout",
     "output_type": "stream",
     "text": [
      "Validating...\n",
      "acc = 0.998517\n",
      "acc_test = 0.968900\n",
      "acc_attack = 0.531600\n",
      "t = 171.894880\n"
     ]
    }
   ],
   "source": [
    "print('Validating...')\n",
    "yhat = model(x)\n",
    "yhat_test = model(x_test)\n",
    "yhat_attack = model(x_train_adv_norm)\n",
    "\n",
    "acc = (y == yhat).float().mean()\n",
    "acc_test = (y_test == yhat_test).float().mean()\n",
    "acc_attack = (y_test == yhat_attack).float().mean()\n",
    "\n",
    "print(f'{acc = :6f}')\n",
    "print(f'{acc_test = :6f}')\n",
    "print(f'{acc_attack = :6f}')\n",
    "print(f'{t = :6f}')"
   ]
  },
  {
   "cell_type": "markdown",
   "id": "9d851bcf-03cd-4c75-9a43-214c2bbcb96d",
   "metadata": {},
   "source": [
    "# FMNIST"
   ]
  },
  {
   "cell_type": "code",
   "execution_count": 173,
   "id": "11e030cc-636f-4fda-a33b-6e0e009363ce",
   "metadata": {
    "tags": []
   },
   "outputs": [
    {
     "name": "stderr",
     "output_type": "stream",
     "text": [
      "/Users/jeongseongheon/opt/anaconda3/envs/UCI/lib/python3.8/site-packages/torchvision/datasets/mnist.py:52: UserWarning: train_labels has been renamed targets\n",
      "  warnings.warn(\"train_labels has been renamed targets\")\n"
     ]
    }
   ],
   "source": [
    "f_x, f_x_test, f_y, f_y_test = load('fmnist')"
   ]
  },
  {
   "cell_type": "code",
   "execution_count": 174,
   "id": "bc02af66-b466-4548-9398-bae20499f53e",
   "metadata": {},
   "outputs": [],
   "source": [
    "f_x = f_x.reshape(-1, 784)\n",
    "f_x_test = f_x_test.reshape(-1, 784)\n",
    "\n",
    "f_scaler = sklearn.preprocessing.Normalizer().fit(f_x.reshape(-1, 784))\n",
    "f_x = torch.tensor(f_scaler.transform(f_x.reshape(-1, 784)))\n",
    "f_x_test = torch.tensor(f_scaler.transform(f_x_test.reshape(-1, 784)))"
   ]
  },
  {
   "cell_type": "code",
   "execution_count": 144,
   "id": "eee07194-9e05-4c4f-ba17-02a879dd8230",
   "metadata": {},
   "outputs": [
    {
     "name": "stdout",
     "output_type": "stream",
     "text": [
      "Training...\n",
      "0\n",
      "10\n"
     ]
    }
   ],
   "source": [
    "from time import time\n",
    "\n",
    "f_classes = f_y.unique().size(0)\n",
    "f_features = f_x.size(1)\n",
    "Fmodel = Onlinehd.OnlineHD(f_classes, f_features, dim=10000)\n",
    "\n",
    "if torch.cuda.is_available():\n",
    "    f_x = f_x.cuda()\n",
    "    f_y = f_y.cuda()\n",
    "    f_x_test = f_x_test.cuda()\n",
    "    f_y_test = f_y_test.cuda()\n",
    "    Fmodel = Fmodel.to('cuda')\n",
    "    print('Using GPU!')\n",
    "\n",
    "print('Training...')\n",
    "t = time()\n",
    "Fmodel = Fmodel.fit(f_x, f_y, bootstrap=1.0, lr=0.035, epochs=20)\n",
    "t = time() - t"
   ]
  },
  {
   "cell_type": "code",
   "execution_count": 145,
   "id": "01847ed1-423b-4da0-acab-ff95fef31ec5",
   "metadata": {},
   "outputs": [
    {
     "name": "stdout",
     "output_type": "stream",
     "text": [
      "Validating...\n",
      "f_acc = 0.833617\n",
      "f_acc_test = 0.819600\n",
      "t = 35.735609\n"
     ]
    }
   ],
   "source": [
    "print('Validating...')\n",
    "f_yhat = Fmodel(f_x)\n",
    "f_yhat_test = Fmodel(f_x_test)\n",
    "\n",
    "f_acc = (f_y == f_yhat).float().mean()\n",
    "f_acc_test = (f_y_test == f_yhat_test).float().mean()\n",
    "\n",
    "print(f'{f_acc = :6f}')\n",
    "print(f'{f_acc_test = :6f}')\n",
    "print(f'{t = :6f}')"
   ]
  },
  {
   "cell_type": "code",
   "execution_count": 147,
   "id": "e5220ac0-605d-4edf-9903-35aee541e409",
   "metadata": {},
   "outputs": [
    {
     "data": {
      "text/plain": [
       "(torch.Size([10000, 1, 784]), torch.Size([10000]))"
      ]
     },
     "execution_count": 147,
     "metadata": {},
     "output_type": "execute_result"
    }
   ],
   "source": [
    "f_X_te_cln = f_x_test.reshape(-1,1,784)  # x_test\n",
    "f_Y_te_cln = f_y_test #y_test\n",
    "f_X_te_cln.shape, f_Y_te_cln.shape"
   ]
  },
  {
   "cell_type": "code",
   "execution_count": 155,
   "id": "441e51aa-c74f-41be-9e14-35697f985630",
   "metadata": {},
   "outputs": [
    {
     "name": "stderr",
     "output_type": "stream",
     "text": [
      "100%|█████████████████████████████████████| 10000/10000 [14:55<00:00, 11.16it/s]\n"
     ]
    }
   ],
   "source": [
    "f_x_train_adv = torch.zeros(f_X_te_cln.shape)\n",
    "    \n",
    "for i in tqdm(range(len(f_X_te_cln))):\n",
    "    f_x_train_adv[i] = deepfool(f_X_te_cln[i], Fmodel)"
   ]
  },
  {
   "cell_type": "code",
   "execution_count": 164,
   "id": "5894bf51-037e-459a-9695-e4b6c9c7e853",
   "metadata": {},
   "outputs": [],
   "source": [
    "f_x_train_adv = f_x_train_adv.squeeze()"
   ]
  },
  {
   "cell_type": "code",
   "execution_count": 178,
   "id": "e6663f63-def4-4509-9622-d17960465f1f",
   "metadata": {},
   "outputs": [
    {
     "data": {
      "text/plain": [
       "<matplotlib.image.AxesImage at 0x7fcca21544c0>"
      ]
     },
     "execution_count": 178,
     "metadata": {},
     "output_type": "execute_result"
    },
    {
     "data": {
      "image/png": "[encoded data removed]",
      "text/plain": [
       "<Figure size 432x288 with 1 Axes>"
      ]
     },
     "metadata": {
      "needs_background": "light"
     },
     "output_type": "display_data"
    }
   ],
   "source": [
    "plt.imshow(f_x_train_adv[-2].reshape(28, 28), cmap='gray')"
   ]
  },
  {
   "cell_type": "code",
   "execution_count": 180,
   "id": "40787e7c-4ea4-4e55-889e-f113fd08e2de",
   "metadata": {},
   "outputs": [
    {
     "name": "stdout",
     "output_type": "stream",
     "text": [
      "Validating...\n",
      "f_acc = 0.833617\n",
      "f_acc_test = 0.819600\n",
      "f_acc_attack = 0.818400\n",
      "t = 35.735609\n"
     ]
    }
   ],
   "source": [
    "print('Validating...')\n",
    "f_yhat = Fmodel(f_x)\n",
    "f_yhat_test = Fmodel(f_x_test)\n",
    "f_yhat_attack = Fmodel(f_x_train_adv)\n",
    "\n",
    "f_acc = (f_y == f_yhat).float().mean()\n",
    "f_acc_test = (f_y_test == f_yhat_test).float().mean()\n",
    "f_acc_attack = (f_y_test == f_yhat_attack).float().mean()\n",
    "\n",
    "print(f'{f_acc = :6f}')\n",
    "print(f'{f_acc_test = :6f}')\n",
    "print(f'{f_acc_attack = :6f}')\n",
    "print(f'{t = :6f}')"
   ]
  },
  {
   "cell_type": "markdown",
   "id": "bf573a15-009e-4eb2-af81-e70dd7f5d37d",
   "metadata": {},
   "source": [
    "# EMNIST"
   ]
  },
  {
   "cell_type": "code",
   "execution_count": 229,
   "id": "ebacaebc-c1a4-4194-b4fe-f822cb5df932",
   "metadata": {},
   "outputs": [],
   "source": [
    "e_x, e_x_test, e_y, e_y_test = load('emnist')"
   ]
  },
  {
   "cell_type": "code",
   "execution_count": 230,
   "id": "2cdbc51d-b392-424e-9ec5-21e66f919e30",
   "metadata": {},
   "outputs": [],
   "source": [
    "e_x = e_x.reshape(-1, 784)\n",
    "e_x_test = e_x_test.reshape(-1, 784)\n",
    "\n",
    "e_scaler = sklearn.preprocessing.Normalizer().fit(e_x.reshape(-1, 784))\n",
    "e_x = torch.tensor(e_scaler.transform(e_x.reshape(-1, 784)))\n",
    "e_x_test = torch.tensor(e_scaler.transform(e_x_test.reshape(-1, 784)))"
   ]
  },
  {
   "cell_type": "code",
   "execution_count": 231,
   "id": "0f6229d0-b5a4-4210-bb61-c2b68807681f",
   "metadata": {},
   "outputs": [
    {
     "name": "stdout",
     "output_type": "stream",
     "text": [
      "Training...\n",
      "0\n",
      "10\n"
     ]
    }
   ],
   "source": [
    "from time import time\n",
    "\n",
    "e_classes = e_y.unique().size(0)\n",
    "e_features = e_x.size(1)\n",
    "Emodel = Onlinehd.OnlineHD(e_classes, e_features, dim=10000)\n",
    "\n",
    "if torch.cuda.is_available():\n",
    "    e_x = e_x.cuda()\n",
    "    e_y = e_y.cuda()\n",
    "    e_x_test = e_x_test.cuda()\n",
    "    e_y_test = e_y_test.cuda()\n",
    "    Emodel = Emodel.to('cuda')\n",
    "    print('Using GPU!')\n",
    "\n",
    "print('Training...')\n",
    "t = time()\n",
    "Emodel = Emodel.fit(e_x, e_y, bootstrap=1.0, lr=0.035, epochs=20)\n",
    "t = time() - t"
   ]
  },
  {
   "cell_type": "code",
   "execution_count": 232,
   "id": "41995428-779d-4a0d-aa32-270d50b3d8b6",
   "metadata": {},
   "outputs": [
    {
     "name": "stdout",
     "output_type": "stream",
     "text": [
      "Validating...\n",
      "e_acc = 0.862035\n",
      "e_acc_test = 0.833990\n",
      "t = 96.668254\n"
     ]
    }
   ],
   "source": [
    "print('Validating...')\n",
    "e_yhat = Emodel(e_x)\n",
    "e_yhat_test = Emodel(e_x_test)\n",
    "\n",
    "e_acc = (e_y == e_yhat).float().mean()\n",
    "e_acc_test = (e_y_test == e_yhat_test).float().mean()\n",
    "\n",
    "print(f'{e_acc = :6f}')\n",
    "print(f'{e_acc_test = :6f}')\n",
    "print(f'{t = :6f}')"
   ]
  },
  {
   "cell_type": "code",
   "execution_count": 233,
   "id": "2ada258e-bd86-4774-841d-8051eb011a43",
   "metadata": {},
   "outputs": [
    {
     "data": {
      "text/plain": [
       "(torch.Size([20800, 1, 784]), torch.Size([20800]))"
      ]
     },
     "execution_count": 233,
     "metadata": {},
     "output_type": "execute_result"
    }
   ],
   "source": [
    "e_X_te_cln = e_x_test.reshape(-1,1,784)  # x_test\n",
    "e_Y_te_cln = e_y_test #y_test\n",
    "e_X_te_cln.shape, e_Y_te_cln.shape"
   ]
  },
  {
   "cell_type": "code",
   "execution_count": 234,
   "id": "84efb569-bd18-44df-b512-4823291a5e18",
   "metadata": {},
   "outputs": [
    {
     "name": "stderr",
     "output_type": "stream",
     "text": [
      "100%|█████████████████████████████████████| 20800/20800 [25:50<00:00, 13.42it/s]\n"
     ]
    }
   ],
   "source": [
    "e_x_train_adv = torch.zeros(e_X_te_cln.shape)\n",
    "    \n",
    "for i in tqdm(range(len(e_X_te_cln))):\n",
    "    e_x_train_adv[i] = deepfool(e_X_te_cln[i], Emodel)"
   ]
  },
  {
   "cell_type": "code",
   "execution_count": 235,
   "id": "013e986c-8a72-4a2e-9096-db7547ffe9e1",
   "metadata": {},
   "outputs": [],
   "source": [
    "e_x_train_adv = e_x_train_adv.squeeze()"
   ]
  },
  {
   "cell_type": "code",
   "execution_count": 239,
   "id": "9447de4e-4a4f-4a0d-bd1c-23150b424dbe",
   "metadata": {},
   "outputs": [
    {
     "data": {
      "text/plain": [
       "<matplotlib.image.AxesImage at 0x7fcb79a50730>"
      ]
     },
     "execution_count": 239,
     "metadata": {},
     "output_type": "execute_result"
    },
    {
     "data": {
      "image/png": "[encoded data removed]",
      "text/plain": [
       "<Figure size 432x288 with 1 Axes>"
      ]
     },
     "metadata": {
      "needs_background": "light"
     },
     "output_type": "display_data"
    }
   ],
   "source": [
    "plt.imshow(e_x_train_adv[-1].reshape(28, 28), cmap='gray')"
   ]
  },
  {
   "cell_type": "code",
   "execution_count": 237,
   "id": "96f71418-0bbc-4176-8db6-d064b75c7034",
   "metadata": {},
   "outputs": [
    {
     "name": "stdout",
     "output_type": "stream",
     "text": [
      "Validating...\n",
      "e_acc = 0.862035\n",
      "e_acc_test = 0.833990\n",
      "e_acc_attack = 0.826298\n",
      "t = 96.668254\n"
     ]
    }
   ],
   "source": [
    "print('Validating...')\n",
    "e_yhat = Emodel(e_x)\n",
    "e_yhat_test = Emodel(e_x_test)\n",
    "e_yhat_attack = Emodel(e_x_train_adv)\n",
    "\n",
    "e_acc = (e_y == e_yhat).float().mean()\n",
    "e_acc_test = (e_y_test == e_yhat_test).float().mean()\n",
    "e_acc_attack = (e_y_test == e_yhat_attack).float().mean()\n",
    "\n",
    "print(f'{e_acc = :6f}')\n",
    "print(f'{e_acc_test = :6f}')\n",
    "print(f'{e_acc_attack = :6f}')\n",
    "print(f'{t = :6f}')"
   ]
  },
  {
   "cell_type": "code",
   "execution_count": 238,
   "id": "013e144e-3e20-4faa-a27e-aa8d1b2373b9",
   "metadata": {},
   "outputs": [],
   "source": [
    "import pickle \n",
    "\n",
    "data = {'mnist_fgsm':x_train_adv,\n",
    "       'mnist_label':y_test,\n",
    "       'fnist_fgsm':f_x_train_adv,\n",
    "       'fnist_label':f_y_test,\n",
    "       'enist_fgsm':e_x_train_adv,\n",
    "       'enist_label':e_y_test}\n",
    "\n",
    "with open('./data/DeepFool.pickle', 'wb') as f:\n",
    "    pickle.dump(data, f)"
   ]
  },
  {
   "cell_type": "code",
   "execution_count": null,
   "id": "f2844515-08de-4fbe-a946-94727fd78004",
   "metadata": {},
   "outputs": [],
   "source": []
  }
 ],
 "metadata": {
  "kernelspec": {
   "display_name": "UCI",
   "language": "python",
   "name": "uci"
  },
  "language_info": {
   "codemirror_mode": {
    "name": "ipython",
    "version": 3
   },
   "file_extension": ".py",
   "mimetype": "text/x-python",
   "name": "python",
   "nbconvert_exporter": "python",
   "pygments_lexer": "ipython3",
   "version": "3.8.5"
  }
 },
 "nbformat": 4,
 "nbformat_minor": 5
}
