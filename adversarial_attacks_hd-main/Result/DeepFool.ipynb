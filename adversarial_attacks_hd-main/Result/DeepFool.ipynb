{
 "cells": [
  {
   "cell_type": "markdown",
   "id": "54839908-a11a-447d-af44-09924855e581",
   "metadata": {},
   "source": [
    "# DF"
   ]
  },
  {
   "cell_type": "code",
   "execution_count": 1,
   "id": "c5f263c5-10f6-459d-9e68-304bb0cf1dce",
   "metadata": {},
   "outputs": [],
   "source": [
    "import matplotlib.pyplot as plt\n",
    "import pandas as pd\n",
    "import numpy as np"
   ]
  },
  {
   "cell_type": "code",
   "execution_count": 28,
   "id": "d5256c99-cfbf-492d-b3ed-9b04abd0a459",
   "metadata": {},
   "outputs": [],
   "source": [
    "DF_CNN_acc = [39.30, 43.33, 65.42]\n",
    "DF_HD_acc = [83.97, 72.75, 57.66]"
   ]
  },
  {
   "cell_type": "markdown",
   "id": "65d7e248-37e9-47e4-988a-29ae639fe75f",
   "metadata": {},
   "source": [
    "# attack`s acc"
   ]
  },
  {
   "cell_type": "code",
   "execution_count": 29,
   "id": "2e2f091d-a8fa-42cb-8e99-18831c588a30",
   "metadata": {},
   "outputs": [
    {
     "data": {
      "text/html": [
       "<div>\n",
       "<style scoped>\n",
       "    .dataframe tbody tr th:only-of-type {\n",
       "        vertical-align: middle;\n",
       "    }\n",
       "\n",
       "    .dataframe tbody tr th {\n",
       "        vertical-align: top;\n",
       "    }\n",
       "\n",
       "    .dataframe thead th {\n",
       "        text-align: right;\n",
       "    }\n",
       "</style>\n",
       "<table border=\"1\" class=\"dataframe\">\n",
       "  <thead>\n",
       "    <tr style=\"text-align: right;\">\n",
       "      <th></th>\n",
       "      <th>mnist_accuracy</th>\n",
       "      <th>fmnist_accuracy</th>\n",
       "      <th>emnist_accuracy</th>\n",
       "    </tr>\n",
       "  </thead>\n",
       "  <tbody>\n",
       "    <tr>\n",
       "      <th>CNN</th>\n",
       "      <td>39.30</td>\n",
       "      <td>43.33</td>\n",
       "      <td>65.42</td>\n",
       "    </tr>\n",
       "    <tr>\n",
       "      <th>HD</th>\n",
       "      <td>83.97</td>\n",
       "      <td>72.75</td>\n",
       "      <td>57.66</td>\n",
       "    </tr>\n",
       "  </tbody>\n",
       "</table>\n",
       "</div>"
      ],
      "text/plain": [
       "     mnist_accuracy  fmnist_accuracy  emnist_accuracy\n",
       "CNN           39.30            43.33            65.42\n",
       "HD            83.97            72.75            57.66"
      ]
     },
     "execution_count": 29,
     "metadata": {},
     "output_type": "execute_result"
    }
   ],
   "source": [
    "acc_df = pd.DataFrame(\n",
    "                  data = [DF_CNN_acc, DF_HD_acc],\n",
    "                  index=['CNN', 'HD'], \n",
    "                  columns=['mnist_accuracy', 'fmnist_accuracy', 'emnist_accuracy'])\n",
    "acc_df"
   ]
  },
  {
   "cell_type": "code",
   "execution_count": 30,
   "id": "fc36d5e6-2a46-4a0d-93af-96bb1b2e670c",
   "metadata": {},
   "outputs": [
    {
     "data": {
      "text/plain": [
       "<matplotlib.axes._subplots.AxesSubplot at 0x7fa0b9623d00>"
      ]
     },
     "execution_count": 30,
     "metadata": {},
     "output_type": "execute_result"
    },
    {
     "data": {
      "image/png": "[encoded data removed]",
      "text/plain": [
       "<Figure size 432x288 with 1 Axes>"
      ]
     },
     "metadata": {
      "needs_background": "light"
     },
     "output_type": "display_data"
    }
   ],
   "source": [
    "acc_df.T.plot()"
   ]
  },
  {
   "cell_type": "markdown",
   "id": "dbf55345-24bb-46a8-8adb-4aa4d22604e0",
   "metadata": {},
   "source": [
    "# origina acc"
   ]
  },
  {
   "cell_type": "code",
   "execution_count": 8,
   "id": "28230266-2ca9-4fe8-bc45-31adab189ef2",
   "metadata": {},
   "outputs": [
    {
     "data": {
      "text/html": [
       "<div>\n",
       "<style scoped>\n",
       "    .dataframe tbody tr th:only-of-type {\n",
       "        vertical-align: middle;\n",
       "    }\n",
       "\n",
       "    .dataframe tbody tr th {\n",
       "        vertical-align: top;\n",
       "    }\n",
       "\n",
       "    .dataframe thead th {\n",
       "        text-align: right;\n",
       "    }\n",
       "</style>\n",
       "<table border=\"1\" class=\"dataframe\">\n",
       "  <thead>\n",
       "    <tr style=\"text-align: right;\">\n",
       "      <th></th>\n",
       "      <th>mnist_accuracy</th>\n",
       "      <th>fmnist_accuracy</th>\n",
       "      <th>emnist_accuracy</th>\n",
       "    </tr>\n",
       "  </thead>\n",
       "  <tbody>\n",
       "    <tr>\n",
       "      <th>CNN</th>\n",
       "      <td>98.18</td>\n",
       "      <td>89.34</td>\n",
       "      <td>90.49</td>\n",
       "    </tr>\n",
       "    <tr>\n",
       "      <th>HD</th>\n",
       "      <td>93.54</td>\n",
       "      <td>81.96</td>\n",
       "      <td>83.24</td>\n",
       "    </tr>\n",
       "  </tbody>\n",
       "</table>\n",
       "</div>"
      ],
      "text/plain": [
       "     mnist_accuracy  fmnist_accuracy  emnist_accuracy\n",
       "CNN           98.18            89.34            90.49\n",
       "HD            93.54            81.96            83.24"
      ]
     },
     "execution_count": 8,
     "metadata": {},
     "output_type": "execute_result"
    }
   ],
   "source": [
    "DF_CNN_acc = [98.18, 89.34, 90.49]\n",
    "DF_HD_acc = [93.54, 81.96, 83.24]\n",
    "\n",
    "acc_df_origin = pd.DataFrame(\n",
    "                  data = [DF_CNN_acc, DF_HD_acc],\n",
    "                  index=['CNN', 'HD'], \n",
    "                  columns=['mnist_accuracy', 'fmnist_accuracy', 'emnist_accuracy'])\n",
    "acc_df_origin"
   ]
  },
  {
   "cell_type": "code",
   "execution_count": 9,
   "id": "eae24844-5714-4a40-bfaf-d8d755ddad3f",
   "metadata": {},
   "outputs": [
    {
     "data": {
      "text/plain": [
       "<matplotlib.axes._subplots.AxesSubplot at 0x7fa0d1e13cd0>"
      ]
     },
     "execution_count": 9,
     "metadata": {},
     "output_type": "execute_result"
    },
    {
     "data": {
      "image/png": "[encoded data removed]",
      "text/plain": [
       "<Figure size 432x288 with 1 Axes>"
      ]
     },
     "metadata": {
      "needs_background": "light"
     },
     "output_type": "display_data"
    }
   ],
   "source": [
    "acc_df_origin.T.plot()"
   ]
  },
  {
   "cell_type": "code",
   "execution_count": 19,
   "id": "2199397c-d782-4bfd-af70-f801a0ebd251",
   "metadata": {},
   "outputs": [
    {
     "ename": "AttributeError",
     "evalue": "module 'matplotlib.pyplot' has no attribute 'acc_df'",
     "output_type": "error",
     "traceback": [
      "\u001b[0;31m---------------------------------------------------------------------------\u001b[0m",
      "\u001b[0;31mAttributeError\u001b[0m                            Traceback (most recent call last)",
      "\u001b[0;32m/var/folders/4_/4812b_4j2_s0smfmxlqdpr600000gn/T/ipykernel_5499/511354924.py\u001b[0m in \u001b[0;36m<module>\u001b[0;34m\u001b[0m\n\u001b[1;32m      2\u001b[0m \u001b[0;34m\u001b[0m\u001b[0m\n\u001b[1;32m      3\u001b[0m \u001b[0mplt\u001b[0m\u001b[0;34m.\u001b[0m\u001b[0msubplot\u001b[0m\u001b[0;34m(\u001b[0m\u001b[0;36m211\u001b[0m\u001b[0;34m)\u001b[0m\u001b[0;34m\u001b[0m\u001b[0;34m\u001b[0m\u001b[0m\n\u001b[0;32m----> 4\u001b[0;31m \u001b[0mplt\u001b[0m\u001b[0;34m.\u001b[0m\u001b[0macc_df\u001b[0m\u001b[0;34m.\u001b[0m\u001b[0mT\u001b[0m\u001b[0;34m.\u001b[0m\u001b[0mplot\u001b[0m\u001b[0;34m(\u001b[0m\u001b[0;34m)\u001b[0m\u001b[0;34m\u001b[0m\u001b[0;34m\u001b[0m\u001b[0m\n\u001b[0m\u001b[1;32m      5\u001b[0m \u001b[0;34m\u001b[0m\u001b[0m\n\u001b[1;32m      6\u001b[0m \u001b[0mplt\u001b[0m\u001b[0;34m.\u001b[0m\u001b[0msubplot\u001b[0m\u001b[0;34m(\u001b[0m\u001b[0;36m212\u001b[0m\u001b[0;34m)\u001b[0m\u001b[0;34m\u001b[0m\u001b[0;34m\u001b[0m\u001b[0m\n",
      "\u001b[0;31mAttributeError\u001b[0m: module 'matplotlib.pyplot' has no attribute 'acc_df'"
     ]
    },
    {
     "data": {
      "image/png": "[encoded data removed]",
      "text/plain": [
       "<Figure size 720x432 with 1 Axes>"
      ]
     },
     "metadata": {
      "needs_background": "light"
     },
     "output_type": "display_data"
    }
   ],
   "source": [
    "plt.figure(figsize=(10,6))\n",
    "\n",
    "plt.subplot(211)\n",
    "acc_df.T.plot()\n",
    "\n",
    "plt.subplot(212)\n",
    "acc_df_origin.T.plot()"
   ]
  },
  {
   "cell_type": "code",
   "execution_count": null,
   "id": "2ce73f07-afc6-47cb-b5ea-e4cded4f97bb",
   "metadata": {},
   "outputs": [],
   "source": []
  }
 ],
 "metadata": {
  "kernelspec": {
   "display_name": "Python [conda env:base] *",
   "language": "python",
   "name": "conda-base-py"
  },
  "language_info": {
   "codemirror_mode": {
    "name": "ipython",
    "version": 3
   },
   "file_extension": ".py",
   "mimetype": "text/x-python",
   "name": "python",
   "nbconvert_exporter": "python",
   "pygments_lexer": "ipython3",
   "version": "3.12.7"
  }
 },
 "nbformat": 4,
 "nbformat_minor": 5
}
