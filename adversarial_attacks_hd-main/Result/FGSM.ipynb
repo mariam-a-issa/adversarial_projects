{
 "cells": [
  {
   "cell_type": "code",
   "execution_count": 2,
   "id": "4bba4f6a-7740-4ba5-b9c5-ee60d72ea1c5",
   "metadata": {},
   "outputs": [],
   "source": [
    "import matplotlib.pyplot as plt\n",
    "import pandas as pd"
   ]
  },
  {
   "cell_type": "code",
   "execution_count": 20,
   "id": "3b6bc707-cde7-4d8a-8ffd-b3569697e8ce",
   "metadata": {},
   "outputs": [],
   "source": [
    "FGSM_CNN_acc = [86.26, 67.70, 47.56]\n",
    "FGSM_HD_acc = [91.54, 72.88, 79.75]"
   ]
  },
  {
   "cell_type": "code",
   "execution_count": 27,
   "id": "3fe9739a-53bb-4f6d-95d7-d1eda687c08d",
   "metadata": {},
   "outputs": [
    {
     "data": {
      "text/html": [
       "<div>\n",
       "<style scoped>\n",
       "    .dataframe tbody tr th:only-of-type {\n",
       "        vertical-align: middle;\n",
       "    }\n",
       "\n",
       "    .dataframe tbody tr th {\n",
       "        vertical-align: top;\n",
       "    }\n",
       "\n",
       "    .dataframe thead th {\n",
       "        text-align: right;\n",
       "    }\n",
       "</style>\n",
       "<table border=\"1\" class=\"dataframe\">\n",
       "  <thead>\n",
       "    <tr style=\"text-align: right;\">\n",
       "      <th></th>\n",
       "      <th>mnist_accuracy</th>\n",
       "      <th>fmnist_accuracy</th>\n",
       "      <th>emnist_accuracy</th>\n",
       "    </tr>\n",
       "  </thead>\n",
       "  <tbody>\n",
       "    <tr>\n",
       "      <th>CNN</th>\n",
       "      <td>86.26</td>\n",
       "      <td>67.70</td>\n",
       "      <td>47.56</td>\n",
       "    </tr>\n",
       "    <tr>\n",
       "      <th>HD</th>\n",
       "      <td>91.54</td>\n",
       "      <td>72.88</td>\n",
       "      <td>79.75</td>\n",
       "    </tr>\n",
       "  </tbody>\n",
       "</table>\n",
       "</div>"
      ],
      "text/plain": [
       "     mnist_accuracy  fmnist_accuracy  emnist_accuracy\n",
       "CNN           86.26            67.70            47.56\n",
       "HD            91.54            72.88            79.75"
      ]
     },
     "execution_count": 27,
     "metadata": {},
     "output_type": "execute_result"
    }
   ],
   "source": [
    "acc_df = pd.DataFrame(\n",
    "                  data = [FGSM_CNN_acc, FGSM_HD_acc],\n",
    "                  index=['CNN', 'HD'], \n",
    "                  columns=['mnist_accuracy', 'fmnist_accuracy', 'emnist_accuracy'])\n",
    "acc_df"
   ]
  },
  {
   "cell_type": "markdown",
   "id": "f5be012d-e13e-40de-bd37-cc50ca6e5360",
   "metadata": {},
   "source": [
    "plus\n",
    "\n",
    "cnn sample -> hd model"
   ]
  },
  {
   "cell_type": "code",
   "execution_count": 28,
   "id": "d7e45a32-5876-4171-81c8-543af1be245d",
   "metadata": {},
   "outputs": [
    {
     "data": {
      "text/plain": [
       "<matplotlib.axes._subplots.AxesSubplot at 0x7fdc1a548370>"
      ]
     },
     "execution_count": 28,
     "metadata": {},
     "output_type": "execute_result"
    },
    {
     "data": {
      "image/png": "[encoded data removed]",
      "text/plain": [
       "<Figure size 432x288 with 1 Axes>"
      ]
     },
     "metadata": {
      "needs_background": "light"
     },
     "output_type": "display_data"
    }
   ],
   "source": [
    "acc_df.T.plot()"
   ]
  },
  {
   "cell_type": "code",
   "execution_count": 8,
   "id": "13a0a533-981f-4326-b1ee-acc315e17b91",
   "metadata": {},
   "outputs": [],
   "source": [
    "FGSM_CNN_time = [30, 17, 38]\n",
    "FGSM_HD_time = [170, 86, 197]\n",
    "HD`accuracy = 93%\n",
    "CNN`accuracy = 98%"
   ]
  },
  {
   "cell_type": "code",
   "execution_count": 10,
   "id": "672226e8-74d0-4376-9953-2583b245599b",
   "metadata": {},
   "outputs": [
    {
     "data": {
      "text/html": [
       "<div>\n",
       "<style scoped>\n",
       "    .dataframe tbody tr th:only-of-type {\n",
       "        vertical-align: middle;\n",
       "    }\n",
       "\n",
       "    .dataframe tbody tr th {\n",
       "        vertical-align: top;\n",
       "    }\n",
       "\n",
       "    .dataframe thead th {\n",
       "        text-align: right;\n",
       "    }\n",
       "</style>\n",
       "<table border=\"1\" class=\"dataframe\">\n",
       "  <thead>\n",
       "    <tr style=\"text-align: right;\">\n",
       "      <th></th>\n",
       "      <th>mnist_time</th>\n",
       "      <th>fmnist_time</th>\n",
       "      <th>emnist_time</th>\n",
       "    </tr>\n",
       "  </thead>\n",
       "  <tbody>\n",
       "    <tr>\n",
       "      <th>CNN</th>\n",
       "      <td>30</td>\n",
       "      <td>17</td>\n",
       "      <td>38</td>\n",
       "    </tr>\n",
       "    <tr>\n",
       "      <th>HD</th>\n",
       "      <td>170</td>\n",
       "      <td>86</td>\n",
       "      <td>197</td>\n",
       "    </tr>\n",
       "  </tbody>\n",
       "</table>\n",
       "</div>"
      ],
      "text/plain": [
       "     mnist_time  fmnist_time  emnist_time\n",
       "CNN          30           17           38\n",
       "HD          170           86          197"
      ]
     },
     "execution_count": 10,
     "metadata": {},
     "output_type": "execute_result"
    }
   ],
   "source": [
    "time_df = pd.DataFrame(\n",
    "            data = [FGSM_CNN_time, FGSM_HD_time],\n",
    "            index=['CNN', 'HD'], \n",
    "            columns=['mnist_time', 'fmnist_time', 'emnist_time'])\n",
    "time_df"
   ]
  },
  {
   "cell_type": "code",
   "execution_count": 19,
   "id": "56894496-7e4c-44d9-b9b9-d3fa7cb7cf41",
   "metadata": {},
   "outputs": [
    {
     "data": {
      "image/png": "[encoded data removed]",
      "text/plain": [
       "<Figure size 432x288 with 1 Axes>"
      ]
     },
     "metadata": {
      "needs_background": "light"
     },
     "output_type": "display_data"
    }
   ],
   "source": [
    "time_df.T.plot()\n",
    "plt.grid()\n",
    "plt.show()"
   ]
  }
 ],
 "metadata": {
  "kernelspec": {
   "display_name": "Python [conda env:base] *",
   "language": "python",
   "name": "conda-base-py"
  },
  "language_info": {
   "codemirror_mode": {
    "name": "ipython",
    "version": 3
   },
   "file_extension": ".py",
   "mimetype": "text/x-python",
   "name": "python",
   "nbconvert_exporter": "python",
   "pygments_lexer": "ipython3",
   "version": "3.12.7"
  }
 },
 "nbformat": 4,
 "nbformat_minor": 5
}
