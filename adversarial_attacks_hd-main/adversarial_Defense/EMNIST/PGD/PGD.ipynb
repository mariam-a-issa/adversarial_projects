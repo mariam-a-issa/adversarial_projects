{
 "cells": [
  {
   "cell_type": "code",
   "execution_count": 1,
   "id": "d5298d98-1d37-4458-bcea-a01875a78b86",
   "metadata": {},
   "outputs": [
    {
     "data": {
      "text/plain": [
       "<torch._C.Generator at 0x7feb0d047b30>"
      ]
     },
     "execution_count": 1,
     "metadata": {},
     "output_type": "execute_result"
    }
   ],
   "source": [
    "from time import time\n",
    "\n",
    "import torch\n",
    "import sklearn.datasets\n",
    "import sklearn.preprocessing\n",
    "import sklearn.model_selection\n",
    "import numpy as np\n",
    "import math\n",
    "import matplotlib.pyplot as plt\n",
    "\n",
    "from torchvision.datasets import MNIST\n",
    "from torchvision.datasets import FashionMNIST as FMNIST\n",
    "from torchvision.datasets import EMNIST\n",
    "import torchvision.transforms as transforms\n",
    "\n",
    "import Onlinehd\n",
    "\n",
    "SEED = 1234\n",
    "device = 'cuda' if torch.cuda.is_available() else 'cpu'\n",
    "np.random.seed(SEED)\n",
    "torch.manual_seed(SEED)"
   ]
  },
  {
   "cell_type": "code",
   "execution_count": 2,
   "id": "29340d4b-4b96-49fc-bf2d-ffb29beeb084",
   "metadata": {},
   "outputs": [],
   "source": [
    "def load():\n",
    "    download_root = 'data/emnist_dataset'\n",
    "    \n",
    "    temp = EMNIST(download_root, split = 'letters', train=True, download=True)\n",
    "    x = temp.data.unsqueeze(3).numpy().transpose((0,2,1,3))\n",
    "    y = temp.targets.numpy() - 1\n",
    "    temp = EMNIST(download_root, split='letters', train=False, download=True)\n",
    "    x_test = temp.data.unsqueeze(3).numpy().transpose((0,2,1,3))\n",
    "    y_test = temp.targets.numpy() - 1\n",
    "    \n",
    "    x = torch.from_numpy(x).float()\n",
    "    y = torch.from_numpy(y).long()\n",
    "    x_test = torch.from_numpy(x_test).float()\n",
    "    y_test = torch.from_numpy(y_test).long()\n",
    "    \n",
    "    x_test = x_test.float()\n",
    "    y_test = y_test.long().squeeze()\n",
    "\n",
    "    if len(x.shape) != 3:\n",
    "        x = x.squeeze(3)\n",
    "        x_test = x_test.squeeze(3)\n",
    "    \n",
    "    return x, x_test, y, y_test"
   ]
  },
  {
   "cell_type": "code",
   "execution_count": 4,
   "id": "3c08bd38-94f2-469a-af7d-d5432b58bb05",
   "metadata": {
    "tags": []
   },
   "outputs": [
    {
     "name": "stderr",
     "output_type": "stream",
     "text": [
      "/Users/jeongseongheon/opt/anaconda3/envs/UCI/lib/python3.8/site-packages/torchvision/datasets/mnist.py:498: UserWarning: The given NumPy array is not writeable, and PyTorch does not support non-writeable tensors. This means you can write to the underlying (supposedly non-writeable) NumPy array using the tensor. You may want to copy the array to protect its data or make it writeable before converting it to a tensor. This type of warning will be suppressed for the rest of this program. (Triggered internally at  ../torch/csrc/utils/tensor_numpy.cpp:180.)\n",
      "  return torch.from_numpy(parsed.astype(m[2], copy=False)).view(*s)\n"
     ]
    }
   ],
   "source": [
    "train_x, x_test, train_y, y_test = load()"
   ]
  },
  {
   "cell_type": "code",
   "execution_count": 5,
   "id": "d3cf9f70-f3f1-4228-ac01-f7615a597e1b",
   "metadata": {},
   "outputs": [],
   "source": [
    "train_x = train_x.reshape(-1, 784)\n",
    "x_test = x_test.reshape(-1, 784)\n",
    "\n",
    "f_scaler = sklearn.preprocessing.Normalizer().fit(train_x.reshape(-1, 784))\n",
    "train_x = torch.tensor(f_scaler.transform(train_x.reshape(-1, 784)))\n",
    "x_test = torch.tensor(f_scaler.transform(x_test.reshape(-1, 784)))"
   ]
  },
  {
   "cell_type": "code",
   "execution_count": 6,
   "id": "f9b77288-9628-4f90-a21c-0598c1738217",
   "metadata": {},
   "outputs": [
    {
     "name": "stdout",
     "output_type": "stream",
     "text": [
      "Training...\n",
      "0\n",
      "10\n"
     ]
    }
   ],
   "source": [
    "from time import time\n",
    "\n",
    "f_classes = train_y.unique().size(0)\n",
    "f_features = train_x.size(1)\n",
    "model = Onlinehd.OnlineHD(f_classes, f_features, dim=10000)\n",
    "\n",
    "if torch.cuda.is_available():\n",
    "    f_x = f_x.cuda()\n",
    "    f_y = f_y.cuda()\n",
    "    f_x_test = f_x_test.cuda()\n",
    "    f_y_test = f_y_test.cuda()\n",
    "    Fmodel = Fmodel.to('cuda')\n",
    "    print('Using GPU!')\n",
    "\n",
    "print('Training...')\n",
    "t = time()\n",
    "model = model.fit(train_x, train_y, bootstrap=1.0, lr=0.035, epochs=20)\n",
    "t = time() - t"
   ]
  },
  {
   "cell_type": "code",
   "execution_count": 7,
   "id": "5072cc74-8a6e-43ca-bd0a-2db936b4086b",
   "metadata": {},
   "outputs": [
    {
     "name": "stdout",
     "output_type": "stream",
     "text": [
      "Validating...\n",
      "f_acc = 0.860625\n",
      "f_acc_test = 0.832452\n",
      "t = 87.080077\n"
     ]
    }
   ],
   "source": [
    "print('Validating...')\n",
    "f_yhat = model(train_x)\n",
    "f_yhat_test = model(x_test)\n",
    "\n",
    "f_acc = (train_y == f_yhat).float().mean()\n",
    "f_acc_test = (y_test == f_yhat_test).float().mean()\n",
    "\n",
    "print(f'{f_acc = :6f}')\n",
    "print(f'{f_acc_test = :6f}')\n",
    "print(f'{t = :6f}')"
   ]
  },
  {
   "cell_type": "code",
   "execution_count": 10,
   "id": "f16f7374-5366-4165-a046-40bcbc37e812",
   "metadata": {},
   "outputs": [],
   "source": [
    "def pgd_attack(x_original, y_target, model, alpha, iterations=10, epsilon=0.03):\n",
    "    criterion = nn.CosineEmbeddingLoss()\n",
    "    x_perturbed = x_original.clone().detach()\n",
    "    x_perturbed.requires_grad = True\n",
    "    \n",
    "    for _ in range(iterations):\n",
    "        output = model.encode(x_perturbed)\n",
    "        label = torch.ones(26, dtype=int) * -1\n",
    "        label[y_target.item()] = 1\n",
    "        loss = criterion(output, model.model, label)\n",
    "                \n",
    "#         loss.backward()\n",
    "#         grad = x_perturbed.gard.data\n",
    "        grad = torch.autograd.grad(loss, x_perturbed)[0]\n",
    "        x_perturbed = x_perturbed.detach() + alpha*grad.sign()\n",
    "        eta = torch.clamp(x_perturbed - x_original, min=-epsilon, max=epsilon)\n",
    "        x_perturbed = x_original + eta\n",
    "    return x_perturbed"
   ]
  },
  {
   "cell_type": "code",
   "execution_count": 11,
   "id": "bccb43b0-2ac5-4aed-b1f2-c23effe1634f",
   "metadata": {},
   "outputs": [
    {
     "name": "stdout",
     "output_type": "stream",
     "text": [
      "0\n",
      "1000\n",
      "2000\n",
      "3000\n",
      "4000\n",
      "5000\n",
      "6000\n",
      "7000\n",
      "8000\n",
      "9000\n",
      "10000\n",
      "11000\n",
      "12000\n",
      "13000\n",
      "14000\n",
      "15000\n",
      "16000\n",
      "17000\n",
      "18000\n",
      "19000\n",
      "20000\n",
      "\n",
      "PGD Attack with alpha = 0.01000 | Elapsed time: 889.27 seconds.\n",
      "Accuracy: Before the attack -> 83.24%\t|\tAfter the attack -> 31.96%\n",
      "0\n",
      "1000\n",
      "2000\n",
      "3000\n",
      "4000\n",
      "5000\n",
      "6000\n",
      "7000\n",
      "8000\n",
      "9000\n",
      "10000\n",
      "11000\n",
      "12000\n",
      "13000\n",
      "14000\n",
      "15000\n",
      "16000\n",
      "17000\n",
      "18000\n",
      "19000\n",
      "20000\n",
      "\n",
      "PGD Attack with alpha = 0.02000 | Elapsed time: 895.12 seconds.\n",
      "Accuracy: Before the attack -> 83.24%\t|\tAfter the attack -> 34.27%\n",
      "0\n",
      "1000\n",
      "2000\n",
      "3000\n",
      "4000\n",
      "5000\n",
      "6000\n",
      "7000\n",
      "8000\n",
      "9000\n",
      "10000\n",
      "11000\n",
      "12000\n",
      "13000\n",
      "14000\n",
      "15000\n",
      "16000\n",
      "17000\n",
      "18000\n",
      "19000\n",
      "20000\n",
      "\n",
      "PGD Attack with alpha = 0.03000 | Elapsed time: 891.71 seconds.\n",
      "Accuracy: Before the attack -> 83.24%\t|\tAfter the attack -> 39.90%\n",
      "0\n",
      "1000\n",
      "2000\n",
      "3000\n",
      "4000\n",
      "5000\n",
      "6000\n",
      "7000\n",
      "8000\n",
      "9000\n",
      "10000\n",
      "11000\n",
      "12000\n",
      "13000\n",
      "14000\n",
      "15000\n",
      "16000\n",
      "17000\n",
      "18000\n",
      "19000\n",
      "20000\n",
      "\n",
      "PGD Attack with alpha = 0.04000 | Elapsed time: 891.27 seconds.\n",
      "Accuracy: Before the attack -> 83.24%\t|\tAfter the attack -> 38.61%\n",
      "0\n",
      "1000\n",
      "2000\n",
      "3000\n",
      "4000\n",
      "5000\n",
      "6000\n",
      "7000\n",
      "8000\n",
      "9000\n",
      "10000\n",
      "11000\n",
      "12000\n",
      "13000\n",
      "14000\n",
      "15000\n",
      "16000\n",
      "17000\n",
      "18000\n",
      "19000\n",
      "20000\n",
      "\n",
      "PGD Attack with alpha = 0.05000 | Elapsed time: 891.51 seconds.\n",
      "Accuracy: Before the attack -> 83.24%\t|\tAfter the attack -> 31.41%\n"
     ]
    }
   ],
   "source": [
    "import time\n",
    "import torch.nn as nn\n",
    "\n",
    "epsilons = torch.Tensor([0.01, 0.02, 0.03, 0.04, 0.05])\n",
    "acc_results = dict()\n",
    "verbose = False\n",
    "N_VAL_SAMPLES = x_test.shape[0]\n",
    "criterion = nn.CosineEmbeddingLoss()\n",
    "\n",
    "PGD_test_attack_data = []\n",
    "PGD_test_attack_label = []\n",
    "\n",
    "for eps in epsilons:\n",
    "    correct_unperturbed = 0\n",
    "    correct_perturbed = 0\n",
    "    t0 = time.perf_counter()\n",
    "    \n",
    "    for j in range(len(x_test)):\n",
    "        if j % 1000 == 0 :\n",
    "            print(j)\n",
    "#     for j, val_data in enumerate(x, 0):\n",
    "        ### NOTE: IT WOULD BE MORE EFFICIENT TO ITERATE ONLY ONCE THROUGH THE DATA AND PERFORM ALL THE ATTACKS\n",
    "        x, y_target = x_test[j].reshape(-1, 784), y_test[j]\n",
    "        x, y_target = x.to(device), y_target.to(device)\n",
    "        x.requires_grad = True\n",
    "        \n",
    "        y_pred = model(x)\n",
    "        \n",
    "        if y_pred == y_target: # Only make attack on correctly classified samples\n",
    "            correct_unperturbed += 1\n",
    "            # Calculate loss and gradient\n",
    "            perturbed_x = pgd_attack(x, y_target, model=model, alpha=eps)\n",
    "            PGD_test_attack_data.append(perturbed_x)\n",
    "            PGD_test_attack_label.append(y_target)\n",
    "            \n",
    "            y_pred_perturbed = model(perturbed_x)\n",
    "#             y_pred_perturbed = torch.argmin(perturbed_output)\n",
    "#             loss_perturbed = criterion(perturbed_output, model.model, label)\n",
    "            if y_pred_perturbed == y_target:\n",
    "                correct_perturbed += 1\n",
    "                \n",
    "    acc_before_attack = correct_unperturbed / N_VAL_SAMPLES\n",
    "    acc_after_attack = correct_perturbed / N_VAL_SAMPLES\n",
    "    print(f'\\nPGD Attack with alpha = {eps:.5f} | Elapsed time: {time.perf_counter() - t0:.2f} seconds.')\n",
    "    print(f'Accuracy: Before the attack -> {100 * acc_before_attack:.2f}%\\t|\\tAfter the attack -> {100 * acc_after_attack:.2f}%')\n",
    "    acc_results[eps.item()] = acc_after_attack\n",
    "acc_results[0] = acc_before_attack"
   ]
  },
  {
   "cell_type": "code",
   "execution_count": 12,
   "id": "c04c7ba6-72e4-4b62-bded-c8ab1b9b0de0",
   "metadata": {},
   "outputs": [],
   "source": [
    "PGD_test_attack_label\n",
    "for i in range(len(PGD_test_attack_label)):\n",
    "    PGD_test_attack_label[i] = PGD_test_attack_label[i].item()"
   ]
  },
  {
   "cell_type": "code",
   "execution_count": 13,
   "id": "79a46cf6-4064-4600-b997-1c0ade68a540",
   "metadata": {},
   "outputs": [],
   "source": [
    "PGD_test_attack_label = torch.tensor(PGD_test_attack_label).long()"
   ]
  },
  {
   "cell_type": "code",
   "execution_count": 14,
   "id": "83b2d9b9-3835-466e-9025-30b1df6960b4",
   "metadata": {},
   "outputs": [
    {
     "data": {
      "text/plain": [
       "86570"
      ]
     },
     "execution_count": 14,
     "metadata": {},
     "output_type": "execute_result"
    }
   ],
   "source": [
    "len(PGD_test_attack_data)"
   ]
  },
  {
   "cell_type": "code",
   "execution_count": 15,
   "id": "935a1079-9546-48b7-94f1-f819a97374c6",
   "metadata": {},
   "outputs": [],
   "source": [
    "PGD_test_attack = torch.zeros(86570, 784)\n",
    "\n",
    "for i in range(len(PGD_test_attack_data)):\n",
    "    PGD_test_attack[i] = PGD_test_attack_data[i].reshape(784)"
   ]
  },
  {
   "cell_type": "code",
   "execution_count": 16,
   "id": "120eea55-a9f6-4a82-85ef-eaa57440773f",
   "metadata": {},
   "outputs": [],
   "source": [
    "train_data = f_scaler.transform(PGD_test_attack.detach().numpy())"
   ]
  },
  {
   "cell_type": "code",
   "execution_count": 17,
   "id": "fe178cfe-6250-4323-ac16-5599af620908",
   "metadata": {},
   "outputs": [],
   "source": [
    "train_data = torch.from_numpy(train_data).float()"
   ]
  },
  {
   "cell_type": "markdown",
   "id": "9cd0d7c6-7175-4fdc-9326-c24ea927855d",
   "metadata": {},
   "source": [
    "# Adversarial Training"
   ]
  },
  {
   "cell_type": "code",
   "execution_count": 18,
   "id": "aa6e46ef-2bc7-466f-b030-2a97ac858638",
   "metadata": {},
   "outputs": [
    {
     "name": "stdout",
     "output_type": "stream",
     "text": [
      "Training...\n",
      "0\n",
      "10\n"
     ]
    }
   ],
   "source": [
    "from time import time\n",
    "\n",
    "classes = train_y.unique().size(0)\n",
    "features = train_x.size(1)\n",
    "model = Onlinehd.OnlineHD(classes, features, dim=10000)\n",
    "\n",
    "if torch.cuda.is_available():\n",
    "    train_x = train_x.cuda()\n",
    "    train_y = train_y.cuda()\n",
    "    x_test = x_test.cuda()\n",
    "    y_test = y_test.cuda()\n",
    "    model = model.to('cuda')\n",
    "    print('Using GPU!')\n",
    "\n",
    "print('Training...')\n",
    "t = time()\n",
    "model = model.fit(train_data, PGD_test_attack_label, bootstrap=1.0, lr=0.035, epochs=20)\n",
    "t = time() - t"
   ]
  },
  {
   "cell_type": "code",
   "execution_count": 19,
   "id": "088ab684-ce89-4a73-9caf-b735d323d4d7",
   "metadata": {},
   "outputs": [
    {
     "name": "stdout",
     "output_type": "stream",
     "text": [
      "Validating...\n",
      "acc = 0.881160\n",
      "acc_test = 0.646394\n",
      "t = 46.596119\n"
     ]
    }
   ],
   "source": [
    "print('Validating...')\n",
    "yhat = model(train_data)\n",
    "yhat_test = model(x_test)\n",
    "acc = (PGD_test_attack_label == yhat).float().mean()\n",
    "acc_test = (y_test == yhat_test).float().mean()\n",
    "print(f'{acc = :6f}')\n",
    "print(f'{acc_test = :6f}')\n",
    "print(f'{t = :6f}')"
   ]
  },
  {
   "cell_type": "code",
   "execution_count": 20,
   "id": "b90c174f-0530-4ebf-bc33-69727d763d40",
   "metadata": {},
   "outputs": [],
   "source": [
    "import pickle\n",
    "\n",
    "with open('hd_adversarial_sample/EMNIST_HD_FGSM.pickle', 'rb') as f:\n",
    "    FGSM = pickle.load(f)"
   ]
  },
  {
   "cell_type": "code",
   "execution_count": 21,
   "id": "343d875e-704c-4c50-90a3-598a274410d4",
   "metadata": {},
   "outputs": [],
   "source": [
    "FGSM_001 = FGSM['data']['0.01']\n",
    "FGSM_003 = FGSM['data']['0.03']\n",
    "FGSM_007 = FGSM['data']['0.07']\n",
    "FGSM_01 = FGSM['data']['0.1']"
   ]
  },
  {
   "cell_type": "code",
   "execution_count": 22,
   "id": "b6b9bf52-4128-4750-a60d-47b41e3b514f",
   "metadata": {},
   "outputs": [],
   "source": [
    "import pickle\n",
    "\n",
    "with open('hd_adversarial_sample/EMNIST_HD_DF.pickle', 'rb') as f:\n",
    "    DF = pickle.load(f)"
   ]
  },
  {
   "cell_type": "code",
   "execution_count": 23,
   "id": "35563a51-91c6-49dd-a81e-64d3cecba3a8",
   "metadata": {},
   "outputs": [],
   "source": [
    "DF_data = DF['data']"
   ]
  },
  {
   "cell_type": "code",
   "execution_count": 24,
   "id": "7cf548d5-9f84-4f85-aae2-57d11cc8d9d5",
   "metadata": {},
   "outputs": [],
   "source": [
    "import pickle\n",
    "\n",
    "with open('hd_adversarial_sample/EMNIST_HD_JSMA.pickle', 'rb') as f:\n",
    "    JSMA = pickle.load(f)"
   ]
  },
  {
   "cell_type": "code",
   "execution_count": 25,
   "id": "b06d77fe-bacd-4ac7-9f35-9517c4f34007",
   "metadata": {},
   "outputs": [],
   "source": [
    "JSMA_data = JSMA['data']"
   ]
  },
  {
   "cell_type": "code",
   "execution_count": 29,
   "id": "102f1c17-db4c-4c73-b6cb-3575df1a2d8a",
   "metadata": {},
   "outputs": [],
   "source": [
    "FGSM_001 = torch.from_numpy(f_scaler.transform(FGSM_001.detach().numpy().reshape(-1, 784))).float()\n",
    "FGSM_003 = torch.from_numpy(f_scaler.transform(FGSM_003.detach().numpy().reshape(-1, 784))).float()\n",
    "FGSM_007 = torch.from_numpy(f_scaler.transform(FGSM_007.detach().numpy().reshape(-1, 784))).float()\n",
    "FGSM_01 = torch.from_numpy(f_scaler.transform(FGSM_01.detach().numpy().reshape(-1, 784))).float()\n",
    "DF_data = torch.from_numpy(f_scaler.transform(DF_data.reshape(-1, 784))).float()\n",
    "JSMA_data = torch.from_numpy(f_scaler.transform(JSMA_data.detach().numpy().reshape(-1, 784))).float()"
   ]
  },
  {
   "cell_type": "code",
   "execution_count": 30,
   "id": "fd8b5b49-134e-4a9c-97a5-1cee5750353c",
   "metadata": {},
   "outputs": [
    {
     "name": "stdout",
     "output_type": "stream",
     "text": [
      "Validating...\n",
      "FGSM_001_acc = 0.667933\n",
      "FGSM_003_acc = 0.687308\n",
      "FGSM_007_acc = 0.636683\n",
      "FGSM_01_acc = 0.564087\n",
      "DF_acc = 0.656490\n",
      "JSMA_acc = 0.613510\n"
     ]
    }
   ],
   "source": [
    "print('Validating...')\n",
    "\n",
    "FGSM_001_yhat = model(FGSM_001)\n",
    "FGSM_003_yhat = model(FGSM_003)\n",
    "FGSM_007_yhat = model(FGSM_007)\n",
    "FGSM_01_yhat = model(FGSM_01)\n",
    "DF_data_yhat = model(DF_data)\n",
    "JSMA_data_yhat = model(JSMA_data)\n",
    "\n",
    "FGSM_001_acc = (y_test == FGSM_001_yhat).float().mean()\n",
    "FGSM_003_acc = (y_test == FGSM_003_yhat).float().mean()\n",
    "FGSM_007_acc = (y_test == FGSM_007_yhat).float().mean()\n",
    "FGSM_01_acc = (y_test == FGSM_01_yhat).float().mean()\n",
    "DF_acc = (y_test == DF_data_yhat).float().mean()\n",
    "JSMA_acc = (y_test == JSMA_data_yhat).float().mean()\n",
    "\n",
    "print(f'{FGSM_001_acc = :6f}')\n",
    "print(f'{FGSM_003_acc = :6f}')\n",
    "print(f'{FGSM_007_acc = :6f}')\n",
    "print(f'{FGSM_01_acc = :6f}')\n",
    "print(f'{DF_acc = :6f}')\n",
    "print(f'{JSMA_acc = :6f}')"
   ]
  },
  {
   "cell_type": "code",
   "execution_count": null,
   "id": "65a47bed-4047-4135-b943-ec34a38794c0",
   "metadata": {},
   "outputs": [],
   "source": []
  }
 ],
 "metadata": {
  "kernelspec": {
   "display_name": "UCI",
   "language": "python",
   "name": "uci"
  },
  "language_info": {
   "codemirror_mode": {
    "name": "ipython",
    "version": 3
   },
   "file_extension": ".py",
   "mimetype": "text/x-python",
   "name": "python",
   "nbconvert_exporter": "python",
   "pygments_lexer": "ipython3",
   "version": "3.8.5"
  }
 },
 "nbformat": 4,
 "nbformat_minor": 5
}
