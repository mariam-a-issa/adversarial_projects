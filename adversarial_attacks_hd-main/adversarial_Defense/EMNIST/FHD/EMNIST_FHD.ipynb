{
 "cells": [
  {
   "cell_type": "code",
   "execution_count": 1,
   "id": "670840f7-aded-4dc4-804b-4172c25038d8",
   "metadata": {},
   "outputs": [
    {
     "data": {
      "text/plain": [
       "<torch._C.Generator at 0x7f8f49c48b10>"
      ]
     },
     "execution_count": 1,
     "metadata": {},
     "output_type": "execute_result"
    }
   ],
   "source": [
    "from time import time\n",
    "\n",
    "import torch\n",
    "import sklearn.datasets\n",
    "import sklearn.preprocessing\n",
    "import sklearn.model_selection\n",
    "import numpy as np\n",
    "import math\n",
    "import matplotlib.pyplot as plt\n",
    "\n",
    "from torchvision.datasets import MNIST\n",
    "from torchvision.datasets import FashionMNIST as FMNIST\n",
    "from torchvision.datasets import EMNIST\n",
    "import torchvision.transforms as transforms\n",
    "\n",
    "import Onlinehd\n",
    "\n",
    "SEED = 1234\n",
    "device = 'cuda' if torch.cuda.is_available() else 'cpu'\n",
    "np.random.seed(SEED)\n",
    "torch.manual_seed(SEED)"
   ]
  },
  {
   "cell_type": "code",
   "execution_count": 39,
   "id": "5e08723f-efeb-4b6d-9a70-f18a6f809c4c",
   "metadata": {},
   "outputs": [],
   "source": [
    "import torch.nn as nn\n",
    "\n",
    "def local_avg(imgs):\n",
    "    layer = nn.AvgPool2d((3, 3), stride=1, padding = 1)\n",
    "    outs = imgs.clone().detach().permute((0, 3, 1, 2))\n",
    "    outs = layer(outs).permute((0, 2, 3, 1))\n",
    "    return outs\n",
    "\n",
    "def local_maximum(imgs):\n",
    "    layer = torch.nn.MaxPool2d(kernel_size = (3,3), stride = 1, padding = 1)\n",
    "    outs = imgs.clone().detach().permute((0, 3, 1, 2))\n",
    "    outs = layer(outs).permute((0, 2, 3, 1))\n",
    "    return outs"
   ]
  },
  {
   "cell_type": "code",
   "execution_count": 2,
   "id": "23087547-09b1-4e0a-aa74-fb24108b7ff0",
   "metadata": {},
   "outputs": [],
   "source": [
    "def load():\n",
    "    download_root = 'data/emnist_dataset'\n",
    "    \n",
    "    temp = EMNIST(download_root, split = 'letters', train=True, download=True)\n",
    "    x = temp.data.unsqueeze(3).numpy().transpose((0,2,1,3))\n",
    "    y = temp.targets.numpy() - 1\n",
    "    temp = EMNIST(download_root, split='letters', train=False, download=True)\n",
    "    x_test = temp.data.unsqueeze(3).numpy().transpose((0,2,1,3))\n",
    "    y_test = temp.targets.numpy() - 1\n",
    "    \n",
    "    x = torch.from_numpy(x).float()\n",
    "    y = torch.from_numpy(y).long()\n",
    "    x_test = torch.from_numpy(x_test).float()\n",
    "    y_test = torch.from_numpy(y_test).long()\n",
    "    \n",
    "    x_test = x_test.float()\n",
    "    y_test = y_test.long().squeeze()\n",
    "\n",
    "    if len(x.shape) != 3:\n",
    "        x = x.squeeze(3)\n",
    "        x_test = x_test.squeeze(3)\n",
    "    \n",
    "    return x, x_test, y, y_test"
   ]
  },
  {
   "cell_type": "code",
   "execution_count": 4,
   "id": "4554569b-07bf-47fd-8f71-bd8a76fafd76",
   "metadata": {},
   "outputs": [],
   "source": [
    "x, x_test, y, y_test = load()"
   ]
  },
  {
   "cell_type": "code",
   "execution_count": 8,
   "id": "e0417c3d-1c5d-4351-bc38-fdacf463833c",
   "metadata": {},
   "outputs": [],
   "source": [
    "x = x.reshape(-1, 784)\n",
    "x_test = x_test.reshape(-1, 784)\n",
    "\n",
    "scaler = sklearn.preprocessing.Normalizer().fit(x.reshape(-1, 784))\n",
    "x = torch.tensor(scaler.transform(x.reshape(-1, 784)))\n",
    "x_test = torch.tensor(scaler.transform(x_test.reshape(-1, 784)))"
   ]
  },
  {
   "cell_type": "code",
   "execution_count": 9,
   "id": "66470268-358e-474b-a749-084b1f1eed0e",
   "metadata": {
    "tags": []
   },
   "outputs": [
    {
     "name": "stdout",
     "output_type": "stream",
     "text": [
      "Training...\n",
      "0\n",
      "10\n",
      "20\n",
      "30\n",
      "40\n",
      "50\n",
      "60\n",
      "70\n",
      "80\n",
      "90\n"
     ]
    }
   ],
   "source": [
    "classes = y.unique().size(0)\n",
    "features = x.size(1)\n",
    "model = Onlinehd.OnlineHD(classes, features, dim=10000)\n",
    "\n",
    "if torch.cuda.is_available():\n",
    "    x = x.cuda()\n",
    "    y = y.cuda()\n",
    "    x_test = x_test.cuda()\n",
    "    y_test = y_test.cuda()\n",
    "    model = model.to('cuda')\n",
    "    print('Using GPU!')\n",
    "\n",
    "print('Training...')\n",
    "t = time()\n",
    "x_avg = local_avg(x.reshape(-1, 28, 28, 1))\n",
    "x_avg = x_avg.reshape(-1, 784)\n",
    "model = model.fit(x_avg, y, bootstrap=1.0, lr=0.035, epochs=100)\n",
    "t = time() - t"
   ]
  },
  {
   "cell_type": "code",
   "execution_count": 10,
   "id": "c554bddd-9920-4e6f-b3d6-4dec5a6a22e4",
   "metadata": {},
   "outputs": [],
   "source": [
    "x_avg_test = local_avg(x_test.reshape(-1, 28, 28, 1))\n",
    "x_avg_test = x_avg_test.reshape(-1, 784)"
   ]
  },
  {
   "cell_type": "code",
   "execution_count": 19,
   "id": "54aa2752-e3e3-4e13-b60d-2b57547864a3",
   "metadata": {},
   "outputs": [
    {
     "data": {
      "image/png": "[encoded data removed]",
      "text/plain": [
       "<Figure size 432x288 with 2 Axes>"
      ]
     },
     "metadata": {
      "needs_background": "light"
     },
     "output_type": "display_data"
    },
    {
     "data": {
      "image/png": "[encoded data removed]",
      "text/plain": [
       "<Figure size 432x288 with 2 Axes>"
      ]
     },
     "metadata": {
      "needs_background": "light"
     },
     "output_type": "display_data"
    }
   ],
   "source": [
    "plt.imshow(x_avg_test[-1].reshape(28, 28), cmap='gray')\n",
    "plt.colorbar()\n",
    "plt.show()\n",
    "\n",
    "plt.imshow(x_test[-1].reshape(28, 28), cmap='gray')\n",
    "plt.colorbar()\n",
    "plt.show()"
   ]
  },
  {
   "cell_type": "code",
   "execution_count": 11,
   "id": "f4d1cae3-36d1-4db0-81f1-b5efdda5b559",
   "metadata": {},
   "outputs": [
    {
     "name": "stdout",
     "output_type": "stream",
     "text": [
      "Validating...\n",
      "acc = 0.931643\n",
      "acc_test = 0.892404\n",
      "t = 279.328211\n"
     ]
    }
   ],
   "source": [
    "print('Validating...')\n",
    "yhat = model(x_avg)\n",
    "yhat_test = model(x_avg_test)\n",
    "acc = (y == yhat).float().mean()\n",
    "acc_test = (y_test == yhat_test).float().mean()\n",
    "print(f'{acc = :6f}')\n",
    "print(f'{acc_test = :6f}')\n",
    "print(f'{t = :6f}')"
   ]
  },
  {
   "cell_type": "code",
   "execution_count": 16,
   "id": "6b0bae0e-c7ae-4722-882a-7e7d43ed218f",
   "metadata": {},
   "outputs": [],
   "source": [
    "import pickle\n",
    "\n",
    "with open('hd_adversarial_sample/EMNIST_HD_JSMA.pickle', 'rb') as f:\n",
    "    data3 = pickle.load(f)\n",
    "    JSMA = data3['data']\n",
    "    LABEL = data3['label']\n",
    "    \n",
    "with open('hd_adversarial_sample/EMNIST_HD_DF.pickle', 'rb') as f:\n",
    "    data2 = pickle.load(f)\n",
    "    DF = data2['data']\n",
    "    \n",
    "import pickle \n",
    "\n",
    "with open('hd_adversarial_sample/EMNIST_HD_FGSM.pickle', 'rb') as f:\n",
    "    data = pickle.load(f)\n",
    "    FGSM001 = data['data']['0.01']\n",
    "    FGSM003 = data['data']['0.03']\n",
    "    FGSM007 = data['data']['0.07']\n",
    "    FGSM01 = data['data']['0.1']"
   ]
  },
  {
   "cell_type": "code",
   "execution_count": 30,
   "id": "9f5e6d74-2db3-4b2b-9d51-5dc132a70c6f",
   "metadata": {},
   "outputs": [],
   "source": [
    "def show(dataset, name):\n",
    "    tmp = dataset.reshape(-1, 28, 28, 1)\n",
    "    tmp = local_avg(tmp)\n",
    "    pred = model(tmp.reshape(-1, 784))\n",
    "    print(name, ' : ', sum(pred == y_test)/ len(y_test))\n",
    "    plt.imshow(tmp[-1].reshape(28, 28), cmap='gray')\n",
    "    plt.title(name)\n",
    "    plt.colorbar()\n",
    "    plt.show()"
   ]
  },
  {
   "cell_type": "code",
   "execution_count": 31,
   "id": "2b3d25ae-7585-466d-b280-59cab4878f6f",
   "metadata": {},
   "outputs": [
    {
     "name": "stdout",
     "output_type": "stream",
     "text": [
      "FGSM001  :  tensor(0.8432)\n"
     ]
    },
    {
     "data": {
      "image/png": "[encoded data removed]",
      "text/plain": [
       "<Figure size 432x288 with 2 Axes>"
      ]
     },
     "metadata": {
      "needs_background": "light"
     },
     "output_type": "display_data"
    },
    {
     "name": "stdout",
     "output_type": "stream",
     "text": [
      "FGSM003  :  tensor(0.5714)\n"
     ]
    },
    {
     "data": {
      "image/png": "[encoded data removed]",
      "text/plain": [
       "<Figure size 432x288 with 2 Axes>"
      ]
     },
     "metadata": {
      "needs_background": "light"
     },
     "output_type": "display_data"
    },
    {
     "name": "stdout",
     "output_type": "stream",
     "text": [
      "FGSM007  :  tensor(0.0992)\n"
     ]
    },
    {
     "data": {
      "image/png": "[encoded data removed]",
      "text/plain": [
       "<Figure size 432x288 with 2 Axes>"
      ]
     },
     "metadata": {
      "needs_background": "light"
     },
     "output_type": "display_data"
    },
    {
     "name": "stdout",
     "output_type": "stream",
     "text": [
      "FGSM01  :  tensor(0.0419)\n"
     ]
    },
    {
     "data": {
      "image/png": "[encoded data removed]",
      "text/plain": [
       "<Figure size 432x288 with 2 Axes>"
      ]
     },
     "metadata": {
      "needs_background": "light"
     },
     "output_type": "display_data"
    },
    {
     "name": "stdout",
     "output_type": "stream",
     "text": [
      "DF  :  tensor(0.8568)\n"
     ]
    },
    {
     "data": {
      "image/png": "[encoded data removed]",
      "text/plain": [
       "<Figure size 432x288 with 2 Axes>"
      ]
     },
     "metadata": {
      "needs_background": "light"
     },
     "output_type": "display_data"
    },
    {
     "name": "stdout",
     "output_type": "stream",
     "text": [
      "JSMA  :  tensor(0.8117)\n"
     ]
    },
    {
     "data": {
      "image/png": "[encoded data removed]",
      "text/plain": [
       "<Figure size 432x288 with 2 Axes>"
      ]
     },
     "metadata": {
      "needs_background": "light"
     },
     "output_type": "display_data"
    }
   ],
   "source": [
    "show(FGSM001, 'FGSM001')\n",
    "show(FGSM003, 'FGSM003')\n",
    "show(FGSM007, 'FGSM007')\n",
    "show(FGSM01, 'FGSM01')\n",
    "show(DF, 'DF')\n",
    "show(JSMA, 'JSMA')"
   ]
  },
  {
   "cell_type": "code",
   "execution_count": null,
   "id": "618ee1bf-837c-45e6-9965-0ba6a3ffa849",
   "metadata": {},
   "outputs": [],
   "source": []
  }
 ],
 "metadata": {
  "kernelspec": {
   "display_name": "UCI",
   "language": "python",
   "name": "uci"
  },
  "language_info": {
   "codemirror_mode": {
    "name": "ipython",
    "version": 3
   },
   "file_extension": ".py",
   "mimetype": "text/x-python",
   "name": "python",
   "nbconvert_exporter": "python",
   "pygments_lexer": "ipython3",
   "version": "3.8.5"
  }
 },
 "nbformat": 4,
 "nbformat_minor": 5
}
