{
 "cells": [
  {
   "cell_type": "code",
   "execution_count": 3,
   "id": "670840f7-aded-4dc4-804b-4172c25038d8",
   "metadata": {},
   "outputs": [
    {
     "data": {
      "text/plain": [
       "<torch._C.Generator at 0x7fa675945b10>"
      ]
     },
     "execution_count": 3,
     "metadata": {},
     "output_type": "execute_result"
    }
   ],
   "source": [
    "from time import time\n",
    "\n",
    "import torch\n",
    "import sklearn.datasets\n",
    "import sklearn.preprocessing\n",
    "import sklearn.model_selection\n",
    "import numpy as np\n",
    "import math\n",
    "import matplotlib.pyplot as plt\n",
    "\n",
    "from torchvision.datasets import MNIST\n",
    "from torchvision.datasets import FashionMNIST as FMNIST\n",
    "from torchvision.datasets import EMNIST\n",
    "import torchvision.transforms as transforms\n",
    "\n",
    "import Onlinehd\n",
    "\n",
    "SEED = 1234\n",
    "device = 'cuda' if torch.cuda.is_available() else 'cpu'\n",
    "np.random.seed(SEED)\n",
    "torch.manual_seed(SEED)"
   ]
  },
  {
   "cell_type": "code",
   "execution_count": 10,
   "id": "79155bfc-1b4a-441e-8272-e4985611e089",
   "metadata": {},
   "outputs": [],
   "source": [
    "import torch.nn as nn\n",
    "\n",
    "def local_avg(imgs):\n",
    "    layer = nn.AvgPool2d((3, 3), stride=1, padding = 1)\n",
    "    outs = imgs.clone().detach().permute((0, 3, 1, 2))\n",
    "    outs = layer(outs).permute((0, 2, 3, 1))\n",
    "    return outs"
   ]
  },
  {
   "cell_type": "code",
   "execution_count": 4,
   "id": "23087547-09b1-4e0a-aa74-fb24108b7ff0",
   "metadata": {},
   "outputs": [],
   "source": [
    "from tensorflow.keras.datasets import fashion_mnist\n",
    "\n",
    "def load():\n",
    "    if dataset == 'mnist':\n",
    "        (x, y), (x_test, y_test) = mnist.load_data()\n",
    "    elif dataset == 'fashion_mnist':\n",
    "        (x, y), (x_test, y_test) = fashion_mnist.load_data()\n",
    "    else:\n",
    "        temp = EMNIST('./data/EMNIST', split = 'letters', train=True, download=True)\n",
    "        x = temp.data.unsqueeze(3).numpy().transpose((0,2,1,3))\n",
    "        y = temp.targets.numpy() - 1\n",
    "        temp = EMNIST('./data/EMNIST', split='letters', train=False, download=True)\n",
    "        x_test = temp.data.unsqueeze(3).numpy().transpose((0,2,1,3))\n",
    "        y_test = temp.targets.numpy() - 1\n",
    "        \n",
    "    x = torch.from_numpy(x).float()\n",
    "    y = torch.from_numpy(y).long()\n",
    "    x_test = torch.from_numpy(x_test).float()\n",
    "    y_test = torch.from_numpy(y_test).long().squeeze()\n",
    "\n",
    "    if len(x.shape) != 3:\n",
    "        x = x.squeeze(3)\n",
    "        x_test = x_test.squeeze(3)\n",
    "    \n",
    "    return x, x_test, y, y_test"
   ]
  },
  {
   "cell_type": "code",
   "execution_count": 7,
   "id": "4554569b-07bf-47fd-8f71-bd8a76fafd76",
   "metadata": {},
   "outputs": [],
   "source": [
    "dataset = 'fashion_mnist' # dataset can be 'fashion_mnist', 'mnist', or  'emnist'\n",
    "\n",
    "x, x_test, y, y_test = load()"
   ]
  },
  {
   "cell_type": "code",
   "execution_count": 8,
   "id": "e0417c3d-1c5d-4351-bc38-fdacf463833c",
   "metadata": {},
   "outputs": [],
   "source": [
    "x = x.reshape(-1, 784)\n",
    "x_test = x_test.reshape(-1, 784)\n",
    "\n",
    "scaler = sklearn.preprocessing.Normalizer().fit(x.reshape(-1, 784))\n",
    "x = torch.tensor(scaler.transform(x.reshape(-1, 784)))\n",
    "x_test = torch.tensor(scaler.transform(x_test.reshape(-1, 784)))"
   ]
  },
  {
   "cell_type": "code",
   "execution_count": 11,
   "id": "66470268-358e-474b-a749-084b1f1eed0e",
   "metadata": {
    "tags": []
   },
   "outputs": [
    {
     "name": "stdout",
     "output_type": "stream",
     "text": [
      "Training...\n",
      "0\n",
      "10\n",
      "20\n",
      "30\n",
      "40\n",
      "50\n",
      "60\n",
      "70\n",
      "80\n",
      "90\n"
     ]
    }
   ],
   "source": [
    "classes = y.unique().size(0)\n",
    "features = x.size(1)\n",
    "model = Onlinehd.OnlineHD(classes, features, dim=10000)\n",
    "\n",
    "if torch.cuda.is_available():\n",
    "    x = x.cuda()\n",
    "    y = y.cuda()\n",
    "    x_test = x_test.cuda()\n",
    "    y_test = y_test.cuda()\n",
    "    model = model.to('cuda')\n",
    "    print('Using GPU!')\n",
    "\n",
    "print('Training...')\n",
    "t = time()\n",
    "x_avg = local_avg(x.reshape(-1, 28, 28, 1))\n",
    "x_avg = x_avg.reshape(-1, 784)\n",
    "model = model.fit(x_avg, y, bootstrap=1.0, lr=0.035, epochs=100)\n",
    "t = time() - t"
   ]
  },
  {
   "cell_type": "code",
   "execution_count": 12,
   "id": "c554bddd-9920-4e6f-b3d6-4dec5a6a22e4",
   "metadata": {},
   "outputs": [],
   "source": [
    "x_avg_test = local_avg(x_test.reshape(-1, 28, 28, 1))\n",
    "x_avg_test = x_avg_test.reshape(-1, 784)"
   ]
  },
  {
   "cell_type": "code",
   "execution_count": 13,
   "id": "f4d1cae3-36d1-4db0-81f1-b5efdda5b559",
   "metadata": {},
   "outputs": [
    {
     "name": "stdout",
     "output_type": "stream",
     "text": [
      "Validating...\n",
      "acc = 0.858133\n",
      "acc_test = 0.843700\n",
      "t = 91.421526\n"
     ]
    }
   ],
   "source": [
    "print('Validating...')\n",
    "yhat = model(x_avg)\n",
    "yhat_test = model(x_avg_test)\n",
    "acc = (y == yhat).float().mean()\n",
    "acc_test = (y_test == yhat_test).float().mean()\n",
    "print(f'{acc = :6f}')\n",
    "print(f'{acc_test = :6f}')\n",
    "print(f'{t = :6f}')"
   ]
  },
  {
   "cell_type": "code",
   "execution_count": 14,
   "id": "6b0bae0e-c7ae-4722-882a-7e7d43ed218f",
   "metadata": {},
   "outputs": [],
   "source": [
    "import pickle\n",
    "\n",
    "with open('hd_adversarial_sample/FMNIST_HD_JSMA.pickle', 'rb') as f:\n",
    "    data3 = pickle.load(f)\n",
    "    JSMA = data3['data']\n",
    "    LABEL = data3['label']\n",
    "    \n",
    "with open('hd_adversarial_sample/FMNIST_HD_DF.pickle', 'rb') as f:\n",
    "    data2 = pickle.load(f)\n",
    "    DF = data2['data']\n",
    "    \n",
    "import pickle \n",
    "\n",
    "with open('hd_adversarial_sample/FMNIST_HD_FGSM.pickle', 'rb') as f:\n",
    "    data = pickle.load(f)\n",
    "    FGSM001 = data['data']['0.01']\n",
    "    FGSM003 = data['data']['0.03']\n",
    "    FGSM007 = data['data']['0.07']\n",
    "    FGSM01 = data['data']['0.1']"
   ]
  },
  {
   "cell_type": "code",
   "execution_count": 18,
   "id": "e0e9d67d-1df0-471f-a5db-56c76c22f4f8",
   "metadata": {},
   "outputs": [
    {
     "name": "stdout",
     "output_type": "stream",
     "text": [
      "fgsm_001 :  tensor(0.7205)\n",
      "fgsm_003 :  tensor(0.4970)\n",
      "fgsm_007 :  tensor(0.1769)\n",
      "fgsm_01 :  tensor(0.1273)\n",
      "df :  tensor(0.7645)\n",
      "jsma :  tensor(0.8119)\n"
     ]
    }
   ],
   "source": [
    "tmp = FGSM001.reshape(-1, 28, 28, 1)\n",
    "tmp = local_avg(tmp)\n",
    "pred = model(tmp.reshape(-1, 784))\n",
    "print('fgsm_001 : ', sum(pred == y_test)/ len(y_test))\n",
    "\n",
    "tmp = FGSM003.reshape(-1, 28, 28, 1)\n",
    "tmp = local_avg(tmp)\n",
    "pred = model(tmp.reshape(-1, 784))\n",
    "print('fgsm_003 : ', sum(pred == y_test)/ len(y_test))\n",
    "\n",
    "tmp = FGSM007.reshape(-1, 28, 28, 1)\n",
    "tmp = local_avg(tmp)\n",
    "pred = model(tmp.reshape(-1, 784))\n",
    "print('fgsm_007 : ', sum(pred == y_test)/ len(y_test))\n",
    "\n",
    "tmp = FGSM01.reshape(-1, 28, 28, 1)\n",
    "tmp = local_avg(tmp)\n",
    "pred = model(tmp.reshape(-1, 784))\n",
    "print('fgsm_01 : ', sum(pred == y_test)/ len(y_test))\n",
    "\n",
    "\n",
    "\n",
    "df = torch.from_numpy(DF.reshape(-1, 28, 28, 1))\n",
    "df = local_avg(df)\n",
    "pred = model(df.reshape(-1, 784))\n",
    "print('df : ', sum(pred == LABEL)/ len(LABEL))\n",
    "\n",
    "\n",
    "\n",
    "jsma = JSMA.reshape(-1, 28, 28, 1)\n",
    "jsma = local_avg(jsma)\n",
    "pred = model(jsma.reshape(-1, 784))\n",
    "print('jsma : ', sum(pred == LABEL)/ len(LABEL))"
   ]
  },
  {
   "cell_type": "code",
   "execution_count": null,
   "id": "219e315c-b3a4-483d-95a7-aae8fb8d5761",
   "metadata": {},
   "outputs": [],
   "source": []
  }
 ],
 "metadata": {
  "kernelspec": {
   "display_name": "UCI",
   "language": "python",
   "name": "uci"
  },
  "language_info": {
   "codemirror_mode": {
    "name": "ipython",
    "version": 3
   },
   "file_extension": ".py",
   "mimetype": "text/x-python",
   "name": "python",
   "nbconvert_exporter": "python",
   "pygments_lexer": "ipython3",
   "version": "3.8.5"
  }
 },
 "nbformat": 4,
 "nbformat_minor": 5
}
