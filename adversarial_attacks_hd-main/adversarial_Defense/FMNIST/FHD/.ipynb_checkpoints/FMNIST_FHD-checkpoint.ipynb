{
 "cells": [
  {
   "cell_type": "code",
   "execution_count": 2,
   "id": "670840f7-aded-4dc4-804b-4172c25038d8",
   "metadata": {},
   "outputs": [
    {
     "data": {
      "text/plain": [
       "<torch._C.Generator at 0x7fef2f848b10>"
      ]
     },
     "execution_count": 2,
     "metadata": {},
     "output_type": "execute_result"
    }
   ],
   "source": [
    "from time import time\n",
    "\n",
    "import torch\n",
    "import sklearn.datasets\n",
    "import sklearn.preprocessing\n",
    "import sklearn.model_selection\n",
    "import numpy as np\n",
    "import math\n",
    "import matplotlib.pyplot as plt\n",
    "\n",
    "from torchvision.datasets import MNIST\n",
    "from torchvision.datasets import FashionMNIST as FMNIST\n",
    "from torchvision.datasets import EMNIST\n",
    "import torchvision.transforms as transforms\n",
    "\n",
    "import Onlinehd\n",
    "\n",
    "SEED = 1234\n",
    "device = 'cuda' if torch.cuda.is_available() else 'cpu'\n",
    "np.random.seed(SEED)\n",
    "torch.manual_seed(SEED)"
   ]
  },
  {
   "cell_type": "code",
   "execution_count": 3,
   "id": "23087547-09b1-4e0a-aa74-fb24108b7ff0",
   "metadata": {},
   "outputs": [],
   "source": [
    "# loads simple mnist dataset\n",
    "def load():\n",
    "    # fetches data\n",
    "    x, y = sklearn.datasets.fetch_openml('mnist_784', return_X_y=True)\n",
    "    x = x.astype(np.float)\n",
    "    y = y.astype(np.int)\n",
    "    y = np.array(y)\n",
    "\n",
    "    # split and normalize\n",
    "    x, x_test, y, y_test = sklearn.model_selection.train_test_split(x, y)\n",
    "    scaler = sklearn.preprocessing.Normalizer().fit(x)\n",
    "    x = scaler.transform(x)\n",
    "    x_test = scaler.transform(x_test)\n",
    "\n",
    "    # changes data to pytorch's tensors\n",
    "    x = torch.from_numpy(x).float()\n",
    "    y = torch.from_numpy(y).long()\n",
    "    x_test = torch.from_numpy(x_test).float()\n",
    "    y_test = torch.from_numpy(y_test).long()\n",
    "\n",
    "    return x, x_test, y, y_test, scaler"
   ]
  },
  {
   "cell_type": "code",
   "execution_count": 4,
   "id": "4554569b-07bf-47fd-8f71-bd8a76fafd76",
   "metadata": {},
   "outputs": [
    {
     "name": "stderr",
     "output_type": "stream",
     "text": [
      "/var/folders/4_/4812b_4j2_s0smfmxlqdpr600000gn/T/ipykernel_8928/3995914916.py:5: DeprecationWarning: `np.float` is a deprecated alias for the builtin `float`. To silence this warning, use `float` by itself. Doing this will not modify any behavior and is safe. If you specifically wanted the numpy scalar type, use `np.float64` here.\n",
      "Deprecated in NumPy 1.20; for more details and guidance: https://numpy.org/devdocs/release/1.20.0-notes.html#deprecations\n",
      "  x = x.astype(np.float)\n",
      "/var/folders/4_/4812b_4j2_s0smfmxlqdpr600000gn/T/ipykernel_8928/3995914916.py:6: DeprecationWarning: `np.int` is a deprecated alias for the builtin `int`. To silence this warning, use `int` by itself. Doing this will not modify any behavior and is safe. When replacing `np.int`, you may wish to use e.g. `np.int64` or `np.int32` to specify the precision. If you wish to review your current use, check the release note link for additional information.\n",
      "Deprecated in NumPy 1.20; for more details and guidance: https://numpy.org/devdocs/release/1.20.0-notes.html#deprecations\n",
      "  y = y.astype(np.int)\n"
     ]
    }
   ],
   "source": [
    "x, x_test, y, y_test, scaler = load()"
   ]
  },
  {
   "cell_type": "code",
   "execution_count": 5,
   "id": "e0417c3d-1c5d-4351-bc38-fdacf463833c",
   "metadata": {},
   "outputs": [],
   "source": [
    "x = x.reshape(-1, 784)\n",
    "x_test = x_test.reshape(-1, 784)\n",
    "\n",
    "scaler = sklearn.preprocessing.Normalizer().fit(x.reshape(-1, 784))\n",
    "x = torch.tensor(scaler.transform(x.reshape(-1, 784)))\n",
    "x_test = torch.tensor(scaler.transform(x_test.reshape(-1, 784)))"
   ]
  },
  {
   "cell_type": "code",
   "execution_count": 92,
   "id": "66470268-358e-474b-a749-084b1f1eed0e",
   "metadata": {
    "collapsed": true,
    "jupyter": {
     "outputs_hidden": true
    },
    "tags": []
   },
   "outputs": [
    {
     "name": "stdout",
     "output_type": "stream",
     "text": [
      "Training...\n",
      "0\n",
      "10\n",
      "20\n",
      "30\n",
      "40\n",
      "50\n",
      "60\n",
      "70\n",
      "80\n",
      "90\n"
     ]
    }
   ],
   "source": [
    "classes = y.unique().size(0)\n",
    "features = x.size(1)\n",
    "model = Onlinehd.OnlineHD(classes, features, dim=10000)\n",
    "\n",
    "if torch.cuda.is_available():\n",
    "    x = x.cuda()\n",
    "    y = y.cuda()\n",
    "    x_test = x_test.cuda()\n",
    "    y_test = y_test.cuda()\n",
    "    model = model.to('cuda')\n",
    "    print('Using GPU!')\n",
    "\n",
    "print('Training...')\n",
    "t = time()\n",
    "x_avg = local_avg(x.reshape(-1, 28, 28, 1))\n",
    "x_avg = x_avg.reshape(-1, 784)\n",
    "model = model.fit(x_avg, y, bootstrap=1.0, lr=0.035, epochs=100)\n",
    "t = time() - t"
   ]
  },
  {
   "cell_type": "code",
   "execution_count": 93,
   "id": "c554bddd-9920-4e6f-b3d6-4dec5a6a22e4",
   "metadata": {},
   "outputs": [],
   "source": [
    "x_avg_test = local_avg(x_test.reshape(-1, 28, 28, 1))\n",
    "x_avg_test = x_avg_test.reshape(-1, 784)"
   ]
  },
  {
   "cell_type": "code",
   "execution_count": 94,
   "id": "f4d1cae3-36d1-4db0-81f1-b5efdda5b559",
   "metadata": {},
   "outputs": [
    {
     "name": "stdout",
     "output_type": "stream",
     "text": [
      "Validating...\n",
      "acc = 0.968286\n",
      "acc_test = 0.959771\n",
      "t = 70.223357\n"
     ]
    }
   ],
   "source": [
    "print('Validating...')\n",
    "yhat = model(x_avg)\n",
    "yhat_test = model(x_avg_test)\n",
    "acc = (y == yhat).float().mean()\n",
    "acc_test = (y_test == yhat_test).float().mean()\n",
    "print(f'{acc = :6f}')\n",
    "print(f'{acc_test = :6f}')\n",
    "print(f'{t = :6f}')"
   ]
  },
  {
   "cell_type": "code",
   "execution_count": 7,
   "id": "9bc1feae-a5da-4596-a61a-2ce577b3c467",
   "metadata": {},
   "outputs": [
    {
     "name": "stdout",
     "output_type": "stream",
     "text": [
      "Validating...\n",
      "acc = 0.945410\n",
      "acc_test = 0.935429\n",
      "t = 24.587793\n"
     ]
    }
   ],
   "source": [
    "print('Validating...')\n",
    "yhat = model(x_avg)\n",
    "yhat_test = model(x_avg_test)\n",
    "acc = (y == yhat).float().mean()\n",
    "acc_test = (y_test == yhat_test).float().mean()\n",
    "print(f'{acc = :6f}')\n",
    "print(f'{acc_test = :6f}')\n",
    "print(f'{t = :6f}')"
   ]
  },
  {
   "cell_type": "code",
   "execution_count": 95,
   "id": "ae3436a2-97be-41b1-a62a-71ad2108619f",
   "metadata": {},
   "outputs": [],
   "source": [
    "import torch.nn as nn\n",
    "\n",
    "def local_avg(imgs):\n",
    "    layer = nn.AvgPool2d((3, 3), stride=1, padding = 1)\n",
    "    outs = imgs.clone().detach().permute((0, 3, 1, 2))\n",
    "    outs = layer(outs).permute((0, 2, 3, 1))\n",
    "    return outs"
   ]
  },
  {
   "cell_type": "code",
   "execution_count": 107,
   "id": "6b0bae0e-c7ae-4722-882a-7e7d43ed218f",
   "metadata": {},
   "outputs": [],
   "source": [
    "import pickle\n",
    "\n",
    "with open('hd_adversarial_sample/MNIST_HD_JSMA.pickle', 'rb') as f:\n",
    "    data3 = pickle.load(f)\n",
    "    JSMA = data3['data']\n",
    "    LABEL = data3['label']\n",
    "    \n",
    "with open('hd_adversarial_sample/MNIST_HD_DF.pickle', 'rb') as f:\n",
    "    data2 = pickle.load(f)\n",
    "    DF = data2['data']\n",
    "    \n",
    "import pickle \n",
    "\n",
    "with open('hd_adversarial_sample/MNIST_HD_FGSM.pickle', 'rb') as f:\n",
    "    data = pickle.load(f)\n",
    "    FGSM001 = data['data']['0.01']\n",
    "    FGSM003 = data['data']['0.03']\n",
    "    FGSM007 = data['data']['0.07']\n",
    "    FGSM01 = data['data']['0.1']"
   ]
  },
  {
   "cell_type": "code",
   "execution_count": 119,
   "id": "e0e9d67d-1df0-471f-a5db-56c76c22f4f8",
   "metadata": {},
   "outputs": [
    {
     "name": "stdout",
     "output_type": "stream",
     "text": [
      "fgsm_001 :  tensor(0.9551)\n",
      "fgsm_003 :  tensor(0.9089)\n",
      "fgsm_007 :  tensor(0.5261)\n",
      "fgsm_01 :  tensor(0.2191)\n",
      "df :  tensor(0.9545)\n",
      "jsma :  tensor(0.9419)\n"
     ]
    }
   ],
   "source": [
    "tmp = FGSM001.reshape(-1, 28, 28, 1)\n",
    "tmp = local_avg(tmp)\n",
    "pred = model(tmp.reshape(-1, 784))\n",
    "print('fgsm_001 : ', sum(pred == y_test)/ len(y_test))\n",
    "\n",
    "tmp = FGSM003.reshape(-1, 28, 28, 1)\n",
    "tmp = local_avg(tmp)\n",
    "pred = model(tmp.reshape(-1, 784))\n",
    "print('fgsm_003 : ', sum(pred == y_test)/ len(y_test))\n",
    "\n",
    "tmp = FGSM007.reshape(-1, 28, 28, 1)\n",
    "tmp = local_avg(tmp)\n",
    "pred = model(tmp.reshape(-1, 784))\n",
    "print('fgsm_007 : ', sum(pred == y_test)/ len(y_test))\n",
    "\n",
    "tmp = FGSM01.reshape(-1, 28, 28, 1)\n",
    "tmp = local_avg(tmp)\n",
    "pred = model(tmp.reshape(-1, 784))\n",
    "print('fgsm_01 : ', sum(pred == y_test)/ len(y_test))\n",
    "\n",
    "\n",
    "\n",
    "df = DF.reshape(-1, 28, 28, 1)\n",
    "df = local_avg(df)\n",
    "pred = model(df.reshape(-1, 784))\n",
    "print('df : ', sum(pred == LABEL)/ len(LABEL))\n",
    "\n",
    "\n",
    "\n",
    "jsma = JSMA.reshape(-1, 28, 28, 1)\n",
    "jsma = local_avg(jsma)\n",
    "pred = model(jsma.reshape(-1, 784))\n",
    "print('jsma : ', sum(pred == LABEL)/ len(LABEL))"
   ]
  },
  {
   "cell_type": "code",
   "execution_count": null,
   "id": "219e315c-b3a4-483d-95a7-aae8fb8d5761",
   "metadata": {},
   "outputs": [],
   "source": []
  }
 ],
 "metadata": {
  "kernelspec": {
   "display_name": "UCI",
   "language": "python",
   "name": "uci"
  },
  "language_info": {
   "codemirror_mode": {
    "name": "ipython",
    "version": 3
   },
   "file_extension": ".py",
   "mimetype": "text/x-python",
   "name": "python",
   "nbconvert_exporter": "python",
   "pygments_lexer": "ipython3",
   "version": "3.8.5"
  }
 },
 "nbformat": 4,
 "nbformat_minor": 5
}
