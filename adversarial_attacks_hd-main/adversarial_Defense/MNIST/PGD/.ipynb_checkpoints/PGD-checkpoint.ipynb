{
 "cells": [
  {
   "cell_type": "code",
   "execution_count": 1,
   "id": "d5298d98-1d37-4458-bcea-a01875a78b86",
   "metadata": {},
   "outputs": [],
   "source": [
    "from time import time\n",
    "\n",
    "import torch\n",
    "import sklearn.datasets\n",
    "import sklearn.preprocessing\n",
    "import sklearn.model_selection\n",
    "import numpy as np\n",
    "\n",
    "import onlinehd\n",
    "\n",
    "np.random.seed(1234)\n",
    "device = 'cuda' if torch.cuda.is_available() else 'cpu'"
   ]
  },
  {
   "cell_type": "code",
   "execution_count": 2,
   "id": "29340d4b-4b96-49fc-bf2d-ffb29beeb084",
   "metadata": {},
   "outputs": [],
   "source": [
    "# loads simple mnist dataset\n",
    "def load():\n",
    "    # fetches data\n",
    "    x, y = sklearn.datasets.fetch_openml('mnist_784', return_X_y=True)\n",
    "    x = x.astype(np.float)\n",
    "    y = y.astype(np.int)\n",
    "    y = np.array(y)\n",
    "\n",
    "    # split and normalize\n",
    "    x, x_test, y, y_test = sklearn.model_selection.train_test_split(x, y)\n",
    "    scaler = sklearn.preprocessing.Normalizer().fit(x)\n",
    "    x = scaler.transform(x)\n",
    "    x_test = scaler.transform(x_test)\n",
    "\n",
    "    # changes data to pytorch's tensors\n",
    "    x = torch.from_numpy(x).float()\n",
    "    y = torch.from_numpy(y).long()\n",
    "    x_test = torch.from_numpy(x_test).float()\n",
    "    y_test = torch.from_numpy(y_test).long()\n",
    "\n",
    "    return x, x_test, y, y_test, scaler"
   ]
  },
  {
   "cell_type": "code",
   "execution_count": 3,
   "id": "3c08bd38-94f2-469a-af7d-d5432b58bb05",
   "metadata": {},
   "outputs": [
    {
     "name": "stdout",
     "output_type": "stream",
     "text": [
      "Loading...\n"
     ]
    }
   ],
   "source": [
    "# simple OnlineHD training\n",
    "\n",
    "print('Loading...')\n",
    "train_x, x_test, train_y, y_test, scaler = load()"
   ]
  },
  {
   "cell_type": "code",
   "execution_count": 4,
   "id": "f9b77288-9628-4f90-a21c-0598c1738217",
   "metadata": {},
   "outputs": [
    {
     "name": "stdout",
     "output_type": "stream",
     "text": [
      "Training...\n",
      "Validating...\n",
      "acc = 0.944781\n",
      "acc_test = 0.934800\n",
      "t = 25.391697\n"
     ]
    }
   ],
   "source": [
    "from time import time\n",
    "\n",
    "classes = train_y.unique().size(0)\n",
    "features = train_x.size(1)\n",
    "model = onlinehd.OnlineHD(classes, features, dim=10000)\n",
    "\n",
    "if torch.cuda.is_available():\n",
    "    train_x = train_x.cuda()\n",
    "    train_y = train_y.cuda()\n",
    "    x_test = x_test.cuda()\n",
    "    y_test = y_test.cuda()\n",
    "    model = model.to('cuda')\n",
    "    print('Using GPU!')\n",
    "\n",
    "print('Training...')\n",
    "t = time()\n",
    "model = model.fit(train_x, train_y, bootstrap=1.0, lr=0.035, epochs=20)\n",
    "t = time() - t\n",
    "\n",
    "print('Validating...')\n",
    "yhat = model(train_x)\n",
    "yhat_test = model(x_test)\n",
    "acc = (train_y == yhat).float().mean()\n",
    "acc_test = (y_test == yhat_test).float().mean()\n",
    "print(f'{acc = :6f}')\n",
    "print(f'{acc_test = :6f}')\n",
    "print(f'{t = :6f}')"
   ]
  },
  {
   "cell_type": "code",
   "execution_count": 5,
   "id": "f16f7374-5366-4165-a046-40bcbc37e812",
   "metadata": {},
   "outputs": [],
   "source": [
    "def pgd_attack(x_original, y_target, model, alpha, iterations=10, epsilon=0.03):\n",
    "    criterion = nn.CosineEmbeddingLoss()\n",
    "    x_perturbed = x_original.clone().detach()\n",
    "    x_perturbed.requires_grad = True\n",
    "    \n",
    "    for _ in range(iterations):\n",
    "        output = model.encode(x_perturbed)\n",
    "        label = torch.ones(10, dtype=int) * -1\n",
    "        label[y_target.item()] = 1\n",
    "        loss = criterion(output, model.model, label)\n",
    "                \n",
    "#         loss.backward()\n",
    "#         grad = x_perturbed.gard.data\n",
    "        grad = torch.autograd.grad(loss, x_perturbed)[0]\n",
    "        x_perturbed = x_perturbed.detach() + alpha*grad.sign()\n",
    "        eta = torch.clamp(x_perturbed - x_original, min=-epsilon, max=epsilon)\n",
    "        x_perturbed = x_original + eta\n",
    "    return x_perturbed"
   ]
  },
  {
   "cell_type": "code",
   "execution_count": 6,
   "id": "d265e631-4950-49c0-880f-ca01051a9e4e",
   "metadata": {
    "tags": []
   },
   "outputs": [
    {
     "name": "stdout",
     "output_type": "stream",
     "text": [
      "0\n",
      "1000\n",
      "2000\n",
      "3000\n",
      "4000\n",
      "5000\n",
      "6000\n",
      "7000\n",
      "8000\n",
      "9000\n",
      "10000\n",
      "11000\n",
      "12000\n",
      "13000\n",
      "14000\n",
      "15000\n",
      "16000\n",
      "17000\n",
      "\n",
      "PGD Attack with alpha = 0.20000 | Elapsed time: 800.37 seconds.\n",
      "Accuracy: Before the attack -> 93.48%\t|\tAfter the attack -> 48.73%\n"
     ]
    }
   ],
   "source": [
    "import time\n",
    "import torch.nn as nn\n",
    "\n",
    "epsilons = torch.Tensor([0.2])\n",
    "acc_results = dict()\n",
    "verbose = False\n",
    "N_VAL_SAMPLES = x_test.shape[0]\n",
    "criterion = nn.CosineEmbeddingLoss()\n",
    "\n",
    "PGD_test_attack_data = []\n",
    "PGD_test_attack_label = []\n",
    "\n",
    "for eps in epsilons:\n",
    "    correct_unperturbed = 0\n",
    "    correct_perturbed = 0\n",
    "    t0 = time.perf_counter()\n",
    "    \n",
    "    for j in range(len(x_test)):\n",
    "        if j % 1000 == 0 :\n",
    "            print(j)\n",
    "#     for j, val_data in enumerate(x, 0):\n",
    "        ### NOTE: IT WOULD BE MORE EFFICIENT TO ITERATE ONLY ONCE THROUGH THE DATA AND PERFORM ALL THE ATTACKS\n",
    "        x, y_target = x_test[j].reshape(-1, 784), y_test[j]\n",
    "        x, y_target = x.to(device), y_target.to(device)\n",
    "        x.requires_grad = True\n",
    "        \n",
    "        y_pred = model(x)\n",
    "        \n",
    "        if y_pred == y_target: # Only make attack on correctly classified samples\n",
    "            correct_unperturbed += 1\n",
    "            # Calculate loss and gradient\n",
    "            perturbed_x = pgd_attack(x, y_target, model=model, alpha=eps)\n",
    "            PGD_test_attack_data.append(perturbed_x)\n",
    "            PGD_test_attack_label.append(y_target)\n",
    "            \n",
    "            y_pred_perturbed = model(perturbed_x)\n",
    "#             y_pred_perturbed = torch.argmin(perturbed_output)\n",
    "#             loss_perturbed = criterion(perturbed_output, model.model, label)\n",
    "            if y_pred_perturbed == y_target:\n",
    "                correct_perturbed += 1\n",
    "                \n",
    "    acc_before_attack = correct_unperturbed / N_VAL_SAMPLES\n",
    "    acc_after_attack = correct_perturbed / N_VAL_SAMPLES\n",
    "    print(f'\\nPGD Attack with alpha = {eps:.5f} | Elapsed time: {time.perf_counter() - t0:.2f} seconds.')\n",
    "    print(f'Accuracy: Before the attack -> {100 * acc_before_attack:.2f}%\\t|\\tAfter the attack -> {100 * acc_after_attack:.2f}%')\n",
    "    acc_results[eps.item()] = acc_after_attack\n",
    "acc_results[0] = acc_before_attack"
   ]
  },
  {
   "cell_type": "code",
   "execution_count": null,
   "id": "99a9d23a-0b1a-46d4-bc7a-0b3c87dd7a66",
   "metadata": {},
   "outputs": [],
   "source": []
  },
  {
   "cell_type": "code",
   "execution_count": 7,
   "id": "50a1961e-39c0-4875-8a37-f36686e51cd2",
   "metadata": {
    "collapsed": true,
    "jupyter": {
     "outputs_hidden": true
    },
    "tags": []
   },
   "outputs": [
    {
     "name": "stdout",
     "output_type": "stream",
     "text": [
      "0\n",
      "1000\n",
      "2000\n",
      "3000\n",
      "4000\n",
      "5000\n",
      "6000\n",
      "7000\n",
      "8000\n",
      "9000\n",
      "10000\n",
      "11000\n",
      "12000\n",
      "13000\n",
      "14000\n",
      "15000\n",
      "16000\n",
      "17000\n",
      "18000\n",
      "19000\n",
      "20000\n",
      "21000\n",
      "22000\n",
      "23000\n",
      "24000\n",
      "25000\n",
      "26000\n",
      "27000\n",
      "28000\n",
      "29000\n",
      "30000\n",
      "31000\n",
      "32000\n",
      "33000\n",
      "34000\n",
      "35000\n",
      "36000\n",
      "37000\n",
      "38000\n",
      "39000\n",
      "40000\n",
      "41000\n",
      "42000\n",
      "43000\n",
      "44000\n",
      "45000\n",
      "46000\n",
      "47000\n",
      "48000\n",
      "49000\n",
      "50000\n",
      "51000\n",
      "52000\n",
      "\n",
      "PGD Attack with alpha = 0.20000 | Elapsed time: 2389.55 seconds.\n",
      "Accuracy: Before the attack -> 94.48%\t|\tAfter the attack -> 48.96%\n"
     ]
    }
   ],
   "source": [
    "epsilons = torch.Tensor([0.2])\n",
    "acc_results = dict()\n",
    "verbose = False\n",
    "N_VAL_SAMPLES = train_x.shape[0]\n",
    "criterion = nn.CosineEmbeddingLoss()\n",
    "\n",
    "PGD_train_attack_data = []\n",
    "PGD_train_attack_label = []\n",
    "\n",
    "import time\n",
    "import torch.nn as nn\n",
    "\n",
    "for eps in epsilons:\n",
    "    correct_unperturbed = 0\n",
    "    correct_perturbed = 0\n",
    "    t0 = time.perf_counter()\n",
    "    \n",
    "    for j in range(len(train_x)):\n",
    "        if j % 1000 == 0:\n",
    "            print(j)\n",
    "#     for j, val_data in enumerate(x, 0):\n",
    "        ### NOTE: IT WOULD BE MORE EFFICIENT TO ITERATE ONLY ONCE THROUGH THE DATA AND PERFORM ALL THE ATTACKS\n",
    "        x, y_target = train_x[j].reshape(-1, 784), train_y[j]\n",
    "        x, y_target = x.to(device), y_target.to(device)\n",
    "        x.requires_grad = True\n",
    "        \n",
    "        y_pred = model(x)\n",
    "        \n",
    "        if y_pred == y_target: # Only make attack on correctly classified samples\n",
    "            correct_unperturbed += 1\n",
    "            # Calculate loss and gradient\n",
    "            perturbed_x = pgd_attack(x, y_target, model=model, alpha=eps)\n",
    "            PGD_train_attack_data.append(perturbed_x)\n",
    "            PGD_train_attack_label.append(y_target)\n",
    "            \n",
    "            y_pred_perturbed = model(perturbed_x)\n",
    "#             y_pred_perturbed = torch.argmin(perturbed_output)\n",
    "#             loss_perturbed = criterion(perturbed_output, model.model, label)\n",
    "            if y_pred_perturbed == y_target:\n",
    "                correct_perturbed += 1\n",
    "                \n",
    "    acc_before_attack = correct_unperturbed / N_VAL_SAMPLES\n",
    "    acc_after_attack = correct_perturbed / N_VAL_SAMPLES\n",
    "    print(f'\\nPGD Attack with alpha = {eps:.5f} | Elapsed time: {time.perf_counter() - t0:.2f} seconds.')\n",
    "    print(f'Accuracy: Before the attack -> {100 * acc_before_attack:.2f}%\\t|\\tAfter the attack -> {100 * acc_after_attack:.2f}%')\n",
    "    acc_results[eps.item()] = acc_after_attack\n",
    "acc_results[0] = acc_before_attack"
   ]
  },
  {
   "cell_type": "code",
   "execution_count": 8,
   "id": "7a32bc29-1682-4fd0-8e79-852168f077cd",
   "metadata": {},
   "outputs": [
    {
     "data": {
      "text/plain": [
       "49601"
      ]
     },
     "execution_count": 8,
     "metadata": {},
     "output_type": "execute_result"
    }
   ],
   "source": [
    "len(PGD_train_attack_data)"
   ]
  },
  {
   "cell_type": "code",
   "execution_count": 10,
   "id": "6d0f7ea8-bd00-4117-9a0c-e6080bb54901",
   "metadata": {},
   "outputs": [
    {
     "data": {
      "text/plain": [
       "<matplotlib.image.AxesImage at 0x7fad3dd29700>"
      ]
     },
     "execution_count": 10,
     "metadata": {},
     "output_type": "execute_result"
    },
    {
     "data": {
      "image/png": "[encoded data removed]",
      "text/plain": [
       "<Figure size 432x288 with 1 Axes>"
      ]
     },
     "metadata": {
      "needs_background": "light"
     },
     "output_type": "display_data"
    }
   ],
   "source": [
    "import matplotlib.pyplot as plt\n",
    "plt.imshow(PGD_train_attack_data[0].detach().numpy().reshape(28, 28), cmap='gray')"
   ]
  },
  {
   "cell_type": "code",
   "execution_count": 11,
   "id": "b8d70c75-c1ca-4013-82d7-5637988c50bd",
   "metadata": {},
   "outputs": [
    {
     "data": {
      "text/plain": [
       "<matplotlib.image.AxesImage at 0x7fad3dda25e0>"
      ]
     },
     "execution_count": 11,
     "metadata": {},
     "output_type": "execute_result"
    },
    {
     "data": {
      "image/png": "[encoded data removed]",
      "text/plain": [
       "<Figure size 432x288 with 1 Axes>"
      ]
     },
     "metadata": {
      "needs_background": "light"
     },
     "output_type": "display_data"
    }
   ],
   "source": [
    "plt.imshow(PGD_train_attack_data[6].detach().numpy().reshape(28, 28), cmap='gray')"
   ]
  },
  {
   "cell_type": "code",
   "execution_count": 12,
   "id": "c2ec1421-6512-4a13-9351-58244f0f679e",
   "metadata": {
    "collapsed": true,
    "jupyter": {
     "outputs_hidden": true
    },
    "tags": []
   },
   "outputs": [
    {
     "name": "stdout",
     "output_type": "stream",
     "text": [
      "1000\n",
      "2000\n",
      "3000\n",
      "4000\n",
      "5000\n",
      "6000\n",
      "7000\n",
      "8000\n",
      "9000\n",
      "10000\n",
      "11000\n",
      "12000\n",
      "13000\n",
      "14000\n",
      "15000\n",
      "16000\n",
      "17000\n",
      "18000\n",
      "19000\n",
      "20000\n",
      "21000\n",
      "22000\n",
      "23000\n",
      "24000\n",
      "25000\n",
      "26000\n",
      "27000\n",
      "28000\n",
      "29000\n",
      "30000\n",
      "31000\n",
      "32000\n",
      "33000\n",
      "34000\n",
      "35000\n",
      "36000\n",
      "37000\n",
      "38000\n",
      "39000\n",
      "40000\n",
      "41000\n",
      "42000\n",
      "43000\n",
      "44000\n",
      "45000\n",
      "46000\n",
      "47000\n",
      "48000\n",
      "49000\n"
     ]
    }
   ],
   "source": [
    "train_data = PGD_train_attack_data[0].reshape(-1, 784)\n",
    "for i in range(1, len(PGD_train_attack_data)):\n",
    "    train_data = torch.cat((train_data, PGD_train_attack_data[i].reshape(-1, 784)))\n",
    "    if i % 1000 == 0:\n",
    "        print(i)"
   ]
  },
  {
   "cell_type": "code",
   "execution_count": 13,
   "id": "7e1b3aed-6df0-4aaa-93d8-2fdb18e9f9eb",
   "metadata": {},
   "outputs": [],
   "source": [
    "train_label = torch.tensor(np.array(PGD_train_attack_label))"
   ]
  },
  {
   "cell_type": "code",
   "execution_count": 14,
   "id": "9d2cbd49-a058-4034-b8a5-75d9624aab25",
   "metadata": {
    "tags": []
   },
   "outputs": [
    {
     "name": "stdout",
     "output_type": "stream",
     "text": [
      "1000\n",
      "2000\n",
      "3000\n",
      "4000\n",
      "5000\n",
      "6000\n",
      "7000\n",
      "8000\n",
      "9000\n",
      "10000\n",
      "11000\n",
      "12000\n",
      "13000\n",
      "14000\n",
      "15000\n",
      "16000\n"
     ]
    }
   ],
   "source": [
    "test_data = PGD_test_attack_data[0].reshape(-1, 784)\n",
    "for i in range(1, len(PGD_test_attack_data)):\n",
    "    test_data = torch.cat((test_data, PGD_test_attack_data[i].reshape(-1, 784)))\n",
    "    if i % 1000 == 0:\n",
    "        print(i)"
   ]
  },
  {
   "cell_type": "code",
   "execution_count": 15,
   "id": "4db12492-fc35-46a8-b806-fe61224c6bc2",
   "metadata": {},
   "outputs": [],
   "source": [
    "test_label = torch.tensor(np.array(PGD_test_attack_label))"
   ]
  },
  {
   "cell_type": "code",
   "execution_count": 16,
   "id": "97a65196-e8ad-4146-9c72-f59c06e0e455",
   "metadata": {},
   "outputs": [],
   "source": [
    "import pickle \n",
    "\n",
    "with open(\"data/mnist/pgd_0.2.pickle\", \"wb\") as f:\n",
    "    pickle.dump(train_data, f)\n",
    "    pickle.dump(train_label, f)\n",
    "    pickle.dump(test_data, f)\n",
    "    pickle.dump(test_label, f)"
   ]
  },
  {
   "cell_type": "markdown",
   "id": "9cd0d7c6-7175-4fdc-9326-c24ea927855d",
   "metadata": {},
   "source": [
    "# Adversarial Training"
   ]
  },
  {
   "cell_type": "code",
   "execution_count": 17,
   "id": "0a95c600-4f0a-4391-a101-b1e6617e89cf",
   "metadata": {},
   "outputs": [
    {
     "name": "stdout",
     "output_type": "stream",
     "text": [
      "Training...\n",
      "Validating...\n",
      "acc = 0.996875\n",
      "acc_test = 0.958372\n",
      "t = 25.111402\n"
     ]
    }
   ],
   "source": [
    "from time import time\n",
    "\n",
    "classes = train_y.unique().size(0)\n",
    "features = train_x.size(1)\n",
    "model = onlinehd.OnlineHD(classes, features, dim=10000)\n",
    "\n",
    "if torch.cuda.is_available():\n",
    "    train_x = train_x.cuda()\n",
    "    train_y = train_y.cuda()\n",
    "    x_test = x_test.cuda()\n",
    "    y_test = y_test.cuda()\n",
    "    model = model.to('cuda')\n",
    "    print('Using GPU!')\n",
    "\n",
    "print('Training...')\n",
    "t = time()\n",
    "model = model.fit(train_data, train_label, bootstrap=1.0, lr=0.035, epochs=20)\n",
    "t = time() - t\n",
    "\n",
    "print('Validating...')\n",
    "yhat = model(train_data)\n",
    "yhat_test = model(test_data)\n",
    "acc = (train_label == yhat).float().mean()\n",
    "acc_test = (test_label == yhat_test).float().mean()\n",
    "print(f'{acc = :6f}')\n",
    "print(f'{acc_test = :6f}')\n",
    "print(f'{t = :6f}')"
   ]
  },
  {
   "cell_type": "markdown",
   "id": "b3aea3de-1b44-4caa-b54e-52602cc74e7d",
   "metadata": {},
   "source": [
    "# MNIST"
   ]
  },
  {
   "cell_type": "code",
   "execution_count": 36,
   "id": "46e44b4c-4ff8-47ca-ae4a-a39fa70d7f53",
   "metadata": {},
   "outputs": [
    {
     "name": "stdout",
     "output_type": "stream",
     "text": [
      "Validating...\n",
      "acc_test = 0.965954\n",
      "t = 25.111402\n"
     ]
    }
   ],
   "source": [
    "import pickle\n",
    "with open('data/mnist/pgd.pickle', \"rb\") as f:\n",
    "    train_data = pickle.load(f)\n",
    "    train_label = pickle.load(f)\n",
    "    test_data = pickle.load(f)\n",
    "    test_label = pickle.load(f)\n",
    "\n",
    "model = model.fit(train_data, train_label, bootstrap=1.0, lr=0.035, epochs=20)\n",
    "\n",
    "print('Validating...')\n",
    "yhat_test = model(test_data)\n",
    "acc_test = (test_label == yhat_test).float().mean()\n",
    "print(f'{acc_test = :6f}')\n",
    "print(f'{t = :6f}')"
   ]
  },
  {
   "cell_type": "markdown",
   "id": "f9a51557-a450-4387-b6a1-49ac2988ae6e",
   "metadata": {},
   "source": [
    "# FSGM"
   ]
  },
  {
   "cell_type": "code",
   "execution_count": 37,
   "id": "aaa869c6-8567-48fb-b5e0-c411cb6a4ad8",
   "metadata": {},
   "outputs": [
    {
     "data": {
      "text/plain": [
       "['pgd_0.2.pickle',\n",
       " 'pgd.pickle',\n",
       " 'MNIST_DeepFool.pickle',\n",
       " 'MNIST_JSMA.pickle',\n",
       " 'MNIST_FSGM.pickle']"
      ]
     },
     "execution_count": 37,
     "metadata": {},
     "output_type": "execute_result"
    }
   ],
   "source": [
    "import os\n",
    "os.listdir('data/mnist')"
   ]
  },
  {
   "cell_type": "code",
   "execution_count": 60,
   "id": "483210e3-2efe-4dc2-b4a4-b11307629e5b",
   "metadata": {},
   "outputs": [],
   "source": [
    "import pickle\n",
    "with open('data/mnist/MNIST_FSGM.pickle', \"rb\") as f:\n",
    "    train_data = pickle.load(f)\n",
    "    train_label = pickle.load(f)\n",
    "    test_data = pickle.load(f)\n",
    "    test_label = pickle.load(f)"
   ]
  },
  {
   "cell_type": "code",
   "execution_count": 65,
   "id": "934356e2-6f56-4e67-ac33-ba1b39db2a68",
   "metadata": {},
   "outputs": [],
   "source": [
    "test_data = scaler.transform(test_data.reshape(-1, 784))\n",
    "test_data = torch.from_numpy(test_data).float()"
   ]
  },
  {
   "cell_type": "code",
   "execution_count": 40,
   "id": "deb4cc4b-78e7-435f-97fc-a855cb47f4bc",
   "metadata": {},
   "outputs": [
    {
     "name": "stdout",
     "output_type": "stream",
     "text": [
      "Validating...\n",
      "MNIST DATA : acc_test = 0.097654\n",
      "t = 25.111402\n"
     ]
    }
   ],
   "source": [
    "print('Validating...')\n",
    "yhat_test = model(test_data.reshape(-1, 784))\n",
    "acc_test = (test_label == yhat_test).float().mean()\n",
    "print(f'MNIST DATA : {acc_test = :6f}')\n",
    "print(f'{t = :6f}')"
   ]
  },
  {
   "cell_type": "code",
   "execution_count": 41,
   "id": "61b373ef-2806-42ce-96e8-b728e24622e1",
   "metadata": {},
   "outputs": [
    {
     "name": "stdout",
     "output_type": "stream",
     "text": [
      "tensor([0])\n"
     ]
    },
    {
     "data": {
      "image/png": "[encoded data removed]",
      "text/plain": [
       "<Figure size 432x288 with 1 Axes>"
      ]
     },
     "metadata": {
      "needs_background": "light"
     },
     "output_type": "display_data"
    }
   ],
   "source": [
    "idx = 9\n",
    "plt.imshow(test_data[idx].reshape(28, 28), cmap='gray')\n",
    "plt.title(test_label[idx])\n",
    "print(model(test_data[idx].reshape(-1, 784)))"
   ]
  },
  {
   "cell_type": "markdown",
   "id": "d7a94d8c-ae5a-42de-bae1-a035ba1ca1d6",
   "metadata": {},
   "source": [
    "# JSMA"
   ]
  },
  {
   "cell_type": "code",
   "execution_count": 42,
   "id": "4356d5eb-0a81-4934-84ac-8eef6fe467fe",
   "metadata": {},
   "outputs": [],
   "source": [
    "import pickle\n",
    "with open('data/mnist/MNIST_JSMA.pickle', \"rb\") as f:\n",
    "    JSMA = pickle.load(f)"
   ]
  },
  {
   "cell_type": "code",
   "execution_count": 43,
   "id": "47975c9a-3b8e-41de-9e44-7573ad02e828",
   "metadata": {},
   "outputs": [
    {
     "data": {
      "text/plain": [
       "dict_keys(['train_data', 'train_label', 'test_data', 'test_label'])"
      ]
     },
     "execution_count": 43,
     "metadata": {},
     "output_type": "execute_result"
    }
   ],
   "source": [
    "JSMA.keys()"
   ]
  },
  {
   "cell_type": "code",
   "execution_count": 44,
   "id": "41970949-30ae-4117-8ff6-8337cfdc4160",
   "metadata": {},
   "outputs": [],
   "source": [
    "test_data = JSMA['test_data']\n",
    "test_label = JSMA['test_label']"
   ]
  },
  {
   "cell_type": "code",
   "execution_count": 45,
   "id": "707bf139-b862-48b8-9c03-46da99f06ad3",
   "metadata": {},
   "outputs": [],
   "source": [
    "test_data = scaler.transform(test_data.reshape(-1, 784))\n",
    "test_data = torch.from_numpy(test_data).float()"
   ]
  },
  {
   "cell_type": "code",
   "execution_count": 46,
   "id": "fe01c359-5564-4a8d-9948-20dda4229306",
   "metadata": {},
   "outputs": [
    {
     "name": "stdout",
     "output_type": "stream",
     "text": [
      "Validating...\n",
      "MNIST DATA : acc_test = 0.749200\n",
      "t = 25.111402\n"
     ]
    }
   ],
   "source": [
    "print('Validating...')\n",
    "yhat_test = model(test_data.reshape(-1, 784))\n",
    "acc_test = (test_label == yhat_test).float().mean()\n",
    "print(f'MNIST DATA : {acc_test = :6f}')\n",
    "print(f'{t = :6f}')"
   ]
  },
  {
   "cell_type": "code",
   "execution_count": 47,
   "id": "a26f8947-3fb2-45d6-a6c7-d1bdc47409e1",
   "metadata": {},
   "outputs": [
    {
     "name": "stdout",
     "output_type": "stream",
     "text": [
      "tensor([8])\n"
     ]
    },
    {
     "data": {
      "image/png": "[encoded data removed]",
      "text/plain": [
       "<Figure size 432x288 with 1 Axes>"
      ]
     },
     "metadata": {
      "needs_background": "light"
     },
     "output_type": "display_data"
    }
   ],
   "source": [
    "idx = 9\n",
    "plt.imshow(test_data[idx].reshape(28, 28), cmap='gray')\n",
    "plt.title(test_label[idx])\n",
    "print(model(test_data[idx].reshape(-1, 784)))"
   ]
  },
  {
   "cell_type": "markdown",
   "id": "dd994ce8-2a7e-4693-ab3d-657da9fdcb70",
   "metadata": {},
   "source": [
    "# DeepFool"
   ]
  },
  {
   "cell_type": "code",
   "execution_count": 56,
   "id": "70395f31-6013-4538-aab9-ee858b3b93f0",
   "metadata": {},
   "outputs": [],
   "source": [
    "import pickle\n",
    "with open('data/mnist/MNIST_DeepFool.pickle', \"rb\") as f:\n",
    "    DeepFool = pickle.load(f)"
   ]
  },
  {
   "cell_type": "code",
   "execution_count": 57,
   "id": "5b9b0392-1224-4916-a40f-d1fa95fb7980",
   "metadata": {},
   "outputs": [
    {
     "data": {
      "text/plain": [
       "dict_keys(['train_data', 'train_label', 'test_data', 'test_label'])"
      ]
     },
     "execution_count": 57,
     "metadata": {},
     "output_type": "execute_result"
    }
   ],
   "source": [
    "DeepFool.keys()"
   ]
  },
  {
   "cell_type": "code",
   "execution_count": 58,
   "id": "54c06db7-a3e9-4984-a81b-74f7bd32b972",
   "metadata": {},
   "outputs": [],
   "source": [
    "test_data = DeepFool['test_data']\n",
    "test_label = DeepFool['test_label']"
   ]
  },
  {
   "cell_type": "code",
   "execution_count": 51,
   "id": "78af48ff-5b82-4285-80fd-887a946b335b",
   "metadata": {},
   "outputs": [],
   "source": [
    "test_data = scaler.transform(test_data.reshape(-1, 784))\n",
    "test_data = torch.from_numpy(test_data).float()"
   ]
  },
  {
   "cell_type": "code",
   "execution_count": 52,
   "id": "08adb5ef-be68-4e96-aca9-a11d4fa604c7",
   "metadata": {},
   "outputs": [
    {
     "name": "stdout",
     "output_type": "stream",
     "text": [
      "Validating...\n",
      "MNIST DATA : acc_test = 0.181543\n",
      "t = 25.111402\n"
     ]
    }
   ],
   "source": [
    "print('Validating...')\n",
    "yhat_test = model(test_data.reshape(-1, 784))\n",
    "acc_test = (test_label == yhat_test).float().mean()\n",
    "print(f'MNIST DATA : {acc_test = :6f}')\n",
    "print(f'{t = :6f}')"
   ]
  },
  {
   "cell_type": "code",
   "execution_count": 53,
   "id": "be858b5c-b7c6-40c5-8b07-1e858704b850",
   "metadata": {},
   "outputs": [
    {
     "name": "stdout",
     "output_type": "stream",
     "text": [
      "tensor([8])\n"
     ]
    },
    {
     "data": {
      "image/png": "[encoded data removed]",
      "text/plain": [
       "<Figure size 432x288 with 1 Axes>"
      ]
     },
     "metadata": {
      "needs_background": "light"
     },
     "output_type": "display_data"
    }
   ],
   "source": [
    "idx = 9\n",
    "plt.imshow(test_data[idx].reshape(28, 28), cmap='gray')\n",
    "plt.title(test_label[idx])\n",
    "print(model(test_data[idx].reshape(-1, 784)))"
   ]
  },
  {
   "cell_type": "code",
   "execution_count": null,
   "id": "5b29de48-2cfc-4b3b-bc1f-3c9d5021f00e",
   "metadata": {},
   "outputs": [],
   "source": []
  },
  {
   "cell_type": "code",
   "execution_count": 62,
   "id": "d69ca7e7-a46c-4273-be0b-a3500375e173",
   "metadata": {},
   "outputs": [
    {
     "data": {
      "text/plain": [
       "torch.Size([28, 28])"
      ]
     },
     "execution_count": 62,
     "metadata": {},
     "output_type": "execute_result"
    }
   ],
   "source": [
    "test_data[0].shape"
   ]
  },
  {
   "cell_type": "code",
   "execution_count": 64,
   "id": "07b7ac5e-25ae-4d75-8806-06af0169fac7",
   "metadata": {},
   "outputs": [
    {
     "data": {
      "text/plain": [
       "<matplotlib.image.AxesImage at 0x7fa93c0a0c70>"
      ]
     },
     "execution_count": 64,
     "metadata": {},
     "output_type": "execute_result"
    },
    {
     "data": {
      "image/png": "[encoded data removed]",
      "text/plain": [
       "<Figure size 432x288 with 1 Axes>"
      ]
     },
     "metadata": {
      "needs_background": "light"
     },
     "output_type": "display_data"
    }
   ],
   "source": [
    "plt.imshow(test_data[0], cmap='gray')"
   ]
  },
  {
   "cell_type": "code",
   "execution_count": 68,
   "id": "948b1d4d-b7eb-468f-919e-72ad799a6011",
   "metadata": {},
   "outputs": [
    {
     "data": {
      "text/plain": [
       "<matplotlib.image.AxesImage at 0x7fa93c40ae80>"
      ]
     },
     "execution_count": 68,
     "metadata": {},
     "output_type": "execute_result"
    },
    {
     "data": {
      "image/png": "[encoded data removed]",
      "text/plain": [
       "<Figure size 432x288 with 1 Axes>"
      ]
     },
     "metadata": {
      "needs_background": "light"
     },
     "output_type": "display_data"
    }
   ],
   "source": [
    "plt.imshow(test_data[0].reshape(28, 28), cmap='gray')"
   ]
  },
  {
   "cell_type": "code",
   "execution_count": 69,
   "id": "3e3c1986-2f19-44c3-89cd-6766409741e7",
   "metadata": {},
   "outputs": [
    {
     "data": {
      "text/plain": [
       "tensor([[0.0143, 0.0137, 0.0140,  ..., 0.0141, 0.0142, 0.0140],\n",
       "        [0.0278, 0.0276, 0.0272,  ..., 0.0277, 0.0279, 0.0273],\n",
       "        [0.0291, 0.0288, 0.0288,  ..., 0.0288, 0.0289, 0.0286],\n",
       "        ...,\n",
       "        [0.0128, 0.0122, 0.0126,  ..., 0.0127, 0.0128, 0.0125],\n",
       "        [0.0062, 0.0054, 0.0058,  ..., 0.0060, 0.0061, 0.0059],\n",
       "        [0.0060, 0.0054, 0.0059,  ..., 0.0060, 0.0062, 0.0061]])"
      ]
     },
     "execution_count": 69,
     "metadata": {},
     "output_type": "execute_result"
    }
   ],
   "source": [
    "test_data"
   ]
  },
  {
   "cell_type": "code",
   "execution_count": null,
   "id": "b90c174f-0530-4ebf-bc33-69727d763d40",
   "metadata": {},
   "outputs": [],
   "source": []
  }
 ],
 "metadata": {
  "kernelspec": {
   "display_name": "UCI",
   "language": "python",
   "name": "uci"
  },
  "language_info": {
   "codemirror_mode": {
    "name": "ipython",
    "version": 3
   },
   "file_extension": ".py",
   "mimetype": "text/x-python",
   "name": "python",
   "nbconvert_exporter": "python",
   "pygments_lexer": "ipython3",
   "version": "3.8.5"
  }
 },
 "nbformat": 4,
 "nbformat_minor": 5
}
