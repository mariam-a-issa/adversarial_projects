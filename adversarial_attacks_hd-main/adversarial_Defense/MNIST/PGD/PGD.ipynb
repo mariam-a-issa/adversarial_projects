{
 "cells": [
  {
   "cell_type": "code",
   "execution_count": 7,
   "id": "d5298d98-1d37-4458-bcea-a01875a78b86",
   "metadata": {},
   "outputs": [],
   "source": [
    "from time import time\n",
    "\n",
    "import torch\n",
    "import sklearn.datasets\n",
    "import sklearn.preprocessing\n",
    "import sklearn.model_selection\n",
    "import numpy as np\n",
    "\n",
    "import Onlinehd\n",
    "\n",
    "np.random.seed(1234)\n",
    "device = 'cuda' if torch.cuda.is_available() else 'cpu'"
   ]
  },
  {
   "cell_type": "code",
   "execution_count": 2,
   "id": "29340d4b-4b96-49fc-bf2d-ffb29beeb084",
   "metadata": {},
   "outputs": [],
   "source": [
    "# loads simple mnist dataset\n",
    "def load():\n",
    "    # fetches data\n",
    "    x, y = sklearn.datasets.fetch_openml('mnist_784', return_X_y=True)\n",
    "    x = x.astype(np.float)\n",
    "    y = y.astype(np.int)\n",
    "    y = np.array(y)\n",
    "\n",
    "    # split and normalize\n",
    "    x, x_test, y, y_test = sklearn.model_selection.train_test_split(x, y)\n",
    "    scaler = sklearn.preprocessing.Normalizer().fit(x)\n",
    "    x = scaler.transform(x)\n",
    "    x_test = scaler.transform(x_test)\n",
    "\n",
    "    # changes data to pytorch's tensors\n",
    "    x = torch.from_numpy(x).float()\n",
    "    y = torch.from_numpy(y).long()\n",
    "    x_test = torch.from_numpy(x_test).float()\n",
    "    y_test = torch.from_numpy(y_test).long()\n",
    "\n",
    "    return x, x_test, y, y_test, scaler"
   ]
  },
  {
   "cell_type": "code",
   "execution_count": 3,
   "id": "3c08bd38-94f2-469a-af7d-d5432b58bb05",
   "metadata": {
    "collapsed": true,
    "jupyter": {
     "outputs_hidden": true
    },
    "tags": []
   },
   "outputs": [
    {
     "name": "stdout",
     "output_type": "stream",
     "text": [
      "Loading...\n"
     ]
    },
    {
     "name": "stderr",
     "output_type": "stream",
     "text": [
      "/var/folders/4_/4812b_4j2_s0smfmxlqdpr600000gn/T/ipykernel_99387/3995914916.py:5: DeprecationWarning: `np.float` is a deprecated alias for the builtin `float`. To silence this warning, use `float` by itself. Doing this will not modify any behavior and is safe. If you specifically wanted the numpy scalar type, use `np.float64` here.\n",
      "Deprecated in NumPy 1.20; for more details and guidance: https://numpy.org/devdocs/release/1.20.0-notes.html#deprecations\n",
      "  x = x.astype(np.float)\n",
      "/var/folders/4_/4812b_4j2_s0smfmxlqdpr600000gn/T/ipykernel_99387/3995914916.py:6: DeprecationWarning: `np.int` is a deprecated alias for the builtin `int`. To silence this warning, use `int` by itself. Doing this will not modify any behavior and is safe. When replacing `np.int`, you may wish to use e.g. `np.int64` or `np.int32` to specify the precision. If you wish to review your current use, check the release note link for additional information.\n",
      "Deprecated in NumPy 1.20; for more details and guidance: https://numpy.org/devdocs/release/1.20.0-notes.html#deprecations\n",
      "  y = y.astype(np.int)\n"
     ]
    }
   ],
   "source": [
    "# simple OnlineHD training\n",
    "\n",
    "print('Loading...')\n",
    "train_x, x_test, train_y, y_test, scaler = load()"
   ]
  },
  {
   "cell_type": "code",
   "execution_count": 8,
   "id": "f9b77288-9628-4f90-a21c-0598c1738217",
   "metadata": {},
   "outputs": [
    {
     "name": "stdout",
     "output_type": "stream",
     "text": [
      "Training...\n",
      "0\n",
      "10\n",
      "Validating...\n",
      "acc = 0.944476\n",
      "acc_test = 0.933829\n",
      "t = 27.034414\n"
     ]
    }
   ],
   "source": [
    "from time import time\n",
    "\n",
    "classes = train_y.unique().size(0)\n",
    "features = train_x.size(1)\n",
    "model = Onlinehd.OnlineHD(classes, features, dim=10000)\n",
    "\n",
    "if torch.cuda.is_available():\n",
    "    train_x = train_x.cuda()\n",
    "    train_y = train_y.cuda()\n",
    "    x_test = x_test.cuda()\n",
    "    y_test = y_test.cuda()\n",
    "    model = model.to('cuda')\n",
    "    print('Using GPU!')\n",
    "\n",
    "print('Training...')\n",
    "t = time()\n",
    "model = model.fit(train_x, train_y, bootstrap=1.0, lr=0.035, epochs=20)\n",
    "t = time() - t\n",
    "\n",
    "print('Validating...')\n",
    "yhat = model(train_x)\n",
    "yhat_test = model(x_test)\n",
    "acc = (train_y == yhat).float().mean()\n",
    "acc_test = (y_test == yhat_test).float().mean()\n",
    "print(f'{acc = :6f}')\n",
    "print(f'{acc_test = :6f}')\n",
    "print(f'{t = :6f}')"
   ]
  },
  {
   "cell_type": "code",
   "execution_count": 9,
   "id": "f16f7374-5366-4165-a046-40bcbc37e812",
   "metadata": {},
   "outputs": [],
   "source": [
    "def pgd_attack(x_original, y_target, model, alpha, iterations=10, epsilon=0.03):\n",
    "    criterion = nn.CosineEmbeddingLoss()\n",
    "    x_perturbed = x_original.clone().detach()\n",
    "    x_perturbed.requires_grad = True\n",
    "    \n",
    "    for _ in range(iterations):\n",
    "        output = model.encode(x_perturbed)\n",
    "        label = torch.ones(10, dtype=int) * -1\n",
    "        label[y_target.item()] = 1\n",
    "        loss = criterion(output, model.model, label)\n",
    "                \n",
    "#         loss.backward()\n",
    "#         grad = x_perturbed.gard.data\n",
    "        grad = torch.autograd.grad(loss, x_perturbed)[0]\n",
    "        x_perturbed = x_perturbed.detach() + alpha*grad.sign()\n",
    "        eta = torch.clamp(x_perturbed - x_original, min=-epsilon, max=epsilon)\n",
    "        x_perturbed = x_original + eta\n",
    "    return x_perturbed"
   ]
  },
  {
   "cell_type": "code",
   "execution_count": 15,
   "id": "bccb43b0-2ac5-4aed-b1f2-c23effe1634f",
   "metadata": {},
   "outputs": [
    {
     "name": "stdout",
     "output_type": "stream",
     "text": [
      "0\n",
      "1000\n",
      "2000\n",
      "3000\n",
      "4000\n",
      "5000\n",
      "6000\n",
      "7000\n",
      "8000\n",
      "9000\n",
      "10000\n",
      "11000\n",
      "12000\n",
      "13000\n",
      "14000\n",
      "15000\n",
      "16000\n",
      "17000\n",
      "\n",
      "PGD Attack with alpha = 0.01000 | Elapsed time: 808.72 seconds.\n",
      "Accuracy: Before the attack -> 93.38%\t|\tAfter the attack -> 46.13%\n",
      "0\n",
      "1000\n",
      "2000\n",
      "3000\n",
      "4000\n",
      "5000\n",
      "6000\n",
      "7000\n",
      "8000\n",
      "9000\n",
      "10000\n",
      "11000\n",
      "12000\n",
      "13000\n",
      "14000\n",
      "15000\n",
      "16000\n",
      "17000\n",
      "\n",
      "PGD Attack with alpha = 0.02000 | Elapsed time: 791.69 seconds.\n",
      "Accuracy: Before the attack -> 93.38%\t|\tAfter the attack -> 50.78%\n",
      "0\n",
      "1000\n",
      "2000\n",
      "3000\n",
      "4000\n",
      "5000\n",
      "6000\n",
      "7000\n",
      "8000\n",
      "9000\n",
      "10000\n",
      "11000\n",
      "12000\n",
      "13000\n",
      "14000\n",
      "15000\n",
      "16000\n",
      "17000\n",
      "\n",
      "PGD Attack with alpha = 0.03000 | Elapsed time: 794.20 seconds.\n",
      "Accuracy: Before the attack -> 93.38%\t|\tAfter the attack -> 62.66%\n",
      "0\n",
      "1000\n",
      "2000\n",
      "3000\n",
      "4000\n",
      "5000\n",
      "6000\n",
      "7000\n",
      "8000\n",
      "9000\n",
      "10000\n",
      "11000\n",
      "12000\n",
      "13000\n",
      "14000\n",
      "15000\n",
      "16000\n",
      "17000\n",
      "\n",
      "PGD Attack with alpha = 0.04000 | Elapsed time: 795.21 seconds.\n",
      "Accuracy: Before the attack -> 93.38%\t|\tAfter the attack -> 65.10%\n",
      "0\n",
      "1000\n",
      "2000\n",
      "3000\n",
      "4000\n",
      "5000\n",
      "6000\n",
      "7000\n",
      "8000\n",
      "9000\n",
      "10000\n",
      "11000\n",
      "12000\n",
      "13000\n",
      "14000\n",
      "15000\n",
      "16000\n",
      "17000\n",
      "\n",
      "PGD Attack with alpha = 0.05000 | Elapsed time: 794.89 seconds.\n",
      "Accuracy: Before the attack -> 93.38%\t|\tAfter the attack -> 58.83%\n"
     ]
    }
   ],
   "source": [
    "import time\n",
    "import torch.nn as nn\n",
    "\n",
    "epsilons = torch.Tensor([0.01, 0.02, 0.03, 0.04, 0.05])\n",
    "acc_results = dict()\n",
    "verbose = False\n",
    "N_VAL_SAMPLES = x_test.shape[0]\n",
    "criterion = nn.CosineEmbeddingLoss()\n",
    "\n",
    "PGD_test_attack_data = []\n",
    "PGD_test_attack_label = []\n",
    "\n",
    "for eps in epsilons:\n",
    "    correct_unperturbed = 0\n",
    "    correct_perturbed = 0\n",
    "    t0 = time.perf_counter()\n",
    "    \n",
    "    for j in range(len(x_test)):\n",
    "        if j % 1000 == 0 :\n",
    "            print(j)\n",
    "#     for j, val_data in enumerate(x, 0):\n",
    "        ### NOTE: IT WOULD BE MORE EFFICIENT TO ITERATE ONLY ONCE THROUGH THE DATA AND PERFORM ALL THE ATTACKS\n",
    "        x, y_target = x_test[j].reshape(-1, 784), y_test[j]\n",
    "        x, y_target = x.to(device), y_target.to(device)\n",
    "        x.requires_grad = True\n",
    "        \n",
    "        y_pred = model(x)\n",
    "        \n",
    "        if y_pred == y_target: # Only make attack on correctly classified samples\n",
    "            correct_unperturbed += 1\n",
    "            # Calculate loss and gradient\n",
    "            perturbed_x = pgd_attack(x, y_target, model=model, alpha=eps)\n",
    "            PGD_test_attack_data.append(perturbed_x)\n",
    "            PGD_test_attack_label.append(y_target)\n",
    "            \n",
    "            y_pred_perturbed = model(perturbed_x)\n",
    "#             y_pred_perturbed = torch.argmin(perturbed_output)\n",
    "#             loss_perturbed = criterion(perturbed_output, model.model, label)\n",
    "            if y_pred_perturbed == y_target:\n",
    "                correct_perturbed += 1\n",
    "                \n",
    "    acc_before_attack = correct_unperturbed / N_VAL_SAMPLES\n",
    "    acc_after_attack = correct_perturbed / N_VAL_SAMPLES\n",
    "    print(f'\\nPGD Attack with alpha = {eps:.5f} | Elapsed time: {time.perf_counter() - t0:.2f} seconds.')\n",
    "    print(f'Accuracy: Before the attack -> {100 * acc_before_attack:.2f}%\\t|\\tAfter the attack -> {100 * acc_after_attack:.2f}%')\n",
    "    acc_results[eps.item()] = acc_after_attack\n",
    "acc_results[0] = acc_before_attack"
   ]
  },
  {
   "cell_type": "code",
   "execution_count": 19,
   "id": "c04c7ba6-72e4-4b62-bded-c8ab1b9b0de0",
   "metadata": {},
   "outputs": [],
   "source": [
    "PGD_test_attack_label\n",
    "for i in range(len(PGD_test_attack_label)):\n",
    "    PGD_test_attack_label[i] = PGD_test_attack_label[i].item()"
   ]
  },
  {
   "cell_type": "code",
   "execution_count": 23,
   "id": "79a46cf6-4064-4600-b997-1c0ade68a540",
   "metadata": {},
   "outputs": [
    {
     "name": "stderr",
     "output_type": "stream",
     "text": [
      "/var/folders/4_/4812b_4j2_s0smfmxlqdpr600000gn/T/ipykernel_99387/3997804931.py:1: UserWarning: To copy construct from a tensor, it is recommended to use sourceTensor.clone().detach() or sourceTensor.clone().detach().requires_grad_(True), rather than torch.tensor(sourceTensor).\n",
      "  PGD_test_attack_label = torch.tensor(PGD_test_attack_label).long()\n"
     ]
    }
   ],
   "source": [
    "PGD_test_attack_label = torch.tensor(PGD_test_attack_label).long()"
   ]
  },
  {
   "cell_type": "code",
   "execution_count": 25,
   "id": "83b2d9b9-3835-466e-9025-30b1df6960b4",
   "metadata": {},
   "outputs": [
    {
     "data": {
      "text/plain": [
       "81710"
      ]
     },
     "execution_count": 25,
     "metadata": {},
     "output_type": "execute_result"
    }
   ],
   "source": [
    "len(PGD_test_attack_data)"
   ]
  },
  {
   "cell_type": "code",
   "execution_count": 26,
   "id": "935a1079-9546-48b7-94f1-f819a97374c6",
   "metadata": {},
   "outputs": [],
   "source": [
    "PGD_test_attack = torch.zeros(81710, 784)\n",
    "\n",
    "for i in range(len(PGD_test_attack_data)):\n",
    "    PGD_test_attack[i] = PGD_test_attack_data[i].reshape(784)"
   ]
  },
  {
   "cell_type": "code",
   "execution_count": 30,
   "id": "120eea55-a9f6-4a82-85ef-eaa57440773f",
   "metadata": {},
   "outputs": [],
   "source": [
    "train_data = scaler.transform(PGD_test_attack.detach().numpy())"
   ]
  },
  {
   "cell_type": "code",
   "execution_count": 31,
   "id": "fe178cfe-6250-4323-ac16-5599af620908",
   "metadata": {},
   "outputs": [],
   "source": [
    "train_data = torch.from_numpy(train_data).float()"
   ]
  },
  {
   "cell_type": "markdown",
   "id": "9cd0d7c6-7175-4fdc-9326-c24ea927855d",
   "metadata": {},
   "source": [
    "# Adversarial Training"
   ]
  },
  {
   "cell_type": "code",
   "execution_count": 32,
   "id": "aa6e46ef-2bc7-466f-b030-2a97ac858638",
   "metadata": {},
   "outputs": [],
   "source": [
    "from time import time\n",
    "\n",
    "classes = train_y.unique().size(0)\n",
    "features = train_x.size(1)\n",
    "model = onlinehd.OnlineHD(classes, features, dim=10000)\n",
    "\n",
    "if torch.cuda.is_available():\n",
    "    train_x = train_x.cuda()\n",
    "    train_y = train_y.cuda()\n",
    "    x_test = x_test.cuda()\n",
    "    y_test = y_test.cuda()\n",
    "    model = model.to('cuda')\n",
    "    print('Using GPU!')\n",
    "\n",
    "print('Training...')\n",
    "t = time()\n",
    "model = model.fit(train_data, PGD_test_attack_label, bootstrap=1.0, lr=0.035, epochs=20)\n",
    "t = time() - t"
   ]
  },
  {
   "cell_type": "code",
   "execution_count": 34,
   "id": "fe32e874-1a2e-419a-8277-9da890a8161b",
   "metadata": {},
   "outputs": [
    {
     "name": "stdout",
     "output_type": "stream",
     "text": [
      "Validating...\n",
      "acc = 0.992877\n",
      "acc_test = 0.882343\n",
      "t = 28.965304\n"
     ]
    }
   ],
   "source": [
    "print('Validating...')\n",
    "yhat = model(train_data)\n",
    "yhat_test = model(x_test)\n",
    "acc = (PGD_test_attack_label == yhat).float().mean()\n",
    "acc_test = (y_test == yhat_test).float().mean()\n",
    "print(f'{acc = :6f}')\n",
    "print(f'{acc_test = :6f}')\n",
    "print(f'{t = :6f}')"
   ]
  },
  {
   "cell_type": "code",
   "execution_count": 36,
   "id": "6d340fbc-f637-4dfc-bc5d-4c4f40dc65ca",
   "metadata": {},
   "outputs": [],
   "source": [
    "import pickle\n",
    "\n",
    "with open('hd_adversarial_sample/MNIST_HD_FGSM.pickle', 'rb') as f:\n",
    "    FGSM = pickle.load(f)\n",
    "\n",
    "FGSM_001 = FGSM['data']['0.01']\n",
    "FGSM_003 = FGSM['data']['0.03']\n",
    "FGSM_007 = FGSM['data']['0.07']\n",
    "FGSM_01 = FGSM['data']['0.1']\n",
    "\n",
    "import pickle\n",
    "\n",
    "with open('hd_adversarial_sample/MNIST_HD_DF.pickle', 'rb') as f:\n",
    "    DF = pickle.load(f)\n",
    "\n",
    "DF_data = DF['data']\n",
    "\n",
    "import pickle\n",
    "\n",
    "with open('hd_adversarial_sample/MNIST_HD_JSMA.pickle', 'rb') as f:\n",
    "    JSMA = pickle.load(f)\n",
    "\n",
    "JSMA_data = JSMA['data']"
   ]
  },
  {
   "cell_type": "code",
   "execution_count": 48,
   "id": "df26c7ae-a6af-463b-ac51-d9ccec6185ee",
   "metadata": {},
   "outputs": [
    {
     "data": {
      "text/plain": [
       "torch.Size([17500, 28, 28])"
      ]
     },
     "execution_count": 48,
     "metadata": {},
     "output_type": "execute_result"
    }
   ],
   "source": [
    "FGSM_001.shape"
   ]
  },
  {
   "cell_type": "code",
   "execution_count": 50,
   "id": "102f1c17-db4c-4c73-b6cb-3575df1a2d8a",
   "metadata": {},
   "outputs": [],
   "source": [
    "FGSM_001 = torch.from_numpy(scaler.transform(FGSM_001.detach().numpy().reshape(-1, 784))).float()\n",
    "FGSM_003 = torch.from_numpy(scaler.transform(FGSM_003.detach().numpy().reshape(-1, 784))).float()\n",
    "FGSM_007 = torch.from_numpy(scaler.transform(FGSM_007.detach().numpy().reshape(-1, 784))).float()\n",
    "FGSM_01 = torch.from_numpy(scaler.transform(FGSM_01.detach().numpy().reshape(-1, 784))).float()\n",
    "DF_data = torch.from_numpy(scaler.transform(DF_data.detach().numpy().reshape(-1, 784))).float()\n",
    "JSMA_data = torch.from_numpy(scaler.transform(JSMA_data.detach().numpy().reshape(-1, 784))).float()"
   ]
  },
  {
   "cell_type": "code",
   "execution_count": 52,
   "id": "fd8b5b49-134e-4a9c-97a5-1cee5750353c",
   "metadata": {},
   "outputs": [
    {
     "name": "stdout",
     "output_type": "stream",
     "text": [
      "Validating...\n",
      "FGSM_001_acc = 0.889771\n",
      "FGSM_003_acc = 0.879886\n",
      "FGSM_007_acc = 0.759543\n",
      "FGSM_01_acc = 0.634343\n",
      "DF_acc = 0.876971\n",
      "JSMA_acc = 0.846229\n"
     ]
    }
   ],
   "source": [
    "print('Validating...')\n",
    "\n",
    "FGSM_001_yhat = model(FGSM_001)\n",
    "FGSM_003_yhat = model(FGSM_003)\n",
    "FGSM_007_yhat = model(FGSM_007)\n",
    "FGSM_01_yhat = model(FGSM_01)\n",
    "DF_data_yhat = model(DF_data)\n",
    "JSMA_data_yhat = model(JSMA_data)\n",
    "\n",
    "FGSM_001_acc = (y_test == FGSM_001_yhat).float().mean()\n",
    "FGSM_003_acc = (y_test == FGSM_003_yhat).float().mean()\n",
    "FGSM_007_acc = (y_test == FGSM_007_yhat).float().mean()\n",
    "FGSM_01_acc = (y_test == FGSM_01_yhat).float().mean()\n",
    "DF_acc = (y_test == DF_data_yhat).float().mean()\n",
    "JSMA_acc = (y_test == JSMA_data_yhat).float().mean()\n",
    "\n",
    "print(f'{FGSM_001_acc = :6f}')\n",
    "print(f'{FGSM_003_acc = :6f}')\n",
    "print(f'{FGSM_007_acc = :6f}')\n",
    "print(f'{FGSM_01_acc = :6f}')\n",
    "print(f'{DF_acc = :6f}')\n",
    "print(f'{JSMA_acc = :6f}')"
   ]
  },
  {
   "cell_type": "code",
   "execution_count": null,
   "id": "65a47bed-4047-4135-b943-ec34a38794c0",
   "metadata": {},
   "outputs": [],
   "source": []
  }
 ],
 "metadata": {
  "kernelspec": {
   "display_name": "UCI",
   "language": "python",
   "name": "uci"
  },
  "language_info": {
   "codemirror_mode": {
    "name": "ipython",
    "version": 3
   },
   "file_extension": ".py",
   "mimetype": "text/x-python",
   "name": "python",
   "nbconvert_exporter": "python",
   "pygments_lexer": "ipython3",
   "version": "3.8.5"
  }
 },
 "nbformat": 4,
 "nbformat_minor": 5
}
