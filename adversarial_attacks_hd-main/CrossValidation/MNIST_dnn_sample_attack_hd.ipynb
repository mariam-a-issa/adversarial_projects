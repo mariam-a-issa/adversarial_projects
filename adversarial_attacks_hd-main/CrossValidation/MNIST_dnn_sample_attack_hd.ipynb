{
 "cells": [
  {
   "cell_type": "code",
   "execution_count": 6,
   "id": "e53c2e64-257c-4413-8f99-cd04ecb75511",
   "metadata": {},
   "outputs": [
    {
     "data": {
      "text/plain": [
       "<torch._C.Generator at 0x7fe9b5d58d90>"
      ]
     },
     "execution_count": 6,
     "metadata": {},
     "output_type": "execute_result"
    }
   ],
   "source": [
    "from time import time\n",
    "\n",
    "import torch\n",
    "import sklearn.datasets\n",
    "import sklearn.preprocessing\n",
    "import sklearn.model_selection\n",
    "import numpy as np\n",
    "import math\n",
    "import matplotlib.pyplot as plt\n",
    "\n",
    "from torchvision.datasets import MNIST\n",
    "from torchvision.datasets import FashionMNIST as FMNIST\n",
    "from torchvision.datasets import EMNIST\n",
    "import torchvision.transforms as transforms\n",
    "\n",
    "import onlinehd\n",
    "\n",
    "SEED = 1234\n",
    "device = 'cuda' if torch.cuda.is_available() else 'cpu'\n",
    "np.random.seed(SEED)\n",
    "torch.manual_seed(SEED)"
   ]
  },
  {
   "cell_type": "code",
   "execution_count": 7,
   "id": "a307c52c-6a66-446a-b16b-fb9ba062ffa7",
   "metadata": {},
   "outputs": [],
   "source": [
    "# loads simple mnist dataset\n",
    "def load():\n",
    "    # fetches data\n",
    "    x, y = sklearn.datasets.fetch_openml('mnist_784', return_X_y=True)\n",
    "    x = x.astype(np.float)\n",
    "    y = y.astype(np.int)\n",
    "    y = np.array(y)\n",
    "\n",
    "    # split and normalize\n",
    "    x, x_test, y, y_test = sklearn.model_selection.train_test_split(x, y)\n",
    "    scaler = sklearn.preprocessing.Normalizer().fit(x)\n",
    "    x = scaler.transform(x)\n",
    "    x_test = scaler.transform(x_test)\n",
    "\n",
    "    # changes data to pytorch's tensors\n",
    "    x = torch.from_numpy(x).float()\n",
    "    y = torch.from_numpy(y).long()\n",
    "    x_test = torch.from_numpy(x_test).float()\n",
    "    y_test = torch.from_numpy(y_test).long()\n",
    "\n",
    "    return x, x_test, y, y_test, scaler"
   ]
  },
  {
   "cell_type": "code",
   "execution_count": 8,
   "id": "df485263-c298-428f-9811-a46b5f70f18d",
   "metadata": {
    "collapsed": true,
    "jupyter": {
     "outputs_hidden": true
    },
    "tags": []
   },
   "outputs": [
    {
     "name": "stderr",
     "output_type": "stream",
     "text": [
      "/var/folders/4_/4812b_4j2_s0smfmxlqdpr600000gn/T/ipykernel_48945/3995914916.py:5: DeprecationWarning: `np.float` is a deprecated alias for the builtin `float`. To silence this warning, use `float` by itself. Doing this will not modify any behavior and is safe. If you specifically wanted the numpy scalar type, use `np.float64` here.\n",
      "Deprecated in NumPy 1.20; for more details and guidance: https://numpy.org/devdocs/release/1.20.0-notes.html#deprecations\n",
      "  x = x.astype(np.float)\n",
      "/var/folders/4_/4812b_4j2_s0smfmxlqdpr600000gn/T/ipykernel_48945/3995914916.py:6: DeprecationWarning: `np.int` is a deprecated alias for the builtin `int`. To silence this warning, use `int` by itself. Doing this will not modify any behavior and is safe. When replacing `np.int`, you may wish to use e.g. `np.int64` or `np.int32` to specify the precision. If you wish to review your current use, check the release note link for additional information.\n",
      "Deprecated in NumPy 1.20; for more details and guidance: https://numpy.org/devdocs/release/1.20.0-notes.html#deprecations\n",
      "  y = y.astype(np.int)\n"
     ]
    }
   ],
   "source": [
    "x, x_test, y, y_test, scaler = load()"
   ]
  },
  {
   "cell_type": "code",
   "execution_count": 9,
   "id": "994f27a8-6b5b-40d2-8c10-6dfe9906bfd2",
   "metadata": {},
   "outputs": [],
   "source": [
    "x = x.reshape(-1, 784)\n",
    "x_test = x_test.reshape(-1, 784)\n",
    "\n",
    "scaler = sklearn.preprocessing.Normalizer().fit(x.reshape(-1, 784))\n",
    "x = torch.tensor(scaler.transform(x.reshape(-1, 784)))\n",
    "x_test = torch.tensor(scaler.transform(x_test.reshape(-1, 784)))"
   ]
  },
  {
   "cell_type": "code",
   "execution_count": 11,
   "id": "de817503-8566-49ed-8acd-433b43e4c02b",
   "metadata": {},
   "outputs": [
    {
     "name": "stdout",
     "output_type": "stream",
     "text": [
      "Training...\n",
      "0\n",
      "10\n"
     ]
    }
   ],
   "source": [
    "classes = y.unique().size(0)\n",
    "features = x.size(1)\n",
    "model = onlinehd.OnlineHD(classes, features, dim=10000)\n",
    "\n",
    "if torch.cuda.is_available():\n",
    "    x = x.cuda()\n",
    "    y = y.cuda()\n",
    "    x_test = x_test.cuda()\n",
    "    y_test = y_test.cuda()\n",
    "    model = model.to('cuda')\n",
    "    print('Using GPU!')\n",
    "\n",
    "print('Training...')\n",
    "t = time()\n",
    "model = model.fit(x, y, bootstrap=1.0, lr=0.035, epochs=20)\n",
    "t = time() - t"
   ]
  },
  {
   "cell_type": "code",
   "execution_count": 12,
   "id": "b0870c52-76fd-469a-8de2-4742700b00ef",
   "metadata": {},
   "outputs": [
    {
     "name": "stdout",
     "output_type": "stream",
     "text": [
      "Validating...\n",
      "acc = 0.945410\n",
      "acc_test = 0.935429\n",
      "t = 21.452532\n"
     ]
    }
   ],
   "source": [
    "print('Validating...')\n",
    "yhat = model(x)\n",
    "yhat_test = model(x_test)\n",
    "acc = (y == yhat).float().mean()\n",
    "acc_test = (y_test == yhat_test).float().mean()\n",
    "print(f'{acc = :6f}')\n",
    "print(f'{acc_test = :6f}')\n",
    "print(f'{t = :6f}')"
   ]
  },
  {
   "cell_type": "code",
   "execution_count": 37,
   "id": "036d4d93-c623-475b-a085-ac55dd23f028",
   "metadata": {},
   "outputs": [],
   "source": [
    "import pickle\n",
    "\n",
    "with open('dnn_adversarial_sample/MNIST_cnn_FGSM.pickle', 'rb') as f:\n",
    "    mnist_cnn_fgsm = pickle.load(f)\n",
    "    \n",
    "with open('dnn_adversarial_sample/MNIST_cnn_DF.pickle', 'rb') as f:\n",
    "    mnist_cnn_df = pickle.load(f)\n",
    "    \n",
    "with open('dnn_adversarial_sample/MNIST_cnn_JSMA.pickle', 'rb') as f:\n",
    "    mnist_cnn_jsma = pickle.load(f)"
   ]
  },
  {
   "cell_type": "code",
   "execution_count": 50,
   "id": "0f5491df-3da9-44f8-baf4-949b7df3d751",
   "metadata": {},
   "outputs": [],
   "source": [
    "mnist_cnn_fgsm_data = torch.from_numpy(scaler.transform(mnist_cnn_fgsm['data']['0.01'].reshape(-1, 784).detach().numpy())).float()\n",
    "mnist_cnn_fgsm_label = mnist_cnn_fgsm['label'].long()"
   ]
  },
  {
   "cell_type": "code",
   "execution_count": 51,
   "id": "174cf4b8-1321-4c15-acd0-d3660cb7739f",
   "metadata": {},
   "outputs": [],
   "source": [
    "mnist_cnn_df_data = torch.from_numpy(scaler.transform(mnist_cnn_df['data'])).float()\n",
    "mnist_cnn_df_label = mnist_cnn_df['label']"
   ]
  },
  {
   "cell_type": "code",
   "execution_count": 52,
   "id": "5ea1a512-292d-4d74-8790-228194a0a326",
   "metadata": {},
   "outputs": [],
   "source": [
    "mnist_cnn_jsma_data = torch.from_numpy(scaler.transform(mnist_cnn_jsma['data'].reshape(-1, 784))).float()\n",
    "mnist_cnn_jsma_label = torch.from_numpy(mnist_cnn_jsma['label']).long()"
   ]
  },
  {
   "cell_type": "code",
   "execution_count": 54,
   "id": "20505030-795b-47eb-8ae0-35ee70243be0",
   "metadata": {},
   "outputs": [
    {
     "name": "stdout",
     "output_type": "stream",
     "text": [
      "Validating...\n",
      "acc = 0.945410\n",
      "acc_test = 0.935429\n",
      "acc_fgsm = 0.932057\n",
      "acc_df = 0.911257\n",
      "acc_jsma = 0.898514\n",
      "t = 21.452532\n"
     ]
    }
   ],
   "source": [
    "print('Validating...')\n",
    "yhat = model(x)\n",
    "yhat_test = model(x_test)\n",
    "yhat_mnist_fgsm = model(mnist_cnn_fgsm_data)\n",
    "yhat_mnist_df = model(mnist_cnn_df_data)\n",
    "yhat_mnist_jsma = model(mnist_cnn_jsma_data)\n",
    "\n",
    "acc = (y == yhat).float().mean()\n",
    "acc_test = (y_test == yhat_test).float().mean()\n",
    "acc_fgsm = (y_test == yhat_mnist_fgsm).float().mean()\n",
    "acc_df = (y_test == yhat_mnist_df).float().mean()\n",
    "acc_jsma = (y_test == yhat_mnist_jsma).float().mean()\n",
    "\n",
    "\n",
    "print(f'{acc = :6f}')\n",
    "print(f'{acc_test = :6f}')\n",
    "print(f'{acc_fgsm = :6f}')\n",
    "print(f'{acc_df = :6f}')\n",
    "print(f'{acc_jsma = :6f}')\n",
    "print(f'{t = :6f}')"
   ]
  },
  {
   "cell_type": "code",
   "execution_count": null,
   "id": "75e519d5-ec5d-4c46-b31a-e303bfa37491",
   "metadata": {},
   "outputs": [],
   "source": []
  }
 ],
 "metadata": {
  "kernelspec": {
   "display_name": "UCI",
   "language": "python",
   "name": "uci"
  },
  "language_info": {
   "codemirror_mode": {
    "name": "ipython",
    "version": 3
   },
   "file_extension": ".py",
   "mimetype": "text/x-python",
   "name": "python",
   "nbconvert_exporter": "python",
   "pygments_lexer": "ipython3",
   "version": "3.8.5"
  }
 },
 "nbformat": 4,
 "nbformat_minor": 5
}
