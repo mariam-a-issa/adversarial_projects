{
 "cells": [
  {
   "cell_type": "code",
   "execution_count": 1,
   "id": "f5451645-a944-4129-9cd2-a005cc37f855",
   "metadata": {},
   "outputs": [
    {
     "data": {
      "text/plain": [
       "<torch._C.Generator at 0x7fe131646b70>"
      ]
     },
     "execution_count": 1,
     "metadata": {},
     "output_type": "execute_result"
    }
   ],
   "source": [
    "from time import time\n",
    "\n",
    "import pickle\n",
    "\n",
    "import torch\n",
    "import sklearn.datasets\n",
    "import sklearn.preprocessing\n",
    "import sklearn.model_selection\n",
    "import numpy as np\n",
    "import math\n",
    "import matplotlib.pyplot as plt\n",
    "\n",
    "from torchvision.datasets import MNIST\n",
    "from torchvision.datasets import FashionMNIST as FMNIST\n",
    "from torchvision.datasets import EMNIST\n",
    "import torchvision.transforms as transforms\n",
    "\n",
    "import onlinehd\n",
    "\n",
    "device = 'cuda' if torch.cuda.is_available() else 'cpu'\n",
    "np.random.seed(1234)\n",
    "torch.manual_seed(1234)"
   ]
  },
  {
   "cell_type": "markdown",
   "id": "727e0a60-654e-492b-a938-681daef7199c",
   "metadata": {},
   "source": [
    "# Prepare Neural Network"
   ]
  },
  {
   "cell_type": "code",
   "execution_count": 5,
   "id": "297098f9-9fbe-42a5-81f0-8c70fb61d1fc",
   "metadata": {},
   "outputs": [],
   "source": [
    "import pandas as pd\n",
    "import numpy as np\n",
    "import torch\n",
    "from torch import nn\n",
    "import torch.nn.functional as F\n",
    "from torch.utils.data import DataLoader, Dataset\n",
    "from torchvision.transforms import ToTensor, Lambda, Compose\n",
    "import matplotlib.pyplot as plt\n",
    "from sklearn.model_selection import train_test_split\n",
    "import pylab as pl\n",
    "from tensorflow.keras.datasets import fashion_mnist\n",
    "from IPython import display\n",
    "%matplotlib inline"
   ]
  },
  {
   "cell_type": "markdown",
   "id": "6696041c-df1c-480d-aee7-2cdfccb300d4",
   "metadata": {},
   "source": [
    "# Dataset"
   ]
  },
  {
   "cell_type": "code",
   "execution_count": 6,
   "id": "7d6ac09b-0e41-43fe-84d6-ce84438b3548",
   "metadata": {},
   "outputs": [],
   "source": [
    "from sklearn.model_selection import train_test_split\n",
    "import torch.nn.functional as F\n",
    "\n",
    "class CustomImageDataset(Dataset):\n",
    "    def __init__(self, df, data_type = 'train', model_type='ffnn'):\n",
    "        \"\"\"\n",
    "        :param df: data frame\n",
    "        :param rating_2014_file: 'train'/'test'\n",
    "        :param model_type: 'ffnn'/'cnn'\n",
    "        \"\"\"\n",
    "        if data_type == 'train':\n",
    "            self.X = df.drop('label', axis=1).values/255.\n",
    "            self.Y = df['label'].values\n",
    "        else:\n",
    "            self.X = df.values/255.\n",
    "            self.Y = None\n",
    "        self.X = torch.from_numpy(self.X.astype(np.float32)).reshape(len(df),28, 28)\n",
    "        self.data_type = data_type\n",
    "        self.model_type = model_type\n",
    "\n",
    "    def __len__(self):\n",
    "        return len(self.Y)\n",
    "\n",
    "    def __getitem__(self, idx):\n",
    "        image = self.X[idx]\n",
    "        if self.data_type == 'train':\n",
    "            label = self.Y[idx]\n",
    "        else:\n",
    "            label = None\n",
    "        \n",
    "        if self.model_type == 'ffnn':\n",
    "            return image, label\n",
    "        else:\n",
    "            # add additional dimension if we need dataset for cnn\n",
    "            return image.unsqueeze(0), label"
   ]
  },
  {
   "cell_type": "code",
   "execution_count": 7,
   "id": "853f2d2a-14b5-45af-b707-a80aebd73025",
   "metadata": {},
   "outputs": [],
   "source": [
    "(x, y), (x_test, y_test) = fashion_mnist.load_data()"
   ]
  },
  {
   "cell_type": "code",
   "execution_count": 8,
   "id": "99fe1941-5384-449b-8abd-eb273250f56d",
   "metadata": {
    "collapsed": true,
    "jupyter": {
     "outputs_hidden": true
    },
    "tags": []
   },
   "outputs": [
    {
     "name": "stderr",
     "output_type": "stream",
     "text": [
      "/var/folders/4_/4812b_4j2_s0smfmxlqdpr600000gn/T/ipykernel_94101/2583366556.py:1: DeprecationWarning: `np.float` is a deprecated alias for the builtin `float`. To silence this warning, use `float` by itself. Doing this will not modify any behavior and is safe. If you specifically wanted the numpy scalar type, use `np.float64` here.\n",
      "Deprecated in NumPy 1.20; for more details and guidance: https://numpy.org/devdocs/release/1.20.0-notes.html#deprecations\n",
      "  x = x.astype(np.float)\n",
      "/var/folders/4_/4812b_4j2_s0smfmxlqdpr600000gn/T/ipykernel_94101/2583366556.py:2: DeprecationWarning: `np.float` is a deprecated alias for the builtin `float`. To silence this warning, use `float` by itself. Doing this will not modify any behavior and is safe. If you specifically wanted the numpy scalar type, use `np.float64` here.\n",
      "Deprecated in NumPy 1.20; for more details and guidance: https://numpy.org/devdocs/release/1.20.0-notes.html#deprecations\n",
      "  x_test = x_test.astype(np.float)\n",
      "/var/folders/4_/4812b_4j2_s0smfmxlqdpr600000gn/T/ipykernel_94101/2583366556.py:3: DeprecationWarning: `np.long` is a deprecated alias for `np.compat.long`. To silence this warning, use `np.compat.long` by itself. In the likely event your code does not need to work on Python 2 you can use the builtin `int` for which `np.compat.long` is itself an alias. Doing this will not modify any behaviour and is safe. When replacing `np.long`, you may wish to use e.g. `np.int64` or `np.int32` to specify the precision. If you wish to review your current use, check the release note link for additional information.\n",
      "Deprecated in NumPy 1.20; for more details and guidance: https://numpy.org/devdocs/release/1.20.0-notes.html#deprecations\n",
      "  y = y.astype(np.long)\n",
      "/var/folders/4_/4812b_4j2_s0smfmxlqdpr600000gn/T/ipykernel_94101/2583366556.py:4: DeprecationWarning: `np.long` is a deprecated alias for `np.compat.long`. To silence this warning, use `np.compat.long` by itself. In the likely event your code does not need to work on Python 2 you can use the builtin `int` for which `np.compat.long` is itself an alias. Doing this will not modify any behaviour and is safe. When replacing `np.long`, you may wish to use e.g. `np.int64` or `np.int32` to specify the precision. If you wish to review your current use, check the release note link for additional information.\n",
      "Deprecated in NumPy 1.20; for more details and guidance: https://numpy.org/devdocs/release/1.20.0-notes.html#deprecations\n",
      "  y_test = y_test.astype(np.long)\n"
     ]
    }
   ],
   "source": [
    "x = x.astype(np.float)\n",
    "x_test = x_test.astype(np.float)\n",
    "y = y.astype(np.long)\n",
    "y_test = y_test.astype(np.long)\n",
    "\n",
    "x = x.reshape(-1, 784)\n",
    "x_test = x_test.reshape(-1, 784)\n",
    "\n",
    "df_train = pd.DataFrame(x)\n",
    "df_val = pd.DataFrame(x_test)\n",
    "\n",
    "df_train['label'] = y\n",
    "df_val['label'] = y_test"
   ]
  },
  {
   "cell_type": "markdown",
   "id": "264a2dfc-9d49-467f-b3a3-e1fb13818355",
   "metadata": {},
   "source": [
    "# Network"
   ]
  },
  {
   "cell_type": "code",
   "execution_count": 9,
   "id": "98139f97-3afa-427e-bd0c-b97efe6cf353",
   "metadata": {},
   "outputs": [],
   "source": [
    "class NeuralNetwork(nn.Module):\n",
    "    def __init__(self):\n",
    "        super(NeuralNetwork, self).__init__()\n",
    "        self.flatten = nn.Flatten()\n",
    "        self.linear_relu_stack = nn.Sequential(\n",
    "            nn.Linear(28*28, 512),\n",
    "            nn.ReLU(),\n",
    "            nn.Linear(512, 512),\n",
    "            nn.ReLU(),\n",
    "            nn.Linear(512, 10)\n",
    "        )\n",
    "\n",
    "    def forward(self, x):\n",
    "        x = self.flatten(x)\n",
    "        logits = self.linear_relu_stack(x)\n",
    "        return logits\n",
    "\n",
    "# convolutional nn\n",
    "class CNN(nn.Module):\n",
    "\n",
    "    def __init__(self):\n",
    "        super(CNN, self).__init__()\n",
    "        # input torch.Size([64, 1, 28, 28])\n",
    "        # torch.Size([batch_size, channels, img_width, img_height])\n",
    "        self.conv1 = nn.Conv2d(in_channels=1, out_channels=16, kernel_size=4)\n",
    "        # torch.Size([64, 16, 28-kernel_size+1, 28-kernel_size+1])\n",
    "        # torch.Size([64, 16, 25, 25])\n",
    "        self.relu1=nn.ReLU()\n",
    "        \n",
    "        self.conv2 = nn.Conv2d(in_channels=16, out_channels=8, kernel_size=2)\n",
    "        \n",
    "        # torch.Size([64, 8, 24, 24])\n",
    "        self.relu2=nn.ReLU()\n",
    "        self.max_pool2=nn.MaxPool2d(kernel_size=2)\n",
    "        \n",
    "        # torch.Size([64, 8, 12, 12])\n",
    "        self.fc1 = nn.Linear(8*12*12, 128)\n",
    "        self.fc2 = nn.Linear(128, 10)\n",
    "\n",
    "    def forward(self, x):\n",
    "        \n",
    "        out=self.conv1(x)\n",
    "        out=self.relu1(out)\n",
    "        \n",
    "        out=self.conv2(out)\n",
    "        out=self.relu2(out)\n",
    "        out=self.max_pool2(out)\n",
    "        \n",
    "        out = torch.flatten(out, 1)\n",
    "        out=self.fc1(out)\n",
    "        out=self.fc2(out)\n",
    "        return out"
   ]
  },
  {
   "cell_type": "code",
   "execution_count": 10,
   "id": "c0bd0aa9-f042-4bd5-bd98-49e93dc476d4",
   "metadata": {},
   "outputs": [],
   "source": [
    "class EarlyStopping():\n",
    "    \"\"\"\n",
    "    Early stopping to stop the training when the loss does not improve after\n",
    "    certain epochs.\n",
    "    \"\"\"\n",
    "    def __init__(self, patience=5, min_delta=0):\n",
    "        \"\"\"\n",
    "        :param patience: how many epochs to wait before stopping when loss is\n",
    "               not improving\n",
    "        :param min_delta: minimum difference between new loss and old loss for\n",
    "               new loss to be considered as an improvement\n",
    "        \"\"\"\n",
    "        self.patience = patience\n",
    "        self.min_delta = min_delta\n",
    "        self.counter = 0\n",
    "        self.best_loss = None\n",
    "        self.early_stop = False\n",
    "    def __call__(self, val_loss):\n",
    "        if self.best_loss == None:\n",
    "            self.best_loss = val_loss\n",
    "        elif self.best_loss - val_loss > self.min_delta:\n",
    "            self.best_loss = val_loss\n",
    "        elif self.best_loss - val_loss < self.min_delta:\n",
    "            self.counter += 1\n",
    "            print(f\"INFO: Early stopping counter {self.counter} of {self.patience}\")\n",
    "            if self.counter >= self.patience:\n",
    "                print('INFO: Early stopping')\n",
    "                self.early_stop = True\n",
    "\n",
    "def train(dataloader, model, loss_fn, optimizer):\n",
    "    size = len(dataloader.dataset)\n",
    "    model.train()\n",
    "    for batch, (X, y) in enumerate(dataloader):\n",
    "        X, y = X.to(device), y.to(device)\n",
    "        \n",
    "        # Compute prediction error\n",
    "        pred = model(X)\n",
    "        loss = loss_fn(pred, y)\n",
    "\n",
    "        # Backpropagation\n",
    "        optimizer.zero_grad()\n",
    "        loss.backward()\n",
    "        optimizer.step()\n",
    "\n",
    "        if batch % 100 == 0:\n",
    "            loss, current = loss.item(), batch * len(X)\n",
    "            print(f\"loss: {loss:>7f}  [{current:>5d}/{size:>5d}]\")\n",
    "            \n",
    "def test(dataloader, model, loss_fn, result_dict):\n",
    "    size = len(dataloader.dataset)\n",
    "    num_batches = len(dataloader)\n",
    "    model.eval()\n",
    "    test_loss, correct = 0, 0\n",
    "    with torch.no_grad():\n",
    "        for X, y in dataloader:\n",
    "            X, y = X.to(device), y.to(device)\n",
    "            pred = model(X)\n",
    "            test_loss += loss_fn(pred, y).item()\n",
    "            correct += (pred.argmax(1) == y).type(torch.float).sum().item()\n",
    "    test_loss /= num_batches\n",
    "    correct /= size\n",
    "    result_dict['avg_loss'].append(test_loss)\n",
    "    result_dict['acc'].append(correct)\n",
    "    #print(f\"Test Error: \\n Accuracy: {(100*correct):>0.1f}%, Avg loss: {test_loss:>8f} \\n\")\n",
    "    \n",
    "def plot_results(axs, res_dict):\n",
    "    \n",
    "    axs[0].plot(res_dict['epoch'][-10:], res_dict['acc'][-10:], c='r')\n",
    "    axs[0].set_title('Validation accuracy {:.4f}'.format(res_dict['acc'][-1]))\n",
    "    \n",
    "    axs[1].plot(res_dict['epoch'][-10:], res_dict['avg_loss'][-10:], c='r')\n",
    "    axs[1].set_title('Average validation loss {:.4f}'.format(res_dict['avg_loss'][-1]))\n",
    "    display.clear_output(wait=True)\n",
    "    display.display(plt.gcf())"
   ]
  },
  {
   "cell_type": "markdown",
   "id": "6ef27186-3dfc-4c68-82f0-6b92b6b9b929",
   "metadata": {},
   "source": [
    "# Convolutional neural network"
   ]
  },
  {
   "cell_type": "code",
   "execution_count": 11,
   "id": "ef54290b-1c16-42c9-89ce-5271a65158d8",
   "metadata": {},
   "outputs": [
    {
     "data": {
      "image/png": "[encoded data removed]",
      "text/plain": [
       "<Figure size 864x216 with 2 Axes>"
      ]
     },
     "metadata": {},
     "output_type": "display_data"
    },
    {
     "name": "stdout",
     "output_type": "stream",
     "text": [
      "Epoch 16\n",
      "-------------------------------\n",
      "loss: 0.366623  [    0/60000]\n",
      "loss: 0.195300  [12800/60000]\n",
      "loss: 0.365347  [25600/60000]\n",
      "loss: 0.245367  [38400/60000]\n",
      "loss: 0.314215  [51200/60000]\n",
      "INFO: Early stopping counter 5 of 5\n",
      "INFO: Early stopping\n"
     ]
    },
    {
     "data": {
      "image/png": "[encoded data removed]",
      "text/plain": [
       "<Figure size 864x216 with 2 Axes>"
      ]
     },
     "metadata": {
      "needs_background": "light"
     },
     "output_type": "display_data"
    }
   ],
   "source": [
    "BATCH_SIZE = 128\n",
    "EPOCHS = 30\n",
    "\n",
    "training_data = CustomImageDataset(df_train, model_type='cnn')\n",
    "val_data = CustomImageDataset(df_val, model_type='cnn')\n",
    "# create Dataloader for cnn\n",
    "train_dataloader = DataLoader(training_data, batch_size=BATCH_SIZE, shuffle=True)\n",
    "val_dataloader = DataLoader(val_data, batch_size=BATCH_SIZE, shuffle=True)\n",
    "\n",
    "model_cnn = CNN().to(device)\n",
    "print(model_cnn)\n",
    "\n",
    "loss_fn = nn.CrossEntropyLoss()\n",
    "optimizer = torch.optim.Adam(model_cnn.parameters(), lr=0.0005)\n",
    "early_stop_callback = EarlyStopping()\n",
    "\n",
    "fig, axs = plt.subplots(1,2, figsize=(12,3))\n",
    "plt.suptitle('Convolutional neural network')\n",
    "result = {'avg_loss':[], 'acc':[], 'epoch':[]}\n",
    "\n",
    "for t in range(EPOCHS):\n",
    "    print(f\"Epoch {t+1}\\n-------------------------------\")\n",
    "    train(train_dataloader, model_cnn, loss_fn, optimizer)\n",
    "    test(val_dataloader, model_cnn, loss_fn, result)\n",
    "    result['epoch'].append(t)\n",
    "    early_stop_callback(result['avg_loss'][-1])\n",
    "    if early_stop_callback.early_stop:\n",
    "        break\n",
    "    plot_results(axs, result)"
   ]
  },
  {
   "cell_type": "code",
   "execution_count": 12,
   "id": "d6b51f9f-416a-4013-8e71-16657d6a37ee",
   "metadata": {},
   "outputs": [
    {
     "data": {
      "text/plain": [
       "(0.3003505094896389, 0.8934)"
      ]
     },
     "execution_count": 12,
     "metadata": {},
     "output_type": "execute_result"
    }
   ],
   "source": [
    "model = model_cnn\n",
    "dataloader = val_dataloader\n",
    "\n",
    "size = len(dataloader.dataset)\n",
    "num_batches = len(dataloader)\n",
    "model.eval()\n",
    "test_loss, correct = 0, 0\n",
    "\n",
    "with torch.no_grad():\n",
    "    for X, y in dataloader:\n",
    "        X, y = X.to(device), y.to(device)\n",
    "        pred = model(X)\n",
    "        test_loss += loss_fn(pred, y).item()\n",
    "        correct += (pred.argmax(1) == y).type(torch.float).sum().item()\n",
    "\n",
    "test_loss /= num_batches\n",
    "correct /= size\n",
    "\n",
    "test_loss, correct"
   ]
  },
  {
   "cell_type": "code",
   "execution_count": 13,
   "id": "5c85b6ad-0709-4224-a185-94eb0d5a2516",
   "metadata": {},
   "outputs": [],
   "source": [
    "import pickle\n",
    "\n",
    "with open('hd_adversarial_sample/FMNIST_hd_FGSM.pickle', 'rb') as f:\n",
    "    mnist_cnn_fgsm = pickle.load(f)\n",
    "    \n",
    "with open('hd_adversarial_sample/FMNIST_hd_DF.pickle', 'rb') as f:\n",
    "    mnist_cnn_df = pickle.load(f)\n",
    "    \n",
    "with open('hd_adversarial_sample/FMNIST_hd_JSMA.pickle', 'rb') as f:\n",
    "    mnist_cnn_jsma = pickle.load(f)"
   ]
  },
  {
   "cell_type": "code",
   "execution_count": 14,
   "id": "0cf6ca06-8408-46d6-ba92-cd581a9adf77",
   "metadata": {},
   "outputs": [],
   "source": [
    "mnist_cnn_fgsm_data = torch.from_numpy(mnist_cnn_fgsm['data']['0.01'].reshape(-1, 784).detach().numpy()).float()\n",
    "mnist_cnn_fgsm_label = mnist_cnn_fgsm['label'].long()"
   ]
  },
  {
   "cell_type": "code",
   "execution_count": 17,
   "id": "f14f21e5-2281-4901-8ba5-c0a8938e28de",
   "metadata": {},
   "outputs": [],
   "source": [
    "mnist_cnn_df_data = torch.from_numpy(mnist_cnn_df['data']).float()\n",
    "mnist_cnn_df_label = mnist_cnn_df['label']"
   ]
  },
  {
   "cell_type": "code",
   "execution_count": 18,
   "id": "a2af395d-5dcc-454f-8e45-b08c8c88ff54",
   "metadata": {},
   "outputs": [],
   "source": [
    "mnist_cnn_jsma_data = mnist_cnn_jsma['data'].reshape(-1, 784).float()\n",
    "mnist_cnn_jsma_label = mnist_cnn_jsma['label']"
   ]
  },
  {
   "cell_type": "code",
   "execution_count": 19,
   "id": "2630f401-583c-4f5f-b038-998a70dc64d3",
   "metadata": {},
   "outputs": [],
   "source": [
    "for i in range(len(mnist_cnn_fgsm_data)):\n",
    "    max_ = mnist_cnn_fgsm_data[i].max()\n",
    "    min_ = mnist_cnn_fgsm_data[i].min()\n",
    "    \n",
    "    mnist_cnn_fgsm_data[i] = (mnist_cnn_fgsm_data[i] - min_) / (max_ - min_)\n",
    "\n",
    "for i in range(len(mnist_cnn_df_data)):\n",
    "    max_ = mnist_cnn_df_data[i].max()\n",
    "    min_ = mnist_cnn_df_data[i].min()\n",
    "    \n",
    "    mnist_cnn_df_data[i] = (mnist_cnn_df_data[i] - min_) / (max_ - min_)\n",
    "    \n",
    "for i in range(len(mnist_cnn_jsma_data)):\n",
    "    max_ = mnist_cnn_jsma_data[i].max()\n",
    "    min_ = mnist_cnn_jsma_data[i].min()\n",
    "    \n",
    "    mnist_cnn_jsma_data[i] = (mnist_cnn_jsma_data[i] - min_) / (max_ - min_)"
   ]
  },
  {
   "cell_type": "code",
   "execution_count": 39,
   "id": "19d114af-fd9d-4a78-ba49-fdc912c6ba5c",
   "metadata": {},
   "outputs": [
    {
     "data": {
      "image/png": "[encoded data removed]",
      "text/plain": [
       "<Figure size 432x288 with 2 Axes>"
      ]
     },
     "metadata": {
      "needs_background": "light"
     },
     "output_type": "display_data"
    }
   ],
   "source": [
    "plt.imshow(mnist_cnn_fgsm_data[-1].reshape(28, 28), cmap='gray')\n",
    "plt.colorbar()\n",
    "plt.show()"
   ]
  },
  {
   "cell_type": "code",
   "execution_count": 20,
   "id": "ad4451cc-afa9-4b71-90c7-055f33e930a4",
   "metadata": {},
   "outputs": [
    {
     "name": "stdout",
     "output_type": "stream",
     "text": [
      "Validating...\n",
      "acc_fgsm = 0.470000\n",
      "acc_df = 0.799000\n",
      "acc_jsma = 0.837900\n",
      "t = 15.000000\n"
     ]
    }
   ],
   "source": [
    "print('Validating...')\n",
    "\n",
    "yhat_mnist_fgsm = model(mnist_cnn_fgsm_data.reshape(-1, 1, 28, 28)).argmax(1)\n",
    "yhat_mnist_df = model(mnist_cnn_df_data.reshape(-1, 1, 28, 28)).argmax(1)\n",
    "yhat_mnist_jsma = model(mnist_cnn_jsma_data.reshape(-1, 1, 28, 28)).argmax(1)\n",
    "\n",
    "acc_fgsm = (mnist_cnn_fgsm_label == \n",
    "            yhat_mnist_fgsm).float().mean()\n",
    "acc_df = (mnist_cnn_df_label == yhat_mnist_df).float().mean()\n",
    "acc_jsma = (mnist_cnn_jsma_label == yhat_mnist_jsma).float().mean()\n",
    "\n",
    "\n",
    "print(f'{acc_fgsm = :6f}')\n",
    "print(f'{acc_df = :6f}')\n",
    "print(f'{acc_jsma = :6f}')\n",
    "print(f'{t = :6f}')"
   ]
  },
  {
   "cell_type": "code",
   "execution_count": null,
   "id": "4dd4f2bc-834d-41af-af0a-ffde38e5b733",
   "metadata": {},
   "outputs": [],
   "source": []
  },
  {
   "cell_type": "code",
   "execution_count": null,
   "id": "b665ee9b-c9ff-4780-9ca9-e4f7ba2ac78f",
   "metadata": {},
   "outputs": [],
   "source": []
  }
 ],
 "metadata": {
  "kernelspec": {
   "display_name": "UCI",
   "language": "python",
   "name": "uci"
  },
  "language_info": {
   "codemirror_mode": {
    "name": "ipython",
    "version": 3
   },
   "file_extension": ".py",
   "mimetype": "text/x-python",
   "name": "python",
   "nbconvert_exporter": "python",
   "pygments_lexer": "ipython3",
   "version": "3.8.5"
  }
 },
 "nbformat": 4,
 "nbformat_minor": 5
}
