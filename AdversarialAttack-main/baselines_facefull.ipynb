{
 "cells": [
  {
   "cell_type": "code",
   "execution_count": 1,
   "metadata": {},
   "outputs": [],
   "source": [
    "# import attack_kernelbased\n",
    "import attack_fgsm_dnn\n",
    "import attack_df_dnn\n",
    "# import attack_jsma\n",
    "import attack_gen_dnn\n",
    "import dataloader\n",
    "import spatial\n",
    "\n",
    "import torch\n",
    "import torch.nn as nn\n",
    "import torch.nn.functional as F\n",
    "from torch.utils.data import DataLoader, Dataset\n",
    "import numpy as np\n",
    "import time\n",
    "import onlinehd\n",
    "import DNNmodels\n",
    "import pickle\n",
    "from sklearn.model_selection import train_test_split\n",
    "import matplotlib.pyplot as plt\n",
    "import tqdm"
   ]
  },
  {
   "cell_type": "code",
   "execution_count": 2,
   "metadata": {},
   "outputs": [],
   "source": [
    "device = 'cpu'"
   ]
  },
  {
   "cell_type": "code",
   "execution_count": 3,
   "metadata": {},
   "outputs": [
    {
     "data": {
      "text/plain": [
       "(torch.Size([522441, 608]),\n",
       " torch.Size([2494, 608]),\n",
       " torch.Size([522441]),\n",
       " torch.Size([2494]))"
      ]
     },
     "execution_count": 3,
     "metadata": {},
     "output_type": "execute_result"
    }
   ],
   "source": [
    "X_train, X_test, y_train, y_test = dataloader.load(dataset_name='face_full')\n",
    "\n",
    "classes = y_train.unique().size(0)\n",
    "features = X_train.size(1)\n",
    "\n",
    "X_train.shape, X_test.shape, y_train.shape, y_test.shape"
   ]
  },
  {
   "cell_type": "code",
   "execution_count": 4,
   "metadata": {},
   "outputs": [],
   "source": [
    "X_test = X_test[:1000]\n",
    "y_test = y_test[:1000]"
   ]
  },
  {
   "attachments": {},
   "cell_type": "markdown",
   "metadata": {},
   "source": [
    "## DNN"
   ]
  },
  {
   "cell_type": "code",
   "execution_count": 5,
   "metadata": {},
   "outputs": [
    {
     "name": "stdout",
     "output_type": "stream",
     "text": [
      "NeuralNetwork(\n",
      "  (linear_relu_stack): Sequential(\n",
      "    (0): Linear(in_features=608, out_features=512, bias=True)\n",
      "    (1): ReLU()\n",
      "    (2): Linear(in_features=512, out_features=512, bias=True)\n",
      "    (3): ReLU()\n",
      "    (4): Linear(in_features=512, out_features=2, bias=True)\n",
      "  )\n",
      ")\n",
      "Epoch 1\n",
      "-------------------------------\n",
      "loss: 0.720753  [    0/522441]\n",
      "loss: 0.009907  [ 6400/522441]\n",
      "loss: 0.012781  [12800/522441]\n",
      "loss: 0.040487  [19200/522441]\n",
      "loss: 0.069678  [25600/522441]\n",
      "loss: 0.010902  [32000/522441]\n",
      "loss: 0.000374  [38400/522441]\n",
      "loss: 0.000330  [44800/522441]\n",
      "loss: 0.044305  [51200/522441]\n",
      "loss: 0.000077  [57600/522441]\n",
      "loss: 0.000064  [64000/522441]\n",
      "loss: 0.005542  [70400/522441]\n",
      "loss: 0.001299  [76800/522441]\n",
      "loss: 0.070262  [83200/522441]\n",
      "loss: 0.000675  [89600/522441]\n",
      "loss: 0.002949  [96000/522441]\n",
      "loss: 0.000396  [102400/522441]\n",
      "loss: 0.033271  [108800/522441]\n",
      "loss: 0.005543  [115200/522441]\n",
      "loss: 0.011297  [121600/522441]\n",
      "loss: 0.001477  [128000/522441]\n",
      "loss: 0.002731  [134400/522441]\n",
      "loss: 0.001979  [140800/522441]\n",
      "loss: 0.000743  [147200/522441]\n",
      "loss: 0.000358  [153600/522441]\n",
      "loss: 0.000639  [160000/522441]\n",
      "loss: 0.003407  [166400/522441]\n",
      "loss: 0.001599  [172800/522441]\n",
      "loss: 0.050159  [179200/522441]\n",
      "loss: 0.000034  [185600/522441]\n",
      "loss: 0.041750  [192000/522441]\n",
      "loss: 0.001261  [198400/522441]\n",
      "loss: 0.007317  [204800/522441]\n",
      "loss: 0.001159  [211200/522441]\n",
      "loss: 0.000117  [217600/522441]\n",
      "loss: 0.000028  [224000/522441]\n",
      "loss: 0.000365  [230400/522441]\n",
      "loss: 0.000236  [236800/522441]\n",
      "loss: 0.000490  [243200/522441]\n",
      "loss: 0.000428  [249600/522441]\n",
      "loss: 0.000410  [256000/522441]\n",
      "loss: 0.000316  [262400/522441]\n",
      "loss: 0.001103  [268800/522441]\n",
      "loss: 0.026887  [275200/522441]\n",
      "loss: 0.000236  [281600/522441]\n",
      "loss: 0.000178  [288000/522441]\n",
      "loss: 0.001072  [294400/522441]\n",
      "loss: 0.000139  [300800/522441]\n",
      "loss: 0.004159  [307200/522441]\n",
      "loss: 0.000057  [313600/522441]\n",
      "loss: 0.014097  [320000/522441]\n",
      "loss: 0.000318  [326400/522441]\n",
      "loss: 0.006059  [332800/522441]\n",
      "loss: 0.000071  [339200/522441]\n",
      "loss: 0.000044  [345600/522441]\n",
      "loss: 0.000922  [352000/522441]\n",
      "loss: 0.000102  [358400/522441]\n",
      "loss: 0.000064  [364800/522441]\n",
      "loss: 0.000193  [371200/522441]\n",
      "loss: 0.000160  [377600/522441]\n",
      "loss: 0.000056  [384000/522441]\n",
      "loss: 0.035494  [390400/522441]\n",
      "loss: 0.000071  [396800/522441]\n",
      "loss: 0.000868  [403200/522441]\n",
      "loss: 0.004220  [409600/522441]\n",
      "loss: 0.023079  [416000/522441]\n",
      "loss: 0.000070  [422400/522441]\n",
      "loss: 0.001354  [428800/522441]\n",
      "loss: 0.022366  [435200/522441]\n",
      "loss: 0.000033  [441600/522441]\n",
      "loss: 0.000134  [448000/522441]\n",
      "loss: 0.000704  [454400/522441]\n",
      "loss: 0.000303  [460800/522441]\n",
      "loss: 0.000185  [467200/522441]\n",
      "loss: 0.000001  [473600/522441]\n",
      "loss: 0.000930  [480000/522441]\n",
      "loss: 0.000554  [486400/522441]\n",
      "loss: 0.000064  [492800/522441]\n",
      "loss: 0.000150  [499200/522441]\n",
      "loss: 0.001367  [505600/522441]\n",
      "loss: 0.001508  [512000/522441]\n",
      "loss: 0.000422  [518400/522441]\n",
      "Epoch 2\n",
      "-------------------------------\n",
      "loss: 0.000637  [    0/522441]\n",
      "loss: 0.009644  [ 6400/522441]\n",
      "loss: 0.000453  [12800/522441]\n",
      "loss: 0.000076  [19200/522441]\n",
      "loss: 0.000723  [25600/522441]\n",
      "loss: 0.000333  [32000/522441]\n",
      "loss: 0.000445  [38400/522441]\n",
      "loss: 0.010841  [44800/522441]\n",
      "loss: 0.000156  [51200/522441]\n",
      "loss: 0.000115  [57600/522441]\n",
      "loss: 0.000025  [64000/522441]\n",
      "loss: 0.000905  [70400/522441]\n",
      "loss: 0.000264  [76800/522441]\n",
      "loss: 0.000890  [83200/522441]\n",
      "loss: 0.000775  [89600/522441]\n",
      "loss: 0.000332  [96000/522441]\n",
      "loss: 0.000107  [102400/522441]\n",
      "loss: 0.000343  [108800/522441]\n",
      "loss: 0.000077  [115200/522441]\n",
      "loss: 0.000573  [121600/522441]\n",
      "loss: 0.009132  [128000/522441]\n",
      "loss: 0.004778  [134400/522441]\n",
      "loss: 0.000054  [140800/522441]\n",
      "loss: 0.001588  [147200/522441]\n",
      "loss: 0.000190  [153600/522441]\n",
      "loss: 0.024477  [160000/522441]\n",
      "loss: 0.000314  [166400/522441]\n",
      "loss: 0.000945  [172800/522441]\n",
      "loss: 0.000023  [179200/522441]\n",
      "loss: 0.000011  [185600/522441]\n",
      "loss: 0.000338  [192000/522441]\n",
      "loss: 0.000614  [198400/522441]\n",
      "loss: 0.002162  [204800/522441]\n",
      "loss: 0.001718  [211200/522441]\n",
      "loss: 0.048670  [217600/522441]\n",
      "loss: 0.000070  [224000/522441]\n",
      "loss: 0.000066  [230400/522441]\n",
      "loss: 0.000593  [236800/522441]\n",
      "loss: 0.001520  [243200/522441]\n",
      "loss: 0.000853  [249600/522441]\n",
      "loss: 0.000166  [256000/522441]\n",
      "loss: 0.000122  [262400/522441]\n",
      "loss: 0.000372  [268800/522441]\n",
      "loss: 0.000012  [275200/522441]\n",
      "loss: 0.000210  [281600/522441]\n",
      "loss: 0.002542  [288000/522441]\n",
      "loss: 0.000019  [294400/522441]\n",
      "loss: 0.000273  [300800/522441]\n",
      "loss: 0.001171  [307200/522441]\n",
      "loss: 0.000214  [313600/522441]\n",
      "loss: 0.005549  [320000/522441]\n",
      "loss: 0.000446  [326400/522441]\n",
      "loss: 0.001020  [332800/522441]\n",
      "loss: 0.000808  [339200/522441]\n",
      "loss: 0.002292  [345600/522441]\n",
      "loss: 0.063069  [352000/522441]\n",
      "loss: 0.001613  [358400/522441]\n",
      "loss: 0.000807  [364800/522441]\n",
      "loss: 0.023547  [371200/522441]\n",
      "loss: 0.028294  [377600/522441]\n",
      "loss: 0.001014  [384000/522441]\n",
      "loss: 0.000047  [390400/522441]\n",
      "loss: 0.000164  [396800/522441]\n",
      "loss: 0.115096  [403200/522441]\n",
      "loss: 0.001502  [409600/522441]\n",
      "loss: 0.000567  [416000/522441]\n",
      "loss: 0.000297  [422400/522441]\n",
      "loss: 0.000213  [428800/522441]\n",
      "loss: 0.000684  [435200/522441]\n",
      "loss: 0.000615  [441600/522441]\n",
      "loss: 0.002873  [448000/522441]\n",
      "loss: 0.000147  [454400/522441]\n",
      "loss: 0.003917  [460800/522441]\n",
      "loss: 0.000348  [467200/522441]\n",
      "loss: 0.017070  [473600/522441]\n",
      "loss: 0.000180  [480000/522441]\n",
      "loss: 0.000154  [486400/522441]\n",
      "loss: 0.001242  [492800/522441]\n",
      "loss: 0.000011  [499200/522441]\n",
      "loss: 0.003383  [505600/522441]\n",
      "loss: 0.000306  [512000/522441]\n",
      "loss: 0.000073  [518400/522441]\n",
      "Epoch 3\n",
      "-------------------------------\n",
      "loss: 0.002732  [    0/522441]\n",
      "loss: 0.000652  [ 6400/522441]\n",
      "loss: 0.000015  [12800/522441]\n",
      "loss: 0.000173  [19200/522441]\n",
      "loss: 0.000027  [25600/522441]\n",
      "loss: 0.000000  [32000/522441]\n",
      "loss: 0.000044  [38400/522441]\n",
      "loss: 0.000012  [44800/522441]\n",
      "loss: 0.000015  [51200/522441]\n",
      "loss: 0.000789  [57600/522441]\n",
      "loss: 0.000010  [64000/522441]\n",
      "loss: 0.000188  [70400/522441]\n",
      "loss: 0.000385  [76800/522441]\n",
      "loss: 0.002305  [83200/522441]\n",
      "loss: 0.000239  [89600/522441]\n",
      "loss: 0.000138  [96000/522441]\n",
      "loss: 0.000068  [102400/522441]\n",
      "loss: 0.000030  [108800/522441]\n",
      "loss: 0.000263  [115200/522441]\n",
      "loss: 0.000044  [121600/522441]\n",
      "loss: 0.000423  [128000/522441]\n",
      "loss: 0.000059  [134400/522441]\n",
      "loss: 0.042669  [140800/522441]\n",
      "loss: 0.000102  [147200/522441]\n",
      "loss: 0.000365  [153600/522441]\n",
      "loss: 0.000159  [160000/522441]\n",
      "loss: 0.000051  [166400/522441]\n",
      "loss: 0.000018  [172800/522441]\n",
      "loss: 0.005044  [179200/522441]\n",
      "loss: 0.000001  [185600/522441]\n",
      "loss: 0.000353  [192000/522441]\n",
      "loss: 0.000531  [198400/522441]\n",
      "loss: 0.000002  [204800/522441]\n",
      "loss: 0.000782  [211200/522441]\n",
      "loss: 0.000395  [217600/522441]\n",
      "loss: 0.000039  [224000/522441]\n",
      "loss: 0.000015  [230400/522441]\n",
      "loss: 0.000327  [236800/522441]\n",
      "loss: 0.000024  [243200/522441]\n",
      "loss: 0.000028  [249600/522441]\n",
      "loss: 0.000982  [256000/522441]\n",
      "loss: 0.000469  [262400/522441]\n",
      "loss: 0.000016  [268800/522441]\n",
      "loss: 0.007325  [275200/522441]\n",
      "loss: 0.000000  [281600/522441]\n",
      "loss: 0.024522  [288000/522441]\n",
      "loss: 0.008256  [294400/522441]\n",
      "loss: 0.000009  [300800/522441]\n",
      "loss: 0.050047  [307200/522441]\n",
      "loss: 0.000596  [313600/522441]\n",
      "loss: 0.000009  [320000/522441]\n",
      "loss: 0.000277  [326400/522441]\n",
      "loss: 0.002074  [332800/522441]\n",
      "loss: 0.000269  [339200/522441]\n",
      "loss: 0.000364  [345600/522441]\n",
      "loss: 0.000023  [352000/522441]\n",
      "loss: 0.000374  [358400/522441]\n",
      "loss: 0.002654  [364800/522441]\n",
      "loss: 0.000027  [371200/522441]\n",
      "loss: 0.002068  [377600/522441]\n",
      "loss: 0.000017  [384000/522441]\n",
      "loss: 0.000102  [390400/522441]\n",
      "loss: 0.001463  [396800/522441]\n",
      "loss: 0.008487  [403200/522441]\n",
      "loss: 0.000269  [409600/522441]\n",
      "loss: 0.002043  [416000/522441]\n",
      "loss: 0.000074  [422400/522441]\n",
      "loss: 0.022365  [428800/522441]\n",
      "loss: 0.000758  [435200/522441]\n",
      "loss: 0.001069  [441600/522441]\n",
      "loss: 0.001661  [448000/522441]\n",
      "loss: 0.000004  [454400/522441]\n",
      "loss: 0.000438  [460800/522441]\n",
      "loss: 0.000459  [467200/522441]\n",
      "loss: 0.012506  [473600/522441]\n",
      "loss: 0.009543  [480000/522441]\n",
      "loss: 0.002172  [486400/522441]\n",
      "loss: 0.000000  [492800/522441]\n",
      "loss: 0.005286  [499200/522441]\n",
      "loss: 0.000432  [505600/522441]\n",
      "loss: 0.003446  [512000/522441]\n",
      "loss: 0.003241  [518400/522441]\n",
      "INFO: Early stopping counter 1 of 5\n",
      "Epoch 4\n",
      "-------------------------------\n",
      "loss: 0.005758  [    0/522441]\n",
      "loss: 0.000029  [ 6400/522441]\n",
      "loss: 0.000318  [12800/522441]\n",
      "loss: 0.001226  [19200/522441]\n",
      "loss: 0.000640  [25600/522441]\n",
      "loss: 0.002167  [32000/522441]\n",
      "loss: 0.000057  [38400/522441]\n",
      "loss: 0.000028  [44800/522441]\n",
      "loss: 0.000045  [51200/522441]\n",
      "loss: 0.000027  [57600/522441]\n",
      "loss: 0.000073  [64000/522441]\n",
      "loss: 0.000080  [70400/522441]\n",
      "loss: 0.000001  [76800/522441]\n",
      "loss: 0.000005  [83200/522441]\n",
      "loss: 0.079887  [89600/522441]\n",
      "loss: 0.007938  [96000/522441]\n",
      "loss: 0.001457  [102400/522441]\n",
      "loss: 0.000128  [108800/522441]\n",
      "loss: 0.000021  [115200/522441]\n",
      "loss: 0.000077  [121600/522441]\n",
      "loss: 0.000056  [128000/522441]\n",
      "loss: 0.000007  [134400/522441]\n",
      "loss: 0.000258  [140800/522441]\n",
      "loss: 0.000163  [147200/522441]\n",
      "loss: 0.000028  [153600/522441]\n",
      "loss: 0.000010  [160000/522441]\n",
      "loss: 0.000427  [166400/522441]\n",
      "loss: 0.001511  [172800/522441]\n",
      "loss: 0.000028  [179200/522441]\n",
      "loss: 0.000011  [185600/522441]\n",
      "loss: 0.000922  [192000/522441]\n",
      "loss: 0.016000  [198400/522441]\n",
      "loss: 0.000015  [204800/522441]\n",
      "loss: 0.000014  [211200/522441]\n",
      "loss: 0.000250  [217600/522441]\n",
      "loss: 0.047007  [224000/522441]\n",
      "loss: 0.004703  [230400/522441]\n",
      "loss: 0.003000  [236800/522441]\n",
      "loss: 0.000063  [243200/522441]\n",
      "loss: 0.004303  [249600/522441]\n",
      "loss: 0.000569  [256000/522441]\n",
      "loss: 0.001678  [262400/522441]\n",
      "loss: 0.001712  [268800/522441]\n",
      "loss: 0.005283  [275200/522441]\n",
      "loss: 0.000491  [281600/522441]\n",
      "loss: 0.000175  [288000/522441]\n",
      "loss: 0.095886  [294400/522441]\n",
      "loss: 0.059308  [300800/522441]\n",
      "loss: 0.001031  [307200/522441]\n",
      "loss: 0.002380  [313600/522441]\n",
      "loss: 0.000699  [320000/522441]\n",
      "loss: 0.000007  [326400/522441]\n",
      "loss: 0.000283  [332800/522441]\n",
      "loss: 0.000050  [339200/522441]\n",
      "loss: 0.000277  [345600/522441]\n",
      "loss: 0.000051  [352000/522441]\n",
      "loss: 0.000056  [358400/522441]\n",
      "loss: 0.001045  [364800/522441]\n",
      "loss: 0.008809  [371200/522441]\n",
      "loss: 0.002803  [377600/522441]\n",
      "loss: 0.000021  [384000/522441]\n",
      "loss: 0.003374  [390400/522441]\n",
      "loss: 0.004340  [396800/522441]\n",
      "loss: 0.000016  [403200/522441]\n",
      "loss: 0.003397  [409600/522441]\n",
      "loss: 0.000007  [416000/522441]\n",
      "loss: 0.000103  [422400/522441]\n",
      "loss: 0.000001  [428800/522441]\n",
      "loss: 0.000333  [435200/522441]\n",
      "loss: 0.000947  [441600/522441]\n",
      "loss: 0.001602  [448000/522441]\n",
      "loss: 0.002576  [454400/522441]\n",
      "loss: 0.002007  [460800/522441]\n",
      "loss: 0.000031  [467200/522441]\n",
      "loss: 0.003618  [473600/522441]\n",
      "loss: 0.000114  [480000/522441]\n",
      "loss: 0.001803  [486400/522441]\n",
      "loss: 0.000072  [492800/522441]\n",
      "loss: 0.000069  [499200/522441]\n",
      "loss: 0.000034  [505600/522441]\n",
      "loss: 0.000194  [512000/522441]\n",
      "loss: 0.000004  [518400/522441]\n",
      "INFO: Early stopping counter 2 of 5\n",
      "Epoch 5\n",
      "-------------------------------\n",
      "loss: 0.000063  [    0/522441]\n",
      "loss: 0.000003  [ 6400/522441]\n",
      "loss: 0.000048  [12800/522441]\n",
      "loss: 0.000655  [19200/522441]\n",
      "loss: 0.000002  [25600/522441]\n",
      "loss: 0.000012  [32000/522441]\n",
      "loss: 0.005881  [38400/522441]\n",
      "loss: 0.002689  [44800/522441]\n",
      "loss: 0.000068  [51200/522441]\n",
      "loss: 0.000346  [57600/522441]\n",
      "loss: 0.000126  [64000/522441]\n",
      "loss: 0.000051  [70400/522441]\n",
      "loss: 0.011680  [76800/522441]\n",
      "loss: 0.000706  [83200/522441]\n",
      "loss: 0.000003  [89600/522441]\n",
      "loss: 0.000003  [96000/522441]\n",
      "loss: 0.000135  [102400/522441]\n",
      "loss: 0.000017  [108800/522441]\n",
      "loss: 0.000017  [115200/522441]\n",
      "loss: 0.000382  [121600/522441]\n",
      "loss: 0.000277  [128000/522441]\n",
      "loss: 0.000210  [134400/522441]\n",
      "loss: 0.020508  [140800/522441]\n",
      "loss: 0.000026  [147200/522441]\n",
      "loss: 0.003888  [153600/522441]\n",
      "loss: 0.000095  [160000/522441]\n",
      "loss: 0.000409  [166400/522441]\n",
      "loss: 0.000001  [172800/522441]\n",
      "loss: 0.000087  [179200/522441]\n",
      "loss: 0.000007  [185600/522441]\n",
      "loss: 0.000280  [192000/522441]\n",
      "loss: 0.001230  [198400/522441]\n",
      "loss: 0.000022  [204800/522441]\n",
      "loss: 0.000004  [211200/522441]\n",
      "loss: 0.000032  [217600/522441]\n",
      "loss: 0.000823  [224000/522441]\n",
      "loss: 0.000028  [230400/522441]\n",
      "loss: 0.000073  [236800/522441]\n",
      "loss: 0.000001  [243200/522441]\n",
      "loss: 0.000006  [249600/522441]\n",
      "loss: 0.000011  [256000/522441]\n",
      "loss: 0.000008  [262400/522441]\n",
      "loss: 0.007454  [268800/522441]\n",
      "loss: 0.000079  [275200/522441]\n",
      "loss: 0.000812  [281600/522441]\n",
      "loss: 0.000415  [288000/522441]\n",
      "loss: 0.000043  [294400/522441]\n",
      "loss: 0.000089  [300800/522441]\n",
      "loss: 0.000146  [307200/522441]\n",
      "loss: 0.075632  [313600/522441]\n",
      "loss: 0.014754  [320000/522441]\n",
      "loss: 0.000597  [326400/522441]\n",
      "loss: 0.000002  [332800/522441]\n",
      "loss: 0.001109  [339200/522441]\n",
      "loss: 0.002489  [345600/522441]\n",
      "loss: 0.000290  [352000/522441]\n",
      "loss: 0.000009  [358400/522441]\n",
      "loss: 0.000007  [364800/522441]\n",
      "loss: 0.000289  [371200/522441]\n",
      "loss: 0.000030  [377600/522441]\n",
      "loss: 0.000174  [384000/522441]\n",
      "loss: 0.000007  [390400/522441]\n",
      "loss: 0.000048  [396800/522441]\n",
      "loss: 0.000000  [403200/522441]\n",
      "loss: 0.000016  [409600/522441]\n",
      "loss: 0.007334  [416000/522441]\n",
      "loss: 0.000011  [422400/522441]\n",
      "loss: 0.014651  [428800/522441]\n",
      "loss: 0.000004  [435200/522441]\n",
      "loss: 0.000005  [441600/522441]\n",
      "loss: 0.000060  [448000/522441]\n",
      "loss: 0.000097  [454400/522441]\n",
      "loss: 0.000000  [460800/522441]\n",
      "loss: 0.002430  [467200/522441]\n",
      "loss: 0.000033  [473600/522441]\n",
      "loss: 0.000002  [480000/522441]\n",
      "loss: 0.000232  [486400/522441]\n",
      "loss: 0.000002  [492800/522441]\n",
      "loss: 0.000017  [499200/522441]\n",
      "loss: 0.000057  [505600/522441]\n",
      "loss: 0.002515  [512000/522441]\n",
      "loss: 0.000040  [518400/522441]\n",
      "INFO: Early stopping counter 3 of 5\n",
      "Epoch 6\n",
      "-------------------------------\n",
      "loss: 0.000001  [    0/522441]\n",
      "loss: 0.002200  [ 6400/522441]\n",
      "loss: 0.001303  [12800/522441]\n",
      "loss: 0.045431  [19200/522441]\n",
      "loss: 0.000012  [25600/522441]\n",
      "loss: 0.000003  [32000/522441]\n",
      "loss: 0.000062  [38400/522441]\n",
      "loss: 0.000586  [44800/522441]\n",
      "loss: 0.000133  [51200/522441]\n",
      "loss: 0.000018  [57600/522441]\n",
      "loss: 0.000015  [64000/522441]\n",
      "loss: 0.000002  [70400/522441]\n",
      "loss: 0.000109  [76800/522441]\n",
      "loss: 0.000058  [83200/522441]\n",
      "loss: 0.000572  [89600/522441]\n",
      "loss: 0.004359  [96000/522441]\n",
      "loss: 0.000006  [102400/522441]\n",
      "loss: 0.011605  [108800/522441]\n",
      "loss: 0.000310  [115200/522441]\n",
      "loss: 0.000584  [121600/522441]\n",
      "loss: 0.000237  [128000/522441]\n",
      "loss: 0.000120  [134400/522441]\n",
      "loss: 0.028393  [140800/522441]\n",
      "loss: 0.000173  [147200/522441]\n",
      "loss: 0.000644  [153600/522441]\n",
      "loss: 0.000001  [160000/522441]\n",
      "loss: 0.000058  [166400/522441]\n",
      "loss: 0.000006  [172800/522441]\n",
      "loss: 0.000853  [179200/522441]\n",
      "loss: 0.000006  [185600/522441]\n",
      "loss: 0.000044  [192000/522441]\n",
      "loss: 0.002262  [198400/522441]\n",
      "loss: 0.000014  [204800/522441]\n",
      "loss: 0.000000  [211200/522441]\n",
      "loss: 0.000061  [217600/522441]\n",
      "loss: 0.000014  [224000/522441]\n",
      "loss: 0.041502  [230400/522441]\n",
      "loss: 0.006571  [236800/522441]\n",
      "loss: 0.000995  [243200/522441]\n",
      "loss: 0.010439  [249600/522441]\n",
      "loss: 0.002692  [256000/522441]\n",
      "loss: 0.019137  [262400/522441]\n",
      "loss: 0.000025  [268800/522441]\n",
      "loss: 0.000292  [275200/522441]\n",
      "loss: 0.000006  [281600/522441]\n",
      "loss: 0.000063  [288000/522441]\n",
      "loss: 0.000577  [294400/522441]\n",
      "loss: 0.000287  [300800/522441]\n",
      "loss: 0.000263  [307200/522441]\n",
      "loss: 0.000216  [313600/522441]\n",
      "loss: 0.000399  [320000/522441]\n",
      "loss: 0.000000  [326400/522441]\n",
      "loss: 0.000002  [332800/522441]\n",
      "loss: 0.000006  [339200/522441]\n",
      "loss: 0.000019  [345600/522441]\n",
      "loss: 0.000384  [352000/522441]\n",
      "loss: 0.000003  [358400/522441]\n",
      "loss: 0.002823  [364800/522441]\n",
      "loss: 0.000331  [371200/522441]\n",
      "loss: 0.000780  [377600/522441]\n",
      "loss: 0.000002  [384000/522441]\n",
      "loss: 0.000000  [390400/522441]\n",
      "loss: 0.000096  [396800/522441]\n",
      "loss: 0.000013  [403200/522441]\n",
      "loss: 0.000001  [409600/522441]\n",
      "loss: 0.000317  [416000/522441]\n",
      "loss: 0.000041  [422400/522441]\n",
      "loss: 0.000172  [428800/522441]\n",
      "loss: 0.000621  [435200/522441]\n",
      "loss: 0.000002  [441600/522441]\n",
      "loss: 0.000104  [448000/522441]\n",
      "loss: 0.000002  [454400/522441]\n",
      "loss: 0.000000  [460800/522441]\n",
      "loss: 0.004695  [467200/522441]\n",
      "loss: 0.000000  [473600/522441]\n",
      "loss: 0.000001  [480000/522441]\n",
      "loss: 0.000001  [486400/522441]\n",
      "loss: 0.000023  [492800/522441]\n",
      "loss: 0.000148  [499200/522441]\n",
      "loss: 0.000000  [505600/522441]\n",
      "loss: 0.000025  [512000/522441]\n",
      "loss: 0.000010  [518400/522441]\n",
      "INFO: Early stopping counter 4 of 5\n",
      "Epoch 7\n",
      "-------------------------------\n",
      "loss: 0.000026  [    0/522441]\n",
      "loss: 0.000745  [ 6400/522441]\n",
      "loss: 0.000006  [12800/522441]\n",
      "loss: 0.000269  [19200/522441]\n",
      "loss: 0.063611  [25600/522441]\n",
      "loss: 0.000005  [32000/522441]\n",
      "loss: 0.025078  [38400/522441]\n",
      "loss: 0.000507  [44800/522441]\n",
      "loss: 0.000007  [51200/522441]\n",
      "loss: 0.000044  [57600/522441]\n",
      "loss: 0.000093  [64000/522441]\n",
      "loss: 0.002045  [70400/522441]\n",
      "loss: 0.001313  [76800/522441]\n",
      "loss: 0.000006  [83200/522441]\n",
      "loss: 0.000000  [89600/522441]\n",
      "loss: 0.000772  [96000/522441]\n",
      "loss: 0.000033  [102400/522441]\n",
      "loss: 0.000008  [108800/522441]\n",
      "loss: 0.107918  [115200/522441]\n",
      "loss: 0.001127  [121600/522441]\n",
      "loss: 0.000011  [128000/522441]\n",
      "loss: 0.000000  [134400/522441]\n",
      "loss: 0.000026  [140800/522441]\n",
      "loss: 0.000912  [147200/522441]\n",
      "loss: 0.000114  [153600/522441]\n",
      "loss: 0.000009  [160000/522441]\n",
      "loss: 0.000098  [166400/522441]\n",
      "loss: 0.001964  [172800/522441]\n",
      "loss: 0.000075  [179200/522441]\n",
      "loss: 0.003875  [185600/522441]\n",
      "loss: 0.000019  [192000/522441]\n",
      "loss: 0.000131  [198400/522441]\n",
      "loss: 0.000026  [204800/522441]\n",
      "loss: 0.000136  [211200/522441]\n",
      "loss: 0.000162  [217600/522441]\n",
      "loss: 0.000001  [224000/522441]\n",
      "loss: 0.000000  [230400/522441]\n",
      "loss: 0.000001  [236800/522441]\n",
      "loss: 0.000033  [243200/522441]\n",
      "loss: 0.000010  [249600/522441]\n",
      "loss: 0.014269  [256000/522441]\n",
      "loss: 0.000084  [262400/522441]\n",
      "loss: 0.002952  [268800/522441]\n",
      "loss: 0.007495  [275200/522441]\n",
      "loss: 0.000000  [281600/522441]\n",
      "loss: 0.000000  [288000/522441]\n",
      "loss: 0.000000  [294400/522441]\n",
      "loss: 0.000000  [300800/522441]\n",
      "loss: 0.000000  [307200/522441]\n",
      "loss: 0.000000  [313600/522441]\n",
      "loss: 0.000000  [320000/522441]\n",
      "loss: 0.000180  [326400/522441]\n",
      "loss: 0.000000  [332800/522441]\n",
      "loss: 0.001778  [339200/522441]\n",
      "loss: 0.001715  [345600/522441]\n",
      "loss: 0.000141  [352000/522441]\n",
      "loss: 0.001059  [358400/522441]\n",
      "loss: 0.000032  [364800/522441]\n",
      "loss: 0.000018  [371200/522441]\n",
      "loss: 0.001794  [377600/522441]\n",
      "loss: 0.000980  [384000/522441]\n",
      "loss: 0.000058  [390400/522441]\n",
      "loss: 0.000000  [396800/522441]\n",
      "loss: 0.000000  [403200/522441]\n",
      "loss: 0.000099  [409600/522441]\n",
      "loss: 0.000145  [416000/522441]\n",
      "loss: 0.000040  [422400/522441]\n",
      "loss: 0.000018  [428800/522441]\n",
      "loss: 0.000063  [435200/522441]\n",
      "loss: 0.000002  [441600/522441]\n",
      "loss: 0.000000  [448000/522441]\n",
      "loss: 0.000056  [454400/522441]\n",
      "loss: 0.000040  [460800/522441]\n",
      "loss: 0.000017  [467200/522441]\n",
      "loss: 0.000002  [473600/522441]\n",
      "loss: 0.000110  [480000/522441]\n",
      "loss: 0.000030  [486400/522441]\n",
      "loss: 0.000029  [492800/522441]\n",
      "loss: 0.000040  [499200/522441]\n",
      "loss: 0.000000  [505600/522441]\n",
      "loss: 0.000066  [512000/522441]\n",
      "loss: 0.046119  [518400/522441]\n",
      "INFO: Early stopping counter 5 of 5\n",
      "INFO: Early stopping\n"
     ]
    },
    {
     "data": {
      "image/png": "[encoded data removed]",
      "text/plain": [
       "<Figure size 1200x300 with 2 Axes>"
      ]
     },
     "metadata": {},
     "output_type": "display_data"
    }
   ],
   "source": [
    "BATCH_SIZE = 64\n",
    "EPOCHS = 15\n",
    "\n",
    "training_data = DNNmodels.CustomDataset(X_train, y_train, model_type='ffnn')\n",
    "val_data = DNNmodels.CustomDataset(X_test, y_test, model_type='ffnn')\n",
    "# create Dataloader for cnn\n",
    "train_dataloader = DataLoader(training_data, batch_size=BATCH_SIZE, shuffle=True)\n",
    "val_dataloader = DataLoader(val_data, batch_size=BATCH_SIZE, shuffle=False)\n",
    "\n",
    "model_cnn = DNNmodels.NeuralNetwork(num_classes=classes, flatten_layer=False, input_dim=features).to(device)\n",
    "print(model_cnn)\n",
    "\n",
    "loss_fn = nn.CrossEntropyLoss()\n",
    "optimizer = torch.optim.Adam(model_cnn.parameters(), lr=0.0005)\n",
    "early_stop_callback = DNNmodels.EarlyStopping()\n",
    "\n",
    "fig, axs = plt.subplots(1,2, figsize=(12,3))\n",
    "plt.suptitle('Deep neural network')\n",
    "result = {'avg_loss':[], 'acc':[], 'epoch':[]}\n",
    "\n",
    "for t in range(EPOCHS):\n",
    "    print(f\"Epoch {t+1}\\n-------------------------------\")\n",
    "    DNNmodels.train(train_dataloader, model_cnn, loss_fn, optimizer)\n",
    "    DNNmodels.test(val_dataloader, model_cnn, loss_fn, result)\n",
    "    result['epoch'].append(t)\n",
    "    early_stop_callback(result['avg_loss'][-1])\n",
    "    if early_stop_callback.early_stop:\n",
    "        break\n",
    "    DNNmodels.plot_results(axs, result)"
   ]
  },
  {
   "cell_type": "code",
   "execution_count": 6,
   "metadata": {},
   "outputs": [],
   "source": [
    "torch.save(model_cnn.state_dict(), './model_dnn_facefull.pt')"
   ]
  },
  {
   "cell_type": "code",
   "execution_count": 7,
   "metadata": {},
   "outputs": [
    {
     "data": {
      "text/plain": [
       "NeuralNetwork(\n",
       "  (linear_relu_stack): Sequential(\n",
       "    (0): Linear(in_features=608, out_features=512, bias=True)\n",
       "    (1): ReLU()\n",
       "    (2): Linear(in_features=512, out_features=512, bias=True)\n",
       "    (3): ReLU()\n",
       "    (4): Linear(in_features=512, out_features=2, bias=True)\n",
       "  )\n",
       ")"
      ]
     },
     "execution_count": 7,
     "metadata": {},
     "output_type": "execute_result"
    }
   ],
   "source": [
    "model_dnn = DNNmodels.NeuralNetwork(num_classes=classes, flatten_layer=False, input_dim=features)\n",
    "model_dnn.load_state_dict(torch.load('./model_dnn_facefull.pt'))\n",
    "model_dnn.eval()"
   ]
  },
  {
   "cell_type": "code",
   "execution_count": 9,
   "metadata": {},
   "outputs": [],
   "source": [
    "with open('./onlinehd_facefull.pickle', 'br') as f:\n",
    "    model_onlinehd = pickle.load(f)"
   ]
  },
  {
   "attachments": {},
   "cell_type": "markdown",
   "metadata": {},
   "source": [
    "### FGSM"
   ]
  },
  {
   "cell_type": "code",
   "execution_count": 10,
   "metadata": {},
   "outputs": [
    {
     "name": "stderr",
     "output_type": "stream",
     "text": [
      "100%|██████████| 1000/1000 [00:00<00:00, 1019.56it/s]\n"
     ]
    },
    {
     "name": "stdout",
     "output_type": "stream",
     "text": [
      "\n",
      "FGSM Attack with epsilon = 0.01000 | Elapsed time: 1.0484346250013914 seconds.\n",
      "Accuracy: Before the attack -> 95.80%\t|\tAfter the attack -> 94.10%\n",
      "mean of norm=0.00999999325722456\n"
     ]
    },
    {
     "name": "stderr",
     "output_type": "stream",
     "text": [
      "100%|██████████| 1000/1000 [00:00<00:00, 1272.60it/s]\n"
     ]
    },
    {
     "name": "stdout",
     "output_type": "stream",
     "text": [
      "\n",
      "FGSM Attack with epsilon = 0.02000 | Elapsed time: 0.7940408750000643 seconds.\n",
      "Accuracy: Before the attack -> 95.80%\t|\tAfter the attack -> 91.70%\n",
      "mean of norm=0.02000000700354576\n"
     ]
    },
    {
     "name": "stderr",
     "output_type": "stream",
     "text": [
      "100%|██████████| 1000/1000 [00:00<00:00, 1261.23it/s]\n"
     ]
    },
    {
     "name": "stdout",
     "output_type": "stream",
     "text": [
      "\n",
      "FGSM Attack with epsilon = 0.03000 | Elapsed time: 0.8097070829971926 seconds.\n",
      "Accuracy: Before the attack -> 95.80%\t|\tAfter the attack -> 89.80%\n",
      "mean of norm=0.030000001192092896\n"
     ]
    },
    {
     "name": "stderr",
     "output_type": "stream",
     "text": [
      "100%|██████████| 1000/1000 [00:00<00:00, 1252.22it/s]\n"
     ]
    },
    {
     "name": "stdout",
     "output_type": "stream",
     "text": [
      "\n",
      "FGSM Attack with epsilon = 0.04000 | Elapsed time: 0.8243289589991036 seconds.\n",
      "Accuracy: Before the attack -> 95.80%\t|\tAfter the attack -> 87.30%\n",
      "mean of norm=0.04000001400709152\n"
     ]
    },
    {
     "name": "stderr",
     "output_type": "stream",
     "text": [
      "100%|██████████| 1000/1000 [00:00<00:00, 1220.01it/s]\n"
     ]
    },
    {
     "name": "stdout",
     "output_type": "stream",
     "text": [
      "\n",
      "FGSM Attack with epsilon = 0.05000 | Elapsed time: 0.8276895000017248 seconds.\n",
      "Accuracy: Before the attack -> 95.80%\t|\tAfter the attack -> 84.50%\n",
      "mean of norm=0.05000000447034836\n"
     ]
    },
    {
     "name": "stderr",
     "output_type": "stream",
     "text": [
      "100%|██████████| 1000/1000 [00:00<00:00, 1267.24it/s]\n"
     ]
    },
    {
     "name": "stdout",
     "output_type": "stream",
     "text": [
      "\n",
      "FGSM Attack with epsilon = 0.06000 | Elapsed time: 0.7991217079979833 seconds.\n",
      "Accuracy: Before the attack -> 95.80%\t|\tAfter the attack -> 81.80%\n",
      "mean of norm=0.06000000238418579\n"
     ]
    },
    {
     "name": "stderr",
     "output_type": "stream",
     "text": [
      "100%|██████████| 1000/1000 [00:00<00:00, 1200.81it/s]\n"
     ]
    },
    {
     "name": "stdout",
     "output_type": "stream",
     "text": [
      "\n",
      "FGSM Attack with epsilon = 0.07000 | Elapsed time: 0.8452256669988856 seconds.\n",
      "Accuracy: Before the attack -> 95.80%\t|\tAfter the attack -> 78.40%\n",
      "mean of norm=0.06999999284744263\n"
     ]
    },
    {
     "name": "stderr",
     "output_type": "stream",
     "text": [
      "100%|██████████| 1000/1000 [00:00<00:00, 1316.51it/s]\n"
     ]
    },
    {
     "name": "stdout",
     "output_type": "stream",
     "text": [
      "\n",
      "FGSM Attack with epsilon = 0.08000 | Elapsed time: 0.7709184579980501 seconds.\n",
      "Accuracy: Before the attack -> 95.80%\t|\tAfter the attack -> 75.60%\n",
      "mean of norm=0.08000002801418304\n"
     ]
    },
    {
     "name": "stderr",
     "output_type": "stream",
     "text": [
      "100%|██████████| 1000/1000 [00:00<00:00, 1258.01it/s]\n"
     ]
    },
    {
     "name": "stdout",
     "output_type": "stream",
     "text": [
      "\n",
      "FGSM Attack with epsilon = 0.09000 | Elapsed time: 0.8032519170010346 seconds.\n",
      "Accuracy: Before the attack -> 95.80%\t|\tAfter the attack -> 72.90%\n",
      "mean of norm=0.09000003337860107\n"
     ]
    },
    {
     "name": "stderr",
     "output_type": "stream",
     "text": [
      "100%|██████████| 1000/1000 [00:00<00:00, 1220.50it/s]"
     ]
    },
    {
     "name": "stdout",
     "output_type": "stream",
     "text": [
      "\n",
      "FGSM Attack with epsilon = 0.10000 | Elapsed time: 0.8300760839993018 seconds.\n",
      "Accuracy: Before the attack -> 95.80%\t|\tAfter the attack -> 67.60%\n",
      "mean of norm=0.10000003129243851\n"
     ]
    },
    {
     "name": "stderr",
     "output_type": "stream",
     "text": [
      "\n"
     ]
    }
   ],
   "source": [
    "epsilons = np.linspace(0.01, 0.1, 10) # torch.Tensor([0.01, 0.03, 0.07, 0.1])\n",
    "verbose = False\n",
    "criterion = nn.CrossEntropyLoss()\n",
    "#criterion = lambda output, model, label: (spatial.cos_cdist(output, model) - label).mean()\n",
    "#criterion = lambda output, model, label: output.mean()\n",
    "N_VAL_SAMPLES = X_test.data.shape[0]\n",
    "\n",
    "attack_samples, acc_results = attack_fgsm_dnn.attack(\n",
    "    model_dnn, X_train.reshape(len(X_train), features), X_test.reshape(len(X_test), features), y_test, epsilons, classes, criterion, N_VAL_SAMPLES, 'cpu',\n",
    "    input_dim=features, model_type='dnn')"
   ]
  },
  {
   "cell_type": "code",
   "execution_count": 11,
   "metadata": {},
   "outputs": [
    {
     "name": "stdout",
     "output_type": "stream",
     "text": [
      "0.01 0.00999999325722456 0.9430000185966492 0.9409999847412109\n",
      "0.020000000000000004 0.02000000700354576 0.9200000166893005 0.9169999957084656\n",
      "0.030000000000000006 0.030000001192092896 0.9020000100135803 0.8980000019073486\n",
      "0.04000000000000001 0.04000001400709152 0.8889999985694885 0.8730000257492065\n",
      "0.05000000000000001 0.05000000447034836 0.8650000095367432 0.8450000286102295\n",
      "0.06000000000000001 0.06000000238418579 0.8379999995231628 0.8180000185966492\n",
      "0.07 0.06999999284744263 0.8159999847412109 0.7839999794960022\n",
      "0.08 0.08000002801418304 0.7889999747276306 0.7559999823570251\n",
      "0.09000000000000001 0.09000003337860107 0.7549999952316284 0.7289999723434448\n",
      "0.1 0.10000003129243851 0.722000002861023 0.6759999990463257\n"
     ]
    }
   ],
   "source": [
    "for e, X_test_noised in zip(epsilons, attack_samples):\n",
    "    yhat_test_onlinehd = model_onlinehd(X_test_noised.reshape(-1, features))\n",
    "    yhat_test_dnn = model_dnn(X_test_noised.reshape(-1, features)).argmax(1)\n",
    "\n",
    "    onlinehd_attacked_acc = (y_test == yhat_test_onlinehd).float().mean().item()\n",
    "    dnn_attacked_acc = (y_test == yhat_test_dnn).float().mean().item()\n",
    "    distance = (X_test_noised.reshape(-1, features) - X_test).norm(dim=-1).mean().item()\n",
    "\n",
    "    print(e, distance, onlinehd_attacked_acc, dnn_attacked_acc)"
   ]
  },
  {
   "attachments": {},
   "cell_type": "markdown",
   "metadata": {},
   "source": [
    "### Deep Fool"
   ]
  },
  {
   "cell_type": "code",
   "execution_count": 12,
   "metadata": {},
   "outputs": [
    {
     "name": "stderr",
     "output_type": "stream",
     "text": [
      "100%|██████████| 1000/1000 [00:24<00:00, 41.48it/s]\n"
     ]
    },
    {
     "name": "stdout",
     "output_type": "stream",
     "text": [
      "24.107789039611816\n",
      "0.01 0.007964217104017735 0.9449999928474426 0.953000009059906\n"
     ]
    },
    {
     "name": "stderr",
     "output_type": "stream",
     "text": [
      "100%|██████████| 1000/1000 [00:24<00:00, 40.76it/s]\n"
     ]
    },
    {
     "name": "stdout",
     "output_type": "stream",
     "text": [
      "24.53368091583252\n",
      "0.02 0.01592843420803547 0.9279999732971191 0.9319999814033508\n"
     ]
    },
    {
     "name": "stderr",
     "output_type": "stream",
     "text": [
      "100%|██████████| 1000/1000 [00:21<00:00, 46.40it/s]\n"
     ]
    },
    {
     "name": "stdout",
     "output_type": "stream",
     "text": [
      "21.554839849472046\n",
      "0.03 0.02389265038073063 0.9229999780654907 0.9100000262260437\n"
     ]
    },
    {
     "name": "stderr",
     "output_type": "stream",
     "text": [
      "100%|██████████| 1000/1000 [00:20<00:00, 49.70it/s]\n"
     ]
    },
    {
     "name": "stdout",
     "output_type": "stream",
     "text": [
      "20.12162685394287\n",
      "0.04 0.03185686469078064 0.8970000147819519 0.8799999952316284\n"
     ]
    },
    {
     "name": "stderr",
     "output_type": "stream",
     "text": [
      "100%|██████████| 1000/1000 [00:19<00:00, 51.44it/s]\n"
     ]
    },
    {
     "name": "stdout",
     "output_type": "stream",
     "text": [
      "19.440720796585083\n",
      "0.05 0.039821092039346695 0.8629999756813049 0.8489999771118164\n"
     ]
    },
    {
     "name": "stderr",
     "output_type": "stream",
     "text": [
      "100%|██████████| 1000/1000 [00:18<00:00, 53.51it/s]\n"
     ]
    },
    {
     "name": "stdout",
     "output_type": "stream",
     "text": [
      "18.691009044647217\n",
      "0.060000000000000005 0.047785308212041855 0.8389999866485596 0.8069999814033508\n"
     ]
    },
    {
     "name": "stderr",
     "output_type": "stream",
     "text": [
      "100%|██████████| 1000/1000 [00:17<00:00, 55.81it/s]\n"
     ]
    },
    {
     "name": "stdout",
     "output_type": "stream",
     "text": [
      "17.919463872909546\n",
      "0.06999999999999999 0.055749520659446716 0.8059999942779541 0.7789999842643738\n"
     ]
    },
    {
     "name": "stderr",
     "output_type": "stream",
     "text": [
      "100%|██████████| 1000/1000 [00:16<00:00, 60.88it/s]\n"
     ]
    },
    {
     "name": "stdout",
     "output_type": "stream",
     "text": [
      "16.4288330078125\n",
      "0.08 0.06371373683214188 0.7620000243186951 0.7049999833106995\n"
     ]
    },
    {
     "name": "stderr",
     "output_type": "stream",
     "text": [
      "100%|██████████| 1000/1000 [00:15<00:00, 63.90it/s]\n"
     ]
    },
    {
     "name": "stdout",
     "output_type": "stream",
     "text": [
      "15.652033805847168\n",
      "0.09 0.07167796045541763 0.7160000205039978 0.6470000147819519\n"
     ]
    },
    {
     "name": "stderr",
     "output_type": "stream",
     "text": [
      "100%|██████████| 1000/1000 [00:14<00:00, 69.02it/s]\n"
     ]
    },
    {
     "name": "stdout",
     "output_type": "stream",
     "text": [
      "14.491245985031128\n",
      "0.09999999999999999 0.07964218407869339 0.675000011920929 0.593999981880188\n"
     ]
    },
    {
     "name": "stderr",
     "output_type": "stream",
     "text": [
      "100%|██████████| 1000/1000 [00:13<00:00, 76.31it/s]\n"
     ]
    },
    {
     "name": "stdout",
     "output_type": "stream",
     "text": [
      "13.105918407440186\n",
      "0.11 0.08760639280080795 0.6320000290870667 0.5320000052452087\n"
     ]
    },
    {
     "name": "stderr",
     "output_type": "stream",
     "text": [
      "100%|██████████| 1000/1000 [00:12<00:00, 82.46it/s]\n"
     ]
    },
    {
     "name": "stdout",
     "output_type": "stream",
     "text": [
      "12.129822015762329\n",
      "0.12 0.09557060897350311 0.5789999961853027 0.48399999737739563\n"
     ]
    },
    {
     "name": "stderr",
     "output_type": "stream",
     "text": [
      "100%|██████████| 1000/1000 [00:11<00:00, 89.03it/s]\n"
     ]
    },
    {
     "name": "stdout",
     "output_type": "stream",
     "text": [
      "11.233901739120483\n",
      "0.13 0.10353481769561768 0.5440000295639038 0.4399999976158142\n"
     ]
    },
    {
     "name": "stderr",
     "output_type": "stream",
     "text": [
      "100%|██████████| 1000/1000 [00:10<00:00, 96.16it/s]\n"
     ]
    },
    {
     "name": "stdout",
     "output_type": "stream",
     "text": [
      "10.400828123092651\n",
      "0.14 0.11149904131889343 0.5 0.39500001072883606\n"
     ]
    },
    {
     "name": "stderr",
     "output_type": "stream",
     "text": [
      "100%|██████████| 1000/1000 [00:11<00:00, 88.24it/s]\n"
     ]
    },
    {
     "name": "stdout",
     "output_type": "stream",
     "text": [
      "11.335150718688965\n",
      "0.15000000000000002 0.11946325749158859 0.46799999475479126 0.36399999260902405\n"
     ]
    },
    {
     "name": "stderr",
     "output_type": "stream",
     "text": [
      "100%|██████████| 1000/1000 [00:09<00:00, 108.99it/s]\n"
     ]
    },
    {
     "name": "stdout",
     "output_type": "stream",
     "text": [
      "9.178071022033691\n",
      "0.16 0.12742745876312256 0.4309999942779541 0.33799999952316284\n"
     ]
    },
    {
     "name": "stderr",
     "output_type": "stream",
     "text": [
      "100%|██████████| 1000/1000 [00:08<00:00, 113.74it/s]\n"
     ]
    },
    {
     "name": "stdout",
     "output_type": "stream",
     "text": [
      "8.794771909713745\n",
      "0.17 0.1353916972875595 0.39899998903274536 0.3149999976158142\n"
     ]
    },
    {
     "name": "stderr",
     "output_type": "stream",
     "text": [
      "100%|██████████| 1000/1000 [00:09<00:00, 102.86it/s]\n"
     ]
    },
    {
     "name": "stdout",
     "output_type": "stream",
     "text": [
      "9.724429845809937\n",
      "0.18000000000000002 0.14335592091083527 0.3700000047683716 0.3019999861717224\n"
     ]
    },
    {
     "name": "stderr",
     "output_type": "stream",
     "text": [
      "100%|██████████| 1000/1000 [00:08<00:00, 121.18it/s]\n"
     ]
    },
    {
     "name": "stdout",
     "output_type": "stream",
     "text": [
      "8.254113912582397\n",
      "0.19 0.15132015943527222 0.3449999988079071 0.289000004529953\n"
     ]
    },
    {
     "name": "stderr",
     "output_type": "stream",
     "text": [
      "100%|██████████| 1000/1000 [00:07<00:00, 125.21it/s]\n"
     ]
    },
    {
     "name": "stdout",
     "output_type": "stream",
     "text": [
      "7.988951206207275\n",
      "0.2 0.15928436815738678 0.32499998807907104 0.2770000100135803\n"
     ]
    }
   ],
   "source": [
    "for max_update in np.linspace(0.01, 0.2, 20):\n",
    "    X_te_cln = X_test.clone().reshape(-1, 1, features)\n",
    "    Y_te_cln = y_test.clone()\n",
    "\n",
    "    x_test_adv = torch.zeros(X_te_cln.shape)\n",
    "    x_test_pert = torch.zeros(X_te_cln.shape[0], features)\n",
    "\n",
    "    st = time.time()\n",
    "    for i in tqdm.tqdm(range(X_test.shape[0])):\n",
    "        x_test_adv[i], x_test_pert[i] = attack_df_dnn.deepfool(X_te_cln[i].reshape(1, features), model_dnn, epsilon=max_update, num_classes=classes,\n",
    "                                                               input_dim=features, model_type='dnn')\n",
    "    print(time.time() - st)\n",
    "    \n",
    "    X_test_noised = x_test_adv.reshape(-1, features)\n",
    "\n",
    "    yhat_test_onlinehd = model_onlinehd(X_test_noised.reshape(-1, features))\n",
    "    yhat_test_dnn = model_dnn(X_test_noised.reshape(-1, features)).argmax(1)\n",
    "\n",
    "    onlinehd_attacked_acc = (y_test == yhat_test_onlinehd).float().mean().item()\n",
    "    dnn_attacked_acc = (y_test == yhat_test_dnn).float().mean().item()\n",
    "    distance = (X_test_noised.reshape(-1, features) - X_test).norm(dim=-1).mean().item()\n",
    "\n",
    "    print(max_update, distance, onlinehd_attacked_acc, dnn_attacked_acc)"
   ]
  },
  {
   "cell_type": "code",
   "execution_count": 13,
   "metadata": {},
   "outputs": [
    {
     "name": "stderr",
     "output_type": "stream",
     "text": [
      "100%|██████████| 1000/1000 [00:06<00:00, 144.36it/s]\n"
     ]
    },
    {
     "name": "stdout",
     "output_type": "stream",
     "text": [
      "6.929042816162109\n",
      "None 0.17366960644721985 0.27399998903274536 0.23199999332427979\n"
     ]
    }
   ],
   "source": [
    "X_te_cln = X_test.clone().reshape(-1, 1, features)\n",
    "Y_te_cln = y_test.clone()\n",
    "\n",
    "x_test_adv = torch.zeros(X_te_cln.shape)\n",
    "x_test_pert = torch.zeros(X_te_cln.shape[0], features)\n",
    "\n",
    "st = time.time()\n",
    "for i in tqdm.tqdm(range(X_test.shape[0])):\n",
    "    x_test_adv[i], x_test_pert[i] = attack_df_dnn.deepfool(X_te_cln[i].reshape(1, features), model_dnn, epsilon=None, num_classes=classes,\n",
    "                                                           input_dim=features, model_type='dnn')\n",
    "print(time.time() - st)\n",
    "\n",
    "X_test_noised = x_test_adv.reshape(-1, features)\n",
    "\n",
    "yhat_test_onlinehd = model_onlinehd(X_test_noised.reshape(-1, features))\n",
    "yhat_test_dnn = model_dnn(X_test_noised.reshape(-1, features)).argmax(1)\n",
    "\n",
    "onlinehd_attacked_acc = (y_test == yhat_test_onlinehd).float().mean().item()\n",
    "dnn_attacked_acc = (y_test == yhat_test_dnn).float().mean().item()\n",
    "distance = (X_test_noised.reshape(-1, features) - X_test).norm(dim=-1).mean().item()\n",
    "\n",
    "print(None, distance, onlinehd_attacked_acc, dnn_attacked_acc)"
   ]
  },
  {
   "attachments": {},
   "cell_type": "markdown",
   "metadata": {},
   "source": [
    "### Genetic Attack"
   ]
  },
  {
   "cell_type": "code",
   "execution_count": 14,
   "metadata": {},
   "outputs": [
    {
     "name": "stdout",
     "output_type": "stream",
     "text": [
      "Alpha : 0.0004\n"
     ]
    },
    {
     "name": "stderr",
     "output_type": "stream",
     "text": [
      "100%|██████████| 1000/1000 [00:00<00:00, 40213.84it/s]\n",
      "100%|██████████| 1000/1000 [31:43<00:00,  1.90s/it]\n"
     ]
    },
    {
     "name": "stdout",
     "output_type": "stream",
     "text": [
      "1903.737184047699\n",
      "0.0004 0.011632203124463558 0.949999988079071 0.9459999799728394\n",
      "Alpha : 0.0005736842105263159\n"
     ]
    },
    {
     "name": "stderr",
     "output_type": "stream",
     "text": [
      "100%|██████████| 1000/1000 [00:00<00:00, 38108.21it/s]\n",
      "100%|██████████| 1000/1000 [31:53<00:00,  1.91s/it]\n"
     ]
    },
    {
     "name": "stdout",
     "output_type": "stream",
     "text": [
      "1913.1782791614532\n",
      "0.0005736842105263159 0.016547655686736107 0.9449999928474426 0.9390000104904175\n",
      "Alpha : 0.0007473684210526316\n"
     ]
    },
    {
     "name": "stderr",
     "output_type": "stream",
     "text": [
      "100%|██████████| 1000/1000 [00:00<00:00, 39302.32it/s]\n",
      "100%|██████████| 1000/1000 [32:35<00:00,  1.96s/it]\n"
     ]
    },
    {
     "name": "stdout",
     "output_type": "stream",
     "text": [
      "1955.5348899364471\n",
      "0.0007473684210526316 0.02141932025551796 0.9369999766349792 0.9350000023841858\n",
      "Alpha : 0.0009210526315789475\n"
     ]
    },
    {
     "name": "stderr",
     "output_type": "stream",
     "text": [
      "100%|██████████| 1000/1000 [00:00<00:00, 38302.05it/s]\n",
      "100%|██████████| 1000/1000 [30:29<00:00,  1.83s/it]\n"
     ]
    },
    {
     "name": "stdout",
     "output_type": "stream",
     "text": [
      "1829.9671800136566\n",
      "0.0009210526315789475 0.026083694770932198 0.9340000152587891 0.9269999861717224\n",
      "Alpha : 0.0010947368421052631\n"
     ]
    },
    {
     "name": "stderr",
     "output_type": "stream",
     "text": [
      "100%|██████████| 1000/1000 [00:00<00:00, 39603.65it/s]\n",
      "100%|██████████| 1000/1000 [30:29<00:00,  1.83s/it]\n"
     ]
    },
    {
     "name": "stdout",
     "output_type": "stream",
     "text": [
      "1829.1517860889435\n",
      "0.0010947368421052631 0.030717972666025162 0.9300000071525574 0.9229999780654907\n",
      "Alpha : 0.001268421052631579\n"
     ]
    },
    {
     "name": "stderr",
     "output_type": "stream",
     "text": [
      "100%|██████████| 1000/1000 [00:00<00:00, 39181.89it/s]\n",
      "100%|██████████| 1000/1000 [30:13<00:00,  1.81s/it]\n"
     ]
    },
    {
     "name": "stdout",
     "output_type": "stream",
     "text": [
      "1813.9617710113525\n",
      "0.001268421052631579 0.035101842135190964 0.9330000281333923 0.9169999957084656\n",
      "Alpha : 0.0014421052631578947\n"
     ]
    },
    {
     "name": "stderr",
     "output_type": "stream",
     "text": [
      "100%|██████████| 1000/1000 [00:00<00:00, 37673.16it/s]\n",
      "100%|██████████| 1000/1000 [30:50<00:00,  1.85s/it]\n"
     ]
    },
    {
     "name": "stdout",
     "output_type": "stream",
     "text": [
      "1850.2760009765625\n",
      "0.0014421052631578947 0.03917888179421425 0.9300000071525574 0.9169999957084656\n",
      "Alpha : 0.0016157894736842104\n"
     ]
    },
    {
     "name": "stderr",
     "output_type": "stream",
     "text": [
      "100%|██████████| 1000/1000 [00:00<00:00, 35483.60it/s]\n",
      "100%|██████████| 1000/1000 [35:01<00:00,  2.10s/it]\n"
     ]
    },
    {
     "name": "stdout",
     "output_type": "stream",
     "text": [
      "2101.8857979774475\n",
      "0.0016157894736842104 0.04307330399751663 0.9259999990463257 0.9169999957084656\n",
      "Alpha : 0.0017894736842105263\n"
     ]
    },
    {
     "name": "stderr",
     "output_type": "stream",
     "text": [
      "100%|██████████| 1000/1000 [00:00<00:00, 36120.43it/s]\n",
      "100%|██████████| 1000/1000 [34:26<00:00,  2.07s/it]\n"
     ]
    },
    {
     "name": "stdout",
     "output_type": "stream",
     "text": [
      "2066.3650040626526\n",
      "0.0017894736842105263 0.04627171531319618 0.925000011920929 0.9150000214576721\n",
      "Alpha : 0.0019631578947368424\n"
     ]
    },
    {
     "name": "stderr",
     "output_type": "stream",
     "text": [
      "100%|██████████| 1000/1000 [00:00<00:00, 28772.85it/s]\n",
      "100%|██████████| 1000/1000 [35:16<00:00,  2.12s/it]\n"
     ]
    },
    {
     "name": "stdout",
     "output_type": "stream",
     "text": [
      "2116.5383768081665\n",
      "0.0019631578947368424 0.04931102320551872 0.9269999861717224 0.9169999957084656\n",
      "Alpha : 0.002136842105263158\n"
     ]
    },
    {
     "name": "stderr",
     "output_type": "stream",
     "text": [
      "100%|██████████| 1000/1000 [00:00<00:00, 39720.29it/s]\n",
      "100%|██████████| 1000/1000 [31:24<00:00,  1.88s/it]\n"
     ]
    },
    {
     "name": "stdout",
     "output_type": "stream",
     "text": [
      "1884.8965730667114\n",
      "0.002136842105263158 0.05198962613940239 0.9200000166893005 0.9179999828338623\n",
      "Alpha : 0.002310526315789474\n"
     ]
    },
    {
     "name": "stderr",
     "output_type": "stream",
     "text": [
      "100%|██████████| 1000/1000 [00:00<00:00, 39479.15it/s]\n",
      "100%|██████████| 1000/1000 [30:11<00:00,  1.81s/it]\n"
     ]
    },
    {
     "name": "stdout",
     "output_type": "stream",
     "text": [
      "1812.0130848884583\n",
      "0.002310526315789474 0.05429539829492569 0.9269999861717224 0.9179999828338623\n",
      "Alpha : 0.0024842105263157897\n"
     ]
    },
    {
     "name": "stderr",
     "output_type": "stream",
     "text": [
      "100%|██████████| 1000/1000 [00:00<00:00, 41177.15it/s]\n",
      "100%|██████████| 1000/1000 [30:09<00:00,  1.81s/it]\n"
     ]
    },
    {
     "name": "stdout",
     "output_type": "stream",
     "text": [
      "1809.238911151886\n",
      "0.0024842105263157897 0.05565889924764633 0.925000011920929 0.9259999990463257\n",
      "Alpha : 0.0026578947368421056\n"
     ]
    },
    {
     "name": "stderr",
     "output_type": "stream",
     "text": [
      "100%|██████████| 1000/1000 [00:00<00:00, 39539.81it/s]\n",
      "100%|██████████| 1000/1000 [30:09<00:00,  1.81s/it]\n"
     ]
    },
    {
     "name": "stdout",
     "output_type": "stream",
     "text": [
      "1809.0915520191193\n",
      "0.0026578947368421056 0.0575530044734478 0.921999990940094 0.9200000166893005\n",
      "Alpha : 0.002831578947368421\n"
     ]
    },
    {
     "name": "stderr",
     "output_type": "stream",
     "text": [
      "100%|██████████| 1000/1000 [00:00<00:00, 37851.31it/s]\n",
      "100%|██████████| 1000/1000 [30:11<00:00,  1.81s/it]\n"
     ]
    },
    {
     "name": "stdout",
     "output_type": "stream",
     "text": [
      "1811.463739156723\n",
      "0.002831578947368421 0.05863063037395477 0.9269999861717224 0.925000011920929\n",
      "Alpha : 0.003005263157894737\n"
     ]
    },
    {
     "name": "stderr",
     "output_type": "stream",
     "text": [
      "100%|██████████| 1000/1000 [00:00<00:00, 38034.60it/s]\n",
      "100%|██████████| 1000/1000 [30:11<00:00,  1.81s/it]\n"
     ]
    },
    {
     "name": "stdout",
     "output_type": "stream",
     "text": [
      "1811.0872972011566\n",
      "0.003005263157894737 0.059649161994457245 0.9200000166893005 0.9269999861717224\n",
      "Alpha : 0.003178947368421053\n"
     ]
    },
    {
     "name": "stderr",
     "output_type": "stream",
     "text": [
      "100%|██████████| 1000/1000 [00:00<00:00, 38521.91it/s]\n",
      "100%|██████████| 1000/1000 [30:19<00:00,  1.82s/it]\n"
     ]
    },
    {
     "name": "stdout",
     "output_type": "stream",
     "text": [
      "1819.6956312656403\n",
      "0.003178947368421053 0.06170472502708435 0.9200000166893005 0.9290000200271606\n",
      "Alpha : 0.003352631578947369\n"
     ]
    },
    {
     "name": "stderr",
     "output_type": "stream",
     "text": [
      "100%|██████████| 1000/1000 [00:00<00:00, 39376.11it/s]\n",
      "100%|██████████| 1000/1000 [30:05<00:00,  1.81s/it]\n"
     ]
    },
    {
     "name": "stdout",
     "output_type": "stream",
     "text": [
      "1805.1859469413757\n",
      "0.003352631578947369 0.062258705496788025 0.9259999990463257 0.9240000247955322\n",
      "Alpha : 0.0035263157894736847\n"
     ]
    },
    {
     "name": "stderr",
     "output_type": "stream",
     "text": [
      "100%|██████████| 1000/1000 [00:00<00:00, 38605.23it/s]\n",
      "100%|██████████| 1000/1000 [30:12<00:00,  1.81s/it]\n"
     ]
    },
    {
     "name": "stdout",
     "output_type": "stream",
     "text": [
      "1812.2730729579926\n",
      "0.0035263157894736847 0.0634581595659256 0.925000011920929 0.9330000281333923\n",
      "Alpha : 0.0037\n"
     ]
    },
    {
     "name": "stderr",
     "output_type": "stream",
     "text": [
      "100%|██████████| 1000/1000 [00:00<00:00, 38770.10it/s]\n",
      "100%|██████████| 1000/1000 [30:05<00:00,  1.81s/it]\n"
     ]
    },
    {
     "name": "stdout",
     "output_type": "stream",
     "text": [
      "1805.9476110935211\n",
      "0.0037 0.0641712173819542 0.9240000247955322 0.9229999780654907\n"
     ]
    }
   ],
   "source": [
    "alpha_lis = np.linspace(0.0004, 0.0037, 20) #[0.01, 0.03, 0.07, 0.1]\n",
    "delta = 0.5\n",
    "nData = len(alpha_lis)\n",
    "model_accuracy_GA = np.zeros(nData)\n",
    "\n",
    "x_test_samp = X_test.cpu()\n",
    "y_test_samp = y_test.cpu()\n",
    "\n",
    "for n in range(nData):\n",
    "    alpha = alpha_lis[n]\n",
    "    print(f\"Alpha : {alpha}\")\n",
    "\n",
    "    st = time.time()\n",
    "    x_test_GA, _ = attack_gen_dnn.make_GA(model_dnn, delta, alpha, x_test_samp.reshape(-1, features), y_test_samp,\n",
    "                                            input_dim=features, model_type='dnn')\n",
    "    print(time.time() - st)\n",
    "    \n",
    "    X_test_noised = x_test_GA.reshape(-1, features)\n",
    "\n",
    "    yhat_test = model_onlinehd(X_test_noised.reshape(-1, features))\n",
    "    yhat_test_dnn = model_dnn(X_test_noised.reshape(-1, features)).argmax(1)\n",
    "\n",
    "    onlinehd_attacked_acc = (y_test == yhat_test).float().mean().item()\n",
    "    dnn_attacked_acc = (y_test == yhat_test_dnn).float().mean().item()\n",
    "    distance = (X_test_noised.reshape(-1, features) - X_test).norm(dim=-1).mean().item()\n",
    "\n",
    "    print(alpha, distance, onlinehd_attacked_acc, dnn_attacked_acc)\n",
    "\n",
    "#model_accuracy_GA"
   ]
  },
  {
   "cell_type": "code",
   "execution_count": null,
   "metadata": {},
   "outputs": [],
   "source": []
  }
 ],
 "metadata": {
  "kernelspec": {
   "display_name": "Python [conda env:base] *",
   "language": "python",
   "name": "conda-base-py"
  },
  "language_info": {
   "codemirror_mode": {
    "name": "ipython",
    "version": 3
   },
   "file_extension": ".py",
   "mimetype": "text/x-python",
   "name": "python",
   "nbconvert_exporter": "python",
   "pygments_lexer": "ipython3",
   "version": "3.12.7"
  }
 },
 "nbformat": 4,
 "nbformat_minor": 4
}
