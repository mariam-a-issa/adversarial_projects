{
 "cells": [
  {
   "cell_type": "code",
   "execution_count": 1,
   "metadata": {},
   "outputs": [],
   "source": [
    "# import attack_kernelbased\n",
    "import attack_fgsm_dnn\n",
    "import attack_df_dnn\n",
    "# import attack_jsma\n",
    "import attack_gen_dnn\n",
    "import dataloader\n",
    "import spatial\n",
    "\n",
    "import torch\n",
    "import torch.nn as nn\n",
    "import torch.nn.functional as F\n",
    "from torch.utils.data import DataLoader, Dataset\n",
    "import numpy as np\n",
    "import time\n",
    "import onlinehd\n",
    "import DNNmodels\n",
    "import pickle\n",
    "from sklearn.model_selection import train_test_split\n",
    "import matplotlib.pyplot as plt\n",
    "import tqdm"
   ]
  },
  {
   "cell_type": "code",
   "execution_count": 2,
   "metadata": {},
   "outputs": [],
   "source": [
    "device = 'cpu'"
   ]
  },
  {
   "cell_type": "code",
   "execution_count": 3,
   "metadata": {},
   "outputs": [
    {
     "name": "stderr",
     "output_type": "stream",
     "text": [
      "/Users/sang-geon/Documents/UCI_BIASLab/kernel_adversarial/venv/lib/python3.8/site-packages/sklearn/datasets/_openml.py:968: FutureWarning: The default value of `parser` will change from `'liac-arff'` to `'auto'` in 1.4. You can set `parser='auto'` to silence this warning. Therefore, an `ImportError` will be raised from 1.4 if the dataset is dense and pandas is not installed. Note that the pandas parser may return different data types. See the Notes Section in fetch_openml's API doc for details.\n",
      "  warn(\n"
     ]
    },
    {
     "data": {
      "text/plain": [
       "(torch.Size([52500, 784]),\n",
       " torch.Size([17500, 784]),\n",
       " torch.Size([52500]),\n",
       " torch.Size([17500]))"
      ]
     },
     "execution_count": 3,
     "metadata": {},
     "output_type": "execute_result"
    }
   ],
   "source": [
    "X_train, X_test, y_train, y_test = dataloader.load(None) # MNIST\n",
    "\n",
    "classes = y_train.unique().size(0)\n",
    "features = X_train.size(1)\n",
    "\n",
    "X_train.shape, X_test.shape, y_train.shape, y_test.shape"
   ]
  },
  {
   "cell_type": "code",
   "execution_count": 4,
   "metadata": {},
   "outputs": [],
   "source": [
    "X_test = X_test[:1000]\n",
    "y_test = y_test[:1000]"
   ]
  },
  {
   "attachments": {},
   "cell_type": "markdown",
   "metadata": {},
   "source": [
    "## CNN"
   ]
  },
  {
   "cell_type": "code",
   "execution_count": 13,
   "metadata": {},
   "outputs": [
    {
     "name": "stdout",
     "output_type": "stream",
     "text": [
      "CNN(\n",
      "  (conv1): Conv2d(1, 16, kernel_size=(4, 4), stride=(1, 1))\n",
      "  (relu1): ReLU()\n",
      "  (conv2): Conv2d(16, 8, kernel_size=(2, 2), stride=(1, 1))\n",
      "  (relu2): ReLU()\n",
      "  (max_pool2): MaxPool2d(kernel_size=2, stride=2, padding=0, dilation=1, ceil_mode=False)\n",
      "  (fc1): Linear(in_features=1152, out_features=128, bias=True)\n",
      "  (fc2): Linear(in_features=128, out_features=10, bias=True)\n",
      ")\n",
      "Epoch 1\n",
      "-------------------------------\n",
      "loss: 2.297185  [    0/52500]\n",
      "loss: 1.072657  [ 6400/52500]\n",
      "loss: 0.550835  [12800/52500]\n",
      "loss: 0.421461  [19200/52500]\n",
      "loss: 0.233749  [25600/52500]\n",
      "loss: 0.453348  [32000/52500]\n",
      "loss: 0.461064  [38400/52500]\n",
      "loss: 0.454403  [44800/52500]\n",
      "loss: 0.335714  [51200/52500]\n",
      "Epoch 2\n",
      "-------------------------------\n",
      "loss: 0.247592  [    0/52500]\n",
      "loss: 0.138405  [ 6400/52500]\n",
      "loss: 0.375500  [12800/52500]\n",
      "loss: 0.196346  [19200/52500]\n",
      "loss: 0.307126  [25600/52500]\n",
      "loss: 0.206999  [32000/52500]\n",
      "loss: 0.268244  [38400/52500]\n",
      "loss: 0.270426  [44800/52500]\n",
      "loss: 0.370999  [51200/52500]\n",
      "Epoch 3\n",
      "-------------------------------\n",
      "loss: 0.179955  [    0/52500]\n",
      "loss: 0.225885  [ 6400/52500]\n",
      "loss: 0.429677  [12800/52500]\n",
      "loss: 0.165601  [19200/52500]\n",
      "loss: 0.177237  [25600/52500]\n",
      "loss: 0.232622  [32000/52500]\n",
      "loss: 0.438821  [38400/52500]\n",
      "loss: 0.303141  [44800/52500]\n",
      "loss: 0.178343  [51200/52500]\n",
      "Epoch 4\n",
      "-------------------------------\n",
      "loss: 0.386406  [    0/52500]\n",
      "loss: 0.299262  [ 6400/52500]\n",
      "loss: 0.125122  [12800/52500]\n",
      "loss: 0.191675  [19200/52500]\n",
      "loss: 0.125474  [25600/52500]\n",
      "loss: 0.290656  [32000/52500]\n",
      "loss: 0.178060  [38400/52500]\n",
      "loss: 0.244624  [44800/52500]\n",
      "loss: 0.082354  [51200/52500]\n",
      "INFO: Early stopping counter 1 of 5\n",
      "Epoch 5\n",
      "-------------------------------\n",
      "loss: 0.223693  [    0/52500]\n",
      "loss: 0.278895  [ 6400/52500]\n",
      "loss: 0.143430  [12800/52500]\n",
      "loss: 0.090401  [19200/52500]\n",
      "loss: 0.210232  [25600/52500]\n",
      "loss: 0.236796  [32000/52500]\n",
      "loss: 0.367110  [38400/52500]\n",
      "loss: 0.213441  [44800/52500]\n",
      "loss: 0.264786  [51200/52500]\n",
      "Epoch 6\n",
      "-------------------------------\n",
      "loss: 0.329947  [    0/52500]\n",
      "loss: 0.286410  [ 6400/52500]\n",
      "loss: 0.248887  [12800/52500]\n",
      "loss: 0.243820  [19200/52500]\n",
      "loss: 0.069915  [25600/52500]\n",
      "loss: 0.157757  [32000/52500]\n",
      "loss: 0.223931  [38400/52500]\n",
      "loss: 0.162576  [44800/52500]\n",
      "loss: 0.092879  [51200/52500]\n",
      "Epoch 7\n",
      "-------------------------------\n",
      "loss: 0.427994  [    0/52500]\n",
      "loss: 0.165328  [ 6400/52500]\n",
      "loss: 0.089423  [12800/52500]\n",
      "loss: 0.084011  [19200/52500]\n",
      "loss: 0.115828  [25600/52500]\n",
      "loss: 0.168790  [32000/52500]\n",
      "loss: 0.220409  [38400/52500]\n",
      "loss: 0.195988  [44800/52500]\n",
      "loss: 0.048039  [51200/52500]\n",
      "Epoch 8\n",
      "-------------------------------\n",
      "loss: 0.169197  [    0/52500]\n",
      "loss: 0.296869  [ 6400/52500]\n",
      "loss: 0.208158  [12800/52500]\n",
      "loss: 0.233387  [19200/52500]\n",
      "loss: 0.115660  [25600/52500]\n",
      "loss: 0.138984  [32000/52500]\n",
      "loss: 0.136103  [38400/52500]\n",
      "loss: 0.057789  [44800/52500]\n",
      "loss: 0.253999  [51200/52500]\n",
      "Epoch 9\n",
      "-------------------------------\n",
      "loss: 0.052157  [    0/52500]\n",
      "loss: 0.322772  [ 6400/52500]\n",
      "loss: 0.038082  [12800/52500]\n",
      "loss: 0.069372  [19200/52500]\n",
      "loss: 0.236750  [25600/52500]\n",
      "loss: 0.134772  [32000/52500]\n",
      "loss: 0.190416  [38400/52500]\n",
      "loss: 0.047742  [44800/52500]\n",
      "loss: 0.232534  [51200/52500]\n",
      "Epoch 10\n",
      "-------------------------------\n",
      "loss: 0.091330  [    0/52500]\n",
      "loss: 0.135639  [ 6400/52500]\n",
      "loss: 0.172321  [12800/52500]\n",
      "loss: 0.061830  [19200/52500]\n",
      "loss: 0.223145  [25600/52500]\n",
      "loss: 0.048038  [32000/52500]\n",
      "loss: 0.166207  [38400/52500]\n",
      "loss: 0.086033  [44800/52500]\n",
      "loss: 0.133184  [51200/52500]\n",
      "INFO: Early stopping counter 2 of 5\n",
      "Epoch 11\n",
      "-------------------------------\n",
      "loss: 0.186982  [    0/52500]\n",
      "loss: 0.206942  [ 6400/52500]\n",
      "loss: 0.007129  [12800/52500]\n",
      "loss: 0.138081  [19200/52500]\n",
      "loss: 0.103230  [25600/52500]\n",
      "loss: 0.172073  [32000/52500]\n",
      "loss: 0.042699  [38400/52500]\n",
      "loss: 0.062095  [44800/52500]\n",
      "loss: 0.135367  [51200/52500]\n",
      "Epoch 12\n",
      "-------------------------------\n",
      "loss: 0.078547  [    0/52500]\n",
      "loss: 0.069124  [ 6400/52500]\n",
      "loss: 0.051966  [12800/52500]\n",
      "loss: 0.115719  [19200/52500]\n",
      "loss: 0.141745  [25600/52500]\n",
      "loss: 0.034710  [32000/52500]\n",
      "loss: 0.091038  [38400/52500]\n",
      "loss: 0.063907  [44800/52500]\n",
      "loss: 0.212081  [51200/52500]\n",
      "Epoch 13\n",
      "-------------------------------\n",
      "loss: 0.267729  [    0/52500]\n",
      "loss: 0.044327  [ 6400/52500]\n",
      "loss: 0.056348  [12800/52500]\n",
      "loss: 0.155111  [19200/52500]\n",
      "loss: 0.137132  [25600/52500]\n",
      "loss: 0.065369  [32000/52500]\n",
      "loss: 0.133923  [38400/52500]\n",
      "loss: 0.044692  [44800/52500]\n",
      "loss: 0.135615  [51200/52500]\n",
      "Epoch 14\n",
      "-------------------------------\n",
      "loss: 0.078890  [    0/52500]\n",
      "loss: 0.069199  [ 6400/52500]\n",
      "loss: 0.054044  [12800/52500]\n",
      "loss: 0.064252  [19200/52500]\n",
      "loss: 0.184351  [25600/52500]\n",
      "loss: 0.030725  [32000/52500]\n",
      "loss: 0.231588  [38400/52500]\n",
      "loss: 0.063409  [44800/52500]\n",
      "loss: 0.099454  [51200/52500]\n",
      "INFO: Early stopping counter 3 of 5\n",
      "Epoch 15\n",
      "-------------------------------\n",
      "loss: 0.266080  [    0/52500]\n",
      "loss: 0.069464  [ 6400/52500]\n",
      "loss: 0.036165  [12800/52500]\n",
      "loss: 0.118085  [19200/52500]\n",
      "loss: 0.042070  [25600/52500]\n",
      "loss: 0.077061  [32000/52500]\n",
      "loss: 0.141912  [38400/52500]\n",
      "loss: 0.134411  [44800/52500]\n",
      "loss: 0.053809  [51200/52500]\n",
      "INFO: Early stopping counter 4 of 5\n"
     ]
    },
    {
     "data": {
      "image/png": "[encoded data removed]",
      "text/plain": [
       "<Figure size 1200x300 with 2 Axes>"
      ]
     },
     "metadata": {},
     "output_type": "display_data"
    }
   ],
   "source": [
    "BATCH_SIZE = 64\n",
    "EPOCHS = 15\n",
    "\n",
    "training_data = DNNmodels.CustomImageDataset(X_train, y_train, model_type='cnn')\n",
    "val_data = DNNmodels.CustomImageDataset(X_test, y_test, model_type='cnn')\n",
    "# create Dataloader for cnn\n",
    "train_dataloader = DataLoader(training_data, batch_size=BATCH_SIZE, shuffle=True)\n",
    "val_dataloader = DataLoader(val_data, batch_size=BATCH_SIZE, shuffle=False)\n",
    "\n",
    "model_cnn = DNNmodels.CNN().to(device)\n",
    "print(model_cnn)\n",
    "\n",
    "loss_fn = nn.CrossEntropyLoss()\n",
    "optimizer = torch.optim.Adam(model_cnn.parameters(), lr=0.0005)\n",
    "early_stop_callback = DNNmodels.EarlyStopping()\n",
    "\n",
    "fig, axs = plt.subplots(1,2, figsize=(12,3))\n",
    "plt.suptitle('Convolutional neural network')\n",
    "result = {'avg_loss':[], 'acc':[], 'epoch':[]}\n",
    "\n",
    "for t in range(EPOCHS):\n",
    "    print(f\"Epoch {t+1}\\n-------------------------------\")\n",
    "    train(train_dataloader, model_cnn, loss_fn, optimizer)\n",
    "    test(val_dataloader, model_cnn, loss_fn, result)\n",
    "    result['epoch'].append(t)\n",
    "    early_stop_callback(result['avg_loss'][-1])\n",
    "    if early_stop_callback.early_stop:\n",
    "        break\n",
    "    plot_results(axs, result)"
   ]
  },
  {
   "cell_type": "code",
   "execution_count": 17,
   "metadata": {},
   "outputs": [],
   "source": [
    "torch.save(model_cnn.state_dict(), './model_cnn.pt')"
   ]
  },
  {
   "cell_type": "code",
   "execution_count": 5,
   "metadata": {},
   "outputs": [
    {
     "data": {
      "text/plain": [
       "CNN(\n",
       "  (conv1): Conv2d(1, 16, kernel_size=(4, 4), stride=(1, 1))\n",
       "  (relu1): ReLU()\n",
       "  (conv2): Conv2d(16, 8, kernel_size=(2, 2), stride=(1, 1))\n",
       "  (relu2): ReLU()\n",
       "  (max_pool2): MaxPool2d(kernel_size=2, stride=2, padding=0, dilation=1, ceil_mode=False)\n",
       "  (fc1): Linear(in_features=1152, out_features=128, bias=True)\n",
       "  (fc2): Linear(in_features=128, out_features=10, bias=True)\n",
       ")"
      ]
     },
     "execution_count": 5,
     "metadata": {},
     "output_type": "execute_result"
    }
   ],
   "source": [
    "model_cnn = DNNmodels.CNN()\n",
    "model_cnn.load_state_dict(torch.load('./model_cnn.pt'))\n",
    "model_cnn.eval()"
   ]
  },
  {
   "cell_type": "code",
   "execution_count": 6,
   "metadata": {},
   "outputs": [],
   "source": [
    "with open('./onlinehd.pickle', 'br') as f:\n",
    "    model_onlinehd = pickle.load(f)"
   ]
  },
  {
   "attachments": {},
   "cell_type": "markdown",
   "metadata": {},
   "source": [
    "### FGSM"
   ]
  },
  {
   "cell_type": "code",
   "execution_count": 7,
   "metadata": {},
   "outputs": [
    {
     "name": "stderr",
     "output_type": "stream",
     "text": [
      "  0%|          | 0/1000 [00:00<?, ?it/s][W NNPACK.cpp:64] Could not initialize NNPACK! Reason: Unsupported hardware.\n",
      "100%|██████████| 1000/1000 [00:01<00:00, 674.21it/s]\n"
     ]
    },
    {
     "name": "stdout",
     "output_type": "stream",
     "text": [
      "\n",
      "FGSM Attack with epsilon = 0.01000 | Elapsed time: 1.5694608330000008 seconds.\n",
      "Accuracy: Before the attack -> 97.20%\t|\tAfter the attack -> 95.70%\n",
      "mean of norm=0.009999999776482582\n"
     ]
    },
    {
     "data": {
      "image/png": "[encoded data removed]",
      "text/plain": [
       "<Figure size 640x480 with 2 Axes>"
      ]
     },
     "metadata": {},
     "output_type": "display_data"
    },
    {
     "name": "stderr",
     "output_type": "stream",
     "text": [
      "100%|██████████| 1000/1000 [00:01<00:00, 681.06it/s]\n"
     ]
    },
    {
     "name": "stdout",
     "output_type": "stream",
     "text": [
      "\n",
      "FGSM Attack with epsilon = 0.02000 | Elapsed time: 1.4744856249999998 seconds.\n",
      "Accuracy: Before the attack -> 97.20%\t|\tAfter the attack -> 94.50%\n",
      "mean of norm=0.019999997690320015\n"
     ]
    },
    {
     "data": {
      "image/png": "[encoded data removed]",
      "text/plain": [
       "<Figure size 640x480 with 2 Axes>"
      ]
     },
     "metadata": {},
     "output_type": "display_data"
    },
    {
     "name": "stderr",
     "output_type": "stream",
     "text": [
      "100%|██████████| 1000/1000 [00:01<00:00, 718.50it/s]\n"
     ]
    },
    {
     "name": "stdout",
     "output_type": "stream",
     "text": [
      "\n",
      "FGSM Attack with epsilon = 0.03000 | Elapsed time: 1.3988861250000042 seconds.\n",
      "Accuracy: Before the attack -> 97.20%\t|\tAfter the attack -> 93.20%\n",
      "mean of norm=0.030000001192092896\n"
     ]
    },
    {
     "data": {
      "image/png": "[encoded data removed]",
      "text/plain": [
       "<Figure size 640x480 with 2 Axes>"
      ]
     },
     "metadata": {},
     "output_type": "display_data"
    },
    {
     "name": "stderr",
     "output_type": "stream",
     "text": [
      "100%|██████████| 1000/1000 [00:01<00:00, 732.46it/s]\n"
     ]
    },
    {
     "name": "stdout",
     "output_type": "stream",
     "text": [
      "\n",
      "FGSM Attack with epsilon = 0.04000 | Elapsed time: 1.3717309170000007 seconds.\n",
      "Accuracy: Before the attack -> 97.20%\t|\tAfter the attack -> 91.30%\n",
      "mean of norm=0.03999999910593033\n"
     ]
    },
    {
     "data": {
      "image/png": "[encoded data removed]",
      "text/plain": [
       "<Figure size 640x480 with 2 Axes>"
      ]
     },
     "metadata": {},
     "output_type": "display_data"
    },
    {
     "name": "stderr",
     "output_type": "stream",
     "text": [
      "100%|██████████| 1000/1000 [00:01<00:00, 634.41it/s]\n"
     ]
    },
    {
     "name": "stdout",
     "output_type": "stream",
     "text": [
      "\n",
      "FGSM Attack with epsilon = 0.05000 | Elapsed time: 1.583491666999997 seconds.\n",
      "Accuracy: Before the attack -> 97.20%\t|\tAfter the attack -> 88.30%\n",
      "mean of norm=0.05000000074505806\n"
     ]
    },
    {
     "data": {
      "image/png": "[encoded data removed]",
      "text/plain": [
       "<Figure size 640x480 with 2 Axes>"
      ]
     },
     "metadata": {},
     "output_type": "display_data"
    },
    {
     "name": "stderr",
     "output_type": "stream",
     "text": [
      "100%|██████████| 1000/1000 [00:01<00:00, 703.86it/s]\n"
     ]
    },
    {
     "name": "stdout",
     "output_type": "stream",
     "text": [
      "\n",
      "FGSM Attack with epsilon = 0.06000 | Elapsed time: 1.4272884590000032 seconds.\n",
      "Accuracy: Before the attack -> 97.20%\t|\tAfter the attack -> 84.90%\n",
      "mean of norm=0.05999999865889549\n"
     ]
    },
    {
     "data": {
      "image/png": "[encoded data removed]",
      "text/plain": [
       "<Figure size 640x480 with 2 Axes>"
      ]
     },
     "metadata": {},
     "output_type": "display_data"
    },
    {
     "name": "stderr",
     "output_type": "stream",
     "text": [
      "100%|██████████| 1000/1000 [00:01<00:00, 747.24it/s]\n"
     ]
    },
    {
     "name": "stdout",
     "output_type": "stream",
     "text": [
      "\n",
      "FGSM Attack with epsilon = 0.07000 | Elapsed time: 1.3445218330000017 seconds.\n",
      "Accuracy: Before the attack -> 97.20%\t|\tAfter the attack -> 80.80%\n",
      "mean of norm=0.07000000029802322\n"
     ]
    },
    {
     "data": {
      "image/png": "[encoded data removed]",
      "text/plain": [
       "<Figure size 640x480 with 2 Axes>"
      ]
     },
     "metadata": {},
     "output_type": "display_data"
    },
    {
     "name": "stderr",
     "output_type": "stream",
     "text": [
      "100%|██████████| 1000/1000 [00:01<00:00, 573.98it/s]\n"
     ]
    },
    {
     "name": "stdout",
     "output_type": "stream",
     "text": [
      "\n",
      "FGSM Attack with epsilon = 0.08000 | Elapsed time: 1.749397542000004 seconds.\n",
      "Accuracy: Before the attack -> 97.20%\t|\tAfter the attack -> 74.90%\n",
      "mean of norm=0.07999999821186066\n"
     ]
    },
    {
     "data": {
      "image/png": "[encoded data removed]",
      "text/plain": [
       "<Figure size 640x480 with 2 Axes>"
      ]
     },
     "metadata": {},
     "output_type": "display_data"
    },
    {
     "name": "stderr",
     "output_type": "stream",
     "text": [
      "100%|██████████| 1000/1000 [00:01<00:00, 778.45it/s]\n"
     ]
    },
    {
     "name": "stdout",
     "output_type": "stream",
     "text": [
      "\n",
      "FGSM Attack with epsilon = 0.09000 | Elapsed time: 1.2912914579999963 seconds.\n",
      "Accuracy: Before the attack -> 97.20%\t|\tAfter the attack -> 69.00%\n",
      "mean of norm=0.09000000357627869\n"
     ]
    },
    {
     "data": {
      "image/png": "[encoded data removed]",
      "text/plain": [
       "<Figure size 640x480 with 2 Axes>"
      ]
     },
     "metadata": {},
     "output_type": "display_data"
    },
    {
     "name": "stderr",
     "output_type": "stream",
     "text": [
      "100%|██████████| 1000/1000 [00:01<00:00, 682.95it/s]\n"
     ]
    },
    {
     "name": "stdout",
     "output_type": "stream",
     "text": [
      "\n",
      "FGSM Attack with epsilon = 0.10000 | Elapsed time: 1.4754433749999976 seconds.\n",
      "Accuracy: Before the attack -> 97.20%\t|\tAfter the attack -> 64.00%\n",
      "mean of norm=0.10000000149011612\n"
     ]
    },
    {
     "data": {
      "image/png": "[encoded data removed]",
      "text/plain": [
       "<Figure size 640x480 with 2 Axes>"
      ]
     },
     "metadata": {},
     "output_type": "display_data"
    }
   ],
   "source": [
    "epsilons = np.linspace(0.01, 0.1, 10) # torch.Tensor([0.01, 0.03, 0.07, 0.1])\n",
    "verbose = False\n",
    "criterion = nn.CrossEntropyLoss()\n",
    "#criterion = lambda output, model, label: (spatial.cos_cdist(output, model) - label).mean()\n",
    "#criterion = lambda output, model, label: output.mean()\n",
    "N_VAL_SAMPLES = X_test.data.shape[0]\n",
    "\n",
    "attack_samples, acc_results = attack_fgsm_dnn.attack(\n",
    "    model_cnn, X_train.reshape(len(X_train), 28, 28), X_test.reshape(len(X_test), 28, 28), y_test, epsilons, classes, criterion, N_VAL_SAMPLES, 'cpu')"
   ]
  },
  {
   "cell_type": "code",
   "execution_count": 8,
   "metadata": {},
   "outputs": [
    {
     "name": "stdout",
     "output_type": "stream",
     "text": [
      "0.01 0.009999999776482582 0.9549999833106995 0.9570000171661377\n",
      "0.020000000000000004 0.019999997690320015 0.9480000138282776 0.9449999928474426\n",
      "0.030000000000000006 0.030000001192092896 0.9440000057220459 0.9319999814033508\n",
      "0.04000000000000001 0.03999999910593033 0.9440000057220459 0.9129999876022339\n",
      "0.05000000000000001 0.05000000074505806 0.9380000233650208 0.8830000162124634\n",
      "0.06000000000000001 0.05999999865889549 0.9340000152587891 0.8489999771118164\n",
      "0.07 0.07000000029802322 0.9259999990463257 0.8080000281333923\n",
      "0.08 0.07999999821186066 0.9129999876022339 0.7490000128746033\n",
      "0.09000000000000001 0.09000000357627869 0.9049999713897705 0.6899999976158142\n",
      "0.1 0.10000000149011612 0.8999999761581421 0.6399999856948853\n"
     ]
    }
   ],
   "source": [
    "for e, X_test_noised in zip(epsilons, attack_samples):\n",
    "    yhat_test_onlinehd = model_onlinehd(X_test_noised.reshape(-1, 28*28))\n",
    "    yhat_test_cnn = model_cnn(X_test_noised.reshape(-1, 1, 28, 28)).argmax(1)\n",
    "\n",
    "    onlinehd_attacked_acc = (y_test == yhat_test_onlinehd).float().mean().item()\n",
    "    cnn_attacked_acc = (y_test == yhat_test_cnn).float().mean().item()\n",
    "    distance = (X_test_noised.reshape(-1, 28*28) - X_test).norm(dim=-1).mean().item()\n",
    "\n",
    "    print(e, distance, onlinehd_attacked_acc, cnn_attacked_acc)"
   ]
  },
  {
   "attachments": {},
   "cell_type": "markdown",
   "metadata": {},
   "source": [
    "### Deep Fool"
   ]
  },
  {
   "cell_type": "code",
   "execution_count": 10,
   "metadata": {},
   "outputs": [
    {
     "name": "stderr",
     "output_type": "stream",
     "text": [
      "100%|██████████| 1000/1000 [01:40<00:00,  9.98it/s]\n"
     ]
    },
    {
     "name": "stdout",
     "output_type": "stream",
     "text": [
      "100.21458411216736\n",
      "0.01 0.00792520958930254 0.9539999961853027 0.9549999833106995\n"
     ]
    },
    {
     "name": "stderr",
     "output_type": "stream",
     "text": [
      "100%|██████████| 1000/1000 [01:36<00:00, 10.36it/s]\n"
     ]
    },
    {
     "name": "stdout",
     "output_type": "stream",
     "text": [
      "96.53656911849976\n",
      "0.02 0.01585041917860508 0.9490000009536743 0.9440000057220459\n"
     ]
    },
    {
     "name": "stderr",
     "output_type": "stream",
     "text": [
      "100%|██████████| 1000/1000 [01:20<00:00, 12.47it/s]\n"
     ]
    },
    {
     "name": "stdout",
     "output_type": "stream",
     "text": [
      "80.16735196113586\n",
      "0.03 0.023775631561875343 0.9440000057220459 0.9120000004768372\n"
     ]
    },
    {
     "name": "stderr",
     "output_type": "stream",
     "text": [
      "100%|██████████| 1000/1000 [01:13<00:00, 13.65it/s]\n"
     ]
    },
    {
     "name": "stdout",
     "output_type": "stream",
     "text": [
      "73.23939800262451\n",
      "0.04 0.03170083835721016 0.9409999847412109 0.8640000224113464\n"
     ]
    },
    {
     "name": "stderr",
     "output_type": "stream",
     "text": [
      "100%|██████████| 1000/1000 [01:06<00:00, 14.95it/s]\n"
     ]
    },
    {
     "name": "stdout",
     "output_type": "stream",
     "text": [
      "66.876060962677\n",
      "0.05 0.03962605446577072 0.9279999732971191 0.8050000071525574\n"
     ]
    },
    {
     "name": "stderr",
     "output_type": "stream",
     "text": [
      "100%|██████████| 1000/1000 [00:58<00:00, 17.23it/s]\n"
     ]
    },
    {
     "name": "stdout",
     "output_type": "stream",
     "text": [
      "58.051953077316284\n",
      "0.060000000000000005 0.04755126312375069 0.9169999957084656 0.7110000252723694\n"
     ]
    },
    {
     "name": "stderr",
     "output_type": "stream",
     "text": [
      "100%|██████████| 1000/1000 [00:55<00:00, 18.10it/s]\n"
     ]
    },
    {
     "name": "stdout",
     "output_type": "stream",
     "text": [
      "55.2616651058197\n",
      "0.06999999999999999 0.05547647178173065 0.9089999794960022 0.6399999856948853\n"
     ]
    },
    {
     "name": "stderr",
     "output_type": "stream",
     "text": [
      "100%|██████████| 1000/1000 [00:46<00:00, 21.53it/s]\n"
     ]
    },
    {
     "name": "stdout",
     "output_type": "stream",
     "text": [
      "46.44650387763977\n",
      "0.08 0.06340167671442032 0.8989999890327454 0.5320000052452087\n"
     ]
    },
    {
     "name": "stderr",
     "output_type": "stream",
     "text": [
      "100%|██████████| 1000/1000 [00:39<00:00, 25.62it/s]\n"
     ]
    },
    {
     "name": "stdout",
     "output_type": "stream",
     "text": [
      "39.02971124649048\n",
      "0.09 0.07132689654827118 0.8920000195503235 0.4410000145435333\n"
     ]
    },
    {
     "name": "stderr",
     "output_type": "stream",
     "text": [
      "100%|██████████| 1000/1000 [00:34<00:00, 28.60it/s]\n"
     ]
    },
    {
     "name": "stdout",
     "output_type": "stream",
     "text": [
      "34.97123193740845\n",
      "0.09999999999999999 0.07925210893154144 0.8820000290870667 0.38100001215934753\n"
     ]
    },
    {
     "name": "stderr",
     "output_type": "stream",
     "text": [
      "100%|██████████| 1000/1000 [00:31<00:00, 32.04it/s]\n"
     ]
    },
    {
     "name": "stdout",
     "output_type": "stream",
     "text": [
      "31.20901894569397\n",
      "0.11 0.08717731386423111 0.8709999918937683 0.33000001311302185\n"
     ]
    },
    {
     "name": "stderr",
     "output_type": "stream",
     "text": [
      "100%|██████████| 1000/1000 [00:28<00:00, 35.11it/s]\n"
     ]
    },
    {
     "name": "stdout",
     "output_type": "stream",
     "text": [
      "28.484506845474243\n",
      "0.12 0.09510252624750137 0.8629999756813049 0.28700000047683716\n"
     ]
    },
    {
     "name": "stderr",
     "output_type": "stream",
     "text": [
      "100%|██████████| 1000/1000 [00:28<00:00, 35.16it/s]\n"
     ]
    },
    {
     "name": "stdout",
     "output_type": "stream",
     "text": [
      "28.444101095199585\n",
      "0.13 0.10302773118019104 0.8529999852180481 0.25999999046325684\n"
     ]
    },
    {
     "name": "stderr",
     "output_type": "stream",
     "text": [
      "100%|██████████| 1000/1000 [00:25<00:00, 39.97it/s]\n"
     ]
    },
    {
     "name": "stdout",
     "output_type": "stream",
     "text": [
      "25.01942014694214\n",
      "0.14 0.1109529435634613 0.8460000157356262 0.23199999332427979\n"
     ]
    },
    {
     "name": "stderr",
     "output_type": "stream",
     "text": [
      "100%|██████████| 1000/1000 [00:24<00:00, 40.19it/s]\n"
     ]
    },
    {
     "name": "stdout",
     "output_type": "stream",
     "text": [
      "24.88016390800476\n",
      "0.15000000000000002 0.11887814849615097 0.8299999833106995 0.22300000488758087\n"
     ]
    },
    {
     "name": "stderr",
     "output_type": "stream",
     "text": [
      "100%|██████████| 1000/1000 [00:24<00:00, 41.41it/s]\n"
     ]
    },
    {
     "name": "stdout",
     "output_type": "stream",
     "text": [
      "24.148228883743286\n",
      "0.16 0.12680335342884064 0.8159999847412109 0.21899999678134918\n"
     ]
    },
    {
     "name": "stderr",
     "output_type": "stream",
     "text": [
      "100%|██████████| 1000/1000 [00:24<00:00, 41.30it/s]\n"
     ]
    },
    {
     "name": "stdout",
     "output_type": "stream",
     "text": [
      "24.21412992477417\n",
      "0.17 0.1347285807132721 0.8090000152587891 0.2150000035762787\n"
     ]
    },
    {
     "name": "stderr",
     "output_type": "stream",
     "text": [
      "100%|██████████| 1000/1000 [00:23<00:00, 41.78it/s]\n"
     ]
    },
    {
     "name": "stdout",
     "output_type": "stream",
     "text": [
      "23.939368963241577\n",
      "0.18000000000000002 0.14265379309654236 0.7940000295639038 0.2150000035762787\n"
     ]
    },
    {
     "name": "stderr",
     "output_type": "stream",
     "text": [
      "100%|██████████| 1000/1000 [00:23<00:00, 43.19it/s]\n"
     ]
    },
    {
     "name": "stdout",
     "output_type": "stream",
     "text": [
      "23.15256690979004\n",
      "0.19 0.15057900547981262 0.7799999713897705 0.2150000035762787\n"
     ]
    },
    {
     "name": "stderr",
     "output_type": "stream",
     "text": [
      "100%|██████████| 1000/1000 [00:25<00:00, 38.87it/s]\n"
     ]
    },
    {
     "name": "stdout",
     "output_type": "stream",
     "text": [
      "25.73029589653015\n",
      "0.2 0.15850421786308289 0.7649999856948853 0.2150000035762787\n"
     ]
    }
   ],
   "source": [
    "for max_update in np.linspace(0.01, 0.2, 20):\n",
    "    X_te_cln = X_test.clone().reshape(-1, 1, 28, 28)\n",
    "    Y_te_cln = y_test.clone()\n",
    "\n",
    "    x_test_adv = torch.zeros(X_te_cln.shape)\n",
    "    x_test_pert = torch.zeros(X_te_cln.shape[0], 28, 28)\n",
    "\n",
    "    st = time.time()\n",
    "    for i in tqdm.tqdm(range(X_test.shape[0])):\n",
    "        x_test_adv[i], x_test_pert[i] = attack_df_dnn.deepfool(X_te_cln[i].reshape(1, 28, 28), model_cnn, epsilon=max_update)\n",
    "    print(time.time() - st)\n",
    "    \n",
    "    X_test_noised = x_test_adv.reshape(-1, features)\n",
    "\n",
    "    yhat_test_onlinehd = model_onlinehd(X_test_noised.reshape(-1, 28*28))\n",
    "    yhat_test_cnn = model_cnn(X_test_noised.reshape(-1, 1, 28, 28)).argmax(1)\n",
    "\n",
    "    onlinehd_attacked_acc = (y_test == yhat_test_onlinehd).float().mean().item()\n",
    "    cnn_attacked_acc = (y_test == yhat_test_cnn).float().mean().item()\n",
    "    distance = (X_test_noised.reshape(-1, 28*28) - X_test).norm(dim=-1).mean().item()\n",
    "\n",
    "    print(max_update, distance, onlinehd_attacked_acc, cnn_attacked_acc)"
   ]
  },
  {
   "cell_type": "code",
   "execution_count": 11,
   "metadata": {},
   "outputs": [
    {
     "name": "stderr",
     "output_type": "stream",
     "text": [
      "100%|██████████| 1000/1000 [00:23<00:00, 43.38it/s]\n"
     ]
    },
    {
     "name": "stdout",
     "output_type": "stream",
     "text": [
      "23.05231285095215\n",
      "None 0.16146865487098694 0.781000018119812 0.2150000035762787\n"
     ]
    }
   ],
   "source": [
    "X_te_cln = X_test.clone().reshape(-1, 1, 28, 28)\n",
    "Y_te_cln = y_test.clone()\n",
    "\n",
    "x_test_adv = torch.zeros(X_te_cln.shape)\n",
    "x_test_pert = torch.zeros(X_te_cln.shape[0], 28, 28)\n",
    "\n",
    "st = time.time()\n",
    "for i in tqdm.tqdm(range(X_test.shape[0])):\n",
    "    x_test_adv[i], x_test_pert[i] = attack_df_dnn.deepfool(X_te_cln[i].reshape(1, 28, 28), model_cnn, epsilon=None)\n",
    "print(time.time() - st)\n",
    "\n",
    "X_test_noised = x_test_adv.reshape(-1, features)\n",
    "\n",
    "yhat_test_onlinehd = model_onlinehd(X_test_noised.reshape(-1, 28*28))\n",
    "yhat_test_cnn = model_cnn(X_test_noised.reshape(-1, 1, 28, 28)).argmax(1)\n",
    "\n",
    "onlinehd_attacked_acc = (y_test == yhat_test_onlinehd).float().mean().item()\n",
    "cnn_attacked_acc = (y_test == yhat_test_cnn).float().mean().item()\n",
    "distance = (X_test_noised.reshape(-1, 28*28) - X_test).norm(dim=-1).mean().item()\n",
    "\n",
    "print(None, distance, onlinehd_attacked_acc, cnn_attacked_acc)"
   ]
  },
  {
   "attachments": {},
   "cell_type": "markdown",
   "metadata": {},
   "source": [
    "### Genetic Attack"
   ]
  },
  {
   "cell_type": "code",
   "execution_count": 12,
   "metadata": {},
   "outputs": [
    {
     "name": "stdout",
     "output_type": "stream",
     "text": [
      "Alpha : 0.0001\n"
     ]
    },
    {
     "name": "stderr",
     "output_type": "stream",
     "text": [
      "100%|██████████| 1000/1000 [00:00<00:00, 96984.85it/s]\n",
      "100%|██████████| 1000/1000 [33:23<00:00,  2.00s/it]\n"
     ]
    },
    {
     "name": "stdout",
     "output_type": "stream",
     "text": [
      "2003.330106973648\n",
      "0.0001 0.0029405667446553707 0.9570000171661377 0.9710000157356262\n",
      "Alpha : 0.0002\n"
     ]
    },
    {
     "name": "stderr",
     "output_type": "stream",
     "text": [
      "100%|██████████| 1000/1000 [00:00<00:00, 101749.16it/s]\n",
      "100%|██████████| 1000/1000 [34:30<00:00,  2.07s/it]\n"
     ]
    },
    {
     "name": "stdout",
     "output_type": "stream",
     "text": [
      "2070.620232820511\n",
      "0.0002 0.005878498777747154 0.9570000171661377 0.9710000157356262\n",
      "Alpha : 0.00030000000000000003\n"
     ]
    },
    {
     "name": "stderr",
     "output_type": "stream",
     "text": [
      "100%|██████████| 1000/1000 [00:00<00:00, 102395.00it/s]\n",
      " 93%|█████████▎| 928/1000 [32:40<02:36,  2.17s/it]"
     ]
    },
    {
     "ename": "",
     "evalue": "",
     "output_type": "error",
     "traceback": [
      "\u001b[1;31mCanceled future for execute_request message before replies were done"
     ]
    },
    {
     "ename": "",
     "evalue": "",
     "output_type": "error",
     "traceback": [
      "\u001b[1;31mThe Kernel crashed while executing code in the the current cell or a previous cell. Please review the code in the cell(s) to identify a possible cause of the failure. Click <a href='https://aka.ms/vscodeJupyterKernelCrash'>here</a> for more info. View Jupyter <a href='command:jupyter.viewOutput'>log</a> for further details."
     ]
    }
   ],
   "source": [
    "alpha_lis = np.linspace(0.0001, 0.002, 20) #[0.01, 0.03, 0.07, 0.1]\n",
    "delta = 0.5\n",
    "nData = len(alpha_lis)\n",
    "model_accuracy_GA = np.zeros(nData)\n",
    "\n",
    "x_test_samp = X_test.cpu()\n",
    "y_test_samp = y_test.cpu()\n",
    "\n",
    "for n in range(nData):\n",
    "    alpha = alpha_lis[n]\n",
    "    print(f\"Alpha : {alpha}\")\n",
    "\n",
    "    st = time.time()\n",
    "    x_test_GA, _ = attack_gen_dnn.make_GA(model_cnn, delta, alpha, x_test_samp.reshape(-1, 28*28), y_test_samp)\n",
    "    print(time.time() - st)\n",
    "    \n",
    "    X_test_noised = x_test_GA.reshape(-1, features)\n",
    "\n",
    "    yhat_test = model_onlinehd(X_test_noised.reshape(-1, 28*28))\n",
    "    yhat_test_cnn = model_cnn(X_test_noised.reshape(-1, 1, 28, 28)).argmax(1)\n",
    "\n",
    "    onlinehd_attacked_acc = (y_test == yhat_test).float().mean().item()\n",
    "    cnn_attacked_acc = (y_test == yhat_test_cnn).float().mean().item()\n",
    "    distance = (X_test_noised.reshape(-1, 28*28) - X_test).norm(dim=-1).mean().item()\n",
    "\n",
    "    print(alpha, distance, onlinehd_attacked_acc, cnn_attacked_acc)\n",
    "\n",
    "#model_accuracy_GA"
   ]
  },
  {
   "cell_type": "code",
   "execution_count": 7,
   "metadata": {},
   "outputs": [
    {
     "name": "stdout",
     "output_type": "stream",
     "text": [
      "Alpha : 0.00030000000000000003\n"
     ]
    },
    {
     "name": "stderr",
     "output_type": "stream",
     "text": [
      "100%|██████████| 1000/1000 [00:00<00:00, 63645.53it/s]\n",
      "100%|██████████| 1000/1000 [38:07<00:00,  2.29s/it]\n"
     ]
    },
    {
     "name": "stdout",
     "output_type": "stream",
     "text": [
      "2287.2855808734894\n",
      "0.00030000000000000003 0.008786112070083618 0.9520000219345093 0.9739999771118164\n",
      "Alpha : 0.0004\n"
     ]
    },
    {
     "name": "stderr",
     "output_type": "stream",
     "text": [
      "100%|██████████| 1000/1000 [00:00<00:00, 97732.87it/s]\n",
      "100%|██████████| 1000/1000 [38:51<00:00,  2.33s/it]\n"
     ]
    },
    {
     "name": "stdout",
     "output_type": "stream",
     "text": [
      "2331.9237020015717\n",
      "0.0004 0.01165953278541565 0.953000009059906 0.9710000157356262\n",
      "Alpha : 0.0005\n"
     ]
    },
    {
     "name": "stderr",
     "output_type": "stream",
     "text": [
      "100%|██████████| 1000/1000 [00:00<00:00, 99480.67it/s]\n",
      "100%|██████████| 1000/1000 [44:03<00:00,  2.64s/it]\n"
     ]
    },
    {
     "name": "stdout",
     "output_type": "stream",
     "text": [
      "2644.0187859535217\n",
      "0.0005 0.014438522979617119 0.953000009059906 0.9739999771118164\n",
      "Alpha : 0.0006000000000000001\n"
     ]
    },
    {
     "name": "stderr",
     "output_type": "stream",
     "text": [
      "100%|██████████| 1000/1000 [00:00<00:00, 82155.88it/s]\n",
      "100%|██████████| 1000/1000 [49:25<00:00,  2.97s/it]\n"
     ]
    },
    {
     "name": "stdout",
     "output_type": "stream",
     "text": [
      "2965.210088968277\n",
      "0.0006000000000000001 0.017270248383283615 0.9520000219345093 0.972000002861023\n",
      "Alpha : 0.0007000000000000001\n"
     ]
    },
    {
     "name": "stderr",
     "output_type": "stream",
     "text": [
      "100%|██████████| 1000/1000 [00:00<00:00, 67635.88it/s]\n",
      "100%|██████████| 1000/1000 [46:51<00:00,  2.81s/it]\n"
     ]
    },
    {
     "name": "stdout",
     "output_type": "stream",
     "text": [
      "2811.140487909317\n",
      "0.0007000000000000001 0.0201843474060297 0.9520000219345093 0.9729999899864197\n",
      "Alpha : 0.0008\n"
     ]
    },
    {
     "name": "stderr",
     "output_type": "stream",
     "text": [
      "100%|██████████| 1000/1000 [00:00<00:00, 100594.89it/s]\n",
      "100%|██████████| 1000/1000 [45:57<00:00,  2.76s/it]\n"
     ]
    },
    {
     "name": "stdout",
     "output_type": "stream",
     "text": [
      "2757.237431049347\n",
      "0.0008 0.02296363189816475 0.9520000219345093 0.9739999771118164\n",
      "Alpha : 0.0009000000000000001\n"
     ]
    },
    {
     "name": "stderr",
     "output_type": "stream",
     "text": [
      "100%|██████████| 1000/1000 [00:00<00:00, 85580.58it/s]\n",
      "100%|██████████| 1000/1000 [41:10<00:00,  2.47s/it]\n"
     ]
    },
    {
     "name": "stdout",
     "output_type": "stream",
     "text": [
      "2470.456738948822\n",
      "0.0009000000000000001 0.025799976661801338 0.9509999752044678 0.9729999899864197\n",
      "Alpha : 0.001\n"
     ]
    },
    {
     "name": "stderr",
     "output_type": "stream",
     "text": [
      "100%|██████████| 1000/1000 [00:00<00:00, 88526.65it/s]\n",
      "100%|██████████| 1000/1000 [43:36<00:00,  2.62s/it]\n"
     ]
    },
    {
     "name": "stdout",
     "output_type": "stream",
     "text": [
      "2616.37770986557\n",
      "0.001 0.028515640646219254 0.9509999752044678 0.968999981880188\n",
      "Alpha : 0.0011\n"
     ]
    },
    {
     "name": "stderr",
     "output_type": "stream",
     "text": [
      "100%|██████████| 1000/1000 [00:00<00:00, 96431.87it/s]\n",
      "100%|██████████| 1000/1000 [35:41<00:00,  2.14s/it]\n"
     ]
    },
    {
     "name": "stdout",
     "output_type": "stream",
     "text": [
      "2141.600157737732\n",
      "0.0011 0.03130970522761345 0.9490000009536743 0.9729999899864197\n",
      "Alpha : 0.0012000000000000001\n"
     ]
    },
    {
     "name": "stderr",
     "output_type": "stream",
     "text": [
      "100%|██████████| 1000/1000 [00:00<00:00, 100928.94it/s]\n",
      "100%|██████████| 1000/1000 [36:17<00:00,  2.18s/it]\n"
     ]
    },
    {
     "name": "stdout",
     "output_type": "stream",
     "text": [
      "2177.6887788772583\n",
      "0.0012000000000000001 0.03410769999027252 0.9509999752044678 0.972000002861023\n",
      "Alpha : 0.0013000000000000002\n"
     ]
    },
    {
     "name": "stderr",
     "output_type": "stream",
     "text": [
      "100%|██████████| 1000/1000 [00:00<00:00, 97767.05it/s]\n",
      " 22%|██▏       | 220/1000 [08:49<26:11,  2.01s/it]"
     ]
    },
    {
     "ename": "",
     "evalue": "",
     "output_type": "error",
     "traceback": [
      "\u001b[1;31mCanceled future for execute_request message before replies were done"
     ]
    },
    {
     "ename": "",
     "evalue": "",
     "output_type": "error",
     "traceback": [
      "\u001b[1;31mThe Kernel crashed while executing code in the the current cell or a previous cell. Please review the code in the cell(s) to identify a possible cause of the failure. Click <a href='https://aka.ms/vscodeJupyterKernelCrash'>here</a> for more info. View Jupyter <a href='command:jupyter.viewOutput'>log</a> for further details."
     ]
    }
   ],
   "source": [
    "alpha_lis = np.linspace(0.0001, 0.002, 20) #[0.01, 0.03, 0.07, 0.1]\n",
    "delta = 0.5\n",
    "nData = len(alpha_lis)\n",
    "model_accuracy_GA = np.zeros(nData)\n",
    "\n",
    "x_test_samp = X_test.cpu()\n",
    "y_test_samp = y_test.cpu()\n",
    "\n",
    "for n in range(2, nData):\n",
    "    alpha = alpha_lis[n]\n",
    "    print(f\"Alpha : {alpha}\")\n",
    "\n",
    "    st = time.time()\n",
    "    x_test_GA, _ = attack_gen_dnn.make_GA(model_cnn, delta, alpha, x_test_samp.reshape(-1, 28*28), y_test_samp)\n",
    "    print(time.time() - st)\n",
    "    \n",
    "    X_test_noised = x_test_GA.reshape(-1, features)\n",
    "\n",
    "    yhat_test = model_onlinehd(X_test_noised.reshape(-1, 28*28))\n",
    "    yhat_test_cnn = model_cnn(X_test_noised.reshape(-1, 1, 28, 28)).argmax(1)\n",
    "\n",
    "    onlinehd_attacked_acc = (y_test == yhat_test).float().mean().item()\n",
    "    cnn_attacked_acc = (y_test == yhat_test_cnn).float().mean().item()\n",
    "    distance = (X_test_noised.reshape(-1, 28*28) - X_test).norm(dim=-1).mean().item()\n",
    "\n",
    "    print(alpha, distance, onlinehd_attacked_acc, cnn_attacked_acc)\n",
    "\n",
    "#model_accuracy_GA"
   ]
  },
  {
   "cell_type": "code",
   "execution_count": 7,
   "metadata": {},
   "outputs": [
    {
     "name": "stdout",
     "output_type": "stream",
     "text": [
      "Alpha : 0.0013000000000000002\n"
     ]
    },
    {
     "name": "stderr",
     "output_type": "stream",
     "text": [
      "100%|██████████| 1000/1000 [00:00<00:00, 76107.86it/s]\n",
      "100%|██████████| 1000/1000 [51:09<00:00,  3.07s/it]\n"
     ]
    },
    {
     "name": "stdout",
     "output_type": "stream",
     "text": [
      "3069.2152421474457\n",
      "0.0013000000000000002 0.03678363561630249 0.9599999785423279 0.9679999947547913\n",
      "Alpha : 0.0014000000000000002\n"
     ]
    },
    {
     "name": "stderr",
     "output_type": "stream",
     "text": [
      "100%|██████████| 1000/1000 [00:00<00:00, 84947.93it/s]\n",
      "100%|██████████| 1000/1000 [50:27<00:00,  3.03s/it]\n"
     ]
    },
    {
     "name": "stdout",
     "output_type": "stream",
     "text": [
      "3027.1031098365784\n",
      "0.0014000000000000002 0.03937864676117897 0.9570000171661377 0.9639999866485596\n",
      "Alpha : 0.0015\n"
     ]
    },
    {
     "name": "stderr",
     "output_type": "stream",
     "text": [
      "100%|██████████| 1000/1000 [00:00<00:00, 84941.05it/s]\n",
      "100%|██████████| 1000/1000 [46:24<00:00,  2.78s/it]\n"
     ]
    },
    {
     "name": "stdout",
     "output_type": "stream",
     "text": [
      "2784.8080129623413\n",
      "0.0015 0.04191560298204422 0.9570000171661377 0.9629999995231628\n",
      "Alpha : 0.0016\n"
     ]
    },
    {
     "name": "stderr",
     "output_type": "stream",
     "text": [
      "100%|██████████| 1000/1000 [00:00<00:00, 90621.04it/s]\n",
      "100%|██████████| 1000/1000 [41:52<00:00,  2.51s/it]\n"
     ]
    },
    {
     "name": "stdout",
     "output_type": "stream",
     "text": [
      "2512.244227170944\n",
      "0.0016 0.04465257376432419 0.9589999914169312 0.9639999866485596\n",
      "Alpha : 0.0017000000000000001\n"
     ]
    },
    {
     "name": "stderr",
     "output_type": "stream",
     "text": [
      "100%|██████████| 1000/1000 [00:00<00:00, 100484.03it/s]\n",
      "100%|██████████| 1000/1000 [33:17<00:00,  2.00s/it]\n"
     ]
    },
    {
     "name": "stdout",
     "output_type": "stream",
     "text": [
      "1997.1792631149292\n",
      "0.0017000000000000001 0.047534577548503876 0.9589999914169312 0.9589999914169312\n",
      "Alpha : 0.0018000000000000002\n"
     ]
    },
    {
     "name": "stderr",
     "output_type": "stream",
     "text": [
      "100%|██████████| 1000/1000 [00:00<00:00, 95383.62it/s]\n",
      " 45%|████▌     | 451/1000 [16:27<18:19,  2.00s/it]"
     ]
    },
    {
     "ename": "",
     "evalue": "",
     "output_type": "error",
     "traceback": [
      "\u001b[1;31mCanceled future for execute_request message before replies were done"
     ]
    },
    {
     "ename": "",
     "evalue": "",
     "output_type": "error",
     "traceback": [
      "\u001b[1;31mThe Kernel crashed while executing code in the the current cell or a previous cell. Please review the code in the cell(s) to identify a possible cause of the failure. Click <a href='https://aka.ms/vscodeJupyterKernelCrash'>here</a> for more info. View Jupyter <a href='command:jupyter.viewOutput'>log</a> for further details."
     ]
    }
   ],
   "source": [
    "alpha_lis = np.linspace(0.0001, 0.002, 20) #[0.01, 0.03, 0.07, 0.1]\n",
    "delta = 0.5\n",
    "nData = len(alpha_lis)\n",
    "model_accuracy_GA = np.zeros(nData)\n",
    "\n",
    "x_test_samp = X_test.cpu()\n",
    "y_test_samp = y_test.cpu()\n",
    "\n",
    "for n in range(12, nData):\n",
    "    alpha = alpha_lis[n]\n",
    "    print(f\"Alpha : {alpha}\")\n",
    "\n",
    "    st = time.time()\n",
    "    x_test_GA, _ = attack_gen_dnn.make_GA(model_cnn, delta, alpha, x_test_samp.reshape(-1, 28*28), y_test_samp)\n",
    "    print(time.time() - st)\n",
    "    \n",
    "    X_test_noised = x_test_GA.reshape(-1, features)\n",
    "\n",
    "    yhat_test = model_onlinehd(X_test_noised.reshape(-1, 28*28))\n",
    "    yhat_test_cnn = model_cnn(X_test_noised.reshape(-1, 1, 28, 28)).argmax(1)\n",
    "\n",
    "    onlinehd_attacked_acc = (y_test == yhat_test).float().mean().item()\n",
    "    cnn_attacked_acc = (y_test == yhat_test_cnn).float().mean().item()\n",
    "    distance = (X_test_noised.reshape(-1, 28*28) - X_test).norm(dim=-1).mean().item()\n",
    "\n",
    "    print(alpha, distance, onlinehd_attacked_acc, cnn_attacked_acc)\n",
    "\n",
    "#model_accuracy_GA"
   ]
  },
  {
   "cell_type": "code",
   "execution_count": 7,
   "metadata": {},
   "outputs": [
    {
     "name": "stdout",
     "output_type": "stream",
     "text": [
      "Alpha : 0.0018\n"
     ]
    },
    {
     "name": "stderr",
     "output_type": "stream",
     "text": [
      "100%|██████████| 1000/1000 [00:00<00:00, 77777.44it/s]\n",
      "100%|██████████| 1000/1000 [41:32<00:00,  2.49s/it]\n"
     ]
    },
    {
     "name": "stdout",
     "output_type": "stream",
     "text": [
      "2492.0887439250946\n",
      "0.0018 0.05007711052894592 0.9620000123977661 0.9660000205039978\n",
      "Alpha : 0.0021\n"
     ]
    },
    {
     "name": "stderr",
     "output_type": "stream",
     "text": [
      "100%|██████████| 1000/1000 [00:00<00:00, 83362.56it/s]\n",
      "100%|██████████| 1000/1000 [43:11<00:00,  2.59s/it]\n"
     ]
    },
    {
     "name": "stdout",
     "output_type": "stream",
     "text": [
      "2591.484085083008\n",
      "0.0021 0.05754612386226654 0.9589999914169312 0.9639999866485596\n",
      "Alpha : 0.0024\n"
     ]
    },
    {
     "name": "stderr",
     "output_type": "stream",
     "text": [
      "100%|██████████| 1000/1000 [00:00<00:00, 85141.06it/s]\n",
      "100%|██████████| 1000/1000 [40:20<00:00,  2.42s/it]\n"
     ]
    },
    {
     "name": "stdout",
     "output_type": "stream",
     "text": [
      "2420.032078027725\n",
      "0.0024 0.064783476293087 0.9549999833106995 0.9679999947547913\n",
      "Alpha : 0.0027\n"
     ]
    },
    {
     "name": "stderr",
     "output_type": "stream",
     "text": [
      "100%|██████████| 1000/1000 [00:00<00:00, 100229.50it/s]\n",
      "100%|██████████| 1000/1000 [32:11<00:00,  1.93s/it]\n"
     ]
    },
    {
     "name": "stdout",
     "output_type": "stream",
     "text": [
      "1931.324951171875\n",
      "0.0027 0.07135935872793198 0.9559999704360962 0.9649999737739563\n",
      "Alpha : 0.003\n"
     ]
    },
    {
     "name": "stderr",
     "output_type": "stream",
     "text": [
      "100%|██████████| 1000/1000 [00:00<00:00, 99840.61it/s]\n",
      " 88%|████████▊ | 878/1000 [27:59<03:46,  1.86s/it]"
     ]
    },
    {
     "ename": "",
     "evalue": "",
     "output_type": "error",
     "traceback": [
      "\u001b[1;31mCanceled future for execute_request message before replies were done"
     ]
    },
    {
     "ename": "",
     "evalue": "",
     "output_type": "error",
     "traceback": [
      "\u001b[1;31mThe Kernel crashed while executing code in the the current cell or a previous cell. Please review the code in the cell(s) to identify a possible cause of the failure. Click <a href='https://aka.ms/vscodeJupyterKernelCrash'>here</a> for more info. View Jupyter <a href='command:jupyter.viewOutput'>log</a> for further details."
     ]
    }
   ],
   "source": [
    "alpha_lis = [0.0018, 0.0021, 0.0024, 0.0027, 0.003, 0.0033] #[0.01, 0.03, 0.07, 0.1]\n",
    "delta = 0.5\n",
    "nData = len(alpha_lis)\n",
    "model_accuracy_GA = np.zeros(nData)\n",
    "\n",
    "x_test_samp = X_test.cpu()\n",
    "y_test_samp = y_test.cpu()\n",
    "\n",
    "for n in range(nData):\n",
    "    alpha = alpha_lis[n]\n",
    "    print(f\"Alpha : {alpha}\")\n",
    "\n",
    "    st = time.time()\n",
    "    x_test_GA, _ = attack_gen_dnn.make_GA(model_cnn, delta, alpha, x_test_samp.reshape(-1, 28*28), y_test_samp)\n",
    "    print(time.time() - st)\n",
    "    \n",
    "    X_test_noised = x_test_GA.reshape(-1, features)\n",
    "\n",
    "    yhat_test = model_onlinehd(X_test_noised.reshape(-1, 28*28))\n",
    "    yhat_test_cnn = model_cnn(X_test_noised.reshape(-1, 1, 28, 28)).argmax(1)\n",
    "\n",
    "    onlinehd_attacked_acc = (y_test == yhat_test).float().mean().item()\n",
    "    cnn_attacked_acc = (y_test == yhat_test_cnn).float().mean().item()\n",
    "    distance = (X_test_noised.reshape(-1, 28*28) - X_test).norm(dim=-1).mean().item()\n",
    "\n",
    "    print(alpha, distance, onlinehd_attacked_acc, cnn_attacked_acc)\n",
    "\n",
    "#model_accuracy_GA"
   ]
  },
  {
   "cell_type": "code",
   "execution_count": 7,
   "metadata": {},
   "outputs": [
    {
     "name": "stdout",
     "output_type": "stream",
     "text": [
      "Alpha : 0.003\n"
     ]
    },
    {
     "name": "stderr",
     "output_type": "stream",
     "text": [
      "100%|██████████| 1000/1000 [00:00<00:00, 92012.64it/s]\n",
      "100%|██████████| 1000/1000 [31:21<00:00,  1.88s/it]\n"
     ]
    },
    {
     "name": "stdout",
     "output_type": "stream",
     "text": [
      "1881.5780861377716\n",
      "0.003 0.07712962478399277 0.9380000233650208 0.9449999928474426\n",
      "Alpha : 0.0033\n"
     ]
    },
    {
     "name": "stderr",
     "output_type": "stream",
     "text": [
      "100%|██████████| 1000/1000 [00:00<00:00, 100071.67it/s]\n",
      "100%|██████████| 1000/1000 [32:39<00:00,  1.96s/it]\n"
     ]
    },
    {
     "name": "stdout",
     "output_type": "stream",
     "text": [
      "1959.79341506958\n",
      "0.0033 0.08267205208539963 0.9399999976158142 0.9580000042915344\n"
     ]
    }
   ],
   "source": [
    "alpha_lis = [0.003, 0.0033] #[0.01, 0.03, 0.07, 0.1]\n",
    "delta = 0.5\n",
    "nData = len(alpha_lis)\n",
    "model_accuracy_GA = np.zeros(nData)\n",
    "\n",
    "x_test_samp = X_test.cpu()\n",
    "y_test_samp = y_test.cpu()\n",
    "\n",
    "for n in range(nData):\n",
    "    alpha = alpha_lis[n]\n",
    "    print(f\"Alpha : {alpha}\")\n",
    "\n",
    "    st = time.time()\n",
    "    x_test_GA, _ = attack_gen_dnn.make_GA(model_cnn, delta, alpha, x_test_samp.reshape(-1, 28*28), y_test_samp)\n",
    "    print(time.time() - st)\n",
    "    \n",
    "    X_test_noised = x_test_GA.reshape(-1, features)\n",
    "\n",
    "    yhat_test = model_onlinehd(X_test_noised.reshape(-1, 28*28))\n",
    "    yhat_test_cnn = model_cnn(X_test_noised.reshape(-1, 1, 28, 28)).argmax(1)\n",
    "\n",
    "    onlinehd_attacked_acc = (y_test == yhat_test).float().mean().item()\n",
    "    cnn_attacked_acc = (y_test == yhat_test_cnn).float().mean().item()\n",
    "    distance = (X_test_noised.reshape(-1, 28*28) - X_test).norm(dim=-1).mean().item()\n",
    "\n",
    "    print(alpha, distance, onlinehd_attacked_acc, cnn_attacked_acc)\n",
    "\n",
    "#model_accuracy_GA"
   ]
  },
  {
   "cell_type": "code",
   "execution_count": 8,
   "metadata": {},
   "outputs": [
    {
     "name": "stdout",
     "output_type": "stream",
     "text": [
      "Alpha : 0.0035\n"
     ]
    },
    {
     "name": "stderr",
     "output_type": "stream",
     "text": [
      "100%|██████████| 1000/1000 [00:00<00:00, 95629.37it/s]\n",
      "100%|██████████| 1000/1000 [38:12<00:00,  2.29s/it]\n"
     ]
    },
    {
     "name": "stdout",
     "output_type": "stream",
     "text": [
      "2292.496792793274\n",
      "0.0035 0.08569066226482391 0.9409999847412109 0.9419999718666077\n",
      "Alpha : 0.0037\n"
     ]
    },
    {
     "name": "stderr",
     "output_type": "stream",
     "text": [
      "100%|██████████| 1000/1000 [00:00<00:00, 97726.04it/s]\n",
      "100%|██████████| 1000/1000 [34:53<00:00,  2.09s/it]\n"
     ]
    },
    {
     "name": "stdout",
     "output_type": "stream",
     "text": [
      "2093.656594991684\n",
      "0.0037 0.08819904923439026 0.9399999976158142 0.9490000009536743\n"
     ]
    }
   ],
   "source": [
    "alpha_lis = [0.0035, 0.0037] #[0.01, 0.03, 0.07, 0.1]\n",
    "delta = 0.5\n",
    "nData = len(alpha_lis)\n",
    "model_accuracy_GA = np.zeros(nData)\n",
    "\n",
    "x_test_samp = X_test.cpu()\n",
    "y_test_samp = y_test.cpu()\n",
    "\n",
    "for n in range(nData):\n",
    "    alpha = alpha_lis[n]\n",
    "    print(f\"Alpha : {alpha}\")\n",
    "\n",
    "    st = time.time()\n",
    "    x_test_GA, _ = attack_gen_dnn.make_GA(model_cnn, delta, alpha, x_test_samp.reshape(-1, 28*28), y_test_samp)\n",
    "    print(time.time() - st)\n",
    "    \n",
    "    X_test_noised = x_test_GA.reshape(-1, features)\n",
    "\n",
    "    yhat_test = model_onlinehd(X_test_noised.reshape(-1, 28*28))\n",
    "    yhat_test_cnn = model_cnn(X_test_noised.reshape(-1, 1, 28, 28)).argmax(1)\n",
    "\n",
    "    onlinehd_attacked_acc = (y_test == yhat_test).float().mean().item()\n",
    "    cnn_attacked_acc = (y_test == yhat_test_cnn).float().mean().item()\n",
    "    distance = (X_test_noised.reshape(-1, 28*28) - X_test).norm(dim=-1).mean().item()\n",
    "\n",
    "    print(alpha, distance, onlinehd_attacked_acc, cnn_attacked_acc)\n",
    "\n",
    "#model_accuracy_GA"
   ]
  },
  {
   "cell_type": "code",
   "execution_count": 9,
   "metadata": {},
   "outputs": [
    {
     "name": "stdout",
     "output_type": "stream",
     "text": [
      "Alpha : 0.004\n"
     ]
    },
    {
     "name": "stderr",
     "output_type": "stream",
     "text": [
      "100%|██████████| 1000/1000 [00:00<00:00, 89694.71it/s]\n",
      "100%|██████████| 1000/1000 [39:12<00:00,  2.35s/it]\n"
     ]
    },
    {
     "name": "stdout",
     "output_type": "stream",
     "text": [
      "2352.298187017441\n",
      "0.004 0.09091316163539886 0.9399999976158142 0.9449999928474426\n",
      "Alpha : 0.0043\n"
     ]
    },
    {
     "name": "stderr",
     "output_type": "stream",
     "text": [
      "100%|██████████| 1000/1000 [00:00<00:00, 100887.67it/s]\n",
      "100%|██████████| 1000/1000 [38:28<00:00,  2.31s/it]\n"
     ]
    },
    {
     "name": "stdout",
     "output_type": "stream",
     "text": [
      "2308.893455028534\n",
      "0.0043 0.09434465318918228 0.9430000185966492 0.9440000057220459\n"
     ]
    }
   ],
   "source": [
    "alpha_lis = [0.004, 0.0043] #[0.01, 0.03, 0.07, 0.1]\n",
    "delta = 0.5\n",
    "nData = len(alpha_lis)\n",
    "model_accuracy_GA = np.zeros(nData)\n",
    "\n",
    "x_test_samp = X_test.cpu()\n",
    "y_test_samp = y_test.cpu()\n",
    "\n",
    "for n in range(nData):\n",
    "    alpha = alpha_lis[n]\n",
    "    print(f\"Alpha : {alpha}\")\n",
    "\n",
    "    st = time.time()\n",
    "    x_test_GA, _ = attack_gen_dnn.make_GA(model_cnn, delta, alpha, x_test_samp.reshape(-1, 28*28), y_test_samp)\n",
    "    print(time.time() - st)\n",
    "    \n",
    "    X_test_noised = x_test_GA.reshape(-1, features)\n",
    "\n",
    "    yhat_test = model_onlinehd(X_test_noised.reshape(-1, 28*28))\n",
    "    yhat_test_cnn = model_cnn(X_test_noised.reshape(-1, 1, 28, 28)).argmax(1)\n",
    "\n",
    "    onlinehd_attacked_acc = (y_test == yhat_test).float().mean().item()\n",
    "    cnn_attacked_acc = (y_test == yhat_test_cnn).float().mean().item()\n",
    "    distance = (X_test_noised.reshape(-1, 28*28) - X_test).norm(dim=-1).mean().item()\n",
    "\n",
    "    print(alpha, distance, onlinehd_attacked_acc, cnn_attacked_acc)\n",
    "\n",
    "#model_accuracy_GA"
   ]
  },
  {
   "cell_type": "code",
   "execution_count": null,
   "metadata": {},
   "outputs": [],
   "source": []
  }
 ],
 "metadata": {
  "kernelspec": {
   "display_name": "venv",
   "language": "python",
   "name": "python3"
  },
  "language_info": {
   "codemirror_mode": {
    "name": "ipython",
    "version": 3
   },
   "file_extension": ".py",
   "mimetype": "text/x-python",
   "name": "python",
   "nbconvert_exporter": "python",
   "pygments_lexer": "ipython3",
   "version": "3.8.1"
  },
  "orig_nbformat": 4
 },
 "nbformat": 4,
 "nbformat_minor": 2
}
