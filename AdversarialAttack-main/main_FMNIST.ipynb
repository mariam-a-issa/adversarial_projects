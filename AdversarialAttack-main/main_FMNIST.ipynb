{
 "cells": [
  {
   "cell_type": "code",
   "execution_count": 1,
   "metadata": {},
   "outputs": [],
   "source": [
    "import attack_kernelbased\n",
    "import attack_fgsm\n",
    "import attack_df\n",
    "import attack_jsma\n",
    "import attack_gen\n",
    "import dataloader\n",
    "import spatial\n",
    "\n",
    "import torch\n",
    "import torch.nn as nn\n",
    "import numpy as np\n",
    "import time\n",
    "import onlinehd\n",
    "import DNNmodels\n",
    "import pickle\n",
    "from sklearn.model_selection import train_test_split\n",
    "import tqdm"
   ]
  },
  {
   "cell_type": "code",
   "execution_count": 2,
   "metadata": {},
   "outputs": [
    {
     "name": "stderr",
     "output_type": "stream",
     "text": [
      "/Users/sang-geon/Documents/UCI_BIASLab/kernel_adversarial/venv/lib/python3.8/site-packages/sklearn/datasets/_openml.py:968: FutureWarning: The default value of `parser` will change from `'liac-arff'` to `'auto'` in 1.4. You can set `parser='auto'` to silence this warning. Therefore, an `ImportError` will be raised from 1.4 if the dataset is dense and pandas is not installed. Note that the pandas parser may return different data types. See the Notes Section in fetch_openml's API doc for details.\n",
      "  warn(\n"
     ]
    },
    {
     "data": {
      "text/plain": [
       "(torch.Size([52500, 784]),\n",
       " torch.Size([17500, 784]),\n",
       " torch.Size([52500]),\n",
       " torch.Size([17500]))"
      ]
     },
     "execution_count": 2,
     "metadata": {},
     "output_type": "execute_result"
    }
   ],
   "source": [
    "X_train, X_test, y_train, y_test = dataloader.load(None, sklearn_dataset_name='Fashion-MNIST')\n",
    "\n",
    "classes = y_train.unique().size(0)\n",
    "features = X_train.size(1)\n",
    "\n",
    "X_train.shape, X_test.shape, y_train.shape, y_test.shape"
   ]
  },
  {
   "cell_type": "code",
   "execution_count": 3,
   "metadata": {},
   "outputs": [],
   "source": [
    "X_test = X_test[:1000]\n",
    "y_test = y_test[:1000]"
   ]
  },
  {
   "cell_type": "code",
   "execution_count": 4,
   "metadata": {},
   "outputs": [
    {
     "name": "stdout",
     "output_type": "stream",
     "text": [
      "tensor(0.8314) tensor(0.8560)\n"
     ]
    }
   ],
   "source": [
    "D = 4000\n",
    "model = onlinehd.OnlineHD(classes, features, dim=D)\n",
    "model = model.fit(X_train, y_train, bootstrap=1.0, lr=0.035, epochs=2, one_pass_fit=False)\n",
    "\n",
    "yhat_train = model(X_train)\n",
    "yhat_test = model(X_test)\n",
    "\n",
    "acc = (y_train == yhat_train).float().mean()\n",
    "acc_test = (y_test == yhat_test).float().mean()\n",
    "print(acc, acc_test)"
   ]
  },
  {
   "cell_type": "code",
   "execution_count": 5,
   "metadata": {},
   "outputs": [],
   "source": [
    "with open('./onlinehd_fmnist.pickle', 'bw') as f:\n",
    "    pickle.dump(model, f)"
   ]
  },
  {
   "cell_type": "code",
   "execution_count": 6,
   "metadata": {},
   "outputs": [],
   "source": [
    "with open('./onlinehd_fmnist.pickle', 'br') as f:\n",
    "    model = pickle.load(f)"
   ]
  },
  {
   "cell_type": "code",
   "execution_count": 7,
   "metadata": {},
   "outputs": [
    {
     "data": {
      "text/plain": [
       "CNN(\n",
       "  (conv1): Conv2d(1, 16, kernel_size=(4, 4), stride=(1, 1))\n",
       "  (relu1): ReLU()\n",
       "  (conv2): Conv2d(16, 8, kernel_size=(2, 2), stride=(1, 1))\n",
       "  (relu2): ReLU()\n",
       "  (max_pool2): MaxPool2d(kernel_size=2, stride=2, padding=0, dilation=1, ceil_mode=False)\n",
       "  (fc1): Linear(in_features=1152, out_features=128, bias=True)\n",
       "  (fc2): Linear(in_features=128, out_features=10, bias=True)\n",
       ")"
      ]
     },
     "execution_count": 7,
     "metadata": {},
     "output_type": "execute_result"
    }
   ],
   "source": [
    "model_cnn = DNNmodels.CNN()\n",
    "model_cnn.load_state_dict(torch.load('./model_cnn_fmnist.pt'))\n",
    "model_cnn.eval()"
   ]
  },
  {
   "attachments": {},
   "cell_type": "markdown",
   "metadata": {},
   "source": [
    "## Kernel based attack"
   ]
  },
  {
   "cell_type": "code",
   "execution_count": 8,
   "metadata": {},
   "outputs": [
    {
     "name": "stderr",
     "output_type": "stream",
     "text": [
      "100%|██████████| 1000/1000 [00:43<00:00, 22.74it/s]\n"
     ]
    },
    {
     "name": "stdout",
     "output_type": "stream",
     "text": [
      "44.92878198623657\n",
      "0.01 0.00855999905616045 0.800000011920929 0.8870000243186951\n"
     ]
    },
    {
     "name": "stderr",
     "output_type": "stream",
     "text": [
      "100%|██████████| 1000/1000 [00:44<00:00, 22.68it/s]\n"
     ]
    },
    {
     "name": "stdout",
     "output_type": "stream",
     "text": [
      "45.10186314582825\n",
      "0.020000000000000004 0.0171199981123209 0.7260000109672546 0.8700000047683716\n"
     ]
    },
    {
     "name": "stderr",
     "output_type": "stream",
     "text": [
      "100%|██████████| 1000/1000 [00:43<00:00, 22.90it/s]\n"
     ]
    },
    {
     "name": "stdout",
     "output_type": "stream",
     "text": [
      "44.5936541557312\n",
      "0.030000000000000006 0.025679999962449074 0.6470000147819519 0.8539999723434448\n"
     ]
    },
    {
     "name": "stderr",
     "output_type": "stream",
     "text": [
      "100%|██████████| 1000/1000 [00:43<00:00, 22.87it/s]\n"
     ]
    },
    {
     "name": "stdout",
     "output_type": "stream",
     "text": [
      "44.59595537185669\n",
      "0.04000000000000001 0.0342399962246418 0.5809999704360962 0.8259999752044678\n"
     ]
    },
    {
     "name": "stderr",
     "output_type": "stream",
     "text": [
      "100%|██████████| 1000/1000 [00:43<00:00, 22.98it/s]\n"
     ]
    },
    {
     "name": "stdout",
     "output_type": "stream",
     "text": [
      "44.41587495803833\n",
      "0.05000000000000001 0.04280000552535057 0.5180000066757202 0.800000011920929\n"
     ]
    },
    {
     "name": "stderr",
     "output_type": "stream",
     "text": [
      "100%|██████████| 1000/1000 [00:43<00:00, 23.07it/s]\n"
     ]
    },
    {
     "name": "stdout",
     "output_type": "stream",
     "text": [
      "44.25445508956909\n",
      "0.06000000000000001 0.05135999992489815 0.4490000009536743 0.765999972820282\n"
     ]
    },
    {
     "name": "stderr",
     "output_type": "stream",
     "text": [
      "100%|██████████| 1000/1000 [00:43<00:00, 23.03it/s]\n"
     ]
    },
    {
     "name": "stdout",
     "output_type": "stream",
     "text": [
      "44.281004905700684\n",
      "0.07 0.059919994324445724 0.40400001406669617 0.722000002861023\n"
     ]
    },
    {
     "name": "stderr",
     "output_type": "stream",
     "text": [
      "100%|██████████| 1000/1000 [00:43<00:00, 23.03it/s]\n"
     ]
    },
    {
     "name": "stdout",
     "output_type": "stream",
     "text": [
      "44.33806586265564\n",
      "0.08 0.0684799924492836 0.3630000054836273 0.6819999814033508\n"
     ]
    },
    {
     "name": "stderr",
     "output_type": "stream",
     "text": [
      "100%|██████████| 1000/1000 [00:45<00:00, 21.90it/s]\n"
     ]
    },
    {
     "name": "stdout",
     "output_type": "stream",
     "text": [
      "46.611286878585815\n",
      "0.09000000000000001 0.07704000920057297 0.3160000145435333 0.6499999761581421\n"
     ]
    },
    {
     "name": "stderr",
     "output_type": "stream",
     "text": [
      "100%|██████████| 1000/1000 [00:45<00:00, 22.01it/s]\n"
     ]
    },
    {
     "name": "stdout",
     "output_type": "stream",
     "text": [
      "46.402687072753906\n",
      "0.1 0.08560001105070114 0.27399998903274536 0.6129999756813049\n"
     ]
    }
   ],
   "source": [
    "# with complex encoding (FHRR)\n",
    "for e in np.linspace(0.01, 0.1, 10):#[0.01, 0.03, 0.07, 0.1]:\n",
    "    st = time.time()\n",
    "    X_test_noised = attack_kernelbased.genAdversarialNoise(model, X_test, y_test, e)\n",
    "    print(time.time() - st)\n",
    "    \n",
    "    yhat_test = model(X_test_noised)\n",
    "    yhat_test_cnn = model_cnn(X_test_noised.reshape(-1, 1, 28, 28)).argmax(1)\n",
    "\n",
    "    onlinehd_attacked_acc = (y_test == yhat_test).float().mean().item()\n",
    "    cnn_attacked_acc = (y_test == yhat_test_cnn).float().mean().item()\n",
    "    distance = (X_test_noised - X_test).norm(dim=-1).mean().item()\n",
    "\n",
    "    print(e, distance, onlinehd_attacked_acc, cnn_attacked_acc)"
   ]
  },
  {
   "attachments": {},
   "cell_type": "markdown",
   "metadata": {},
   "source": [
    "## FGSM"
   ]
  },
  {
   "attachments": {},
   "cell_type": "markdown",
   "metadata": {},
   "source": [
    "### Normlized"
   ]
  },
  {
   "cell_type": "code",
   "execution_count": 9,
   "metadata": {},
   "outputs": [
    {
     "name": "stderr",
     "output_type": "stream",
     "text": [
      "100%|██████████| 1000/1000 [00:05<00:00, 190.63it/s]\n"
     ]
    },
    {
     "name": "stdout",
     "output_type": "stream",
     "text": [
      "\n",
      "FGSM Attack with epsilon = 0.01000 | Elapsed time: 5.249791916000049 seconds.\n",
      "Accuracy: Before the attack -> 85.60%\t|\tAfter the attack -> 85.50%\n",
      "mean of norm=0.010000007227063179\n"
     ]
    },
    {
     "data": {
      "image/png": "[encoded data removed]",
      "text/plain": [
       "<Figure size 640x480 with 2 Axes>"
      ]
     },
     "metadata": {},
     "output_type": "display_data"
    },
    {
     "name": "stderr",
     "output_type": "stream",
     "text": [
      "100%|██████████| 1000/1000 [00:05<00:00, 191.25it/s]\n"
     ]
    },
    {
     "name": "stdout",
     "output_type": "stream",
     "text": [
      "\n",
      "FGSM Attack with epsilon = 0.02000 | Elapsed time: 5.2361432919999515 seconds.\n",
      "Accuracy: Before the attack -> 85.60%\t|\tAfter the attack -> 85.70%\n",
      "mean of norm=0.020000014454126358\n"
     ]
    },
    {
     "data": {
      "image/png": "[encoded data removed]",
      "text/plain": [
       "<Figure size 640x480 with 2 Axes>"
      ]
     },
     "metadata": {},
     "output_type": "display_data"
    },
    {
     "name": "stderr",
     "output_type": "stream",
     "text": [
      "100%|██████████| 1000/1000 [00:05<00:00, 191.92it/s]\n"
     ]
    },
    {
     "name": "stdout",
     "output_type": "stream",
     "text": [
      "\n",
      "FGSM Attack with epsilon = 0.03000 | Elapsed time: 5.219585207999899 seconds.\n",
      "Accuracy: Before the attack -> 85.60%\t|\tAfter the attack -> 85.60%\n",
      "mean of norm=0.0299999862909317\n"
     ]
    },
    {
     "data": {
      "image/png": "[encoded data removed]",
      "text/plain": [
       "<Figure size 640x480 with 2 Axes>"
      ]
     },
     "metadata": {},
     "output_type": "display_data"
    },
    {
     "name": "stderr",
     "output_type": "stream",
     "text": [
      "100%|██████████| 1000/1000 [00:05<00:00, 192.41it/s]\n"
     ]
    },
    {
     "name": "stdout",
     "output_type": "stream",
     "text": [
      "\n",
      "FGSM Attack with epsilon = 0.04000 | Elapsed time: 5.205041040999959 seconds.\n",
      "Accuracy: Before the attack -> 85.60%\t|\tAfter the attack -> 85.20%\n",
      "mean of norm=0.040000006556510925\n"
     ]
    },
    {
     "data": {
      "image/png": "[encoded data removed]",
      "text/plain": [
       "<Figure size 640x480 with 2 Axes>"
      ]
     },
     "metadata": {},
     "output_type": "display_data"
    },
    {
     "name": "stderr",
     "output_type": "stream",
     "text": [
      "100%|██████████| 1000/1000 [00:05<00:00, 193.67it/s]\n"
     ]
    },
    {
     "name": "stdout",
     "output_type": "stream",
     "text": [
      "\n",
      "FGSM Attack with epsilon = 0.05000 | Elapsed time: 5.171791708000001 seconds.\n",
      "Accuracy: Before the attack -> 85.60%\t|\tAfter the attack -> 84.90%\n",
      "mean of norm=0.049999985843896866\n"
     ]
    },
    {
     "data": {
      "image/png": "[encoded data removed]",
      "text/plain": [
       "<Figure size 640x480 with 2 Axes>"
      ]
     },
     "metadata": {},
     "output_type": "display_data"
    },
    {
     "name": "stderr",
     "output_type": "stream",
     "text": [
      "100%|██████████| 1000/1000 [00:05<00:00, 192.22it/s]\n"
     ]
    },
    {
     "name": "stdout",
     "output_type": "stream",
     "text": [
      "\n",
      "FGSM Attack with epsilon = 0.06000 | Elapsed time: 5.211073416999852 seconds.\n",
      "Accuracy: Before the attack -> 85.60%\t|\tAfter the attack -> 84.60%\n",
      "mean of norm=0.059999991208314896\n"
     ]
    },
    {
     "data": {
      "image/png": "[encoded data removed]",
      "text/plain": [
       "<Figure size 640x480 with 2 Axes>"
      ]
     },
     "metadata": {},
     "output_type": "display_data"
    },
    {
     "name": "stderr",
     "output_type": "stream",
     "text": [
      "100%|██████████| 1000/1000 [00:05<00:00, 193.63it/s]\n"
     ]
    },
    {
     "name": "stdout",
     "output_type": "stream",
     "text": [
      "\n",
      "FGSM Attack with epsilon = 0.07000 | Elapsed time: 5.1729771249999885 seconds.\n",
      "Accuracy: Before the attack -> 85.60%\t|\tAfter the attack -> 84.50%\n",
      "mean of norm=0.07000000029802322\n"
     ]
    },
    {
     "data": {
      "image/png": "[encoded data removed]",
      "text/plain": [
       "<Figure size 640x480 with 2 Axes>"
      ]
     },
     "metadata": {},
     "output_type": "display_data"
    },
    {
     "name": "stderr",
     "output_type": "stream",
     "text": [
      "100%|██████████| 1000/1000 [00:05<00:00, 186.22it/s]\n"
     ]
    },
    {
     "name": "stdout",
     "output_type": "stream",
     "text": [
      "\n",
      "FGSM Attack with epsilon = 0.08000 | Elapsed time: 5.37841608299982 seconds.\n",
      "Accuracy: Before the attack -> 85.60%\t|\tAfter the attack -> 84.30%\n",
      "mean of norm=0.08000000566244125\n"
     ]
    },
    {
     "data": {
      "image/png": "[encoded data removed]",
      "text/plain": [
       "<Figure size 640x480 with 2 Axes>"
      ]
     },
     "metadata": {},
     "output_type": "display_data"
    },
    {
     "name": "stderr",
     "output_type": "stream",
     "text": [
      "100%|██████████| 1000/1000 [00:05<00:00, 191.44it/s]\n"
     ]
    },
    {
     "name": "stdout",
     "output_type": "stream",
     "text": [
      "\n",
      "FGSM Attack with epsilon = 0.09000 | Elapsed time: 5.232558958000027 seconds.\n",
      "Accuracy: Before the attack -> 85.60%\t|\tAfter the attack -> 84.40%\n",
      "mean of norm=0.09000000357627869\n"
     ]
    },
    {
     "data": {
      "image/png": "[encoded data removed]",
      "text/plain": [
       "<Figure size 640x480 with 2 Axes>"
      ]
     },
     "metadata": {},
     "output_type": "display_data"
    },
    {
     "name": "stderr",
     "output_type": "stream",
     "text": [
      "100%|██████████| 1000/1000 [00:05<00:00, 189.37it/s]\n"
     ]
    },
    {
     "name": "stdout",
     "output_type": "stream",
     "text": [
      "\n",
      "FGSM Attack with epsilon = 0.10000 | Elapsed time: 5.288862958999971 seconds.\n",
      "Accuracy: Before the attack -> 85.60%\t|\tAfter the attack -> 84.20%\n",
      "mean of norm=0.09999994933605194\n"
     ]
    },
    {
     "data": {
      "image/png": "[encoded data removed]",
      "text/plain": [
       "<Figure size 640x480 with 2 Axes>"
      ]
     },
     "metadata": {},
     "output_type": "display_data"
    }
   ],
   "source": [
    "epsilons = np.linspace(0.01, 0.1, 10) # torch.Tensor([0.01, 0.03, 0.07, 0.1])\n",
    "verbose = False\n",
    "#criterion = nn.CosineEmbeddingLoss()\n",
    "criterion = lambda output, model, label: (spatial.cos_cdist(output, model) - label).mean()\n",
    "#criterion = lambda output, model, label: output.mean()\n",
    "N_VAL_SAMPLES = X_test.data.shape[0]\n",
    "\n",
    "attack_samples, acc_results = attack_fgsm.attack(\n",
    "    model, X_train, X_test, y_test, epsilons, classes, criterion, N_VAL_SAMPLES, 'cpu')"
   ]
  },
  {
   "cell_type": "code",
   "execution_count": 10,
   "metadata": {},
   "outputs": [
    {
     "name": "stdout",
     "output_type": "stream",
     "text": [
      "0.01 0.010000007227063179 0.8550000190734863 0.8960000276565552\n",
      "0.020000000000000004 0.020000014454126358 0.8569999933242798 0.8970000147819519\n",
      "0.030000000000000006 0.0299999862909317 0.8560000061988831 0.8960000276565552\n",
      "0.04000000000000001 0.040000006556510925 0.8519999980926514 0.8970000147819519\n",
      "0.05000000000000001 0.049999985843896866 0.8489999771118164 0.8960000276565552\n",
      "0.06000000000000001 0.059999991208314896 0.8460000157356262 0.8960000276565552\n",
      "0.07 0.07000000029802322 0.8450000286102295 0.8939999938011169\n",
      "0.08 0.08000000566244125 0.8429999947547913 0.8899999856948853\n",
      "0.09000000000000001 0.09000000357627869 0.843999981880188 0.8880000114440918\n",
      "0.1 0.09999994933605194 0.8420000076293945 0.8849999904632568\n"
     ]
    }
   ],
   "source": [
    "for e, X_test_noised in zip(epsilons, attack_samples):\n",
    "    yhat_test = model(X_test_noised.reshape(-1, 28*28))\n",
    "    yhat_test_cnn = model_cnn(X_test_noised.reshape(-1, 1, 28, 28)).argmax(1)\n",
    "\n",
    "    onlinehd_attacked_acc = (y_test == yhat_test).float().mean().item()\n",
    "    cnn_attacked_acc = (y_test == yhat_test_cnn).float().mean().item()\n",
    "    distance = (X_test_noised.reshape(-1, 28*28) - X_test).norm(dim=-1).mean().item()\n",
    "\n",
    "    print(e, distance, onlinehd_attacked_acc, cnn_attacked_acc)"
   ]
  },
  {
   "attachments": {},
   "cell_type": "markdown",
   "metadata": {},
   "source": [
    "## Deep Fool"
   ]
  },
  {
   "cell_type": "code",
   "execution_count": 11,
   "metadata": {},
   "outputs": [
    {
     "name": "stderr",
     "output_type": "stream",
     "text": [
      "100%|██████████| 1000/1000 [02:20<00:00,  7.12it/s]\n"
     ]
    },
    {
     "name": "stdout",
     "output_type": "stream",
     "text": [
      "140.36864686012268\n",
      "0.01 0.006655694916844368 0.8299999833106995 0.8949999809265137\n"
     ]
    },
    {
     "name": "stderr",
     "output_type": "stream",
     "text": [
      "100%|██████████| 1000/1000 [02:03<00:00,  8.11it/s]\n"
     ]
    },
    {
     "name": "stdout",
     "output_type": "stream",
     "text": [
      "123.36547303199768\n",
      "0.02 0.013311389833688736 0.777999997138977 0.8849999904632568\n"
     ]
    },
    {
     "name": "stderr",
     "output_type": "stream",
     "text": [
      "100%|██████████| 1000/1000 [01:43<00:00,  9.66it/s]\n"
     ]
    },
    {
     "name": "stdout",
     "output_type": "stream",
     "text": [
      "103.53440618515015\n",
      "0.03 0.019967086613178253 0.7160000205039978 0.8740000128746033\n"
     ]
    },
    {
     "name": "stderr",
     "output_type": "stream",
     "text": [
      "100%|██████████| 1000/1000 [01:24<00:00, 11.79it/s]\n"
     ]
    },
    {
     "name": "stdout",
     "output_type": "stream",
     "text": [
      "84.81257700920105\n",
      "0.04 0.026622779667377472 0.6539999842643738 0.8489999771118164\n"
     ]
    },
    {
     "name": "stderr",
     "output_type": "stream",
     "text": [
      "100%|██████████| 1000/1000 [01:16<00:00, 13.12it/s]\n"
     ]
    },
    {
     "name": "stdout",
     "output_type": "stream",
     "text": [
      "76.21493101119995\n",
      "0.05 0.03327848017215729 0.5899999737739563 0.8339999914169312\n"
     ]
    },
    {
     "name": "stderr",
     "output_type": "stream",
     "text": [
      "100%|██████████| 1000/1000 [01:07<00:00, 14.81it/s]\n"
     ]
    },
    {
     "name": "stdout",
     "output_type": "stream",
     "text": [
      "67.53436422348022\n",
      "0.060000000000000005 0.03993416950106621 0.5299999713897705 0.8040000200271606\n"
     ]
    },
    {
     "name": "stderr",
     "output_type": "stream",
     "text": [
      "100%|██████████| 1000/1000 [01:02<00:00, 15.94it/s]\n"
     ]
    },
    {
     "name": "stdout",
     "output_type": "stream",
     "text": [
      "62.74187898635864\n",
      "0.06999999999999999 0.046589866280555725 0.4909999966621399 0.7649999856948853\n"
     ]
    },
    {
     "name": "stderr",
     "output_type": "stream",
     "text": [
      "100%|██████████| 1000/1000 [00:59<00:00, 16.82it/s]\n"
     ]
    },
    {
     "name": "stdout",
     "output_type": "stream",
     "text": [
      "59.4417679309845\n",
      "0.08 0.053245555609464645 0.46399998664855957 0.7269999980926514\n"
     ]
    },
    {
     "name": "stderr",
     "output_type": "stream",
     "text": [
      "100%|██████████| 1000/1000 [00:58<00:00, 17.22it/s]\n"
     ]
    },
    {
     "name": "stdout",
     "output_type": "stream",
     "text": [
      "58.085487842559814\n",
      "0.09 0.059901267290115356 0.44200000166893005 0.699999988079071\n"
     ]
    },
    {
     "name": "stderr",
     "output_type": "stream",
     "text": [
      "100%|██████████| 1000/1000 [00:57<00:00, 17.48it/s]\n"
     ]
    },
    {
     "name": "stdout",
     "output_type": "stream",
     "text": [
      "57.20438504219055\n",
      "0.09999999999999999 0.06655696034431458 0.4259999990463257 0.671999990940094\n"
     ]
    },
    {
     "name": "stderr",
     "output_type": "stream",
     "text": [
      "100%|██████████| 1000/1000 [00:55<00:00, 17.97it/s]\n"
     ]
    },
    {
     "name": "stdout",
     "output_type": "stream",
     "text": [
      "55.636903285980225\n",
      "0.11 0.0732126533985138 0.41200000047683716 0.6320000290870667\n"
     ]
    },
    {
     "name": "stderr",
     "output_type": "stream",
     "text": [
      "100%|██████████| 1000/1000 [00:54<00:00, 18.44it/s]\n"
     ]
    },
    {
     "name": "stdout",
     "output_type": "stream",
     "text": [
      "54.234270334243774\n",
      "0.12 0.07986834645271301 0.40299999713897705 0.6010000109672546\n"
     ]
    },
    {
     "name": "stderr",
     "output_type": "stream",
     "text": [
      "100%|██████████| 1000/1000 [00:54<00:00, 18.40it/s]\n"
     ]
    },
    {
     "name": "stdout",
     "output_type": "stream",
     "text": [
      "54.36234426498413\n",
      "0.13 0.08652403205633163 0.4009999930858612 0.5720000267028809\n"
     ]
    },
    {
     "name": "stderr",
     "output_type": "stream",
     "text": [
      "100%|██████████| 1000/1000 [00:53<00:00, 18.74it/s]\n"
     ]
    },
    {
     "name": "stdout",
     "output_type": "stream",
     "text": [
      "53.3531539440155\n",
      "0.14 0.09317973256111145 0.39500001072883606 0.5540000200271606\n"
     ]
    },
    {
     "name": "stderr",
     "output_type": "stream",
     "text": [
      "100%|██████████| 1000/1000 [00:53<00:00, 18.77it/s]\n"
     ]
    },
    {
     "name": "stdout",
     "output_type": "stream",
     "text": [
      "53.271228313446045\n",
      "0.15000000000000002 0.09983542561531067 0.39100000262260437 0.5320000052452087\n"
     ]
    },
    {
     "name": "stderr",
     "output_type": "stream",
     "text": [
      "100%|██████████| 1000/1000 [00:52<00:00, 19.04it/s]\n"
     ]
    },
    {
     "name": "stdout",
     "output_type": "stream",
     "text": [
      "52.52904510498047\n",
      "0.16 0.10649111121892929 0.38999998569488525 0.5080000162124634\n"
     ]
    },
    {
     "name": "stderr",
     "output_type": "stream",
     "text": [
      "100%|██████████| 1000/1000 [00:52<00:00, 19.11it/s]\n"
     ]
    },
    {
     "name": "stdout",
     "output_type": "stream",
     "text": [
      "52.32731223106384\n",
      "0.17 0.1131468191742897 0.3880000114440918 0.48500001430511475\n"
     ]
    },
    {
     "name": "stderr",
     "output_type": "stream",
     "text": [
      "100%|██████████| 1000/1000 [00:51<00:00, 19.24it/s]\n"
     ]
    },
    {
     "name": "stdout",
     "output_type": "stream",
     "text": [
      "51.978760957717896\n",
      "0.18000000000000002 0.11980253458023071 0.38499999046325684 0.4699999988079071\n"
     ]
    },
    {
     "name": "stderr",
     "output_type": "stream",
     "text": [
      "100%|██████████| 1000/1000 [00:51<00:00, 19.26it/s]\n"
     ]
    },
    {
     "name": "stdout",
     "output_type": "stream",
     "text": [
      "51.92229914665222\n",
      "0.19 0.12645822763442993 0.38499999046325684 0.45899999141693115\n"
     ]
    },
    {
     "name": "stderr",
     "output_type": "stream",
     "text": [
      "100%|██████████| 1000/1000 [00:52<00:00, 19.08it/s]\n"
     ]
    },
    {
     "name": "stdout",
     "output_type": "stream",
     "text": [
      "52.40455198287964\n",
      "0.2 0.13311392068862915 0.38499999046325684 0.4480000138282776\n"
     ]
    }
   ],
   "source": [
    "for max_update in np.linspace(0.01, 0.2, 20):\n",
    "    X_te_cln = X_test.clone().reshape(-1, 1, 784)\n",
    "    Y_te_cln = y_test.clone()\n",
    "\n",
    "    x_test_adv = torch.zeros(X_te_cln.shape)\n",
    "    x_test_pert = torch.zeros(X_te_cln.shape[0], 28, 28)\n",
    "\n",
    "    st = time.time()\n",
    "    for i in tqdm.tqdm(range(X_test.shape[0])):\n",
    "        x_test_adv[i], x_test_pert[i] = attack_df.deepfool(X_te_cln[i], model, epsilon=max_update)\n",
    "    print(time.time() - st)\n",
    "    \n",
    "    X_test_noised = x_test_adv.reshape(-1, features)\n",
    "\n",
    "    yhat_test = model(X_test_noised.reshape(-1, 28*28))\n",
    "    yhat_test_cnn = model_cnn(X_test_noised.reshape(-1, 1, 28, 28)).argmax(1)\n",
    "\n",
    "    onlinehd_attacked_acc = (y_test == yhat_test).float().mean().item()\n",
    "    cnn_attacked_acc = (y_test == yhat_test_cnn).float().mean().item()\n",
    "    distance = (X_test_noised.reshape(-1, 28*28) - X_test).norm(dim=-1).mean().item()\n",
    "\n",
    "    print(max_update, distance, onlinehd_attacked_acc, cnn_attacked_acc)"
   ]
  },
  {
   "cell_type": "code",
   "execution_count": 12,
   "metadata": {},
   "outputs": [
    {
     "name": "stderr",
     "output_type": "stream",
     "text": [
      "100%|██████████| 1000/1000 [00:51<00:00, 19.31it/s]\n"
     ]
    },
    {
     "name": "stdout",
     "output_type": "stream",
     "text": [
      "None 0.0867491289973259 0.3840000033378601 0.6079999804496765\n"
     ]
    }
   ],
   "source": [
    "X_te_cln = X_test.clone().reshape(-1, 1, 784)\n",
    "Y_te_cln = y_test.clone()\n",
    "\n",
    "x_test_adv = torch.zeros(X_te_cln.shape)\n",
    "x_test_pert = torch.zeros(X_te_cln.shape[0], 28, 28)\n",
    "\n",
    "for i in tqdm.tqdm(range(X_test.shape[0])):\n",
    "    x_test_adv[i], x_test_pert[i] = attack_df.deepfool(X_te_cln[i], model, epsilon=None)\n",
    "\n",
    "X_test_noised = x_test_adv.reshape(-1, features)\n",
    "\n",
    "yhat_test = model(X_test_noised.reshape(-1, 28*28))\n",
    "yhat_test_cnn = model_cnn(X_test_noised.reshape(-1, 1, 28, 28)).argmax(1)\n",
    "\n",
    "onlinehd_attacked_acc = (y_test == yhat_test).float().mean().item()\n",
    "cnn_attacked_acc = (y_test == yhat_test_cnn).float().mean().item()\n",
    "distance = (X_test_noised.reshape(-1, 28*28) - X_test).norm(dim=-1).mean().item()\n",
    "\n",
    "print(None, distance, onlinehd_attacked_acc, cnn_attacked_acc)"
   ]
  },
  {
   "attachments": {},
   "cell_type": "markdown",
   "metadata": {},
   "source": [
    "## Genetic Attack"
   ]
  },
  {
   "cell_type": "code",
   "execution_count": 13,
   "metadata": {},
   "outputs": [
    {
     "name": "stdout",
     "output_type": "stream",
     "text": [
      "Alpha : 0.0001\n"
     ]
    },
    {
     "name": "stderr",
     "output_type": "stream",
     "text": [
      "100%|██████████| 1000/1000 [00:00<00:00, 86806.24it/s]\n",
      "100%|██████████| 1000/1000 [1:42:57<00:00,  6.18s/it]\n"
     ]
    },
    {
     "name": "stdout",
     "output_type": "stream",
     "text": [
      "6177.582678079605\n",
      "0.0001 0.023659124970436096 0.847000002861023 0.8980000019073486\n",
      "Alpha : 0.0001736842105263158\n"
     ]
    },
    {
     "name": "stderr",
     "output_type": "stream",
     "text": [
      "100%|██████████| 1000/1000 [00:00<00:00, 91576.69it/s]\n",
      "100%|██████████| 1000/1000 [1:32:26<00:00,  5.55s/it]\n"
     ]
    },
    {
     "name": "stdout",
     "output_type": "stream",
     "text": [
      "5546.920253992081\n",
      "0.0001736842105263158 0.04149975627660751 0.8479999899864197 0.8970000147819519\n",
      "Alpha : 0.0002473684210526316\n"
     ]
    },
    {
     "name": "stderr",
     "output_type": "stream",
     "text": [
      "100%|██████████| 1000/1000 [00:00<00:00, 96542.85it/s]\n",
      "100%|██████████| 1000/1000 [1:27:28<00:00,  5.25s/it]\n"
     ]
    },
    {
     "name": "stdout",
     "output_type": "stream",
     "text": [
      "5248.997385025024\n",
      "0.0002473684210526316 0.06000766530632973 0.8420000076293945 0.8989999890327454\n",
      "Alpha : 0.00032105263157894735\n"
     ]
    },
    {
     "name": "stderr",
     "output_type": "stream",
     "text": [
      "100%|██████████| 1000/1000 [00:00<00:00, 100100.33it/s]\n",
      "100%|██████████| 1000/1000 [1:27:31<00:00,  5.25s/it]\n"
     ]
    },
    {
     "name": "stdout",
     "output_type": "stream",
     "text": [
      "5251.294975042343\n",
      "0.00032105263157894735 0.07421847432851791 0.8289999961853027 0.8949999809265137\n",
      "Alpha : 0.00039473684210526315\n"
     ]
    },
    {
     "name": "stderr",
     "output_type": "stream",
     "text": [
      "100%|██████████| 1000/1000 [00:00<00:00, 93658.40it/s]\n",
      "100%|██████████| 1000/1000 [1:27:12<00:00,  5.23s/it]\n"
     ]
    },
    {
     "name": "stdout",
     "output_type": "stream",
     "text": [
      "5232.661860227585\n",
      "0.00039473684210526315 0.08271726965904236 0.8230000138282776 0.8999999761581421\n",
      "Alpha : 0.00046842105263157895\n"
     ]
    },
    {
     "name": "stderr",
     "output_type": "stream",
     "text": [
      "100%|██████████| 1000/1000 [00:00<00:00, 95283.95it/s]\n",
      "100%|██████████| 1000/1000 [1:26:50<00:00,  5.21s/it]\n"
     ]
    },
    {
     "name": "stdout",
     "output_type": "stream",
     "text": [
      "5210.524631023407\n",
      "0.00046842105263157895 0.09307748824357986 0.8230000138282776 0.8859999775886536\n",
      "Alpha : 0.0005421052631578948\n"
     ]
    },
    {
     "name": "stderr",
     "output_type": "stream",
     "text": [
      "100%|██████████| 1000/1000 [00:00<00:00, 95830.38it/s]\n",
      "100%|██████████| 1000/1000 [1:29:47<00:00,  5.39s/it]\n"
     ]
    },
    {
     "name": "stdout",
     "output_type": "stream",
     "text": [
      "5387.483270168304\n",
      "0.0005421052631578948 0.10155732929706573 0.8220000267028809 0.8949999809265137\n",
      "Alpha : 0.0006157894736842106\n"
     ]
    },
    {
     "name": "stderr",
     "output_type": "stream",
     "text": [
      "100%|██████████| 1000/1000 [00:00<00:00, 89499.49it/s]\n",
      "100%|██████████| 1000/1000 [1:28:15<00:00,  5.30s/it]\n"
     ]
    },
    {
     "name": "stdout",
     "output_type": "stream",
     "text": [
      "5295.520163059235\n",
      "0.0006157894736842106 0.1087067723274231 0.8090000152587891 0.8980000019073486\n",
      "Alpha : 0.0006894736842105264\n"
     ]
    },
    {
     "name": "stderr",
     "output_type": "stream",
     "text": [
      "100%|██████████| 1000/1000 [00:00<00:00, 95847.90it/s]\n",
      "  4%|▍         | 41/1000 [03:40<1:25:56,  5.38s/it]"
     ]
    }
   ],
   "source": [
    "alpha_lis = np.linspace(0.0001, 0.0015, 20) #[0.01, 0.03, 0.07, 0.1]\n",
    "delta = 0.5\n",
    "nData = len(alpha_lis)\n",
    "model_accuracy_GA = np.zeros(nData)\n",
    "\n",
    "x_test_samp = X_test.cpu()\n",
    "y_test_samp = y_test.cpu()\n",
    "\n",
    "for n in range(nData):\n",
    "    alpha = alpha_lis[n]\n",
    "    print(f\"Alpha : {alpha}\")\n",
    "\n",
    "    st = time.time()\n",
    "    x_test_GA, _ = attack_gen.make_GA(model, delta, alpha, x_test_samp, y_test_samp)\n",
    "    print(time.time() - st)\n",
    "    \n",
    "    X_test_noised = x_test_GA.reshape(-1, features)\n",
    "\n",
    "    yhat_test = model(X_test_noised.reshape(-1, 28*28))\n",
    "    yhat_test_cnn = model_cnn(X_test_noised.reshape(-1, 1, 28, 28)).argmax(1)\n",
    "\n",
    "    onlinehd_attacked_acc = (y_test == yhat_test).float().mean().item()\n",
    "    cnn_attacked_acc = (y_test == yhat_test_cnn).float().mean().item()\n",
    "    distance = (X_test_noised.reshape(-1, 28*28) - X_test).norm(dim=-1).mean().item()\n",
    "\n",
    "    print(alpha, distance, onlinehd_attacked_acc, cnn_attacked_acc)\n",
    "\n",
    "#model_accuracy_GA"
   ]
  },
  {
   "cell_type": "code",
   "execution_count": null,
   "metadata": {},
   "outputs": [],
   "source": []
  }
 ],
 "metadata": {
  "kernelspec": {
   "display_name": "venv",
   "language": "python",
   "name": "python3"
  },
  "language_info": {
   "codemirror_mode": {
    "name": "ipython",
    "version": 3
   },
   "file_extension": ".py",
   "mimetype": "text/x-python",
   "name": "python",
   "nbconvert_exporter": "python",
   "pygments_lexer": "ipython3",
   "version": "3.8.1"
  },
  "orig_nbformat": 4
 },
 "nbformat": 4,
 "nbformat_minor": 2
}
