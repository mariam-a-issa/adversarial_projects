{
 "cells": [
  {
   "cell_type": "code",
   "execution_count": 1,
   "metadata": {},
   "outputs": [],
   "source": [
    "import attack_kernelbased\n",
    "import attack_fgsm\n",
    "import attack_df\n",
    "import attack_jsma\n",
    "import attack_gen\n",
    "import dataloader\n",
    "import spatial\n",
    "\n",
    "import torch\n",
    "import torch.nn as nn\n",
    "import numpy as np\n",
    "import time\n",
    "import onlinehd\n",
    "import DNNmodels\n",
    "import pickle\n",
    "from sklearn.model_selection import train_test_split\n",
    "import matplotlib.pyplot as plt\n",
    "import tqdm\n",
    "import copy"
   ]
  },
  {
   "cell_type": "code",
   "execution_count": 2,
   "metadata": {},
   "outputs": [
    {
     "data": {
      "text/plain": [
       "(torch.Size([6238, 617]),\n",
       " torch.Size([1559, 617]),\n",
       " torch.Size([6238]),\n",
       " torch.Size([1559]))"
      ]
     },
     "execution_count": 2,
     "metadata": {},
     "output_type": "execute_result"
    }
   ],
   "source": [
    "X_train, X_test, y_train, y_test = dataloader.load(dataset_name='isolet')\n",
    "\n",
    "classes = y_train.unique().size(0)\n",
    "features = X_train.size(1)\n",
    "\n",
    "X_train.shape, X_test.shape, y_train.shape, y_test.shape"
   ]
  },
  {
   "cell_type": "code",
   "execution_count": 3,
   "metadata": {},
   "outputs": [],
   "source": [
    "X_test = X_test[:1000]\n",
    "y_test = y_test[:1000]"
   ]
  },
  {
   "cell_type": "code",
   "execution_count": 4,
   "metadata": {},
   "outputs": [
    {
     "name": "stderr",
     "output_type": "stream",
     "text": [
      "100%|██████████| 30/30 [01:18<00:00,  2.61s/it]\n"
     ]
    },
    {
     "data": {
      "image/png": "[encoded data removed]",
      "text/plain": [
       "<Figure size 640x480 with 1 Axes>"
      ]
     },
     "metadata": {},
     "output_type": "display_data"
    },
    {
     "name": "stdout",
     "output_type": "stream",
     "text": [
      "0.9961526393890381 0.9549999833106995\n"
     ]
    }
   ],
   "source": [
    "D = 4000\n",
    "acc_history, test_acc_history = [], []\n",
    "model = onlinehd.OnlineHD(classes, features, dim=D)\n",
    "best_model = None\n",
    "for _ in tqdm.tqdm(range(30)):\n",
    "  model = model.fit(X_train, y_train, bootstrap=1.0, lr=0.035, epochs=1, one_pass_fit=False)\n",
    "  \n",
    "  yhat_train = model(X_train)\n",
    "  yhat_test = model(X_test)\n",
    "\n",
    "  acc = (y_train == yhat_train).float().mean().item()\n",
    "  acc_test = (y_test == yhat_test).float().mean().item()\n",
    "\n",
    "  if best_model is None or max(test_acc_history) < acc_test:\n",
    "    best_model = copy.deepcopy(model)\n",
    "\n",
    "  acc_history.append(acc)\n",
    "  test_acc_history.append(acc_test)\n",
    "model = best_model\n",
    "\n",
    "plt.plot(acc_history, label='train')\n",
    "plt.plot(test_acc_history, label='test')\n",
    "plt.show()\n",
    "print(max(acc_history), max(test_acc_history))"
   ]
  },
  {
   "cell_type": "code",
   "execution_count": 5,
   "metadata": {},
   "outputs": [],
   "source": [
    "with open('./onlinehd_isolet.pickle', 'bw') as f:\n",
    "    pickle.dump(model, f)"
   ]
  },
  {
   "cell_type": "code",
   "execution_count": 4,
   "metadata": {},
   "outputs": [],
   "source": [
    "with open('./onlinehd_isolet.pickle', 'br') as f:\n",
    "    model = pickle.load(f)"
   ]
  },
  {
   "cell_type": "code",
   "execution_count": 5,
   "metadata": {},
   "outputs": [
    {
     "data": {
      "text/plain": [
       "NeuralNetwork(\n",
       "  (linear_relu_stack): Sequential(\n",
       "    (0): Linear(in_features=617, out_features=512, bias=True)\n",
       "    (1): ReLU()\n",
       "    (2): Linear(in_features=512, out_features=512, bias=True)\n",
       "    (3): ReLU()\n",
       "    (4): Linear(in_features=512, out_features=26, bias=True)\n",
       "  )\n",
       ")"
      ]
     },
     "execution_count": 5,
     "metadata": {},
     "output_type": "execute_result"
    }
   ],
   "source": [
    "model_dnn = DNNmodels.NeuralNetwork(num_classes=classes, flatten_layer=False, input_dim=features)\n",
    "model_dnn.load_state_dict(torch.load('./model_dnn_isolet.pt'))\n",
    "model_dnn.eval()"
   ]
  },
  {
   "attachments": {},
   "cell_type": "markdown",
   "metadata": {},
   "source": [
    "## Kernel based attack"
   ]
  },
  {
   "cell_type": "code",
   "execution_count": 8,
   "metadata": {},
   "outputs": [
    {
     "name": "stderr",
     "output_type": "stream",
     "text": [
      "100%|██████████| 1000/1000 [00:33<00:00, 29.84it/s]\n"
     ]
    },
    {
     "name": "stdout",
     "output_type": "stream",
     "text": [
      "34.16470980644226\n",
      "0.01 0.009550000540912151 0.9190000295639038 0.9390000104904175\n"
     ]
    },
    {
     "name": "stderr",
     "output_type": "stream",
     "text": [
      "100%|██████████| 1000/1000 [00:33<00:00, 30.18it/s]\n"
     ]
    },
    {
     "name": "stdout",
     "output_type": "stream",
     "text": [
      "33.66814589500427\n",
      "0.020000000000000004 0.019100001081824303 0.8840000033378601 0.921999990940094\n"
     ]
    },
    {
     "name": "stderr",
     "output_type": "stream",
     "text": [
      "100%|██████████| 1000/1000 [00:33<00:00, 29.56it/s]\n"
     ]
    },
    {
     "name": "stdout",
     "output_type": "stream",
     "text": [
      "34.40758800506592\n",
      "0.030000000000000006 0.02865000069141388 0.8410000205039978 0.9079999923706055\n"
     ]
    },
    {
     "name": "stderr",
     "output_type": "stream",
     "text": [
      "100%|██████████| 1000/1000 [00:34<00:00, 29.01it/s]\n"
     ]
    },
    {
     "name": "stdout",
     "output_type": "stream",
     "text": [
      "34.98910593986511\n",
      "0.04000000000000001 0.038200002163648605 0.7760000228881836 0.8939999938011169\n"
     ]
    },
    {
     "name": "stderr",
     "output_type": "stream",
     "text": [
      "100%|██████████| 1000/1000 [00:33<00:00, 29.44it/s]\n"
     ]
    },
    {
     "name": "stdout",
     "output_type": "stream",
     "text": [
      "34.5184850692749\n",
      "0.05000000000000001 0.04775000363588333 0.7139999866485596 0.8769999742507935\n"
     ]
    },
    {
     "name": "stderr",
     "output_type": "stream",
     "text": [
      "100%|██████████| 1000/1000 [00:33<00:00, 29.62it/s]\n"
     ]
    },
    {
     "name": "stdout",
     "output_type": "stream",
     "text": [
      "34.36953091621399\n",
      "0.06000000000000001 0.05730000138282776 0.6389999985694885 0.8529999852180481\n"
     ]
    },
    {
     "name": "stderr",
     "output_type": "stream",
     "text": [
      "100%|██████████| 1000/1000 [00:35<00:00, 28.26it/s]\n"
     ]
    },
    {
     "name": "stdout",
     "output_type": "stream",
     "text": [
      "35.99789500236511\n",
      "0.07 0.06685000658035278 0.5720000267028809 0.824999988079071\n"
     ]
    },
    {
     "name": "stderr",
     "output_type": "stream",
     "text": [
      "100%|██████████| 1000/1000 [00:34<00:00, 28.76it/s]\n"
     ]
    },
    {
     "name": "stdout",
     "output_type": "stream",
     "text": [
      "35.40586018562317\n",
      "0.08 0.07640000432729721 0.503000020980835 0.7940000295639038\n"
     ]
    },
    {
     "name": "stderr",
     "output_type": "stream",
     "text": [
      "100%|██████████| 1000/1000 [00:34<00:00, 28.76it/s]\n"
     ]
    },
    {
     "name": "stdout",
     "output_type": "stream",
     "text": [
      "35.4068329334259\n",
      "0.09000000000000001 0.08595000207424164 0.44699999690055847 0.7519999742507935\n"
     ]
    },
    {
     "name": "stderr",
     "output_type": "stream",
     "text": [
      "100%|██████████| 1000/1000 [00:35<00:00, 27.78it/s]\n"
     ]
    },
    {
     "name": "stdout",
     "output_type": "stream",
     "text": [
      "36.59141206741333\n",
      "0.1 0.09550000727176666 0.39500001072883606 0.6990000009536743\n"
     ]
    }
   ],
   "source": [
    "# with complex encoding (FHRR)\n",
    "for e in np.linspace(0.01, 0.1, 10):#[0.01, 0.03, 0.07, 0.1]:\n",
    "    st = time.time()\n",
    "    X_test_noised = attack_kernelbased.genAdversarialNoise(model, X_test, y_test, e)\n",
    "    print(time.time() - st)\n",
    "    \n",
    "    yhat_test = model(X_test_noised)\n",
    "    yhat_test_dnn = model_dnn(X_test_noised.reshape(-1, features)).argmax(1)\n",
    "\n",
    "    onlinehd_attacked_acc = (y_test == yhat_test).float().mean().item()\n",
    "    dnn_attacked_acc = (y_test == yhat_test_dnn).float().mean().item()\n",
    "    distance = (X_test_noised - X_test).norm(dim=-1).mean().item()\n",
    "\n",
    "    print(e, distance, onlinehd_attacked_acc, dnn_attacked_acc)"
   ]
  },
  {
   "attachments": {},
   "cell_type": "markdown",
   "metadata": {},
   "source": [
    "## FGSM"
   ]
  },
  {
   "attachments": {},
   "cell_type": "markdown",
   "metadata": {},
   "source": [
    "### Normlized"
   ]
  },
  {
   "cell_type": "code",
   "execution_count": 9,
   "metadata": {},
   "outputs": [
    {
     "name": "stderr",
     "output_type": "stream",
     "text": [
      "100%|██████████| 1000/1000 [00:04<00:00, 234.59it/s]\n"
     ]
    },
    {
     "name": "stdout",
     "output_type": "stream",
     "text": [
      "\n",
      "FGSM Attack with epsilon = 0.01000 | Elapsed time: 4.265593416999991 seconds.\n",
      "Accuracy: Before the attack -> 95.50%\t|\tAfter the attack -> 95.30%\n",
      "mean of norm=0.009999996051192284\n"
     ]
    },
    {
     "name": "stderr",
     "output_type": "stream",
     "text": [
      "100%|██████████| 1000/1000 [00:04<00:00, 211.15it/s]\n"
     ]
    },
    {
     "name": "stdout",
     "output_type": "stream",
     "text": [
      "\n",
      "FGSM Attack with epsilon = 0.02000 | Elapsed time: 4.743320166999979 seconds.\n",
      "Accuracy: Before the attack -> 95.50%\t|\tAfter the attack -> 95.30%\n",
      "mean of norm=0.019999997690320015\n"
     ]
    },
    {
     "name": "stderr",
     "output_type": "stream",
     "text": [
      "100%|██████████| 1000/1000 [00:05<00:00, 181.88it/s]\n"
     ]
    },
    {
     "name": "stdout",
     "output_type": "stream",
     "text": [
      "\n",
      "FGSM Attack with epsilon = 0.03000 | Elapsed time: 5.506840041999965 seconds.\n",
      "Accuracy: Before the attack -> 95.50%\t|\tAfter the attack -> 95.10%\n",
      "mean of norm=0.029999980702996254\n"
     ]
    },
    {
     "name": "stderr",
     "output_type": "stream",
     "text": [
      "100%|██████████| 1000/1000 [00:04<00:00, 232.17it/s]\n"
     ]
    },
    {
     "name": "stdout",
     "output_type": "stream",
     "text": [
      "\n",
      "FGSM Attack with epsilon = 0.04000 | Elapsed time: 4.317116749999968 seconds.\n",
      "Accuracy: Before the attack -> 95.50%\t|\tAfter the attack -> 95.20%\n",
      "mean of norm=0.03999999910593033\n"
     ]
    },
    {
     "name": "stderr",
     "output_type": "stream",
     "text": [
      "100%|██████████| 1000/1000 [00:04<00:00, 210.86it/s]\n"
     ]
    },
    {
     "name": "stdout",
     "output_type": "stream",
     "text": [
      "\n",
      "FGSM Attack with epsilon = 0.05000 | Elapsed time: 4.756658082999934 seconds.\n",
      "Accuracy: Before the attack -> 95.50%\t|\tAfter the attack -> 94.90%\n",
      "mean of norm=0.05000000447034836\n"
     ]
    },
    {
     "name": "stderr",
     "output_type": "stream",
     "text": [
      "100%|██████████| 1000/1000 [00:04<00:00, 203.08it/s]\n"
     ]
    },
    {
     "name": "stdout",
     "output_type": "stream",
     "text": [
      "\n",
      "FGSM Attack with epsilon = 0.06000 | Elapsed time: 4.932531416000074 seconds.\n",
      "Accuracy: Before the attack -> 95.50%\t|\tAfter the attack -> 94.90%\n",
      "mean of norm=0.0599999725818634\n"
     ]
    },
    {
     "name": "stderr",
     "output_type": "stream",
     "text": [
      "100%|██████████| 1000/1000 [00:04<00:00, 211.64it/s]\n"
     ]
    },
    {
     "name": "stdout",
     "output_type": "stream",
     "text": [
      "\n",
      "FGSM Attack with epsilon = 0.07000 | Elapsed time: 4.733118540999953 seconds.\n",
      "Accuracy: Before the attack -> 95.50%\t|\tAfter the attack -> 94.50%\n",
      "mean of norm=0.06999999284744263\n"
     ]
    },
    {
     "name": "stderr",
     "output_type": "stream",
     "text": [
      "100%|██████████| 1000/1000 [00:04<00:00, 204.09it/s]\n"
     ]
    },
    {
     "name": "stdout",
     "output_type": "stream",
     "text": [
      "\n",
      "FGSM Attack with epsilon = 0.08000 | Elapsed time: 4.907588166999972 seconds.\n",
      "Accuracy: Before the attack -> 95.50%\t|\tAfter the attack -> 94.60%\n",
      "mean of norm=0.07999999821186066\n"
     ]
    },
    {
     "name": "stderr",
     "output_type": "stream",
     "text": [
      "100%|██████████| 1000/1000 [00:04<00:00, 203.83it/s]\n"
     ]
    },
    {
     "name": "stdout",
     "output_type": "stream",
     "text": [
      "\n",
      "FGSM Attack with epsilon = 0.09000 | Elapsed time: 4.916357541000025 seconds.\n",
      "Accuracy: Before the attack -> 95.50%\t|\tAfter the attack -> 94.30%\n",
      "mean of norm=0.09000000357627869\n"
     ]
    },
    {
     "name": "stderr",
     "output_type": "stream",
     "text": [
      "100%|██████████| 1000/1000 [00:04<00:00, 202.06it/s]"
     ]
    },
    {
     "name": "stdout",
     "output_type": "stream",
     "text": [
      "\n",
      "FGSM Attack with epsilon = 0.10000 | Elapsed time: 4.957733875000031 seconds.\n",
      "Accuracy: Before the attack -> 95.50%\t|\tAfter the attack -> 94.20%\n",
      "mean of norm=0.10000000894069672\n"
     ]
    },
    {
     "name": "stderr",
     "output_type": "stream",
     "text": [
      "\n"
     ]
    }
   ],
   "source": [
    "epsilons = np.linspace(0.01, 0.1, 10) # torch.Tensor([0.01, 0.03, 0.07, 0.1])\n",
    "verbose = False\n",
    "#criterion = nn.CosineEmbeddingLoss()\n",
    "criterion = lambda output, model, label: (spatial.cos_cdist(output, model) - label).mean()\n",
    "#criterion = lambda output, model, label: output.mean()\n",
    "N_VAL_SAMPLES = X_test.data.shape[0]\n",
    "\n",
    "attack_samples, acc_results = attack_fgsm.attack(\n",
    "    model, X_train, X_test, y_test, epsilons, classes, criterion, N_VAL_SAMPLES, 'cpu', \n",
    "    input_dim=features, model_type='dnn')"
   ]
  },
  {
   "cell_type": "code",
   "execution_count": 10,
   "metadata": {},
   "outputs": [
    {
     "name": "stdout",
     "output_type": "stream",
     "text": [
      "0.01 0.009999996051192284 0.953000009059906 0.9520000219345093\n",
      "0.020000000000000004 0.019999997690320015 0.953000009059906 0.9520000219345093\n",
      "0.030000000000000006 0.029999980702996254 0.9509999752044678 0.9509999752044678\n",
      "0.04000000000000001 0.03999999910593033 0.9520000219345093 0.949999988079071\n",
      "0.05000000000000001 0.05000000447034836 0.9490000009536743 0.949999988079071\n",
      "0.06000000000000001 0.0599999725818634 0.9490000009536743 0.9490000009536743\n",
      "0.07 0.06999999284744263 0.9449999928474426 0.9490000009536743\n",
      "0.08 0.07999999821186066 0.9459999799728394 0.9470000267028809\n",
      "0.09000000000000001 0.09000000357627869 0.9430000185966492 0.9449999928474426\n",
      "0.1 0.10000000894069672 0.9419999718666077 0.9470000267028809\n"
     ]
    }
   ],
   "source": [
    "for e, X_test_noised in zip(epsilons, attack_samples):\n",
    "    yhat_test = model(X_test_noised.reshape(-1, features))\n",
    "    yhat_test_dnn = model_dnn(X_test_noised.reshape(-1, features)).argmax(1)\n",
    "\n",
    "    onlinehd_attacked_acc = (y_test == yhat_test).float().mean().item()\n",
    "    dnn_attacked_acc = (y_test == yhat_test_dnn).float().mean().item()\n",
    "    distance = (X_test_noised.reshape(-1, features) - X_test).norm(dim=-1).mean().item()\n",
    "\n",
    "    print(e, distance, onlinehd_attacked_acc, dnn_attacked_acc)"
   ]
  },
  {
   "attachments": {},
   "cell_type": "markdown",
   "metadata": {},
   "source": [
    "## Deep Fool"
   ]
  },
  {
   "cell_type": "code",
   "execution_count": 6,
   "metadata": {},
   "outputs": [
    {
     "name": "stderr",
     "output_type": "stream",
     "text": [
      "100%|██████████| 1000/1000 [05:40<00:00,  2.94it/s]\n"
     ]
    },
    {
     "name": "stdout",
     "output_type": "stream",
     "text": [
      "340.08926486968994\n",
      "0.01 0.003637996269389987 0.9309999942779541 0.9419999718666077\n"
     ]
    },
    {
     "name": "stderr",
     "output_type": "stream",
     "text": [
      "100%|██████████| 1000/1000 [06:02<00:00,  2.76it/s]\n"
     ]
    },
    {
     "name": "stdout",
     "output_type": "stream",
     "text": [
      "362.37019395828247\n",
      "0.02 0.007275993004441261 0.9079999923706055 0.9290000200271606\n"
     ]
    },
    {
     "name": "stderr",
     "output_type": "stream",
     "text": [
      "100%|██████████| 1000/1000 [05:37<00:00,  2.96it/s]\n"
     ]
    },
    {
     "name": "stdout",
     "output_type": "stream",
     "text": [
      "337.50009989738464\n",
      "0.03 0.010913989506661892 0.8679999709129333 0.921999990940094\n"
     ]
    },
    {
     "name": "stderr",
     "output_type": "stream",
     "text": [
      "100%|██████████| 1000/1000 [04:35<00:00,  3.62it/s]\n"
     ]
    },
    {
     "name": "stdout",
     "output_type": "stream",
     "text": [
      "275.86575722694397\n",
      "0.04 0.014551986008882523 0.8040000200271606 0.9139999747276306\n"
     ]
    },
    {
     "name": "stderr",
     "output_type": "stream",
     "text": [
      "100%|██████████| 1000/1000 [04:12<00:00,  3.96it/s]\n"
     ]
    },
    {
     "name": "stdout",
     "output_type": "stream",
     "text": [
      "252.83658504486084\n",
      "0.05 0.018189983442425728 0.7419999837875366 0.9020000100135803\n"
     ]
    },
    {
     "name": "stderr",
     "output_type": "stream",
     "text": [
      "100%|██████████| 1000/1000 [03:34<00:00,  4.67it/s]\n"
     ]
    },
    {
     "name": "stdout",
     "output_type": "stream",
     "text": [
      "214.30184698104858\n",
      "0.060000000000000005 0.021827979013323784 0.6669999957084656 0.890999972820282\n"
     ]
    },
    {
     "name": "stderr",
     "output_type": "stream",
     "text": [
      "100%|██████████| 1000/1000 [03:14<00:00,  5.14it/s]\n"
     ]
    },
    {
     "name": "stdout",
     "output_type": "stream",
     "text": [
      "194.69384789466858\n",
      "0.06999999999999999 0.02546597272157669 0.6499999761581421 0.8690000176429749\n"
     ]
    },
    {
     "name": "stderr",
     "output_type": "stream",
     "text": [
      "100%|██████████| 1000/1000 [14:50<00:00,  1.12it/s] \n"
     ]
    },
    {
     "name": "stdout",
     "output_type": "stream",
     "text": [
      "890.4744050502777\n",
      "0.08 0.029103972017765045 0.6499999761581421 0.8479999899864197\n"
     ]
    },
    {
     "name": "stderr",
     "output_type": "stream",
     "text": [
      "100%|██████████| 1000/1000 [15:10<00:00,  1.10it/s] \n"
     ]
    },
    {
     "name": "stdout",
     "output_type": "stream",
     "text": [
      "910.3153319358826\n",
      "0.09 0.0327419713139534 0.6499999761581421 0.8240000009536743\n"
     ]
    },
    {
     "name": "stderr",
     "output_type": "stream",
     "text": [
      "100%|██████████| 1000/1000 [02:57<00:00,  5.64it/s]\n"
     ]
    },
    {
     "name": "stdout",
     "output_type": "stream",
     "text": [
      "177.3129918575287\n",
      "0.09999999999999999 0.036379966884851456 0.6499999761581421 0.7990000247955322\n"
     ]
    },
    {
     "name": "stderr",
     "output_type": "stream",
     "text": [
      "100%|██████████| 1000/1000 [02:51<00:00,  5.82it/s]\n"
     ]
    },
    {
     "name": "stdout",
     "output_type": "stream",
     "text": [
      "171.7412588596344\n",
      "0.11 0.04001795873045921 0.6499999761581421 0.7799999713897705\n"
     ]
    },
    {
     "name": "stderr",
     "output_type": "stream",
     "text": [
      "100%|██████████| 1000/1000 [02:58<00:00,  5.61it/s]\n"
     ]
    },
    {
     "name": "stdout",
     "output_type": "stream",
     "text": [
      "178.38594007492065\n",
      "0.12 0.04365595802664757 0.6499999761581421 0.7670000195503235\n"
     ]
    },
    {
     "name": "stderr",
     "output_type": "stream",
     "text": [
      "100%|██████████| 1000/1000 [02:54<00:00,  5.72it/s]\n"
     ]
    },
    {
     "name": "stdout",
     "output_type": "stream",
     "text": [
      "174.8645520210266\n",
      "0.13 0.047293949872255325 0.6499999761581421 0.7490000128746033\n"
     ]
    },
    {
     "name": "stderr",
     "output_type": "stream",
     "text": [
      "100%|██████████| 1000/1000 [02:41<00:00,  6.18it/s]\n"
     ]
    },
    {
     "name": "stdout",
     "output_type": "stream",
     "text": [
      "161.75405597686768\n",
      "0.14 0.05093194544315338 0.6499999761581421 0.7310000061988831\n"
     ]
    },
    {
     "name": "stderr",
     "output_type": "stream",
     "text": [
      "100%|██████████| 1000/1000 [02:23<00:00,  6.98it/s]\n"
     ]
    },
    {
     "name": "stdout",
     "output_type": "stream",
     "text": [
      "143.36693596839905\n",
      "0.15000000000000002 0.054569944739341736 0.6499999761581421 0.7179999947547913\n"
     ]
    },
    {
     "name": "stderr",
     "output_type": "stream",
     "text": [
      "100%|██████████| 1000/1000 [02:29<00:00,  6.69it/s]\n"
     ]
    },
    {
     "name": "stdout",
     "output_type": "stream",
     "text": [
      "149.45582604408264\n",
      "0.16 0.05820794403553009 0.6499999761581421 0.7039999961853027\n"
     ]
    },
    {
     "name": "stderr",
     "output_type": "stream",
     "text": [
      "100%|██████████| 1000/1000 [02:33<00:00,  6.53it/s]\n"
     ]
    },
    {
     "name": "stdout",
     "output_type": "stream",
     "text": [
      "153.0751597881317\n",
      "0.17 0.06184593215584755 0.6499999761581421 0.6970000267028809\n"
     ]
    },
    {
     "name": "stderr",
     "output_type": "stream",
     "text": [
      "100%|██████████| 1000/1000 [02:25<00:00,  6.86it/s]\n"
     ]
    },
    {
     "name": "stdout",
     "output_type": "stream",
     "text": [
      "145.70300388336182\n",
      "0.18000000000000002 0.0654839426279068 0.6499999761581421 0.6919999718666077\n"
     ]
    },
    {
     "name": "stderr",
     "output_type": "stream",
     "text": [
      "100%|██████████| 1000/1000 [02:28<00:00,  6.72it/s]\n"
     ]
    },
    {
     "name": "stdout",
     "output_type": "stream",
     "text": [
      "148.89637780189514\n",
      "0.19 0.06912193447351456 0.6499999761581421 0.6840000152587891\n"
     ]
    },
    {
     "name": "stderr",
     "output_type": "stream",
     "text": [
      "100%|██████████| 1000/1000 [02:29<00:00,  6.68it/s]\n"
     ]
    },
    {
     "name": "stdout",
     "output_type": "stream",
     "text": [
      "149.62165594100952\n",
      "0.2 0.07275993376970291 0.6499999761581421 0.6790000200271606\n"
     ]
    }
   ],
   "source": [
    "for max_update in np.linspace(0.01, 0.2, 20):\n",
    "    X_te_cln = X_test.clone().reshape(-1, 1, features)\n",
    "    Y_te_cln = y_test.clone()\n",
    "\n",
    "    x_test_adv = torch.zeros(X_te_cln.shape)\n",
    "    x_test_pert = torch.zeros(X_te_cln.shape[0], features)\n",
    "\n",
    "    st = time.time()\n",
    "    for i in tqdm.tqdm(range(X_test.shape[0])):\n",
    "        x_test_adv[i], x_test_pert[i] = attack_df.deepfool(X_te_cln[i], model, epsilon=max_update, num_classes=classes, input_dim=features, model_type='dnn')\n",
    "    print(time.time() - st)\n",
    "    \n",
    "    X_test_noised = x_test_adv.reshape(-1, features)\n",
    "\n",
    "    yhat_test = model(X_test_noised.reshape(-1, features))\n",
    "    yhat_test_dnn = model_dnn(X_test_noised.reshape(-1, features)).argmax(1)\n",
    "\n",
    "    onlinehd_attacked_acc = (y_test == yhat_test).float().mean().item()\n",
    "    dnn_attacked_acc = (y_test == yhat_test_dnn).float().mean().item()\n",
    "    distance = (X_test_noised.reshape(-1, features) - X_test).norm(dim=-1).mean().item()\n",
    "\n",
    "    print(max_update, distance, onlinehd_attacked_acc, dnn_attacked_acc)"
   ]
  },
  {
   "cell_type": "code",
   "execution_count": 7,
   "metadata": {},
   "outputs": [
    {
     "name": "stderr",
     "output_type": "stream",
     "text": [
      "100%|██████████| 1000/1000 [02:28<00:00,  6.74it/s]\n"
     ]
    },
    {
     "name": "stdout",
     "output_type": "stream",
     "text": [
      "None 0.0395655520260334 0.6499999761581421 0.7649999856948853\n"
     ]
    }
   ],
   "source": [
    "X_te_cln = X_test.clone().reshape(-1, 1, features)\n",
    "Y_te_cln = y_test.clone()\n",
    "\n",
    "x_test_adv = torch.zeros(X_te_cln.shape)\n",
    "x_test_pert = torch.zeros(X_te_cln.shape[0], features)\n",
    "\n",
    "for i in tqdm.tqdm(range(X_test.shape[0])):\n",
    "    x_test_adv[i], x_test_pert[i] = attack_df.deepfool(X_te_cln[i], model, epsilon=None, num_classes=classes, input_dim=features, model_type='dnn')\n",
    "\n",
    "X_test_noised = x_test_adv.reshape(-1, features)\n",
    "\n",
    "yhat_test = model(X_test_noised.reshape(-1, features))\n",
    "yhat_test_dnn = model_dnn(X_test_noised.reshape(-1, features)).argmax(1)\n",
    "\n",
    "onlinehd_attacked_acc = (y_test == yhat_test).float().mean().item()\n",
    "dnn_attacked_acc = (y_test == yhat_test_dnn).float().mean().item()\n",
    "distance = (X_test_noised.reshape(-1, features) - X_test).norm(dim=-1).mean().item()\n",
    "\n",
    "print(None, distance, onlinehd_attacked_acc, dnn_attacked_acc)"
   ]
  },
  {
   "attachments": {},
   "cell_type": "markdown",
   "metadata": {},
   "source": [
    "## Genetic Attack"
   ]
  },
  {
   "cell_type": "code",
   "execution_count": 13,
   "metadata": {},
   "outputs": [
    {
     "name": "stdout",
     "output_type": "stream",
     "text": [
      "Alpha : 0.0001\n"
     ]
    },
    {
     "name": "stderr",
     "output_type": "stream",
     "text": [
      "100%|██████████| 1000/1000 [00:00<00:00, 104069.28it/s]\n",
      "100%|██████████| 1000/1000 [1:35:39<00:00,  5.74s/it]\n"
     ]
    },
    {
     "name": "stdout",
     "output_type": "stream",
     "text": [
      "5739.920543909073\n",
      "0.0001 0.022498110309243202 0.9509999752044678 0.9520000219345093\n",
      "Alpha : 0.0001736842105263158\n"
     ]
    },
    {
     "name": "stderr",
     "output_type": "stream",
     "text": [
      "100%|██████████| 1000/1000 [00:00<00:00, 108945.79it/s]\n",
      "100%|██████████| 1000/1000 [1:33:47<00:00,  5.63s/it]\n"
     ]
    },
    {
     "name": "stdout",
     "output_type": "stream",
     "text": [
      "5627.550845861435\n",
      "0.0001736842105263158 0.03852307051420212 0.949999988079071 0.9509999752044678\n",
      "Alpha : 0.0002473684210526316\n"
     ]
    },
    {
     "name": "stderr",
     "output_type": "stream",
     "text": [
      "100%|██████████| 1000/1000 [00:00<00:00, 110536.41it/s]\n",
      "100%|██████████| 1000/1000 [1:33:36<00:00,  5.62s/it]\n"
     ]
    },
    {
     "name": "stdout",
     "output_type": "stream",
     "text": [
      "5616.200036048889\n",
      "0.0002473684210526316 0.05439358204603195 0.9480000138282776 0.9470000267028809\n",
      "Alpha : 0.00032105263157894735\n"
     ]
    },
    {
     "name": "stderr",
     "output_type": "stream",
     "text": [
      "100%|██████████| 1000/1000 [00:00<00:00, 111705.12it/s]\n",
      "100%|██████████| 1000/1000 [1:33:45<00:00,  5.63s/it]\n"
     ]
    },
    {
     "name": "stdout",
     "output_type": "stream",
     "text": [
      "5625.925188064575\n",
      "0.00032105263157894735 0.07048539072275162 0.9490000009536743 0.9459999799728394\n",
      "Alpha : 0.00039473684210526315\n"
     ]
    },
    {
     "name": "stderr",
     "output_type": "stream",
     "text": [
      "100%|██████████| 1000/1000 [00:00<00:00, 107817.18it/s]\n",
      "100%|██████████| 1000/1000 [1:34:22<00:00,  5.66s/it]\n"
     ]
    },
    {
     "name": "stdout",
     "output_type": "stream",
     "text": [
      "5662.6135330200195\n",
      "0.00039473684210526315 0.08633758872747421 0.9430000185966492 0.9449999928474426\n",
      "Alpha : 0.00046842105263157895\n"
     ]
    },
    {
     "name": "stderr",
     "output_type": "stream",
     "text": [
      "100%|██████████| 1000/1000 [00:00<00:00, 108003.19it/s]\n",
      "100%|██████████| 1000/1000 [1:33:57<00:00,  5.64s/it]\n"
     ]
    },
    {
     "name": "stdout",
     "output_type": "stream",
     "text": [
      "5637.309382915497\n",
      "0.00046842105263157895 0.10158946365118027 0.9430000185966492 0.9399999976158142\n",
      "Alpha : 0.0005421052631578948\n"
     ]
    },
    {
     "name": "stderr",
     "output_type": "stream",
     "text": [
      "100%|██████████| 1000/1000 [00:00<00:00, 112435.77it/s]\n",
      "100%|██████████| 1000/1000 [1:35:01<00:00,  5.70s/it]\n"
     ]
    },
    {
     "name": "stdout",
     "output_type": "stream",
     "text": [
      "5701.246057987213\n",
      "0.0005421052631578948 0.11339505761861801 0.9359999895095825 0.9380000233650208\n",
      "Alpha : 0.0006157894736842106\n"
     ]
    },
    {
     "name": "stderr",
     "output_type": "stream",
     "text": [
      "100%|██████████| 1000/1000 [00:00<00:00, 112716.78it/s]\n",
      "100%|██████████| 1000/1000 [1:35:29<00:00,  5.73s/it]\n"
     ]
    },
    {
     "name": "stdout",
     "output_type": "stream",
     "text": [
      "5729.609946966171\n",
      "0.0006157894736842106 0.11759191751480103 0.9399999976158142 0.9409999847412109\n",
      "Alpha : 0.0006894736842105264\n"
     ]
    },
    {
     "name": "stderr",
     "output_type": "stream",
     "text": [
      "100%|██████████| 1000/1000 [00:00<00:00, 116947.00it/s]\n",
      "100%|██████████| 1000/1000 [1:36:25<00:00,  5.79s/it]\n"
     ]
    },
    {
     "name": "stdout",
     "output_type": "stream",
     "text": [
      "5785.885804891586\n",
      "0.0006894736842105264 0.11928137391805649 0.9390000104904175 0.9380000233650208\n",
      "Alpha : 0.0007631578947368421\n"
     ]
    },
    {
     "name": "stderr",
     "output_type": "stream",
     "text": [
      "100%|██████████| 1000/1000 [00:00<00:00, 110693.94it/s]\n",
      "100%|██████████| 1000/1000 [1:36:46<00:00,  5.81s/it]\n"
     ]
    },
    {
     "name": "stdout",
     "output_type": "stream",
     "text": [
      "5807.092231988907\n",
      "0.0007631578947368421 0.12612183392047882 0.9459999799728394 0.9419999718666077\n",
      "Alpha : 0.000836842105263158\n"
     ]
    },
    {
     "name": "stderr",
     "output_type": "stream",
     "text": [
      "100%|██████████| 1000/1000 [00:00<00:00, 113442.35it/s]\n",
      "100%|██████████| 1000/1000 [1:39:25<00:00,  5.97s/it]\n"
     ]
    },
    {
     "name": "stdout",
     "output_type": "stream",
     "text": [
      "5965.281290054321\n",
      "0.000836842105263158 0.12491637468338013 0.9350000023841858 0.9369999766349792\n",
      "Alpha : 0.0009105263157894737\n"
     ]
    },
    {
     "name": "stderr",
     "output_type": "stream",
     "text": [
      "100%|██████████| 1000/1000 [00:00<00:00, 106246.78it/s]\n",
      "100%|██████████| 1000/1000 [1:37:12<00:00,  5.83s/it]\n"
     ]
    },
    {
     "name": "stdout",
     "output_type": "stream",
     "text": [
      "5832.31508398056\n",
      "0.0009105263157894737 0.12473554909229279 0.9369999766349792 0.9380000233650208\n",
      "Alpha : 0.0009842105263157895\n"
     ]
    },
    {
     "name": "stderr",
     "output_type": "stream",
     "text": [
      "100%|██████████| 1000/1000 [00:00<00:00, 112944.42it/s]\n",
      "100%|██████████| 1000/1000 [1:45:15<00:00,  6.32s/it]\n"
     ]
    },
    {
     "name": "stdout",
     "output_type": "stream",
     "text": [
      "6315.47539806366\n",
      "0.0009842105263157895 0.12889127433300018 0.9359999895095825 0.9380000233650208\n",
      "Alpha : 0.0010578947368421053\n"
     ]
    },
    {
     "name": "stderr",
     "output_type": "stream",
     "text": [
      "100%|██████████| 1000/1000 [00:00<00:00, 109939.56it/s]\n",
      "100%|██████████| 1000/1000 [1:41:32<00:00,  6.09s/it]\n"
     ]
    },
    {
     "name": "stdout",
     "output_type": "stream",
     "text": [
      "6092.963121175766\n",
      "0.0010578947368421053 0.13029541075229645 0.9359999895095825 0.9350000023841858\n",
      "Alpha : 0.0011315789473684212\n"
     ]
    },
    {
     "name": "stderr",
     "output_type": "stream",
     "text": [
      "100%|██████████| 1000/1000 [00:00<00:00, 104066.69it/s]\n",
      "100%|██████████| 1000/1000 [1:54:15<00:00,  6.86s/it]\n"
     ]
    },
    {
     "name": "stdout",
     "output_type": "stream",
     "text": [
      "6855.137047767639\n",
      "0.0011315789473684212 0.13153688609600067 0.9319999814033508 0.9390000104904175\n",
      "Alpha : 0.0012052631578947368\n"
     ]
    },
    {
     "name": "stderr",
     "output_type": "stream",
     "text": [
      "100%|██████████| 1000/1000 [00:00<00:00, 104536.15it/s]\n",
      "100%|██████████| 1000/1000 [1:42:13<00:00,  6.13s/it]\n"
     ]
    },
    {
     "name": "stdout",
     "output_type": "stream",
     "text": [
      "6133.752470970154\n",
      "0.0012052631578947368 0.13208921253681183 0.9380000233650208 0.9369999766349792\n",
      "Alpha : 0.0012789473684210527\n"
     ]
    },
    {
     "name": "stderr",
     "output_type": "stream",
     "text": [
      "100%|██████████| 1000/1000 [00:00<00:00, 106904.83it/s]\n",
      "100%|██████████| 1000/1000 [1:41:10<00:00,  6.07s/it]\n"
     ]
    },
    {
     "name": "stdout",
     "output_type": "stream",
     "text": [
      "6070.798237085342\n",
      "0.0012789473684210527 0.1304032951593399 0.9390000104904175 0.9359999895095825\n",
      "Alpha : 0.0013526315789473685\n"
     ]
    },
    {
     "name": "stderr",
     "output_type": "stream",
     "text": [
      "100%|██████████| 1000/1000 [00:00<00:00, 110425.82it/s]\n",
      "100%|██████████| 1000/1000 [1:41:02<00:00,  6.06s/it]\n"
     ]
    },
    {
     "name": "stdout",
     "output_type": "stream",
     "text": [
      "6062.559363126755\n",
      "0.0013526315789473685 0.13242025673389435 0.9409999847412109 0.9390000104904175\n",
      "Alpha : 0.0014263157894736842\n"
     ]
    },
    {
     "name": "stderr",
     "output_type": "stream",
     "text": [
      "100%|██████████| 1000/1000 [00:00<00:00, 109240.89it/s]\n",
      "100%|██████████| 1000/1000 [1:38:34<00:00,  5.91s/it]\n"
     ]
    },
    {
     "name": "stdout",
     "output_type": "stream",
     "text": [
      "5914.516623973846\n",
      "0.0014263157894736842 0.13350670039653778 0.9399999976158142 0.9380000233650208\n",
      "Alpha : 0.0015\n"
     ]
    },
    {
     "name": "stderr",
     "output_type": "stream",
     "text": [
      "100%|██████████| 1000/1000 [00:00<00:00, 111027.98it/s]\n",
      "100%|██████████| 1000/1000 [1:34:22<00:00,  5.66s/it]\n"
     ]
    },
    {
     "name": "stdout",
     "output_type": "stream",
     "text": [
      "5662.736827135086\n",
      "0.0015 0.13409391045570374 0.9409999847412109 0.9380000233650208\n"
     ]
    }
   ],
   "source": [
    "alpha_lis = np.linspace(0.0001, 0.0015, 20) #[0.01, 0.03, 0.07, 0.1]\n",
    "delta = 0.5\n",
    "nData = len(alpha_lis)\n",
    "model_accuracy_GA = np.zeros(nData)\n",
    "\n",
    "x_test_samp = X_test.cpu()\n",
    "y_test_samp = y_test.cpu()\n",
    "\n",
    "for n in range(nData):\n",
    "    alpha = alpha_lis[n]\n",
    "    print(f\"Alpha : {alpha}\")\n",
    "\n",
    "    st = time.time()\n",
    "    x_test_GA, _ = attack_gen.make_GA(model, delta, alpha, x_test_samp, y_test_samp)\n",
    "    print(time.time() - st)\n",
    "    \n",
    "    X_test_noised = x_test_GA.reshape(-1, features)\n",
    "\n",
    "    yhat_test = model(X_test_noised.reshape(-1, features))\n",
    "    yhat_test_dnn = model_dnn(X_test_noised.reshape(-1, features)).argmax(1)\n",
    "\n",
    "    onlinehd_attacked_acc = (y_test == yhat_test).float().mean().item()\n",
    "    dnn_attacked_acc = (y_test == yhat_test_dnn).float().mean().item()\n",
    "    distance = (X_test_noised.reshape(-1, features) - X_test).norm(dim=-1).mean().item()\n",
    "\n",
    "    print(alpha, distance, onlinehd_attacked_acc, dnn_attacked_acc)\n",
    "\n",
    "#model_accuracy_GA"
   ]
  },
  {
   "cell_type": "code",
   "execution_count": null,
   "metadata": {},
   "outputs": [],
   "source": []
  }
 ],
 "metadata": {
  "kernelspec": {
   "display_name": "venv",
   "language": "python",
   "name": "python3"
  },
  "language_info": {
   "codemirror_mode": {
    "name": "ipython",
    "version": 3
   },
   "file_extension": ".py",
   "mimetype": "text/x-python",
   "name": "python",
   "nbconvert_exporter": "python",
   "pygments_lexer": "ipython3",
   "version": "3.8.1"
  },
  "orig_nbformat": 4
 },
 "nbformat": 4,
 "nbformat_minor": 2
}
