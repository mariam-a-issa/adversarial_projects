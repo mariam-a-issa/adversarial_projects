{
 "cells": [
  {
   "cell_type": "code",
   "execution_count": 1,
   "metadata": {},
   "outputs": [],
   "source": [
    "import attack_kernelbased\n",
    "import attack_fgsm\n",
    "import attack_df\n",
    "import attack_jsma\n",
    "import attack_gen\n",
    "import dataloader\n",
    "import spatial\n",
    "\n",
    "import torch\n",
    "import torch.nn as nn\n",
    "import numpy as np\n",
    "import time\n",
    "import onlinehd\n",
    "import DNNmodels\n",
    "import pickle\n",
    "from sklearn.model_selection import train_test_split\n",
    "import tqdm"
   ]
  },
  {
   "cell_type": "code",
   "execution_count": 2,
   "metadata": {},
   "outputs": [
    {
     "name": "stderr",
     "output_type": "stream",
     "text": [
      "/Users/sang-geon/Documents/UCI_BIASLab/kernel_adversarial/venv/lib/python3.8/site-packages/sklearn/datasets/_openml.py:968: FutureWarning: The default value of `parser` will change from `'liac-arff'` to `'auto'` in 1.4. You can set `parser='auto'` to silence this warning. Therefore, an `ImportError` will be raised from 1.4 if the dataset is dense and pandas is not installed. Note that the pandas parser may return different data types. See the Notes Section in fetch_openml's API doc for details.\n",
      "  warn(\n"
     ]
    },
    {
     "data": {
      "text/plain": [
       "(torch.Size([52500, 784]),\n",
       " torch.Size([17500, 784]),\n",
       " torch.Size([52500]),\n",
       " torch.Size([17500]))"
      ]
     },
     "execution_count": 2,
     "metadata": {},
     "output_type": "execute_result"
    }
   ],
   "source": [
    "X_train, X_test, y_train, y_test = dataloader.load(None)\n",
    "\n",
    "classes = y_train.unique().size(0)\n",
    "features = X_train.size(1)\n",
    "\n",
    "X_train.shape, X_test.shape, y_train.shape, y_test.shape"
   ]
  },
  {
   "cell_type": "code",
   "execution_count": 3,
   "metadata": {},
   "outputs": [],
   "source": [
    "X_test = X_test[:1000]\n",
    "y_test = y_test[:1000]"
   ]
  },
  {
   "cell_type": "code",
   "execution_count": 4,
   "metadata": {},
   "outputs": [
    {
     "name": "stdout",
     "output_type": "stream",
     "text": [
      "tensor(0.9541) tensor(0.9530)\n"
     ]
    }
   ],
   "source": [
    "D = 4000\n",
    "model = onlinehd.OnlineHD(classes, features, dim=D)\n",
    "model = model.fit(X_train, y_train, bootstrap=1.0, lr=0.035, epochs=2, one_pass_fit=False)\n",
    "\n",
    "yhat_train = model(X_train)\n",
    "yhat_test = model(X_test)\n",
    "\n",
    "acc = (y_train == yhat_train).float().mean()\n",
    "acc_test = (y_test == yhat_test).float().mean()\n",
    "print(acc, acc_test)"
   ]
  },
  {
   "cell_type": "code",
   "execution_count": null,
   "metadata": {},
   "outputs": [],
   "source": [
    "with open('./onlinehd.pickle', 'bw') as f:\n",
    "    pickle.dump(model, f)"
   ]
  },
  {
   "cell_type": "code",
   "execution_count": 4,
   "metadata": {},
   "outputs": [],
   "source": [
    "with open('./onlinehd.pickle', 'br') as f:\n",
    "    model = pickle.load(f)"
   ]
  },
  {
   "cell_type": "code",
   "execution_count": 5,
   "metadata": {},
   "outputs": [
    {
     "data": {
      "text/plain": [
       "CNN(\n",
       "  (conv1): Conv2d(1, 16, kernel_size=(4, 4), stride=(1, 1))\n",
       "  (relu1): ReLU()\n",
       "  (conv2): Conv2d(16, 8, kernel_size=(2, 2), stride=(1, 1))\n",
       "  (relu2): ReLU()\n",
       "  (max_pool2): MaxPool2d(kernel_size=2, stride=2, padding=0, dilation=1, ceil_mode=False)\n",
       "  (fc1): Linear(in_features=1152, out_features=128, bias=True)\n",
       "  (fc2): Linear(in_features=128, out_features=10, bias=True)\n",
       ")"
      ]
     },
     "execution_count": 5,
     "metadata": {},
     "output_type": "execute_result"
    }
   ],
   "source": [
    "model_cnn = DNNmodels.CNN()\n",
    "model_cnn.load_state_dict(torch.load('./model_cnn.pt'))\n",
    "model_cnn.eval()"
   ]
  },
  {
   "attachments": {},
   "cell_type": "markdown",
   "metadata": {},
   "source": [
    "## Kernel based attack"
   ]
  },
  {
   "cell_type": "code",
   "execution_count": 6,
   "metadata": {},
   "outputs": [
    {
     "name": "stderr",
     "output_type": "stream",
     "text": [
      "100%|██████████| 1000/1000 [00:44<00:00, 22.51it/s]\n"
     ]
    },
    {
     "name": "stdout",
     "output_type": "stream",
     "text": [
      "45.204185009002686\n",
      "0.01 0.00949000008404255 0.9309999942779541 0.968999981880188\n"
     ]
    },
    {
     "name": "stderr",
     "output_type": "stream",
     "text": [
      "100%|██████████| 1000/1000 [00:44<00:00, 22.54it/s]\n"
     ]
    },
    {
     "name": "stdout",
     "output_type": "stream",
     "text": [
      "45.038705825805664\n",
      "0.020000000000000004 0.0189800001680851 0.9110000133514404 0.9660000205039978\n"
     ]
    },
    {
     "name": "stderr",
     "output_type": "stream",
     "text": [
      "100%|██████████| 1000/1000 [00:44<00:00, 22.49it/s]\n"
     ]
    },
    {
     "name": "stdout",
     "output_type": "stream",
     "text": [
      "45.136329889297485\n",
      "0.030000000000000006 0.02846999652683735 0.871999979019165 0.9620000123977661\n"
     ]
    },
    {
     "name": "stderr",
     "output_type": "stream",
     "text": [
      "100%|██████████| 1000/1000 [00:44<00:00, 22.53it/s]\n"
     ]
    },
    {
     "name": "stdout",
     "output_type": "stream",
     "text": [
      "45.07034206390381\n",
      "0.04000000000000001 0.0379600003361702 0.8230000138282776 0.9580000042915344\n"
     ]
    },
    {
     "name": "stderr",
     "output_type": "stream",
     "text": [
      "100%|██████████| 1000/1000 [00:44<00:00, 22.39it/s]\n"
     ]
    },
    {
     "name": "stdout",
     "output_type": "stream",
     "text": [
      "45.38427805900574\n",
      "0.05000000000000001 0.04745000600814819 0.796999990940094 0.9520000219345093\n"
     ]
    },
    {
     "name": "stderr",
     "output_type": "stream",
     "text": [
      "100%|██████████| 1000/1000 [00:44<00:00, 22.44it/s]\n"
     ]
    },
    {
     "name": "stdout",
     "output_type": "stream",
     "text": [
      "45.21898794174194\n",
      "0.06000000000000001 0.0569399930536747 0.7519999742507935 0.9490000009536743\n"
     ]
    },
    {
     "name": "stderr",
     "output_type": "stream",
     "text": [
      "100%|██████████| 1000/1000 [00:44<00:00, 22.41it/s]\n"
     ]
    },
    {
     "name": "stdout",
     "output_type": "stream",
     "text": [
      "45.41663217544556\n",
      "0.07 0.066430002450943 0.6940000057220459 0.9419999718666077\n"
     ]
    },
    {
     "name": "stderr",
     "output_type": "stream",
     "text": [
      "100%|██████████| 1000/1000 [00:44<00:00, 22.70it/s]\n"
     ]
    },
    {
     "name": "stdout",
     "output_type": "stream",
     "text": [
      "44.76858997344971\n",
      "0.08 0.0759200006723404 0.6230000257492065 0.9340000152587891\n"
     ]
    },
    {
     "name": "stderr",
     "output_type": "stream",
     "text": [
      "100%|██████████| 1000/1000 [00:44<00:00, 22.72it/s]\n"
     ]
    },
    {
     "name": "stdout",
     "output_type": "stream",
     "text": [
      "44.716556787490845\n",
      "0.09000000000000001 0.08541001379489899 0.5630000233650208 0.9210000038146973\n"
     ]
    },
    {
     "name": "stderr",
     "output_type": "stream",
     "text": [
      "100%|██████████| 1000/1000 [00:44<00:00, 22.67it/s]\n"
     ]
    },
    {
     "name": "stdout",
     "output_type": "stream",
     "text": [
      "44.7816059589386\n",
      "0.1 0.09490001201629639 0.4869999885559082 0.9049999713897705\n"
     ]
    }
   ],
   "source": [
    "# with complex encoding (FHRR)\n",
    "for e in np.linspace(0.01, 0.1, 10):#[0.01, 0.03, 0.07, 0.1]:\n",
    "    st = time.time()\n",
    "    X_test_noised = attack_kernelbased.genAdversarialNoise(model, X_test, y_test, e)\n",
    "    print(time.time() - st)\n",
    "    \n",
    "    yhat_test = model(X_test_noised)\n",
    "    yhat_test_cnn = model_cnn(X_test_noised.reshape(-1, 1, 28, 28)).argmax(1)\n",
    "\n",
    "    onlinehd_attacked_acc = (y_test == yhat_test).float().mean().item()\n",
    "    cnn_attacked_acc = (y_test == yhat_test_cnn).float().mean().item()\n",
    "    distance = (X_test_noised - X_test).norm(dim=-1).mean().item()\n",
    "\n",
    "    print(e, distance, onlinehd_attacked_acc, cnn_attacked_acc)"
   ]
  },
  {
   "attachments": {},
   "cell_type": "markdown",
   "metadata": {},
   "source": [
    "## FGSM"
   ]
  },
  {
   "attachments": {},
   "cell_type": "markdown",
   "metadata": {},
   "source": [
    "### Normlized"
   ]
  },
  {
   "cell_type": "code",
   "execution_count": 7,
   "metadata": {},
   "outputs": [
    {
     "name": "stderr",
     "output_type": "stream",
     "text": [
      "100%|██████████| 1000/1000 [00:03<00:00, 265.35it/s]\n"
     ]
    },
    {
     "name": "stdout",
     "output_type": "stream",
     "text": [
      "\n",
      "FGSM Attack with epsilon = 0.01000 | Elapsed time: 3.7711121659999662 seconds.\n",
      "Accuracy: Before the attack -> 94.90%\t|\tAfter the attack -> 95.00%\n",
      "mean of norm=0.01000000350177288\n"
     ]
    },
    {
     "data": {
      "image/png": "[encoded data removed]",
      "text/plain": [
       "<Figure size 640x480 with 2 Axes>"
      ]
     },
     "metadata": {},
     "output_type": "display_data"
    },
    {
     "name": "stderr",
     "output_type": "stream",
     "text": [
      "100%|██████████| 1000/1000 [00:03<00:00, 276.21it/s]\n"
     ]
    },
    {
     "name": "stdout",
     "output_type": "stream",
     "text": [
      "\n",
      "FGSM Attack with epsilon = 0.02000 | Elapsed time: 3.6265692919999992 seconds.\n",
      "Accuracy: Before the attack -> 94.90%\t|\tAfter the attack -> 94.70%\n",
      "mean of norm=0.02000001259148121\n"
     ]
    },
    {
     "data": {
      "image/png": "[encoded data removed]",
      "text/plain": [
       "<Figure size 640x480 with 2 Axes>"
      ]
     },
     "metadata": {},
     "output_type": "display_data"
    },
    {
     "name": "stderr",
     "output_type": "stream",
     "text": [
      "100%|██████████| 1000/1000 [00:03<00:00, 271.07it/s]\n"
     ]
    },
    {
     "name": "stdout",
     "output_type": "stream",
     "text": [
      "\n",
      "FGSM Attack with epsilon = 0.03000 | Elapsed time: 3.695551249999994 seconds.\n",
      "Accuracy: Before the attack -> 94.90%\t|\tAfter the attack -> 94.70%\n",
      "mean of norm=0.029999997466802597\n"
     ]
    },
    {
     "data": {
      "image/png": "[encoded data removed]",
      "text/plain": [
       "<Figure size 640x480 with 2 Axes>"
      ]
     },
     "metadata": {},
     "output_type": "display_data"
    },
    {
     "name": "stderr",
     "output_type": "stream",
     "text": [
      "100%|██████████| 1000/1000 [00:03<00:00, 279.97it/s]\n"
     ]
    },
    {
     "name": "stdout",
     "output_type": "stream",
     "text": [
      "\n",
      "FGSM Attack with epsilon = 0.04000 | Elapsed time: 3.577799083000002 seconds.\n",
      "Accuracy: Before the attack -> 94.90%\t|\tAfter the attack -> 94.50%\n",
      "mean of norm=0.04000002518296242\n"
     ]
    },
    {
     "data": {
      "image/png": "[encoded data removed]",
      "text/plain": [
       "<Figure size 640x480 with 2 Axes>"
      ]
     },
     "metadata": {},
     "output_type": "display_data"
    },
    {
     "name": "stderr",
     "output_type": "stream",
     "text": [
      "100%|██████████| 1000/1000 [00:03<00:00, 279.99it/s]\n"
     ]
    },
    {
     "name": "stdout",
     "output_type": "stream",
     "text": [
      "\n",
      "FGSM Attack with epsilon = 0.05000 | Elapsed time: 3.577710916000001 seconds.\n",
      "Accuracy: Before the attack -> 94.90%\t|\tAfter the attack -> 94.40%\n",
      "mean of norm=0.04999999329447746\n"
     ]
    },
    {
     "data": {
      "image/png": "[encoded data removed]",
      "text/plain": [
       "<Figure size 640x480 with 2 Axes>"
      ]
     },
     "metadata": {},
     "output_type": "display_data"
    },
    {
     "name": "stderr",
     "output_type": "stream",
     "text": [
      "100%|██████████| 1000/1000 [00:03<00:00, 276.19it/s]\n"
     ]
    },
    {
     "name": "stdout",
     "output_type": "stream",
     "text": [
      "\n",
      "FGSM Attack with epsilon = 0.06000 | Elapsed time: 3.6269315420000225 seconds.\n",
      "Accuracy: Before the attack -> 94.90%\t|\tAfter the attack -> 94.40%\n",
      "mean of norm=0.059999991208314896\n"
     ]
    },
    {
     "data": {
      "image/png": "[encoded data removed]",
      "text/plain": [
       "<Figure size 640x480 with 2 Axes>"
      ]
     },
     "metadata": {},
     "output_type": "display_data"
    },
    {
     "name": "stderr",
     "output_type": "stream",
     "text": [
      "100%|██████████| 1000/1000 [00:03<00:00, 283.95it/s]\n"
     ]
    },
    {
     "name": "stdout",
     "output_type": "stream",
     "text": [
      "\n",
      "FGSM Attack with epsilon = 0.07000 | Elapsed time: 3.528108209000038 seconds.\n",
      "Accuracy: Before the attack -> 94.90%\t|\tAfter the attack -> 94.30%\n",
      "mean of norm=0.06999997049570084\n"
     ]
    },
    {
     "data": {
      "image/png": "[encoded data removed]",
      "text/plain": [
       "<Figure size 640x480 with 2 Axes>"
      ]
     },
     "metadata": {},
     "output_type": "display_data"
    },
    {
     "name": "stderr",
     "output_type": "stream",
     "text": [
      "100%|██████████| 1000/1000 [00:03<00:00, 261.61it/s]\n"
     ]
    },
    {
     "name": "stdout",
     "output_type": "stream",
     "text": [
      "\n",
      "FGSM Attack with epsilon = 0.08000 | Elapsed time: 3.8288176659999635 seconds.\n",
      "Accuracy: Before the attack -> 94.90%\t|\tAfter the attack -> 94.20%\n",
      "mean of norm=0.08000002801418304\n"
     ]
    },
    {
     "data": {
      "image/png": "[encoded data removed]",
      "text/plain": [
       "<Figure size 640x480 with 2 Axes>"
      ]
     },
     "metadata": {},
     "output_type": "display_data"
    },
    {
     "name": "stderr",
     "output_type": "stream",
     "text": [
      "100%|██████████| 1000/1000 [00:03<00:00, 255.37it/s]\n"
     ]
    },
    {
     "name": "stdout",
     "output_type": "stream",
     "text": [
      "\n",
      "FGSM Attack with epsilon = 0.09000 | Elapsed time: 3.922397499999988 seconds.\n",
      "Accuracy: Before the attack -> 94.90%\t|\tAfter the attack -> 94.20%\n",
      "mean of norm=0.09000000357627869\n"
     ]
    },
    {
     "data": {
      "image/png": "[encoded data removed]",
      "text/plain": [
       "<Figure size 640x480 with 2 Axes>"
      ]
     },
     "metadata": {},
     "output_type": "display_data"
    },
    {
     "name": "stderr",
     "output_type": "stream",
     "text": [
      "100%|██████████| 1000/1000 [00:03<00:00, 260.73it/s]\n"
     ]
    },
    {
     "name": "stdout",
     "output_type": "stream",
     "text": [
      "\n",
      "FGSM Attack with epsilon = 0.10000 | Elapsed time: 3.8418845420000025 seconds.\n",
      "Accuracy: Before the attack -> 94.90%\t|\tAfter the attack -> 94.10%\n",
      "mean of norm=0.09999994933605194\n"
     ]
    },
    {
     "data": {
      "image/png": "[encoded data removed]",
      "text/plain": [
       "<Figure size 640x480 with 2 Axes>"
      ]
     },
     "metadata": {},
     "output_type": "display_data"
    }
   ],
   "source": [
    "epsilons = np.linspace(0.01, 0.1, 10) # torch.Tensor([0.01, 0.03, 0.07, 0.1])\n",
    "verbose = False\n",
    "#criterion = nn.CosineEmbeddingLoss()\n",
    "criterion = lambda output, model, label: (spatial.cos_cdist(output, model) - label).mean()\n",
    "#criterion = lambda output, model, label: output.mean()\n",
    "N_VAL_SAMPLES = X_test.data.shape[0]\n",
    "\n",
    "attack_samples, acc_results = attack_fgsm.attack(\n",
    "    model, X_train, X_test, y_test, epsilons, classes, criterion, N_VAL_SAMPLES, 'cpu')"
   ]
  },
  {
   "cell_type": "code",
   "execution_count": 8,
   "metadata": {},
   "outputs": [
    {
     "name": "stdout",
     "output_type": "stream",
     "text": [
      "0.01 0.01000000350177288 0.949999988079071 0.9710000157356262\n",
      "0.020000000000000004 0.02000001259148121 0.9470000267028809 0.968999981880188\n",
      "0.030000000000000006 0.029999997466802597 0.9470000267028809 0.9670000076293945\n",
      "0.04000000000000001 0.04000002518296242 0.9449999928474426 0.9670000076293945\n",
      "0.05000000000000001 0.04999999329447746 0.9440000057220459 0.968999981880188\n",
      "0.06000000000000001 0.059999991208314896 0.9440000057220459 0.968999981880188\n",
      "0.07 0.06999997049570084 0.9430000185966492 0.968999981880188\n",
      "0.08 0.08000002801418304 0.9419999718666077 0.9700000286102295\n",
      "0.09000000000000001 0.09000000357627869 0.9419999718666077 0.9679999947547913\n",
      "0.1 0.09999994933605194 0.9409999847412109 0.9679999947547913\n"
     ]
    }
   ],
   "source": [
    "for e, X_test_noised in zip(epsilons, attack_samples):\n",
    "    yhat_test = model(X_test_noised.reshape(-1, 28*28))\n",
    "    yhat_test_cnn = model_cnn(X_test_noised.reshape(-1, 1, 28, 28)).argmax(1)\n",
    "\n",
    "    onlinehd_attacked_acc = (y_test == yhat_test).float().mean().item()\n",
    "    cnn_attacked_acc = (y_test == yhat_test_cnn).float().mean().item()\n",
    "    distance = (X_test_noised.reshape(-1, 28*28) - X_test).norm(dim=-1).mean().item()\n",
    "\n",
    "    print(e, distance, onlinehd_attacked_acc, cnn_attacked_acc)"
   ]
  },
  {
   "attachments": {},
   "cell_type": "markdown",
   "metadata": {},
   "source": [
    "### Not normalized"
   ]
  },
  {
   "cell_type": "code",
   "execution_count": 5,
   "metadata": {},
   "outputs": [
    {
     "name": "stderr",
     "output_type": "stream",
     "text": [
      "100%|██████████| 1000/1000 [00:03<00:00, 257.39it/s]\n"
     ]
    },
    {
     "data": {
      "image/png": "[encoded data removed]",
      "text/plain": [
       "<Figure size 640x480 with 2 Axes>"
      ]
     },
     "metadata": {},
     "output_type": "display_data"
    },
    {
     "name": "stdout",
     "output_type": "stream",
     "text": [
      "\n",
      "FGSM Attack with epsilon = 0.01000 | Elapsed time: 4.13 seconds.\n",
      "Accuracy: Before the attack -> 93.20%\t|\tAfter the attack -> 86.90%\n"
     ]
    },
    {
     "name": "stderr",
     "output_type": "stream",
     "text": [
      "100%|██████████| 1000/1000 [00:04<00:00, 249.40it/s]\n"
     ]
    },
    {
     "data": {
      "image/png": "[encoded data removed]",
      "text/plain": [
       "<Figure size 640x480 with 2 Axes>"
      ]
     },
     "metadata": {},
     "output_type": "display_data"
    },
    {
     "name": "stdout",
     "output_type": "stream",
     "text": [
      "\n",
      "FGSM Attack with epsilon = 0.03000 | Elapsed time: 4.14 seconds.\n",
      "Accuracy: Before the attack -> 93.20%\t|\tAfter the attack -> 15.10%\n"
     ]
    },
    {
     "name": "stderr",
     "output_type": "stream",
     "text": [
      "100%|██████████| 1000/1000 [00:03<00:00, 264.44it/s]\n"
     ]
    },
    {
     "data": {
      "image/png": "[encoded data removed]",
      "text/plain": [
       "<Figure size 640x480 with 2 Axes>"
      ]
     },
     "metadata": {},
     "output_type": "display_data"
    },
    {
     "name": "stdout",
     "output_type": "stream",
     "text": [
      "\n",
      "FGSM Attack with epsilon = 0.07000 | Elapsed time: 3.91 seconds.\n",
      "Accuracy: Before the attack -> 93.20%\t|\tAfter the attack -> 2.20%\n"
     ]
    },
    {
     "name": "stderr",
     "output_type": "stream",
     "text": [
      "100%|██████████| 1000/1000 [00:03<00:00, 259.48it/s]\n"
     ]
    },
    {
     "data": {
      "image/png": "[encoded data removed]",
      "text/plain": [
       "<Figure size 640x480 with 2 Axes>"
      ]
     },
     "metadata": {},
     "output_type": "display_data"
    },
    {
     "name": "stdout",
     "output_type": "stream",
     "text": [
      "\n",
      "FGSM Attack with epsilon = 0.10000 | Elapsed time: 3.98 seconds.\n",
      "Accuracy: Before the attack -> 93.20%\t|\tAfter the attack -> 4.40%\n"
     ]
    }
   ],
   "source": [
    "epsilons = torch.Tensor([0.01, 0.03, 0.07, 0.1])\n",
    "verbose = False\n",
    "#criterion = nn.CosineEmbeddingLoss()\n",
    "criterion = lambda output, model, label: (spatial.cos_cdist(output, model) - label).mean()\n",
    "#criterion = lambda output, model, label: output.mean()\n",
    "N_VAL_SAMPLES = X_test.data.shape[0]\n",
    "\n",
    "attack_sample, acc_results = attack_fgsm.attack(\n",
    "    model, X_train, X_test, y_test, epsilons, classes, criterion, N_VAL_SAMPLES, 'cpu')"
   ]
  },
  {
   "attachments": {},
   "cell_type": "markdown",
   "metadata": {},
   "source": [
    "## Deep Fool"
   ]
  },
  {
   "cell_type": "code",
   "execution_count": 9,
   "metadata": {},
   "outputs": [
    {
     "name": "stderr",
     "output_type": "stream",
     "text": [
      "100%|██████████| 1000/1000 [01:44<00:00,  9.54it/s]\n"
     ]
    },
    {
     "name": "stdout",
     "output_type": "stream",
     "text": [
      "104.83426785469055\n",
      "0.01 0.005987776909023523 0.9430000185966492 0.9700000286102295\n"
     ]
    },
    {
     "name": "stderr",
     "output_type": "stream",
     "text": [
      "100%|██████████| 1000/1000 [01:41<00:00,  9.88it/s]\n"
     ]
    },
    {
     "name": "stdout",
     "output_type": "stream",
     "text": [
      "101.20681285858154\n",
      "0.02 0.011975552886724472 0.9300000071525574 0.9679999947547913\n"
     ]
    },
    {
     "name": "stderr",
     "output_type": "stream",
     "text": [
      "100%|██████████| 1000/1000 [01:37<00:00, 10.28it/s]\n"
     ]
    },
    {
     "name": "stdout",
     "output_type": "stream",
     "text": [
      "97.31343102455139\n",
      "0.03 0.017963329330086708 0.8949999809265137 0.9710000157356262\n"
     ]
    },
    {
     "name": "stderr",
     "output_type": "stream",
     "text": [
      "100%|██████████| 1000/1000 [01:36<00:00, 10.37it/s]\n"
     ]
    },
    {
     "name": "stdout",
     "output_type": "stream",
     "text": [
      "96.39359402656555\n",
      "0.04 0.023951105773448944 0.8500000238418579 0.9660000205039978\n"
     ]
    },
    {
     "name": "stderr",
     "output_type": "stream",
     "text": [
      "100%|██████████| 1000/1000 [01:33<00:00, 10.72it/s]\n"
     ]
    },
    {
     "name": "stdout",
     "output_type": "stream",
     "text": [
      "93.31465005874634\n",
      "0.05 0.02993888594210148 0.824999988079071 0.9599999785423279\n"
     ]
    },
    {
     "name": "stderr",
     "output_type": "stream",
     "text": [
      "100%|██████████| 1000/1000 [01:27<00:00, 11.42it/s]\n"
     ]
    },
    {
     "name": "stdout",
     "output_type": "stream",
     "text": [
      "87.57505583763123\n",
      "0.060000000000000005 0.035926662385463715 0.781000018119812 0.9589999914169312\n"
     ]
    },
    {
     "name": "stderr",
     "output_type": "stream",
     "text": [
      "100%|██████████| 1000/1000 [01:17<00:00, 12.84it/s]\n"
     ]
    },
    {
     "name": "stdout",
     "output_type": "stream",
     "text": [
      "77.89133095741272\n",
      "0.06999999999999999 0.0419144406914711 0.7200000286102295 0.9520000219345093\n"
     ]
    },
    {
     "name": "stderr",
     "output_type": "stream",
     "text": [
      "100%|██████████| 1000/1000 [01:09<00:00, 14.46it/s]\n"
     ]
    },
    {
     "name": "stdout",
     "output_type": "stream",
     "text": [
      "69.1617021560669\n",
      "0.08 0.04790221154689789 0.6439999938011169 0.9440000057220459\n"
     ]
    },
    {
     "name": "stderr",
     "output_type": "stream",
     "text": [
      "100%|██████████| 1000/1000 [01:03<00:00, 15.83it/s]\n"
     ]
    },
    {
     "name": "stdout",
     "output_type": "stream",
     "text": [
      "63.15903878211975\n",
      "0.09 0.05388999357819557 0.5870000123977661 0.9309999942779541\n"
     ]
    },
    {
     "name": "stderr",
     "output_type": "stream",
     "text": [
      "100%|██████████| 1000/1000 [00:58<00:00, 17.18it/s]\n"
     ]
    },
    {
     "name": "stdout",
     "output_type": "stream",
     "text": [
      "58.2257661819458\n",
      "0.09999999999999999 0.05987777188420296 0.5230000019073486 0.9169999957084656\n"
     ]
    },
    {
     "name": "stderr",
     "output_type": "stream",
     "text": [
      "100%|██████████| 1000/1000 [00:54<00:00, 18.48it/s]\n"
     ]
    },
    {
     "name": "stdout",
     "output_type": "stream",
     "text": [
      "54.12847089767456\n",
      "0.11 0.06586554646492004 0.49000000953674316 0.902999997138977\n"
     ]
    },
    {
     "name": "stderr",
     "output_type": "stream",
     "text": [
      "100%|██████████| 1000/1000 [00:50<00:00, 19.79it/s]\n"
     ]
    },
    {
     "name": "stdout",
     "output_type": "stream",
     "text": [
      "50.53886604309082\n",
      "0.12 0.07185331732034683 0.4569999873638153 0.8880000114440918\n"
     ]
    },
    {
     "name": "stderr",
     "output_type": "stream",
     "text": [
      "100%|██████████| 1000/1000 [00:49<00:00, 20.39it/s]\n"
     ]
    },
    {
     "name": "stdout",
     "output_type": "stream",
     "text": [
      "49.04346299171448\n",
      "0.13 0.07784109562635422 0.44200000166893005 0.8669999837875366\n"
     ]
    },
    {
     "name": "stderr",
     "output_type": "stream",
     "text": [
      "100%|██████████| 1000/1000 [00:48<00:00, 20.50it/s]\n"
     ]
    },
    {
     "name": "stdout",
     "output_type": "stream",
     "text": [
      "48.79382824897766\n",
      "0.14 0.0838288813829422 0.4300000071525574 0.8500000238418579\n"
     ]
    },
    {
     "name": "stderr",
     "output_type": "stream",
     "text": [
      "100%|██████████| 1000/1000 [00:49<00:00, 20.25it/s]\n"
     ]
    },
    {
     "name": "stdout",
     "output_type": "stream",
     "text": [
      "49.375014305114746\n",
      "0.15000000000000002 0.08981665223836899 0.4269999861717224 0.8399999737739563\n"
     ]
    },
    {
     "name": "stderr",
     "output_type": "stream",
     "text": [
      "100%|██████████| 1000/1000 [00:48<00:00, 20.48it/s]\n"
     ]
    },
    {
     "name": "stdout",
     "output_type": "stream",
     "text": [
      "48.81814503669739\n",
      "0.16 0.09580442309379578 0.42500001192092896 0.8080000281333923\n"
     ]
    },
    {
     "name": "stderr",
     "output_type": "stream",
     "text": [
      "100%|██████████| 1000/1000 [00:48<00:00, 20.70it/s]\n"
     ]
    },
    {
     "name": "stdout",
     "output_type": "stream",
     "text": [
      "48.30518579483032\n",
      "0.17 0.10179220885038376 0.42399999499320984 0.7789999842643738\n"
     ]
    },
    {
     "name": "stderr",
     "output_type": "stream",
     "text": [
      "100%|██████████| 1000/1000 [00:49<00:00, 20.16it/s]\n"
     ]
    },
    {
     "name": "stdout",
     "output_type": "stream",
     "text": [
      "49.59360671043396\n",
      "0.18000000000000002 0.10777999460697174 0.42399999499320984 0.7559999823570251\n"
     ]
    },
    {
     "name": "stderr",
     "output_type": "stream",
     "text": [
      "100%|██████████| 1000/1000 [00:47<00:00, 20.99it/s]\n"
     ]
    },
    {
     "name": "stdout",
     "output_type": "stream",
     "text": [
      "47.65213322639465\n",
      "0.19 0.11376775801181793 0.42399999499320984 0.7269999980926514\n"
     ]
    },
    {
     "name": "stderr",
     "output_type": "stream",
     "text": [
      "100%|██████████| 1000/1000 [00:45<00:00, 22.13it/s]\n"
     ]
    },
    {
     "name": "stdout",
     "output_type": "stream",
     "text": [
      "45.18810296058655\n",
      "0.2 0.11975554376840591 0.42399999499320984 0.7080000042915344\n"
     ]
    }
   ],
   "source": [
    "for max_update in np.linspace(0.01, 0.2, 20):\n",
    "    X_te_cln = X_test.clone().reshape(-1, 1, 784)\n",
    "    Y_te_cln = y_test.clone()\n",
    "\n",
    "    x_test_adv = torch.zeros(X_te_cln.shape)\n",
    "    x_test_pert = torch.zeros(X_te_cln.shape[0], 28, 28)\n",
    "\n",
    "    st = time.time()\n",
    "    for i in tqdm.tqdm(range(X_test.shape[0])):\n",
    "        x_test_adv[i], x_test_pert[i] = attack_df.deepfool(X_te_cln[i], model, epsilon=max_update)\n",
    "    print(time.time() - st)\n",
    "    \n",
    "    X_test_noised = x_test_adv.reshape(-1, features)\n",
    "\n",
    "    yhat_test = model(X_test_noised.reshape(-1, 28*28))\n",
    "    yhat_test_cnn = model_cnn(X_test_noised.reshape(-1, 1, 28, 28)).argmax(1)\n",
    "\n",
    "    onlinehd_attacked_acc = (y_test == yhat_test).float().mean().item()\n",
    "    cnn_attacked_acc = (y_test == yhat_test_cnn).float().mean().item()\n",
    "    distance = (X_test_noised.reshape(-1, 28*28) - X_test).norm(dim=-1).mean().item()\n",
    "\n",
    "    print(max_update, distance, onlinehd_attacked_acc, cnn_attacked_acc)"
   ]
  },
  {
   "cell_type": "code",
   "execution_count": 10,
   "metadata": {},
   "outputs": [
    {
     "name": "stderr",
     "output_type": "stream",
     "text": [
      "100%|██████████| 1000/1000 [00:44<00:00, 22.29it/s]\n"
     ]
    },
    {
     "name": "stdout",
     "output_type": "stream",
     "text": [
      "None 0.1238793432712555 0.42399999499320984 0.7020000219345093\n"
     ]
    }
   ],
   "source": [
    "X_te_cln = X_test.clone().reshape(-1, 1, 784)\n",
    "Y_te_cln = y_test.clone()\n",
    "\n",
    "x_test_adv = torch.zeros(X_te_cln.shape)\n",
    "x_test_pert = torch.zeros(X_te_cln.shape[0], 28, 28)\n",
    "\n",
    "for i in tqdm.tqdm(range(X_test.shape[0])):\n",
    "    x_test_adv[i], x_test_pert[i] = attack_df.deepfool(X_te_cln[i], model, epsilon=None)\n",
    "\n",
    "X_test_noised = x_test_adv.reshape(-1, features)\n",
    "\n",
    "yhat_test = model(X_test_noised.reshape(-1, 28*28))\n",
    "yhat_test_cnn = model_cnn(X_test_noised.reshape(-1, 1, 28, 28)).argmax(1)\n",
    "\n",
    "onlinehd_attacked_acc = (y_test == yhat_test).float().mean().item()\n",
    "cnn_attacked_acc = (y_test == yhat_test_cnn).float().mean().item()\n",
    "distance = (X_test_noised.reshape(-1, 28*28) - X_test).norm(dim=-1).mean().item()\n",
    "\n",
    "print(None, distance, onlinehd_attacked_acc, cnn_attacked_acc)"
   ]
  },
  {
   "attachments": {},
   "cell_type": "markdown",
   "metadata": {},
   "source": [
    "## JSMA"
   ]
  },
  {
   "cell_type": "code",
   "execution_count": 21,
   "metadata": {},
   "outputs": [
    {
     "data": {
      "text/plain": [
       "(tensor(0.), tensor(0.1970), tensor(0.), tensor(0.1970))"
      ]
     },
     "execution_count": 21,
     "metadata": {},
     "output_type": "execute_result"
    }
   ],
   "source": [
    "X_test.min(), X_test.max(), xadv.min(), xadv.max()"
   ]
  },
  {
   "cell_type": "code",
   "execution_count": 9,
   "metadata": {},
   "outputs": [],
   "source": [
    "JSMA = attack_jsma.JacobianSaliencyMapAttack(model, gamma=0.01, num_classes=10)\n",
    "\n",
    "xadv = torch.zeros(X_test.shape[0], 784)\n",
    "xadv.targeted = False\n",
    "xadv = JSMA.perturb(X_test, y_test)\n",
    "\n",
    "# tmpy = model(X_test) # torch.zeros_like(y_test) - 1\n",
    "# for i in tqdm.tqdm(range(xadv.shape[0])):\n",
    "#     xadv[i] = JSMA.perturb(model, X_test[i].reshape(1, 784), y_test[i].reshape(1)) # y_test[i].reshape(1)"
   ]
  },
  {
   "cell_type": "code",
   "execution_count": 10,
   "metadata": {},
   "outputs": [
    {
     "data": {
      "text/plain": [
       "(tensor(1.), tensor(0.0844))"
      ]
     },
     "execution_count": 10,
     "metadata": {},
     "output_type": "execute_result"
    }
   ],
   "source": [
    "yhat_attack = model(xadv)\n",
    "(y_test == yhat_attack).float().mean(), (xadv - X_test).norm(dim=-1).mean()"
   ]
  },
  {
   "cell_type": "code",
   "execution_count": 20,
   "metadata": {},
   "outputs": [
    {
     "data": {
      "text/plain": [
       "tensor(0.9810)"
      ]
     },
     "execution_count": 20,
     "metadata": {},
     "output_type": "execute_result"
    }
   ],
   "source": [
    "yhat_attack = model(xadv)\n",
    "(y_test == yhat_attack).float().mean()"
   ]
  },
  {
   "cell_type": "code",
   "execution_count": 21,
   "metadata": {},
   "outputs": [
    {
     "data": {
      "text/plain": [
       "tensor(0.0145)"
      ]
     },
     "execution_count": 21,
     "metadata": {},
     "output_type": "execute_result"
    }
   ],
   "source": [
    "(xadv - X_test).norm(dim=-1).mean()"
   ]
  },
  {
   "attachments": {},
   "cell_type": "markdown",
   "metadata": {},
   "source": [
    "## Genetic Attack"
   ]
  },
  {
   "cell_type": "code",
   "execution_count": 12,
   "metadata": {},
   "outputs": [
    {
     "name": "stdout",
     "output_type": "stream",
     "text": [
      "Alpha : 0.001\n"
     ]
    },
    {
     "name": "stderr",
     "output_type": "stream",
     "text": [
      "100%|██████████| 1000/1000 [00:00<00:00, 55543.40it/s]\n",
      "100%|██████████| 1000/1000 [1:26:08<00:00,  5.17s/it]\n"
     ]
    },
    {
     "name": "stdout",
     "output_type": "stream",
     "text": [
      "tensor(0.9320) tensor(0.0889)\n",
      "Alpha : 0.003\n"
     ]
    },
    {
     "name": "stderr",
     "output_type": "stream",
     "text": [
      "100%|██████████| 1000/1000 [00:00<00:00, 99285.22it/s]\n",
      "100%|██████████| 1000/1000 [1:30:06<00:00,  5.41s/it]\n"
     ]
    },
    {
     "name": "stdout",
     "output_type": "stream",
     "text": [
      "tensor(0.9020) tensor(0.1558)\n",
      "Alpha : 0.007\n"
     ]
    },
    {
     "name": "stderr",
     "output_type": "stream",
     "text": [
      "100%|██████████| 1000/1000 [00:00<00:00, 97306.61it/s]\n",
      "100%|██████████| 1000/1000 [1:22:35<00:00,  4.96s/it]\n"
     ]
    },
    {
     "name": "stdout",
     "output_type": "stream",
     "text": [
      "tensor(0.9200) tensor(0.1427)\n",
      "Alpha : 0.01\n"
     ]
    },
    {
     "name": "stderr",
     "output_type": "stream",
     "text": [
      "100%|██████████| 1000/1000 [00:00<00:00, 99591.69it/s]\n",
      "100%|██████████| 1000/1000 [1:24:29<00:00,  5.07s/it]\n"
     ]
    },
    {
     "name": "stdout",
     "output_type": "stream",
     "text": [
      "tensor(0.9210) tensor(0.1659)\n"
     ]
    }
   ],
   "source": [
    "alpha_lis = [0.001, 0.003, 0.007, 0.01]\n",
    "delta = 0.5\n",
    "nData = len(alpha_lis)\n",
    "model_accuracy_GA = np.zeros(nData)\n",
    "\n",
    "x_test_samp = X_test.cpu()\n",
    "y_test_samp = y_test.cpu()\n",
    "\n",
    "for n in range(nData):\n",
    "    alpha = alpha_lis[n]\n",
    "    print(f\"Alpha : {alpha}\")\n",
    "\n",
    "    x_test_GA, _ = attack_gen.make_GA(model, delta, alpha, x_test_samp, y_test_samp)\n",
    "    #model_accuracy_GA[n] = attack_gen.validate(model, x_test_GA.cpu(), y_test_samp)\n",
    "    yhat_attack = model(x_test_GA)\n",
    "    print((y_test == yhat_attack).float().mean(), (x_test_GA - X_test).norm(dim=-1).mean())\n",
    "\n",
    "#model_accuracy_GA"
   ]
  },
  {
   "cell_type": "code",
   "execution_count": 11,
   "metadata": {},
   "outputs": [
    {
     "name": "stdout",
     "output_type": "stream",
     "text": [
      "Alpha : 0.0001\n"
     ]
    },
    {
     "name": "stderr",
     "output_type": "stream",
     "text": [
      "100%|██████████| 1000/1000 [00:00<00:00, 93564.38it/s]\n",
      "100%|██████████| 1000/1000 [1:26:25<00:00,  5.19s/it]\n"
     ]
    },
    {
     "name": "stdout",
     "output_type": "stream",
     "text": [
      "5185.798140048981\n",
      "0.0001 0.015685658901929855 0.9490000009536743 0.9710000157356262\n",
      "Alpha : 0.0002\n"
     ]
    },
    {
     "name": "stderr",
     "output_type": "stream",
     "text": [
      "100%|██████████| 1000/1000 [00:00<00:00, 103404.76it/s]\n",
      "100%|██████████| 1000/1000 [1:32:53<00:00,  5.57s/it]\n"
     ]
    },
    {
     "name": "stdout",
     "output_type": "stream",
     "text": [
      "5573.073584794998\n",
      "0.0002 0.03134988248348236 0.9470000267028809 0.9760000109672546\n",
      "Alpha : 0.00030000000000000003\n"
     ]
    },
    {
     "name": "stderr",
     "output_type": "stream",
     "text": [
      "100%|██████████| 1000/1000 [00:00<00:00, 99501.91it/s]\n",
      "100%|██████████| 1000/1000 [1:53:29<00:00,  6.81s/it] \n"
     ]
    },
    {
     "name": "stdout",
     "output_type": "stream",
     "text": [
      "6809.057289123535\n",
      "0.00030000000000000003 0.04294669255614281 0.9480000138282776 0.968999981880188\n",
      "Alpha : 0.0004\n"
     ]
    },
    {
     "name": "stderr",
     "output_type": "stream",
     "text": [
      "100%|██████████| 1000/1000 [00:00<00:00, 83701.94it/s]\n",
      "100%|██████████| 1000/1000 [1:50:03<00:00,  6.60s/it] \n"
     ]
    },
    {
     "name": "stdout",
     "output_type": "stream",
     "text": [
      "6603.574810028076\n",
      "0.0004 0.05046246200799942 0.949999988079071 0.9700000286102295\n",
      "Alpha : 0.0005\n"
     ]
    },
    {
     "name": "stderr",
     "output_type": "stream",
     "text": [
      "100%|██████████| 1000/1000 [00:00<00:00, 97703.28it/s]\n",
      "100%|██████████| 1000/1000 [1:36:12<00:00,  5.77s/it]\n"
     ]
    },
    {
     "name": "stdout",
     "output_type": "stream",
     "text": [
      "5772.422894001007\n",
      "0.0005 0.05541332811117172 0.9470000267028809 0.9739999771118164\n",
      "Alpha : 0.0006000000000000001\n"
     ]
    },
    {
     "name": "stderr",
     "output_type": "stream",
     "text": [
      "100%|██████████| 1000/1000 [00:00<00:00, 101823.27it/s]\n",
      "100%|██████████| 1000/1000 [1:34:03<00:00,  5.64s/it]\n"
     ]
    },
    {
     "name": "stdout",
     "output_type": "stream",
     "text": [
      "5643.561096906662\n",
      "0.0006000000000000001 0.06065293028950691 0.9419999718666077 0.9729999899864197\n",
      "Alpha : 0.0007000000000000001\n"
     ]
    },
    {
     "name": "stderr",
     "output_type": "stream",
     "text": [
      "100%|██████████| 1000/1000 [00:00<00:00, 105173.12it/s]\n",
      "100%|██████████| 1000/1000 [1:45:13<00:00,  6.31s/it]\n"
     ]
    },
    {
     "name": "stdout",
     "output_type": "stream",
     "text": [
      "6313.785686969757\n",
      "0.0007000000000000001 0.06667441129684448 0.9449999928474426 0.9679999947547913\n",
      "Alpha : 0.0008\n"
     ]
    },
    {
     "name": "stderr",
     "output_type": "stream",
     "text": [
      "100%|██████████| 1000/1000 [00:00<00:00, 87571.07it/s]\n",
      "100%|██████████| 1000/1000 [1:59:30<00:00,  7.17s/it] \n"
     ]
    },
    {
     "name": "stdout",
     "output_type": "stream",
     "text": [
      "7170.253109931946\n",
      "0.0008 0.07290210574865341 0.9449999928474426 0.9700000286102295\n",
      "Alpha : 0.0009000000000000001\n"
     ]
    },
    {
     "name": "stderr",
     "output_type": "stream",
     "text": [
      "100%|██████████| 1000/1000 [00:00<00:00, 101689.96it/s]\n",
      "100%|██████████| 1000/1000 [1:30:36<00:00,  5.44s/it]\n"
     ]
    },
    {
     "name": "stdout",
     "output_type": "stream",
     "text": [
      "5437.008726119995\n",
      "0.0009000000000000001 0.07627139240503311 0.9459999799728394 0.9679999947547913\n",
      "Alpha : 0.001\n"
     ]
    },
    {
     "name": "stderr",
     "output_type": "stream",
     "text": [
      "100%|██████████| 1000/1000 [00:00<00:00, 97512.47it/s]\n",
      "100%|██████████| 1000/1000 [1:41:34<00:00,  6.09s/it]\n"
     ]
    },
    {
     "name": "stdout",
     "output_type": "stream",
     "text": [
      "6094.508544921875\n",
      "0.001 0.08149664103984833 0.9449999928474426 0.9649999737739563\n",
      "Alpha : 0.0011\n"
     ]
    },
    {
     "name": "stderr",
     "output_type": "stream",
     "text": [
      "100%|██████████| 1000/1000 [00:00<00:00, 82568.29it/s]\n",
      "100%|██████████| 1000/1000 [1:28:13<00:00,  5.29s/it]\n"
     ]
    },
    {
     "name": "stdout",
     "output_type": "stream",
     "text": [
      "5293.370290994644\n",
      "0.0011 0.08750703930854797 0.9390000104904175 0.9649999737739563\n",
      "Alpha : 0.0012000000000000001\n"
     ]
    },
    {
     "name": "stderr",
     "output_type": "stream",
     "text": [
      "100%|██████████| 1000/1000 [00:00<00:00, 95264.47it/s]\n",
      "100%|██████████| 1000/1000 [1:23:28<00:00,  5.01s/it]\n"
     ]
    },
    {
     "name": "stdout",
     "output_type": "stream",
     "text": [
      "5008.486188173294\n",
      "0.0012000000000000001 0.09144238382577896 0.9409999847412109 0.9620000123977661\n",
      "Alpha : 0.0013000000000000002\n"
     ]
    },
    {
     "name": "stderr",
     "output_type": "stream",
     "text": [
      "100%|██████████| 1000/1000 [00:00<00:00, 101862.83it/s]\n",
      "100%|██████████| 1000/1000 [1:24:57<00:00,  5.10s/it]\n"
     ]
    },
    {
     "name": "stdout",
     "output_type": "stream",
     "text": [
      "5097.65371799469\n",
      "0.0013000000000000002 0.09664884209632874 0.9369999766349792 0.9599999785423279\n",
      "Alpha : 0.0014000000000000002\n"
     ]
    },
    {
     "name": "stderr",
     "output_type": "stream",
     "text": [
      "100%|██████████| 1000/1000 [00:00<00:00, 104986.21it/s]\n",
      "100%|██████████| 1000/1000 [1:23:52<00:00,  5.03s/it]\n"
     ]
    },
    {
     "name": "stdout",
     "output_type": "stream",
     "text": [
      "5032.087698936462\n",
      "0.0014000000000000002 0.09876016527414322 0.9390000104904175 0.9679999947547913\n",
      "Alpha : 0.0015\n"
     ]
    },
    {
     "name": "stderr",
     "output_type": "stream",
     "text": [
      "100%|██████████| 1000/1000 [00:00<00:00, 99048.41it/s]\n",
      "100%|██████████| 1000/1000 [1:30:10<00:00,  5.41s/it]\n"
     ]
    },
    {
     "name": "stdout",
     "output_type": "stream",
     "text": [
      "5410.872245788574\n",
      "0.0015 0.10768848657608032 0.9309999942779541 0.9629999995231628\n",
      "Alpha : 0.0016\n"
     ]
    },
    {
     "name": "stderr",
     "output_type": "stream",
     "text": [
      "100%|██████████| 1000/1000 [00:00<00:00, 86835.00it/s]\n",
      " 50%|████▉     | 497/1000 [46:59<47:33,  5.67s/it]  \n"
     ]
    },
    {
     "ename": "KeyboardInterrupt",
     "evalue": "",
     "output_type": "error",
     "traceback": [
      "\u001b[0;31m---------------------------------------------------------------------------\u001b[0m",
      "\u001b[0;31mKeyboardInterrupt\u001b[0m                         Traceback (most recent call last)",
      "Cell \u001b[0;32mIn[11], line 14\u001b[0m\n\u001b[1;32m     11\u001b[0m \u001b[39mprint\u001b[39m(\u001b[39mf\u001b[39m\u001b[39m\"\u001b[39m\u001b[39mAlpha : \u001b[39m\u001b[39m{\u001b[39;00malpha\u001b[39m}\u001b[39;00m\u001b[39m\"\u001b[39m)\n\u001b[1;32m     13\u001b[0m st \u001b[39m=\u001b[39m time\u001b[39m.\u001b[39mtime()\n\u001b[0;32m---> 14\u001b[0m x_test_GA, _ \u001b[39m=\u001b[39m attack_gen\u001b[39m.\u001b[39;49mmake_GA(model, delta, alpha, x_test_samp, y_test_samp)\n\u001b[1;32m     15\u001b[0m \u001b[39mprint\u001b[39m(time\u001b[39m.\u001b[39mtime() \u001b[39m-\u001b[39m st)\n\u001b[1;32m     17\u001b[0m X_test_noised \u001b[39m=\u001b[39m x_test_GA\u001b[39m.\u001b[39mreshape(\u001b[39m-\u001b[39m\u001b[39m1\u001b[39m, features)\n",
      "File \u001b[0;32m~/Documents/UCI_BIASLab/kernel_adversarial/attack_gen.py:172\u001b[0m, in \u001b[0;36mmake_GA\u001b[0;34m(model, delta, alpha, x_test, y_test)\u001b[0m\n\u001b[1;32m    170\u001b[0m test_data \u001b[39m=\u001b[39m []\n\u001b[1;32m    171\u001b[0m \u001b[39mfor\u001b[39;00m i \u001b[39min\u001b[39;00m tqdm(\u001b[39mrange\u001b[39m(x_test\u001b[39m.\u001b[39msize(\u001b[39m0\u001b[39m))):\n\u001b[0;32m--> 172\u001b[0m     temp \u001b[39m=\u001b[39m attacker\u001b[39m.\u001b[39;49mattack(x_test[i]\u001b[39m.\u001b[39;49munsqueeze(\u001b[39m0\u001b[39;49m), targets[i], delta, alpha, p, N, G)\n\u001b[1;32m    173\u001b[0m     \u001b[39mif\u001b[39;00m temp[\u001b[39m1\u001b[39m]:\n\u001b[1;32m    174\u001b[0m         \u001b[39m# temp_input = scaler.transform(temp[0].clone().reshape(-1, 784))\u001b[39;00m\n\u001b[1;32m    175\u001b[0m         \u001b[39m# temp_input = torch.from_numpy(temp_input).float().cuda()\u001b[39;00m\n\u001b[1;32m    176\u001b[0m         test_data\u001b[39m.\u001b[39mappend(\n\u001b[1;32m    177\u001b[0m             torch\u001b[39m.\u001b[39mfrom_numpy(temp[\u001b[39m0\u001b[39m][(model(temp[\u001b[39m0\u001b[39m]\u001b[39m.\u001b[39mcpu()) \u001b[39m==\u001b[39m targets[i])\u001b[39m.\u001b[39mnonzero()[\u001b[39m0\u001b[39m]\u001b[39m.\u001b[39mitem()]\u001b[39m.\u001b[39mnumpy())) \u001b[39m# .argmax(1)\u001b[39;00m\n",
      "File \u001b[0;32m~/Documents/UCI_BIASLab/kernel_adversarial/attack_gen.py:94\u001b[0m, in \u001b[0;36mGenAttack.attack\u001b[0;34m(self, x, target, delta, alpha, p, N, G)\u001b[0m\n\u001b[1;32m     91\u001b[0m \u001b[39m# start evolution\u001b[39;00m\n\u001b[1;32m     92\u001b[0m \u001b[39mfor\u001b[39;00m g \u001b[39min\u001b[39;00m \u001b[39mrange\u001b[39m(G):\n\u001b[1;32m     93\u001b[0m     \u001b[39m# measure fitness with MSE between descriptors\u001b[39;00m\n\u001b[0;32m---> 94\u001b[0m     fitness \u001b[39m=\u001b[39m \u001b[39mself\u001b[39;49m\u001b[39m.\u001b[39;49mget_fitness(Pcurrent, target)  \u001b[39m# [N]\u001b[39;00m\n\u001b[1;32m     95\u001b[0m     \u001b[39m# check SSIM\u001b[39;00m\n\u001b[1;32m     96\u001b[0m     ssimm \u001b[39m=\u001b[39m np\u001b[39m.\u001b[39mzeros(N)\n",
      "File \u001b[0;32m~/Documents/UCI_BIASLab/kernel_adversarial/attack_gen.py:49\u001b[0m, in \u001b[0;36mGenAttack.get_fitness\u001b[0;34m(self, population, target)\u001b[0m\n\u001b[1;32m     45\u001b[0m \u001b[39mdef\u001b[39;00m \u001b[39mget_fitness\u001b[39m(\u001b[39mself\u001b[39m, population, target):\n\u001b[1;32m     46\u001b[0m     \u001b[39m# population = population.reshape(-1, 784).cpu()\u001b[39;00m\n\u001b[1;32m     47\u001b[0m     \u001b[39m# population = torch.from_numpy(\u001b[39;00m\n\u001b[1;32m     48\u001b[0m         \u001b[39m# self.scaler.transform(population)).cuda()\u001b[39;00m\n\u001b[0;32m---> 49\u001b[0m     pop_preds \u001b[39m=\u001b[39m \u001b[39mself\u001b[39;49m\u001b[39m.\u001b[39;49mmodel\u001b[39m.\u001b[39;49mprobabilities(population\u001b[39m.\u001b[39;49mreshape(population\u001b[39m.\u001b[39;49msize(\u001b[39m0\u001b[39;49m), \u001b[39m-\u001b[39;49m\u001b[39m1\u001b[39;49m)) \u001b[39m# .reshape(population.size(0), 1, 28, 28)\u001b[39;00m\n\u001b[1;32m     50\u001b[0m     all_preds \u001b[39m=\u001b[39m torch\u001b[39m.\u001b[39margmax(pop_preds, dim \u001b[39m=\u001b[39m \u001b[39m1\u001b[39m)\n\u001b[1;32m     51\u001b[0m     \u001b[39m#print(pop_preds)\u001b[39;00m\n",
      "File \u001b[0;32m~/Documents/UCI_BIASLab/kernel_adversarial/onlinehd.py:113\u001b[0m, in \u001b[0;36mOnlineHD.probabilities\u001b[0;34m(self, x, encoded)\u001b[0m\n\u001b[1;32m     95\u001b[0m \u001b[39mdef\u001b[39;00m \u001b[39mprobabilities\u001b[39m(\u001b[39mself\u001b[39m, x : torch\u001b[39m.\u001b[39mTensor, encoded : \u001b[39mbool\u001b[39m \u001b[39m=\u001b[39m \u001b[39mFalse\u001b[39;00m):\n\u001b[1;32m     96\u001b[0m \u001b[39m    \u001b[39m\u001b[39m'''\u001b[39;00m\n\u001b[1;32m     97\u001b[0m \u001b[39m    Returns the probabilities of belonging to a certain class for each\u001b[39;00m\n\u001b[1;32m     98\u001b[0m \u001b[39m    data point in x.\u001b[39;00m\n\u001b[0;32m   (...)\u001b[0m\n\u001b[1;32m    109\u001b[0m \u001b[39m        Has size `(n?, classes)`.\u001b[39;00m\n\u001b[1;32m    110\u001b[0m \u001b[39m    '''\u001b[39;00m\n\u001b[0;32m--> 113\u001b[0m     \u001b[39mreturn\u001b[39;00m \u001b[39mself\u001b[39;49m\u001b[39m.\u001b[39;49mscores(x, encoded\u001b[39m=\u001b[39;49mencoded)\u001b[39m.\u001b[39msoftmax(\u001b[39m1\u001b[39m)\n",
      "File \u001b[0;32m~/Documents/UCI_BIASLab/kernel_adversarial/onlinehd.py:136\u001b[0m, in \u001b[0;36mOnlineHD.scores\u001b[0;34m(self, x, encoded)\u001b[0m\n\u001b[1;32m    115\u001b[0m \u001b[39mdef\u001b[39;00m \u001b[39mscores\u001b[39m(\u001b[39mself\u001b[39m, x : torch\u001b[39m.\u001b[39mTensor, encoded : \u001b[39mbool\u001b[39m \u001b[39m=\u001b[39m \u001b[39mFalse\u001b[39;00m):\n\u001b[1;32m    116\u001b[0m \u001b[39m    \u001b[39m\u001b[39mr\u001b[39m\u001b[39m'''\u001b[39;00m\n\u001b[1;32m    117\u001b[0m \u001b[39m    Returns pairwise cosine similarity between datapoints in `x` and\u001b[39;00m\n\u001b[1;32m    118\u001b[0m \u001b[39m    each class hypervector. Calling `model.scores(x, encoded=True)` is\u001b[39;00m\n\u001b[0;32m   (...)\u001b[0m\n\u001b[1;32m    133\u001b[0m \u001b[39m        :func:`spatial.cos_cdist` for details.\u001b[39;00m\n\u001b[1;32m    134\u001b[0m \u001b[39m    '''\u001b[39;00m\n\u001b[0;32m--> 136\u001b[0m     h \u001b[39m=\u001b[39m x \u001b[39mif\u001b[39;00m encoded \u001b[39melse\u001b[39;00m \u001b[39mself\u001b[39;49m\u001b[39m.\u001b[39;49mencode(x)\n\u001b[1;32m    137\u001b[0m     \u001b[39mreturn\u001b[39;00m spatial\u001b[39m.\u001b[39mcos_cdist(h, \u001b[39mself\u001b[39m\u001b[39m.\u001b[39mmodel)\n",
      "File \u001b[0;32m~/Documents/UCI_BIASLab/kernel_adversarial/onlinehd.py:147\u001b[0m, in \u001b[0;36mOnlineHD.encode\u001b[0;34m(self, x)\u001b[0m\n\u001b[1;32m    139\u001b[0m \u001b[39mdef\u001b[39;00m \u001b[39mencode\u001b[39m(\u001b[39mself\u001b[39m, x : torch\u001b[39m.\u001b[39mTensor):\n\u001b[1;32m    140\u001b[0m \u001b[39m    \u001b[39m\u001b[39m'''\u001b[39;00m\n\u001b[1;32m    141\u001b[0m \u001b[39m    Encodes input data\u001b[39;00m\n\u001b[1;32m    142\u001b[0m \n\u001b[1;32m    143\u001b[0m \u001b[39m    See Also:\u001b[39;00m\n\u001b[1;32m    144\u001b[0m \u001b[39m        :class:`onlinehd.Encoder` for more information.\u001b[39;00m\n\u001b[1;32m    145\u001b[0m \u001b[39m    '''\u001b[39;00m\n\u001b[0;32m--> 147\u001b[0m     \u001b[39mreturn\u001b[39;00m \u001b[39mself\u001b[39;49m\u001b[39m.\u001b[39;49mencoder(x)\n",
      "File \u001b[0;32m~/Documents/UCI_BIASLab/kernel_adversarial/encoder.py:69\u001b[0m, in \u001b[0;36mEncoder.__call__\u001b[0;34m(self, x)\u001b[0m\n\u001b[1;32m     66\u001b[0m \u001b[39m# we need batches to remove memory usage\u001b[39;00m\n\u001b[1;32m     67\u001b[0m \u001b[39mfor\u001b[39;00m i \u001b[39min\u001b[39;00m \u001b[39mrange\u001b[39m(\u001b[39m0\u001b[39m, n, bsize):\n\u001b[0;32m---> 69\u001b[0m     temp \u001b[39m=\u001b[39m torch\u001b[39m.\u001b[39;49mmatmul(x[i:i\u001b[39m+\u001b[39;49mbsize], \u001b[39mself\u001b[39;49m\u001b[39m.\u001b[39;49mbasis\u001b[39m.\u001b[39;49mT)\n\u001b[1;32m     70\u001b[0m     temp \u001b[39m=\u001b[39m torch\u001b[39m.\u001b[39madd(temp, \u001b[39mself\u001b[39m\u001b[39m.\u001b[39mbase)\n\u001b[1;32m     71\u001b[0m     h[i:i\u001b[39m+\u001b[39mbsize] \u001b[39m=\u001b[39m torch\u001b[39m.\u001b[39mmul(temp, \u001b[39m1\u001b[39mj)\n",
      "\u001b[0;31mKeyboardInterrupt\u001b[0m: "
     ]
    }
   ],
   "source": [
    "alpha_lis = np.linspace(0.0001, 0.002, 20) #[0.01, 0.03, 0.07, 0.1]\n",
    "delta = 0.5\n",
    "nData = len(alpha_lis)\n",
    "model_accuracy_GA = np.zeros(nData)\n",
    "\n",
    "x_test_samp = X_test.cpu()\n",
    "y_test_samp = y_test.cpu()\n",
    "\n",
    "for n in range(nData):\n",
    "    alpha = alpha_lis[n]\n",
    "    print(f\"Alpha : {alpha}\")\n",
    "\n",
    "    st = time.time()\n",
    "    x_test_GA, _ = attack_gen.make_GA(model, delta, alpha, x_test_samp, y_test_samp)\n",
    "    print(time.time() - st)\n",
    "    \n",
    "    X_test_noised = x_test_GA.reshape(-1, features)\n",
    "\n",
    "    yhat_test = model(X_test_noised.reshape(-1, 28*28))\n",
    "    yhat_test_cnn = model_cnn(X_test_noised.reshape(-1, 1, 28, 28)).argmax(1)\n",
    "\n",
    "    onlinehd_attacked_acc = (y_test == yhat_test).float().mean().item()\n",
    "    cnn_attacked_acc = (y_test == yhat_test_cnn).float().mean().item()\n",
    "    distance = (X_test_noised.reshape(-1, 28*28) - X_test).norm(dim=-1).mean().item()\n",
    "\n",
    "    print(alpha, distance, onlinehd_attacked_acc, cnn_attacked_acc)\n",
    "\n",
    "#model_accuracy_GA"
   ]
  },
  {
   "cell_type": "code",
   "execution_count": null,
   "metadata": {},
   "outputs": [],
   "source": []
  }
 ],
 "metadata": {
  "kernelspec": {
   "display_name": "venv",
   "language": "python",
   "name": "python3"
  },
  "language_info": {
   "codemirror_mode": {
    "name": "ipython",
    "version": 3
   },
   "file_extension": ".py",
   "mimetype": "text/x-python",
   "name": "python",
   "nbconvert_exporter": "python",
   "pygments_lexer": "ipython3",
   "version": "3.8.1"
  },
  "orig_nbformat": 4
 },
 "nbformat": 4,
 "nbformat_minor": 2
}
