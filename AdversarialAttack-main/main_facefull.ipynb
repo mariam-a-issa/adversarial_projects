{
 "cells": [
  {
   "cell_type": "code",
   "execution_count": 1,
   "metadata": {},
   "outputs": [],
   "source": [
    "import attack_kernelbased\n",
    "import attack_fgsm\n",
    "import attack_df\n",
    "import attack_jsma\n",
    "import attack_gen\n",
    "import dataloader\n",
    "import spatial\n",
    "\n",
    "import torch\n",
    "import torch.nn as nn\n",
    "import numpy as np\n",
    "import time\n",
    "import onlinehd\n",
    "import DNNmodels\n",
    "import pickle\n",
    "from sklearn.model_selection import train_test_split\n",
    "import matplotlib.pyplot as plt\n",
    "import tqdm\n",
    "import copy"
   ]
  },
  {
   "cell_type": "code",
   "execution_count": 2,
   "metadata": {},
   "outputs": [
    {
     "data": {
      "text/plain": [
       "(torch.Size([522441, 608]),\n",
       " torch.Size([2494, 608]),\n",
       " torch.Size([522441]),\n",
       " torch.Size([2494]))"
      ]
     },
     "execution_count": 2,
     "metadata": {},
     "output_type": "execute_result"
    }
   ],
   "source": [
    "X_train, X_test, y_train, y_test = dataloader.load(dataset_name='face_full')\n",
    "\n",
    "classes = y_train.unique().size(0)\n",
    "features = X_train.size(1)\n",
    "\n",
    "X_train.shape, X_test.shape, y_train.shape, y_test.shape"
   ]
  },
  {
   "cell_type": "code",
   "execution_count": 3,
   "metadata": {},
   "outputs": [],
   "source": [
    "X_test = X_test[:1000]\n",
    "y_test = y_test[:1000]"
   ]
  },
  {
   "cell_type": "code",
   "execution_count": 4,
   "metadata": {},
   "outputs": [
    {
     "name": "stderr",
     "output_type": "stream",
     "text": [
      "100%|██████████| 30/30 [1:34:15<00:00, 188.52s/it]\n"
     ]
    },
    {
     "data": {
      "image/png": "[encoded data removed]",
      "text/plain": [
       "<Figure size 640x480 with 1 Axes>"
      ]
     },
     "metadata": {},
     "output_type": "display_data"
    },
    {
     "name": "stdout",
     "output_type": "stream",
     "text": [
      "0.9986218810081482 0.9570000171661377\n"
     ]
    }
   ],
   "source": [
    "D = 4000\n",
    "acc_history, test_acc_history = [], []\n",
    "model = onlinehd.OnlineHD(classes, features, dim=D)\n",
    "best_model = None\n",
    "for _ in tqdm.tqdm(range(30)):\n",
    "  model = model.fit(X_train, y_train, bootstrap=1.0, lr=0.035, epochs=1, one_pass_fit=False)\n",
    "  \n",
    "  yhat_train = model(X_train)\n",
    "  yhat_test = model(X_test)\n",
    "\n",
    "  acc = (y_train == yhat_train).float().mean().item()\n",
    "  acc_test = (y_test == yhat_test).float().mean().item()\n",
    "\n",
    "  if best_model is None or max(test_acc_history) < acc_test:\n",
    "    best_model = copy.deepcopy(model)\n",
    "\n",
    "  acc_history.append(acc)\n",
    "  test_acc_history.append(acc_test)\n",
    "model = best_model\n",
    "\n",
    "plt.plot(acc_history, label='train')\n",
    "plt.plot(test_acc_history, label='test')\n",
    "plt.show()\n",
    "print(max(acc_history), max(test_acc_history))"
   ]
  },
  {
   "cell_type": "code",
   "execution_count": 5,
   "metadata": {},
   "outputs": [],
   "source": [
    "with open('./onlinehd_facefull.pickle', 'bw') as f:\n",
    "    pickle.dump(model, f)"
   ]
  },
  {
   "cell_type": "code",
   "execution_count": 6,
   "metadata": {},
   "outputs": [],
   "source": [
    "with open('./onlinehd_facefull.pickle', 'br') as f:\n",
    "    model = pickle.load(f)"
   ]
  },
  {
   "cell_type": "code",
   "execution_count": 7,
   "metadata": {},
   "outputs": [
    {
     "data": {
      "text/plain": [
       "NeuralNetwork(\n",
       "  (linear_relu_stack): Sequential(\n",
       "    (0): Linear(in_features=608, out_features=512, bias=True)\n",
       "    (1): ReLU()\n",
       "    (2): Linear(in_features=512, out_features=512, bias=True)\n",
       "    (3): ReLU()\n",
       "    (4): Linear(in_features=512, out_features=2, bias=True)\n",
       "  )\n",
       ")"
      ]
     },
     "execution_count": 7,
     "metadata": {},
     "output_type": "execute_result"
    }
   ],
   "source": [
    "model_dnn = DNNmodels.NeuralNetwork(num_classes=classes, flatten_layer=False, input_dim=features)\n",
    "model_dnn.load_state_dict(torch.load('./model_dnn_facefull.pt'))\n",
    "model_dnn.eval()"
   ]
  },
  {
   "attachments": {},
   "cell_type": "markdown",
   "metadata": {},
   "source": [
    "## Kernel based attack"
   ]
  },
  {
   "cell_type": "code",
   "execution_count": 8,
   "metadata": {},
   "outputs": [
    {
     "name": "stderr",
     "output_type": "stream",
     "text": [
      "100%|██████████| 1000/1000 [00:32<00:00, 30.95it/s]\n"
     ]
    },
    {
     "name": "stdout",
     "output_type": "stream",
     "text": [
      "33.02679681777954\n",
      "0.01 0.009569999761879444 0.9240000247955322 0.9459999799728394\n"
     ]
    },
    {
     "name": "stderr",
     "output_type": "stream",
     "text": [
      "100%|██████████| 1000/1000 [00:33<00:00, 30.14it/s]\n"
     ]
    },
    {
     "name": "stdout",
     "output_type": "stream",
     "text": [
      "34.002418994903564\n",
      "0.020000000000000004 0.019140001386404037 0.8960000276565552 0.9279999732971191\n"
     ]
    },
    {
     "name": "stderr",
     "output_type": "stream",
     "text": [
      "100%|██████████| 1000/1000 [00:33<00:00, 29.93it/s]\n"
     ]
    },
    {
     "name": "stdout",
     "output_type": "stream",
     "text": [
      "34.10434913635254\n",
      "0.030000000000000006 0.028710002079606056 0.8579999804496765 0.9089999794960022\n"
     ]
    },
    {
     "name": "stderr",
     "output_type": "stream",
     "text": [
      "100%|██████████| 1000/1000 [00:32<00:00, 30.51it/s]\n"
     ]
    },
    {
     "name": "stdout",
     "output_type": "stream",
     "text": [
      "33.46955490112305\n",
      "0.04000000000000001 0.03827999532222748 0.8029999732971191 0.8830000162124634\n"
     ]
    },
    {
     "name": "stderr",
     "output_type": "stream",
     "text": [
      "100%|██████████| 1000/1000 [00:32<00:00, 30.82it/s]\n"
     ]
    },
    {
     "name": "stdout",
     "output_type": "stream",
     "text": [
      "33.159523010253906\n",
      "0.05000000000000001 0.04785000532865524 0.7440000176429749 0.8450000286102295\n"
     ]
    },
    {
     "name": "stderr",
     "output_type": "stream",
     "text": [
      "100%|██████████| 1000/1000 [00:32<00:00, 30.85it/s]\n"
     ]
    },
    {
     "name": "stdout",
     "output_type": "stream",
     "text": [
      "33.11131715774536\n",
      "0.06000000000000001 0.05742000415921211 0.6660000085830688 0.8190000057220459\n"
     ]
    },
    {
     "name": "stderr",
     "output_type": "stream",
     "text": [
      "100%|██████████| 1000/1000 [00:32<00:00, 30.66it/s]\n"
     ]
    },
    {
     "name": "stdout",
     "output_type": "stream",
     "text": [
      "33.32753586769104\n",
      "0.07 0.06699000298976898 0.5839999914169312 0.7739999890327454\n"
     ]
    },
    {
     "name": "stderr",
     "output_type": "stream",
     "text": [
      "100%|██████████| 1000/1000 [00:32<00:00, 30.55it/s]\n"
     ]
    },
    {
     "name": "stdout",
     "output_type": "stream",
     "text": [
      "33.46245503425598\n",
      "0.08 0.07655999809503555 0.49399998784065247 0.7300000190734863\n"
     ]
    },
    {
     "name": "stderr",
     "output_type": "stream",
     "text": [
      "100%|██████████| 1000/1000 [00:32<00:00, 30.48it/s]\n"
     ]
    },
    {
     "name": "stdout",
     "output_type": "stream",
     "text": [
      "33.51369094848633\n",
      "0.09000000000000001 0.08613001555204391 0.41600000858306885 0.6700000166893005\n"
     ]
    },
    {
     "name": "stderr",
     "output_type": "stream",
     "text": [
      "100%|██████████| 1000/1000 [00:32<00:00, 30.82it/s]\n"
     ]
    },
    {
     "name": "stdout",
     "output_type": "stream",
     "text": [
      "33.16055607795715\n",
      "0.1 0.09570001065731049 0.3310000002384186 0.6069999933242798\n"
     ]
    }
   ],
   "source": [
    "# with complex encoding (FHRR)\n",
    "for e in np.linspace(0.01, 0.1, 10):#[0.01, 0.03, 0.07, 0.1]:\n",
    "    st = time.time()\n",
    "    X_test_noised = attack_kernelbased.genAdversarialNoise(model, X_test, y_test, e)\n",
    "    print(time.time() - st)\n",
    "    \n",
    "    yhat_test = model(X_test_noised)\n",
    "    yhat_test_dnn = model_dnn(X_test_noised.reshape(-1, features)).argmax(1)\n",
    "\n",
    "    onlinehd_attacked_acc = (y_test == yhat_test).float().mean().item()\n",
    "    dnn_attacked_acc = (y_test == yhat_test_dnn).float().mean().item()\n",
    "    distance = (X_test_noised - X_test).norm(dim=-1).mean().item()\n",
    "\n",
    "    print(e, distance, onlinehd_attacked_acc, dnn_attacked_acc)"
   ]
  },
  {
   "attachments": {},
   "cell_type": "markdown",
   "metadata": {},
   "source": [
    "## FGSM"
   ]
  },
  {
   "attachments": {},
   "cell_type": "markdown",
   "metadata": {},
   "source": [
    "### Normlized"
   ]
  },
  {
   "cell_type": "code",
   "execution_count": 9,
   "metadata": {},
   "outputs": [
    {
     "name": "stderr",
     "output_type": "stream",
     "text": [
      "100%|██████████| 1000/1000 [00:04<00:00, 232.61it/s]\n"
     ]
    },
    {
     "name": "stdout",
     "output_type": "stream",
     "text": [
      "\n",
      "FGSM Attack with epsilon = 0.01000 | Elapsed time: 4.302399958000024 seconds.\n",
      "Accuracy: Before the attack -> 95.70%\t|\tAfter the attack -> 95.80%\n",
      "mean of norm=0.00999999325722456\n"
     ]
    },
    {
     "name": "stderr",
     "output_type": "stream",
     "text": [
      "100%|██████████| 1000/1000 [00:04<00:00, 239.16it/s]\n"
     ]
    },
    {
     "name": "stdout",
     "output_type": "stream",
     "text": [
      "\n",
      "FGSM Attack with epsilon = 0.02000 | Elapsed time: 4.1906878749996395 seconds.\n",
      "Accuracy: Before the attack -> 95.70%\t|\tAfter the attack -> 95.60%\n",
      "mean of norm=0.02000000700354576\n"
     ]
    },
    {
     "name": "stderr",
     "output_type": "stream",
     "text": [
      "100%|██████████| 1000/1000 [00:04<00:00, 240.79it/s]\n"
     ]
    },
    {
     "name": "stdout",
     "output_type": "stream",
     "text": [
      "\n",
      "FGSM Attack with epsilon = 0.03000 | Elapsed time: 4.17509549999977 seconds.\n",
      "Accuracy: Before the attack -> 95.70%\t|\tAfter the attack -> 95.60%\n",
      "mean of norm=0.030000001192092896\n"
     ]
    },
    {
     "name": "stderr",
     "output_type": "stream",
     "text": [
      "100%|██████████| 1000/1000 [00:04<00:00, 238.44it/s]\n"
     ]
    },
    {
     "name": "stdout",
     "output_type": "stream",
     "text": [
      "\n",
      "FGSM Attack with epsilon = 0.04000 | Elapsed time: 4.2012568339996506 seconds.\n",
      "Accuracy: Before the attack -> 95.70%\t|\tAfter the attack -> 95.60%\n",
      "mean of norm=0.04000001400709152\n"
     ]
    },
    {
     "name": "stderr",
     "output_type": "stream",
     "text": [
      "100%|██████████| 1000/1000 [00:04<00:00, 209.80it/s]\n"
     ]
    },
    {
     "name": "stdout",
     "output_type": "stream",
     "text": [
      "\n",
      "FGSM Attack with epsilon = 0.05000 | Elapsed time: 4.7759219170002325 seconds.\n",
      "Accuracy: Before the attack -> 95.70%\t|\tAfter the attack -> 95.50%\n",
      "mean of norm=0.05000000447034836\n"
     ]
    },
    {
     "name": "stderr",
     "output_type": "stream",
     "text": [
      "100%|██████████| 1000/1000 [00:04<00:00, 212.83it/s]\n"
     ]
    },
    {
     "name": "stdout",
     "output_type": "stream",
     "text": [
      "\n",
      "FGSM Attack with epsilon = 0.06000 | Elapsed time: 4.705870999999206 seconds.\n",
      "Accuracy: Before the attack -> 95.70%\t|\tAfter the attack -> 95.20%\n",
      "mean of norm=0.06000000238418579\n"
     ]
    },
    {
     "name": "stderr",
     "output_type": "stream",
     "text": [
      "100%|██████████| 1000/1000 [00:04<00:00, 235.64it/s]\n"
     ]
    },
    {
     "name": "stdout",
     "output_type": "stream",
     "text": [
      "\n",
      "FGSM Attack with epsilon = 0.07000 | Elapsed time: 4.2531150830000115 seconds.\n",
      "Accuracy: Before the attack -> 95.70%\t|\tAfter the attack -> 95.20%\n",
      "mean of norm=0.06999999284744263\n"
     ]
    },
    {
     "name": "stderr",
     "output_type": "stream",
     "text": [
      "100%|██████████| 1000/1000 [00:04<00:00, 238.09it/s]\n"
     ]
    },
    {
     "name": "stdout",
     "output_type": "stream",
     "text": [
      "\n",
      "FGSM Attack with epsilon = 0.08000 | Elapsed time: 4.209361333000743 seconds.\n",
      "Accuracy: Before the attack -> 95.70%\t|\tAfter the attack -> 95.00%\n",
      "mean of norm=0.08000002801418304\n"
     ]
    },
    {
     "name": "stderr",
     "output_type": "stream",
     "text": [
      "100%|██████████| 1000/1000 [00:04<00:00, 235.52it/s]\n"
     ]
    },
    {
     "name": "stdout",
     "output_type": "stream",
     "text": [
      "\n",
      "FGSM Attack with epsilon = 0.09000 | Elapsed time: 4.255307540999638 seconds.\n",
      "Accuracy: Before the attack -> 95.70%\t|\tAfter the attack -> 94.80%\n",
      "mean of norm=0.09000003337860107\n"
     ]
    },
    {
     "name": "stderr",
     "output_type": "stream",
     "text": [
      "100%|██████████| 1000/1000 [00:04<00:00, 237.49it/s]"
     ]
    },
    {
     "name": "stdout",
     "output_type": "stream",
     "text": [
      "\n",
      "FGSM Attack with epsilon = 0.10000 | Elapsed time: 4.22315987499951 seconds.\n",
      "Accuracy: Before the attack -> 95.70%\t|\tAfter the attack -> 94.70%\n",
      "mean of norm=0.10000003129243851\n"
     ]
    },
    {
     "name": "stderr",
     "output_type": "stream",
     "text": [
      "\n"
     ]
    }
   ],
   "source": [
    "epsilons = np.linspace(0.01, 0.1, 10) # torch.Tensor([0.01, 0.03, 0.07, 0.1])\n",
    "verbose = False\n",
    "#criterion = nn.CosineEmbeddingLoss()\n",
    "criterion = lambda output, model, label: (spatial.cos_cdist(output, model) - label).mean()\n",
    "#criterion = lambda output, model, label: output.mean()\n",
    "N_VAL_SAMPLES = X_test.data.shape[0]\n",
    "\n",
    "attack_samples, acc_results = attack_fgsm.attack(\n",
    "    model, X_train, X_test, y_test, epsilons, classes, criterion, N_VAL_SAMPLES, 'cpu', \n",
    "    input_dim=features, model_type='dnn')"
   ]
  },
  {
   "cell_type": "code",
   "execution_count": 10,
   "metadata": {},
   "outputs": [
    {
     "name": "stdout",
     "output_type": "stream",
     "text": [
      "0.01 0.00999999325722456 0.9580000042915344 0.9580000042915344\n",
      "0.020000000000000004 0.02000000700354576 0.9559999704360962 0.9570000171661377\n",
      "0.030000000000000006 0.030000001192092896 0.9559999704360962 0.9539999961853027\n",
      "0.04000000000000001 0.04000001400709152 0.9559999704360962 0.9549999833106995\n",
      "0.05000000000000001 0.05000000447034836 0.9549999833106995 0.9520000219345093\n",
      "0.06000000000000001 0.06000000238418579 0.9520000219345093 0.9509999752044678\n",
      "0.07 0.06999999284744263 0.9520000219345093 0.9480000138282776\n",
      "0.08 0.08000002801418304 0.949999988079071 0.9470000267028809\n",
      "0.09000000000000001 0.09000003337860107 0.9480000138282776 0.9430000185966492\n",
      "0.1 0.10000003129243851 0.9470000267028809 0.9409999847412109\n"
     ]
    }
   ],
   "source": [
    "for e, X_test_noised in zip(epsilons, attack_samples):\n",
    "    yhat_test = model(X_test_noised.reshape(-1, features))\n",
    "    yhat_test_dnn = model_dnn(X_test_noised.reshape(-1, features)).argmax(1)\n",
    "\n",
    "    onlinehd_attacked_acc = (y_test == yhat_test).float().mean().item()\n",
    "    dnn_attacked_acc = (y_test == yhat_test_dnn).float().mean().item()\n",
    "    distance = (X_test_noised.reshape(-1, features) - X_test).norm(dim=-1).mean().item()\n",
    "\n",
    "    print(e, distance, onlinehd_attacked_acc, dnn_attacked_acc)"
   ]
  },
  {
   "attachments": {},
   "cell_type": "markdown",
   "metadata": {},
   "source": [
    "## Deep Fool"
   ]
  },
  {
   "cell_type": "code",
   "execution_count": 12,
   "metadata": {},
   "outputs": [
    {
     "name": "stderr",
     "output_type": "stream",
     "text": [
      "100%|██████████| 1000/1000 [00:36<00:00, 27.25it/s]\n"
     ]
    },
    {
     "name": "stdout",
     "output_type": "stream",
     "text": [
      "36.695034980773926\n",
      "0.01 0.009594546630978584 0.9359999895095825 0.9520000219345093\n"
     ]
    },
    {
     "name": "stderr",
     "output_type": "stream",
     "text": [
      "100%|██████████| 1000/1000 [00:35<00:00, 27.83it/s]\n"
     ]
    },
    {
     "name": "stdout",
     "output_type": "stream",
     "text": [
      "35.939242124557495\n",
      "0.02 0.01918909326195717 0.9179999828338623 0.9399999976158142\n"
     ]
    },
    {
     "name": "stderr",
     "output_type": "stream",
     "text": [
      "100%|██████████| 1000/1000 [00:33<00:00, 29.71it/s]\n"
     ]
    },
    {
     "name": "stdout",
     "output_type": "stream",
     "text": [
      "33.662731885910034\n",
      "0.03 0.028783638030290604 0.8899999856948853 0.925000011920929\n"
     ]
    },
    {
     "name": "stderr",
     "output_type": "stream",
     "text": [
      "100%|██████████| 1000/1000 [00:31<00:00, 31.49it/s]\n"
     ]
    },
    {
     "name": "stdout",
     "output_type": "stream",
     "text": [
      "31.757105112075806\n",
      "0.04 0.03837818652391434 0.8420000076293945 0.906000018119812\n"
     ]
    },
    {
     "name": "stderr",
     "output_type": "stream",
     "text": [
      "100%|██████████| 1000/1000 [00:33<00:00, 29.94it/s]\n"
     ]
    },
    {
     "name": "stdout",
     "output_type": "stream",
     "text": [
      "33.4077570438385\n",
      "0.05 0.04797273874282837 0.7860000133514404 0.871999979019165\n"
     ]
    },
    {
     "name": "stderr",
     "output_type": "stream",
     "text": [
      "100%|██████████| 1000/1000 [00:29<00:00, 33.64it/s]\n"
     ]
    },
    {
     "name": "stdout",
     "output_type": "stream",
     "text": [
      "29.733612060546875\n",
      "0.060000000000000005 0.05756727606058121 0.7089999914169312 0.843999981880188\n"
     ]
    },
    {
     "name": "stderr",
     "output_type": "stream",
     "text": [
      "100%|██████████| 1000/1000 [00:25<00:00, 38.89it/s]\n"
     ]
    },
    {
     "name": "stdout",
     "output_type": "stream",
     "text": [
      "25.71643590927124\n",
      "0.06999999999999999 0.06716182082891464 0.6269999742507935 0.8019999861717224\n"
     ]
    },
    {
     "name": "stderr",
     "output_type": "stream",
     "text": [
      "100%|██████████| 1000/1000 [00:22<00:00, 44.16it/s]\n"
     ]
    },
    {
     "name": "stdout",
     "output_type": "stream",
     "text": [
      "22.648046255111694\n",
      "0.08 0.07675636559724808 0.5370000004768372 0.7599999904632568\n"
     ]
    },
    {
     "name": "stderr",
     "output_type": "stream",
     "text": [
      "100%|██████████| 1000/1000 [00:20<00:00, 49.85it/s]\n"
     ]
    },
    {
     "name": "stdout",
     "output_type": "stream",
     "text": [
      "20.063469171524048\n",
      "0.09 0.0863509252667427 0.45899999141693115 0.6990000009536743\n"
     ]
    },
    {
     "name": "stderr",
     "output_type": "stream",
     "text": [
      "100%|██████████| 1000/1000 [00:17<00:00, 58.69it/s]\n"
     ]
    },
    {
     "name": "stdout",
     "output_type": "stream",
     "text": [
      "17.041712760925293\n",
      "0.09999999999999999 0.09594547748565674 0.37400001287460327 0.6349999904632568\n"
     ]
    },
    {
     "name": "stderr",
     "output_type": "stream",
     "text": [
      "100%|██████████| 1000/1000 [00:14<00:00, 67.61it/s]\n"
     ]
    },
    {
     "name": "stdout",
     "output_type": "stream",
     "text": [
      "14.792936325073242\n",
      "0.11 0.10554000735282898 0.30000001192092896 0.5630000233650208\n"
     ]
    },
    {
     "name": "stderr",
     "output_type": "stream",
     "text": [
      "100%|██████████| 1000/1000 [00:12<00:00, 81.15it/s]\n"
     ]
    },
    {
     "name": "stdout",
     "output_type": "stream",
     "text": [
      "12.325014114379883\n",
      "0.12 0.11513456702232361 0.23100000619888306 0.5070000290870667\n"
     ]
    },
    {
     "name": "stderr",
     "output_type": "stream",
     "text": [
      "100%|██████████| 1000/1000 [00:10<00:00, 91.38it/s]\n"
     ]
    },
    {
     "name": "stdout",
     "output_type": "stream",
     "text": [
      "10.945966005325317\n",
      "0.13 0.12472909688949585 0.18799999356269836 0.4390000104904175\n"
     ]
    },
    {
     "name": "stderr",
     "output_type": "stream",
     "text": [
      "100%|██████████| 1000/1000 [00:09<00:00, 104.89it/s]\n"
     ]
    },
    {
     "name": "stdout",
     "output_type": "stream",
     "text": [
      "9.536601781845093\n",
      "0.14 0.13432364165782928 0.14900000393390656 0.38100001215934753\n"
     ]
    },
    {
     "name": "stderr",
     "output_type": "stream",
     "text": [
      "100%|██████████| 1000/1000 [00:08<00:00, 113.69it/s]\n"
     ]
    },
    {
     "name": "stdout",
     "output_type": "stream",
     "text": [
      "8.798383951187134\n",
      "0.15000000000000002 0.1439182013273239 0.12399999797344208 0.31200000643730164\n"
     ]
    },
    {
     "name": "stderr",
     "output_type": "stream",
     "text": [
      "100%|██████████| 1000/1000 [00:07<00:00, 125.88it/s]\n"
     ]
    },
    {
     "name": "stdout",
     "output_type": "stream",
     "text": [
      "7.94697380065918\n",
      "0.16 0.15351273119449615 0.10199999809265137 0.25999999046325684\n"
     ]
    },
    {
     "name": "stderr",
     "output_type": "stream",
     "text": [
      "100%|██████████| 1000/1000 [00:07<00:00, 139.05it/s]\n"
     ]
    },
    {
     "name": "stdout",
     "output_type": "stream",
     "text": [
      "7.193468809127808\n",
      "0.17 0.16310729086399078 0.08100000023841858 0.22100000083446503\n"
     ]
    },
    {
     "name": "stderr",
     "output_type": "stream",
     "text": [
      "100%|██████████| 1000/1000 [00:07<00:00, 141.37it/s]\n"
     ]
    },
    {
     "name": "stdout",
     "output_type": "stream",
     "text": [
      "7.075359106063843\n",
      "0.18000000000000002 0.1727018803358078 0.07500000298023224 0.1720000058412552\n"
     ]
    },
    {
     "name": "stderr",
     "output_type": "stream",
     "text": [
      "100%|██████████| 1000/1000 [00:07<00:00, 142.39it/s]\n"
     ]
    },
    {
     "name": "stdout",
     "output_type": "stream",
     "text": [
      "7.0253801345825195\n",
      "0.19 0.18229639530181885 0.07100000232458115 0.1589999943971634\n"
     ]
    },
    {
     "name": "stderr",
     "output_type": "stream",
     "text": [
      "100%|██████████| 1000/1000 [00:07<00:00, 125.90it/s]\n"
     ]
    },
    {
     "name": "stdout",
     "output_type": "stream",
     "text": [
      "7.945570707321167\n",
      "0.2 0.19189095497131348 0.07000000029802322 0.13099999725818634\n"
     ]
    }
   ],
   "source": [
    "for max_update in np.linspace(0.01, 0.2, 20):\n",
    "    X_te_cln = X_test.clone().reshape(-1, 1, features)\n",
    "    Y_te_cln = y_test.clone()\n",
    "\n",
    "    x_test_adv = torch.zeros(X_te_cln.shape)\n",
    "    x_test_pert = torch.zeros(X_te_cln.shape[0], features)\n",
    "\n",
    "    st = time.time()\n",
    "    for i in tqdm.tqdm(range(X_test.shape[0])):\n",
    "        x_test_adv[i], x_test_pert[i] = attack_df.deepfool(X_te_cln[i], model, epsilon=max_update, num_classes=classes, input_dim=features, model_type='dnn')\n",
    "    print(time.time() - st)\n",
    "    \n",
    "    X_test_noised = x_test_adv.reshape(-1, features)\n",
    "\n",
    "    yhat_test = model(X_test_noised.reshape(-1, features))\n",
    "    yhat_test_dnn = model_dnn(X_test_noised.reshape(-1, features)).argmax(1)\n",
    "\n",
    "    onlinehd_attacked_acc = (y_test == yhat_test).float().mean().item()\n",
    "    dnn_attacked_acc = (y_test == yhat_test_dnn).float().mean().item()\n",
    "    distance = (X_test_noised.reshape(-1, features) - X_test).norm(dim=-1).mean().item()\n",
    "\n",
    "    print(max_update, distance, onlinehd_attacked_acc, dnn_attacked_acc)"
   ]
  },
  {
   "cell_type": "code",
   "execution_count": 13,
   "metadata": {},
   "outputs": [
    {
     "name": "stderr",
     "output_type": "stream",
     "text": [
      "100%|██████████| 1000/1000 [00:06<00:00, 144.32it/s]\n"
     ]
    },
    {
     "name": "stdout",
     "output_type": "stream",
     "text": [
      "None 0.2349575310945511 0.0689999982714653 0.10100000351667404\n"
     ]
    }
   ],
   "source": [
    "X_te_cln = X_test.clone().reshape(-1, 1, features)\n",
    "Y_te_cln = y_test.clone()\n",
    "\n",
    "x_test_adv = torch.zeros(X_te_cln.shape)\n",
    "x_test_pert = torch.zeros(X_te_cln.shape[0], features)\n",
    "\n",
    "for i in tqdm.tqdm(range(X_test.shape[0])):\n",
    "    x_test_adv[i], x_test_pert[i] = attack_df.deepfool(X_te_cln[i], model, epsilon=None, num_classes=classes, input_dim=features, model_type='dnn')\n",
    "\n",
    "X_test_noised = x_test_adv.reshape(-1, features)\n",
    "\n",
    "yhat_test = model(X_test_noised.reshape(-1, features))\n",
    "yhat_test_dnn = model_dnn(X_test_noised.reshape(-1, features)).argmax(1)\n",
    "\n",
    "onlinehd_attacked_acc = (y_test == yhat_test).float().mean().item()\n",
    "dnn_attacked_acc = (y_test == yhat_test_dnn).float().mean().item()\n",
    "distance = (X_test_noised.reshape(-1, features) - X_test).norm(dim=-1).mean().item()\n",
    "\n",
    "print(None, distance, onlinehd_attacked_acc, dnn_attacked_acc)"
   ]
  },
  {
   "attachments": {},
   "cell_type": "markdown",
   "metadata": {},
   "source": [
    "## Genetic Attack"
   ]
  },
  {
   "cell_type": "code",
   "execution_count": 14,
   "metadata": {},
   "outputs": [
    {
     "name": "stdout",
     "output_type": "stream",
     "text": [
      "Alpha : 0.0001\n"
     ]
    },
    {
     "name": "stderr",
     "output_type": "stream",
     "text": [
      "100%|██████████| 1000/1000 [00:00<00:00, 39212.30it/s]\n",
      "100%|██████████| 1000/1000 [1:35:21<00:00,  5.72s/it]\n"
     ]
    },
    {
     "name": "stdout",
     "output_type": "stream",
     "text": [
      "5721.4837419986725\n",
      "0.0001 0.025606170296669006 0.9359999895095825 0.9589999914169312\n",
      "Alpha : 0.0001736842105263158\n"
     ]
    },
    {
     "name": "stderr",
     "output_type": "stream",
     "text": [
      "100%|██████████| 1000/1000 [00:00<00:00, 40157.25it/s]\n",
      "100%|██████████| 1000/1000 [1:31:29<00:00,  5.49s/it]\n"
     ]
    },
    {
     "name": "stdout",
     "output_type": "stream",
     "text": [
      "5489.93183016777\n",
      "0.0001736842105263158 0.044321175664663315 0.9179999828338623 0.9589999914169312\n",
      "Alpha : 0.0002473684210526316\n"
     ]
    },
    {
     "name": "stderr",
     "output_type": "stream",
     "text": [
      "100%|██████████| 1000/1000 [00:00<00:00, 39341.76it/s]\n",
      "100%|██████████| 1000/1000 [1:37:14<00:00,  5.83s/it]\n"
     ]
    },
    {
     "name": "stdout",
     "output_type": "stream",
     "text": [
      "5834.78767490387\n",
      "0.0002473684210526316 0.06261362135410309 0.9010000228881836 0.9589999914169312\n",
      "Alpha : 0.00032105263157894735\n"
     ]
    },
    {
     "name": "stderr",
     "output_type": "stream",
     "text": [
      "100%|██████████| 1000/1000 [00:00<00:00, 30038.92it/s]\n",
      "100%|██████████| 1000/1000 [1:35:32<00:00,  5.73s/it]\n"
     ]
    },
    {
     "name": "stdout",
     "output_type": "stream",
     "text": [
      "5732.118710041046\n",
      "0.00032105263157894735 0.0800241082906723 0.8870000243186951 0.9599999785423279\n",
      "Alpha : 0.00039473684210526315\n"
     ]
    },
    {
     "name": "stderr",
     "output_type": "stream",
     "text": [
      "100%|██████████| 1000/1000 [00:00<00:00, 39654.57it/s]\n",
      "100%|██████████| 1000/1000 [1:28:46<00:00,  5.33s/it]\n"
     ]
    },
    {
     "name": "stdout",
     "output_type": "stream",
     "text": [
      "5326.650287151337\n",
      "0.00039473684210526315 0.09837167710065842 0.8640000224113464 0.9599999785423279\n",
      "Alpha : 0.00046842105263157895\n"
     ]
    },
    {
     "name": "stderr",
     "output_type": "stream",
     "text": [
      "100%|██████████| 1000/1000 [00:00<00:00, 41020.49it/s]\n",
      "100%|██████████| 1000/1000 [1:27:37<00:00,  5.26s/it]\n"
     ]
    },
    {
     "name": "stdout",
     "output_type": "stream",
     "text": [
      "5257.951081037521\n",
      "0.00046842105263157895 0.11420883238315582 0.8299999833106995 0.9599999785423279\n",
      "Alpha : 0.0005421052631578948\n"
     ]
    },
    {
     "name": "stderr",
     "output_type": "stream",
     "text": [
      "100%|██████████| 1000/1000 [00:00<00:00, 39969.35it/s]\n",
      "100%|██████████| 1000/1000 [1:26:16<00:00,  5.18s/it]\n"
     ]
    },
    {
     "name": "stdout",
     "output_type": "stream",
     "text": [
      "5176.536889791489\n",
      "0.0005421052631578948 0.13070160150527954 0.8050000071525574 0.9599999785423279\n",
      "Alpha : 0.0006157894736842106\n"
     ]
    },
    {
     "name": "stderr",
     "output_type": "stream",
     "text": [
      "100%|██████████| 1000/1000 [00:00<00:00, 40972.40it/s]\n",
      "100%|██████████| 1000/1000 [1:22:29<00:00,  4.95s/it]\n"
     ]
    },
    {
     "name": "stdout",
     "output_type": "stream",
     "text": [
      "4949.919363021851\n",
      "0.0006157894736842106 0.14458270370960236 0.7749999761581421 0.9599999785423279\n",
      "Alpha : 0.0006894736842105264\n"
     ]
    },
    {
     "name": "stderr",
     "output_type": "stream",
     "text": [
      "100%|██████████| 1000/1000 [00:00<00:00, 41436.68it/s]\n",
      "100%|██████████| 1000/1000 [1:15:43<00:00,  4.54s/it]\n"
     ]
    },
    {
     "name": "stdout",
     "output_type": "stream",
     "text": [
      "4543.762489080429\n",
      "0.0006894736842105264 0.15765897929668427 0.7490000128746033 0.9599999785423279\n",
      "Alpha : 0.0007631578947368421\n"
     ]
    },
    {
     "name": "stderr",
     "output_type": "stream",
     "text": [
      "100%|██████████| 1000/1000 [00:00<00:00, 40143.03it/s]\n",
      "100%|██████████| 1000/1000 [1:01:08<00:00,  3.67s/it]\n"
     ]
    },
    {
     "name": "stdout",
     "output_type": "stream",
     "text": [
      "3668.1602816581726\n",
      "0.0007631578947368421 0.1684739887714386 0.7080000042915344 0.9599999785423279\n",
      "Alpha : 0.000836842105263158\n"
     ]
    },
    {
     "name": "stderr",
     "output_type": "stream",
     "text": [
      "100%|██████████| 1000/1000 [00:00<00:00, 42385.55it/s]\n",
      "100%|██████████| 1000/1000 [53:29<00:00,  3.21s/it]\n"
     ]
    },
    {
     "name": "stdout",
     "output_type": "stream",
     "text": [
      "3210.02383518219\n",
      "0.000836842105263158 0.17552544176578522 0.6869999766349792 0.9599999785423279\n",
      "Alpha : 0.0009105263157894737\n"
     ]
    },
    {
     "name": "stderr",
     "output_type": "stream",
     "text": [
      "100%|██████████| 1000/1000 [00:00<00:00, 42459.35it/s]\n",
      "100%|██████████| 1000/1000 [49:32<00:00,  2.97s/it]\n"
     ]
    },
    {
     "name": "stdout",
     "output_type": "stream",
     "text": [
      "2973.0223429203033\n",
      "0.0009105263157894737 0.17999234795570374 0.6769999861717224 0.9589999914169312\n",
      "Alpha : 0.0009842105263157895\n"
     ]
    },
    {
     "name": "stderr",
     "output_type": "stream",
     "text": [
      "100%|██████████| 1000/1000 [00:00<00:00, 39281.70it/s]\n",
      "100%|██████████| 1000/1000 [46:44<00:00,  2.80s/it]\n"
     ]
    },
    {
     "name": "stdout",
     "output_type": "stream",
     "text": [
      "2804.7680621147156\n",
      "0.0009842105263157895 0.1819942444562912 0.6669999957084656 0.9599999785423279\n",
      "Alpha : 0.0010578947368421053\n"
     ]
    },
    {
     "name": "stderr",
     "output_type": "stream",
     "text": [
      "100%|██████████| 1000/1000 [00:00<00:00, 44658.74it/s]\n",
      "100%|██████████| 1000/1000 [43:38<00:00,  2.62s/it]\n"
     ]
    },
    {
     "name": "stdout",
     "output_type": "stream",
     "text": [
      "2618.4909896850586\n",
      "0.0010578947368421053 0.18309906125068665 0.6589999794960022 0.9599999785423279\n",
      "Alpha : 0.0011315789473684212\n"
     ]
    },
    {
     "name": "stderr",
     "output_type": "stream",
     "text": [
      "100%|██████████| 1000/1000 [00:00<00:00, 42347.89it/s]\n",
      "100%|██████████| 1000/1000 [40:50<00:00,  2.45s/it]\n"
     ]
    },
    {
     "name": "stdout",
     "output_type": "stream",
     "text": [
      "2450.335216283798\n",
      "0.0011315789473684212 0.18395759165287018 0.652999997138977 0.9599999785423279\n",
      "Alpha : 0.0012052631578947368\n"
     ]
    },
    {
     "name": "stderr",
     "output_type": "stream",
     "text": [
      "100%|██████████| 1000/1000 [00:00<00:00, 41584.99it/s]\n",
      "100%|██████████| 1000/1000 [40:56<00:00,  2.46s/it]\n"
     ]
    },
    {
     "name": "stdout",
     "output_type": "stream",
     "text": [
      "2456.3349239826202\n",
      "0.0012052631578947368 0.1845701038837433 0.6570000052452087 0.9599999785423279\n",
      "Alpha : 0.0012789473684210527\n"
     ]
    },
    {
     "name": "stderr",
     "output_type": "stream",
     "text": [
      "100%|██████████| 1000/1000 [00:00<00:00, 38631.90it/s]\n",
      "100%|██████████| 1000/1000 [1:15:04<00:00,  4.50s/it]  \n"
     ]
    },
    {
     "name": "stdout",
     "output_type": "stream",
     "text": [
      "4504.424549818039\n",
      "0.0012789473684210527 0.18485420942306519 0.6549999713897705 0.9599999785423279\n",
      "Alpha : 0.0013526315789473685\n"
     ]
    },
    {
     "name": "stderr",
     "output_type": "stream",
     "text": [
      "100%|██████████| 1000/1000 [00:00<00:00, 41616.76it/s]\n",
      "100%|██████████| 1000/1000 [38:34<00:00,  2.31s/it]\n"
     ]
    },
    {
     "name": "stdout",
     "output_type": "stream",
     "text": [
      "2314.5035099983215\n",
      "0.0013526315789473685 0.18512356281280518 0.6520000100135803 0.9599999785423279\n",
      "Alpha : 0.0014263157894736842\n"
     ]
    },
    {
     "name": "stderr",
     "output_type": "stream",
     "text": [
      "100%|██████████| 1000/1000 [00:00<00:00, 42174.58it/s]\n",
      "100%|██████████| 1000/1000 [33:38<00:00,  2.02s/it]\n"
     ]
    },
    {
     "name": "stdout",
     "output_type": "stream",
     "text": [
      "2018.9128341674805\n",
      "0.0014263157894736842 0.18556258082389832 0.6539999842643738 0.9599999785423279\n",
      "Alpha : 0.0015\n"
     ]
    },
    {
     "name": "stderr",
     "output_type": "stream",
     "text": [
      "100%|██████████| 1000/1000 [00:00<00:00, 42350.88it/s]\n",
      "100%|██████████| 1000/1000 [33:46<00:00,  2.03s/it]\n"
     ]
    },
    {
     "name": "stdout",
     "output_type": "stream",
     "text": [
      "2026.9855298995972\n",
      "0.0015 0.18627843260765076 0.6539999842643738 0.9589999914169312\n"
     ]
    }
   ],
   "source": [
    "alpha_lis = np.linspace(0.0001, 0.0015, 20) #[0.01, 0.03, 0.07, 0.1]\n",
    "delta = 0.5\n",
    "nData = len(alpha_lis)\n",
    "model_accuracy_GA = np.zeros(nData)\n",
    "\n",
    "x_test_samp = X_test.cpu()\n",
    "y_test_samp = y_test.cpu()\n",
    "\n",
    "for n in range(nData):\n",
    "    alpha = alpha_lis[n]\n",
    "    print(f\"Alpha : {alpha}\")\n",
    "\n",
    "    st = time.time()\n",
    "    x_test_GA, _ = attack_gen.make_GA(model, delta, alpha, x_test_samp, y_test_samp)\n",
    "    print(time.time() - st)\n",
    "    \n",
    "    X_test_noised = x_test_GA.reshape(-1, features)\n",
    "\n",
    "    yhat_test = model(X_test_noised.reshape(-1, features))\n",
    "    yhat_test_dnn = model_dnn(X_test_noised.reshape(-1, features)).argmax(1)\n",
    "\n",
    "    onlinehd_attacked_acc = (y_test == yhat_test).float().mean().item()\n",
    "    dnn_attacked_acc = (y_test == yhat_test_dnn).float().mean().item()\n",
    "    distance = (X_test_noised.reshape(-1, features) - X_test).norm(dim=-1).mean().item()\n",
    "\n",
    "    print(alpha, distance, onlinehd_attacked_acc, dnn_attacked_acc)\n",
    "\n",
    "#model_accuracy_GA"
   ]
  },
  {
   "cell_type": "code",
   "execution_count": null,
   "metadata": {},
   "outputs": [],
   "source": []
  }
 ],
 "metadata": {
  "kernelspec": {
   "display_name": "venv",
   "language": "python",
   "name": "python3"
  },
  "language_info": {
   "codemirror_mode": {
    "name": "ipython",
    "version": 3
   },
   "file_extension": ".py",
   "mimetype": "text/x-python",
   "name": "python",
   "nbconvert_exporter": "python",
   "pygments_lexer": "ipython3",
   "version": "3.8.1"
  },
  "orig_nbformat": 4
 },
 "nbformat": 4,
 "nbformat_minor": 2
}
